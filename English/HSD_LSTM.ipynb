{
  "nbformat": 4,
  "nbformat_minor": 0,
  "metadata": {
    "colab": {
      "name": "HSD_LSTM.ipynb",
      "provenance": [],
      "collapsed_sections": []
    },
    "kernelspec": {
      "name": "python3",
      "display_name": "Python 3"
    }
  },
  "cells": [
    {
      "cell_type": "code",
      "metadata": {
        "colab": {
          "base_uri": "https://localhost:8080/"
        },
        "id": "qocOhJkp977j",
        "outputId": "fb55fe00-1e29-455a-bdf3-2bb909e3cff8"
      },
      "source": [
        "from google.colab import drive\r\n",
        "drive.mount('/content/drive/')"
      ],
      "execution_count": null,
      "outputs": [
        {
          "output_type": "stream",
          "text": [
            "Drive already mounted at /content/drive/; to attempt to forcibly remount, call drive.mount(\"/content/drive/\", force_remount=True).\n"
          ],
          "name": "stdout"
        }
      ]
    },
    {
      "cell_type": "markdown",
      "metadata": {
        "id": "Yn10-WW-9ur7"
      },
      "source": [
        "#### Importing libraries and modules"
      ]
    },
    {
      "cell_type": "code",
      "metadata": {
        "id": "bXd2jsUc780T"
      },
      "source": [
        "\r\n",
        "import tensorflow as tf\r\n",
        "import pandas as pd\r\n",
        "import numpy as np\r\n",
        "import matplotlib.pyplot as plt"
      ],
      "execution_count": null,
      "outputs": []
    },
    {
      "cell_type": "code",
      "metadata": {
        "id": "1upx7iZr-NJn"
      },
      "source": [
        "# reading the data in a dataframe df\r\n",
        "\r\n",
        "header_list = [\"text\",\"intent\",\"buffer\"]\r\n",
        "header_list1 = [\"buffer\",\"text\",\"intent\"]\r\n",
        "train = pd.read_csv('/content/drive/My Drive/english_hope_train.csv','\\t',header=None,names=header_list)\r\n",
        "valid = pd.read_csv(\"/content/drive/My Drive/english_hope_dev.csv\", '\\t',header=None,names=header_list)\r\n",
        "#train1=pd.read_csv(\"/content/drive/My Drive/train_10000_dpadded.csv\" )"
      ],
      "execution_count": null,
      "outputs": []
    },
    {
      "cell_type": "code",
      "metadata": {
        "colab": {
          "base_uri": "https://localhost:8080/",
          "height": 314
        },
        "id": "riwr3Vq5-k2V",
        "outputId": "baa3fbd6-d94e-4965-fc7b-09776f815e8a"
      },
      "source": [
        "df_train = pd.DataFrame(train)\r\n",
        "df_train.head(9)"
      ],
      "execution_count": null,
      "outputs": [
        {
          "output_type": "execute_result",
          "data": {
            "text/html": [
              "<div>\n",
              "<style scoped>\n",
              "    .dataframe tbody tr th:only-of-type {\n",
              "        vertical-align: middle;\n",
              "    }\n",
              "\n",
              "    .dataframe tbody tr th {\n",
              "        vertical-align: top;\n",
              "    }\n",
              "\n",
              "    .dataframe thead th {\n",
              "        text-align: right;\n",
              "    }\n",
              "</style>\n",
              "<table border=\"1\" class=\"dataframe\">\n",
              "  <thead>\n",
              "    <tr style=\"text-align: right;\">\n",
              "      <th></th>\n",
              "      <th>text</th>\n",
              "      <th>intent</th>\n",
              "      <th>buffer</th>\n",
              "    </tr>\n",
              "  </thead>\n",
              "  <tbody>\n",
              "    <tr>\n",
              "      <th>0</th>\n",
              "      <td>these tiktoks radiate gay chaotic energy and i...</td>\n",
              "      <td>Non_hope_speech</td>\n",
              "      <td>NaN</td>\n",
              "    </tr>\n",
              "    <tr>\n",
              "      <th>1</th>\n",
              "      <td>@Champions Again He got killed for using false...</td>\n",
              "      <td>Non_hope_speech</td>\n",
              "      <td>NaN</td>\n",
              "    </tr>\n",
              "    <tr>\n",
              "      <th>2</th>\n",
              "      <td>It's not that all lives don't matter</td>\n",
              "      <td>Non_hope_speech</td>\n",
              "      <td>NaN</td>\n",
              "    </tr>\n",
              "    <tr>\n",
              "      <th>3</th>\n",
              "      <td>Is it really that difficult to understand? Bla...</td>\n",
              "      <td>Non_hope_speech</td>\n",
              "      <td>NaN</td>\n",
              "    </tr>\n",
              "    <tr>\n",
              "      <th>4</th>\n",
              "      <td>Whenever we say black isn't that racists?  Why...</td>\n",
              "      <td>Non_hope_speech</td>\n",
              "      <td>NaN</td>\n",
              "    </tr>\n",
              "    <tr>\n",
              "      <th>5</th>\n",
              "      <td>Ros The Boss u don’t know that she’s actually ...</td>\n",
              "      <td>Non_hope_speech</td>\n",
              "      <td>NaN</td>\n",
              "    </tr>\n",
              "    <tr>\n",
              "      <th>6</th>\n",
              "      <td>That was funny at the end when Larry said 'Wha...</td>\n",
              "      <td>Non_hope_speech</td>\n",
              "      <td>NaN</td>\n",
              "    </tr>\n",
              "    <tr>\n",
              "      <th>7</th>\n",
              "      <td>She saves lives with her music.</td>\n",
              "      <td>Non_hope_speech</td>\n",
              "      <td>NaN</td>\n",
              "    </tr>\n",
              "    <tr>\n",
              "      <th>8</th>\n",
              "      <td>There were a lot of Samoans in my Army unit</td>\n",
              "      <td>Non_hope_speech</td>\n",
              "      <td>NaN</td>\n",
              "    </tr>\n",
              "  </tbody>\n",
              "</table>\n",
              "</div>"
            ],
            "text/plain": [
              "                                                text           intent  buffer\n",
              "0  these tiktoks radiate gay chaotic energy and i...  Non_hope_speech     NaN\n",
              "1  @Champions Again He got killed for using false...  Non_hope_speech     NaN\n",
              "2               It's not that all lives don't matter  Non_hope_speech     NaN\n",
              "3  Is it really that difficult to understand? Bla...  Non_hope_speech     NaN\n",
              "4  Whenever we say black isn't that racists?  Why...  Non_hope_speech     NaN\n",
              "5  Ros The Boss u don’t know that she’s actually ...  Non_hope_speech     NaN\n",
              "6  That was funny at the end when Larry said 'Wha...  Non_hope_speech     NaN\n",
              "7                    She saves lives with her music.  Non_hope_speech     NaN\n",
              "8        There were a lot of Samoans in my Army unit  Non_hope_speech     NaN"
            ]
          },
          "metadata": {
            "tags": []
          },
          "execution_count": 126
        }
      ]
    },
    {
      "cell_type": "code",
      "metadata": {
        "colab": {
          "base_uri": "https://localhost:8080/"
        },
        "id": "cWgqw28hOMUE",
        "outputId": "c8838852-60b4-446d-d776-9678effaf828"
      },
      "source": [
        "df_train[\"intent\"] = df_train[\"intent\"].replace(to_replace =\"Non_hope_speech\", value =0)\r\n",
        "df_train[\"intent\"] = df_train[\"intent\"].replace(to_replace =\"Hope_speech\", value =1)\r\n",
        "df_train[\"intent\"] = df_train[\"intent\"].replace(to_replace =\"not-English\", value =2)\r\n",
        "df_train[\"intent\"].unique()"
      ],
      "execution_count": null,
      "outputs": [
        {
          "output_type": "execute_result",
          "data": {
            "text/plain": [
              "array([0, 1, 2])"
            ]
          },
          "metadata": {
            "tags": []
          },
          "execution_count": 127
        }
      ]
    },
    {
      "cell_type": "code",
      "metadata": {
        "id": "AfOBDwtw_6vw"
      },
      "source": [
        "train = train.drop(labels=\"buffer\" ,axis=1)\r\n"
      ],
      "execution_count": null,
      "outputs": []
    },
    {
      "cell_type": "code",
      "metadata": {
        "colab": {
          "base_uri": "https://localhost:8080/",
          "height": 314
        },
        "id": "4B-dgWumDS7R",
        "outputId": "aeff474a-c617-4ed2-9478-8aa377a1210f"
      },
      "source": [
        "df_train = pd.DataFrame(train)\r\n",
        "df_train.head(9)"
      ],
      "execution_count": null,
      "outputs": [
        {
          "output_type": "execute_result",
          "data": {
            "text/html": [
              "<div>\n",
              "<style scoped>\n",
              "    .dataframe tbody tr th:only-of-type {\n",
              "        vertical-align: middle;\n",
              "    }\n",
              "\n",
              "    .dataframe tbody tr th {\n",
              "        vertical-align: top;\n",
              "    }\n",
              "\n",
              "    .dataframe thead th {\n",
              "        text-align: right;\n",
              "    }\n",
              "</style>\n",
              "<table border=\"1\" class=\"dataframe\">\n",
              "  <thead>\n",
              "    <tr style=\"text-align: right;\">\n",
              "      <th></th>\n",
              "      <th>text</th>\n",
              "      <th>intent</th>\n",
              "    </tr>\n",
              "  </thead>\n",
              "  <tbody>\n",
              "    <tr>\n",
              "      <th>0</th>\n",
              "      <td>these tiktoks radiate gay chaotic energy and i...</td>\n",
              "      <td>0</td>\n",
              "    </tr>\n",
              "    <tr>\n",
              "      <th>1</th>\n",
              "      <td>@Champions Again He got killed for using false...</td>\n",
              "      <td>0</td>\n",
              "    </tr>\n",
              "    <tr>\n",
              "      <th>2</th>\n",
              "      <td>It's not that all lives don't matter</td>\n",
              "      <td>0</td>\n",
              "    </tr>\n",
              "    <tr>\n",
              "      <th>3</th>\n",
              "      <td>Is it really that difficult to understand? Bla...</td>\n",
              "      <td>0</td>\n",
              "    </tr>\n",
              "    <tr>\n",
              "      <th>4</th>\n",
              "      <td>Whenever we say black isn't that racists?  Why...</td>\n",
              "      <td>0</td>\n",
              "    </tr>\n",
              "    <tr>\n",
              "      <th>5</th>\n",
              "      <td>Ros The Boss u don’t know that she’s actually ...</td>\n",
              "      <td>0</td>\n",
              "    </tr>\n",
              "    <tr>\n",
              "      <th>6</th>\n",
              "      <td>That was funny at the end when Larry said 'Wha...</td>\n",
              "      <td>0</td>\n",
              "    </tr>\n",
              "    <tr>\n",
              "      <th>7</th>\n",
              "      <td>She saves lives with her music.</td>\n",
              "      <td>0</td>\n",
              "    </tr>\n",
              "    <tr>\n",
              "      <th>8</th>\n",
              "      <td>There were a lot of Samoans in my Army unit</td>\n",
              "      <td>0</td>\n",
              "    </tr>\n",
              "  </tbody>\n",
              "</table>\n",
              "</div>"
            ],
            "text/plain": [
              "                                                text  intent\n",
              "0  these tiktoks radiate gay chaotic energy and i...       0\n",
              "1  @Champions Again He got killed for using false...       0\n",
              "2               It's not that all lives don't matter       0\n",
              "3  Is it really that difficult to understand? Bla...       0\n",
              "4  Whenever we say black isn't that racists?  Why...       0\n",
              "5  Ros The Boss u don’t know that she’s actually ...       0\n",
              "6  That was funny at the end when Larry said 'Wha...       0\n",
              "7                    She saves lives with her music.       0\n",
              "8        There were a lot of Samoans in my Army unit       0"
            ]
          },
          "metadata": {
            "tags": []
          },
          "execution_count": 129
        }
      ]
    },
    {
      "cell_type": "code",
      "metadata": {
        "colab": {
          "base_uri": "https://localhost:8080/"
        },
        "id": "n0gk_x8HB6n1",
        "outputId": "b0b5e5f0-916f-401d-f1f8-4d3a57aec79a"
      },
      "source": [
        "train.isnull().sum()"
      ],
      "execution_count": null,
      "outputs": [
        {
          "output_type": "execute_result",
          "data": {
            "text/plain": [
              "text      0\n",
              "intent    0\n",
              "dtype: int64"
            ]
          },
          "metadata": {
            "tags": []
          },
          "execution_count": 130
        }
      ]
    },
    {
      "cell_type": "code",
      "metadata": {
        "id": "0QisGSnMDeG7"
      },
      "source": [
        "# pre-processing the data\r\n",
        "# define a function to remove the @mentions and other useless text from the tweets\r\n",
        "\r\n",
        "import re"
      ],
      "execution_count": null,
      "outputs": []
    },
    {
      "cell_type": "code",
      "metadata": {
        "id": "nsExgVm_DpKM"
      },
      "source": [
        "def text_cleaning(text):\r\n",
        "  text = re.sub(r'@[A-Za-z0-9]+', '', text)     # removing @mentions\r\n",
        "  text = re.sub(r'@[A-Za-zA-Z0-9]+', '', text)  # removing @mentions \r\n",
        "  text = re.sub(r'@[A-Za-z]+', '', text)        # removing @mentions\r\n",
        "  text = re.sub(r'@[-)]+', '', text)            # removing @mentions\r\n",
        "  text = re.sub(r'#', '', text )                # removing '#' sign\r\n",
        "  text = re.sub(r'RT[\\s]+', '', text)           # removing RT\r\n",
        "  text = re.sub(r'https?\\/\\/\\S+', '', text)     # removing the hyper link\r\n",
        "  text = re.sub(r'&[a-z;]+', '', text)          # removing '&gt;'\r\n",
        "\r\n",
        "  return text"
      ],
      "execution_count": null,
      "outputs": []
    },
    {
      "cell_type": "code",
      "metadata": {
        "colab": {
          "base_uri": "https://localhost:8080/",
          "height": 343
        },
        "id": "RXvyZN2rwauA",
        "outputId": "086b9898-dd06-4f76-8197-4da260e2a3fe"
      },
      "source": [
        "# applying the text cleaning function on hope speech\r\n",
        "df_train['text'] = df_train['text'].apply(text_cleaning)\r\n",
        "df_train.head(10)"
      ],
      "execution_count": null,
      "outputs": [
        {
          "output_type": "execute_result",
          "data": {
            "text/html": [
              "<div>\n",
              "<style scoped>\n",
              "    .dataframe tbody tr th:only-of-type {\n",
              "        vertical-align: middle;\n",
              "    }\n",
              "\n",
              "    .dataframe tbody tr th {\n",
              "        vertical-align: top;\n",
              "    }\n",
              "\n",
              "    .dataframe thead th {\n",
              "        text-align: right;\n",
              "    }\n",
              "</style>\n",
              "<table border=\"1\" class=\"dataframe\">\n",
              "  <thead>\n",
              "    <tr style=\"text-align: right;\">\n",
              "      <th></th>\n",
              "      <th>text</th>\n",
              "      <th>intent</th>\n",
              "    </tr>\n",
              "  </thead>\n",
              "  <tbody>\n",
              "    <tr>\n",
              "      <th>0</th>\n",
              "      <td>these tiktoks radiate gay chaotic energy and i...</td>\n",
              "      <td>0</td>\n",
              "    </tr>\n",
              "    <tr>\n",
              "      <th>1</th>\n",
              "      <td>Again He got killed for using false money</td>\n",
              "      <td>0</td>\n",
              "    </tr>\n",
              "    <tr>\n",
              "      <th>2</th>\n",
              "      <td>It's not that all lives don't matter</td>\n",
              "      <td>0</td>\n",
              "    </tr>\n",
              "    <tr>\n",
              "      <th>3</th>\n",
              "      <td>Is it really that difficult to understand? Bla...</td>\n",
              "      <td>0</td>\n",
              "    </tr>\n",
              "    <tr>\n",
              "      <th>4</th>\n",
              "      <td>Whenever we say black isn't that racists?  Why...</td>\n",
              "      <td>0</td>\n",
              "    </tr>\n",
              "    <tr>\n",
              "      <th>5</th>\n",
              "      <td>Ros The Boss u don’t know that she’s actually ...</td>\n",
              "      <td>0</td>\n",
              "    </tr>\n",
              "    <tr>\n",
              "      <th>6</th>\n",
              "      <td>That was funny at the end when Larry said 'Wha...</td>\n",
              "      <td>0</td>\n",
              "    </tr>\n",
              "    <tr>\n",
              "      <th>7</th>\n",
              "      <td>She saves lives with her music.</td>\n",
              "      <td>0</td>\n",
              "    </tr>\n",
              "    <tr>\n",
              "      <th>8</th>\n",
              "      <td>There were a lot of Samoans in my Army unit</td>\n",
              "      <td>0</td>\n",
              "    </tr>\n",
              "    <tr>\n",
              "      <th>9</th>\n",
              "      <td>Network Engineer here- 23 and currently workin...</td>\n",
              "      <td>1</td>\n",
              "    </tr>\n",
              "  </tbody>\n",
              "</table>\n",
              "</div>"
            ],
            "text/plain": [
              "                                                text  intent\n",
              "0  these tiktoks radiate gay chaotic energy and i...       0\n",
              "1          Again He got killed for using false money       0\n",
              "2               It's not that all lives don't matter       0\n",
              "3  Is it really that difficult to understand? Bla...       0\n",
              "4  Whenever we say black isn't that racists?  Why...       0\n",
              "5  Ros The Boss u don’t know that she’s actually ...       0\n",
              "6  That was funny at the end when Larry said 'Wha...       0\n",
              "7                    She saves lives with her music.       0\n",
              "8        There were a lot of Samoans in my Army unit       0\n",
              "9  Network Engineer here- 23 and currently workin...       1"
            ]
          },
          "metadata": {
            "tags": []
          },
          "execution_count": 133
        }
      ]
    },
    {
      "cell_type": "code",
      "metadata": {
        "id": "CZNHRQ9DEtto"
      },
      "source": [
        "df_valid = pd.DataFrame(valid)"
      ],
      "execution_count": null,
      "outputs": []
    },
    {
      "cell_type": "code",
      "metadata": {
        "colab": {
          "base_uri": "https://localhost:8080/"
        },
        "id": "VrCbLrzYPBfm",
        "outputId": "52ecfede-d1e0-4ca2-d1ca-eaf0df6b2645"
      },
      "source": [
        "df_valid[\"intent\"] = df_valid[\"intent\"].replace(to_replace =\"Non_hope_speech\", value =0)\r\n",
        "df_valid[\"intent\"] = df_valid[\"intent\"].replace(to_replace =\"Hope_speech\", value =1)\r\n",
        "df_valid[\"intent\"] = df_valid[\"intent\"].replace(to_replace =\"not-English\", value =2)\r\n",
        "df_valid[\"intent\"].unique()"
      ],
      "execution_count": null,
      "outputs": [
        {
          "output_type": "execute_result",
          "data": {
            "text/plain": [
              "array([0, 1, 2])"
            ]
          },
          "metadata": {
            "tags": []
          },
          "execution_count": 135
        }
      ]
    },
    {
      "cell_type": "code",
      "metadata": {
        "id": "ThiKzha_E8N8"
      },
      "source": [
        "x_train = df_train['text']\r\n",
        "y_train = df_train['intent']\r\n",
        "x_valid = df_valid['text']\r\n",
        "y_valid = df_valid['intent']\r\n",
        " "
      ],
      "execution_count": null,
      "outputs": []
    },
    {
      "cell_type": "code",
      "metadata": {
        "colab": {
          "base_uri": "https://localhost:8080/",
          "height": 314
        },
        "id": "S9DWy0wVHDNM",
        "outputId": "9b1c5123-3818-4246-b79e-0612f5a364f5"
      },
      "source": [
        "LABELS = [\"Non_hope_speech\",\"Hope_speech\"]\r\n",
        "\r\n",
        "count_classes = pd.value_counts(df_train['intent'])\r\n",
        "count_classes.plot(kind = 'bar', rot=0)\r\n",
        "plt.title(\"Traning dataset class distribution\")\r\n",
        "plt.xticks(range(2), LABELS)\r\n",
        "plt.xlabel(\"intent\")\r\n",
        "plt.ylabel(\"Frequency\")"
      ],
      "execution_count": null,
      "outputs": [
        {
          "output_type": "execute_result",
          "data": {
            "text/plain": [
              "Text(0, 0.5, 'Frequency')"
            ]
          },
          "metadata": {
            "tags": []
          },
          "execution_count": 137
        },
        {
          "output_type": "display_data",
          "data": {
            "image/png": "[encoded data removed]",
            "text/plain": [
              "<Figure size 432x288 with 1 Axes>"
            ]
          },
          "metadata": {
            "tags": [],
            "needs_background": "light"
          }
        }
      ]
    },
    {
      "cell_type": "code",
      "metadata": {
        "id": "9O1jrSHJHhyF"
      },
      "source": [
        "# converting the strings into integers using Tokenizer \r\n",
        "from tensorflow.keras.preprocessing.text import Tokenizer\r\n",
        "from tensorflow.keras.preprocessing.sequence import pad_sequences \r\n",
        "\r\n"
      ],
      "execution_count": null,
      "outputs": []
    },
    {
      "cell_type": "code",
      "metadata": {
        "id": "s7fcgEjfHtSZ"
      },
      "source": [
        "# instantiating the tokenizer\r\n",
        "max_vocab = 20000000\r\n",
        "tokenizer = Tokenizer(num_words=max_vocab , lower=None)\r\n",
        "tokenizer.fit_on_texts(x_train)"
      ],
      "execution_count": null,
      "outputs": []
    },
    {
      "cell_type": "code",
      "metadata": {
        "colab": {
          "base_uri": "https://localhost:8080/"
        },
        "id": "_WS7uKEHH0OH",
        "outputId": "02ccef96-2f9a-4f4c-a66f-b05cc3727b41"
      },
      "source": [
        "# checking the word index and find out the vocabulary of the dataset\r\n",
        "wordidx = tokenizer.word_index\r\n",
        "V = len(wordidx)\r\n",
        "print('The size of datatset vocab is: ', V)"
      ],
      "execution_count": null,
      "outputs": [
        {
          "output_type": "stream",
          "text": [
            "The size of datatset vocab is:  24481\n"
          ],
          "name": "stdout"
        }
      ]
    },
    {
      "cell_type": "code",
      "metadata": {
        "colab": {
          "base_uri": "https://localhost:8080/"
        },
        "id": "udPTWHVFIAc1",
        "outputId": "1a80be29-5e2e-4d4c-f100-69085d302bc5"
      },
      "source": [
        "# converting trian and valid sentences into sequences\r\n",
        "train_seq = tokenizer.texts_to_sequences(x_train)\r\n",
        "valid_seq = tokenizer.texts_to_sequences(x_valid)\r\n",
        "print('Training sequence: ', train_seq[0])\r\n",
        "print('Validation sequence: ', valid_seq[0])\r\n"
      ],
      "execution_count": null,
      "outputs": [
        {
          "output_type": "stream",
          "text": [
            "Training sequence:  [95, 11596, 11597, 1184, 6310, 1742, 5, 62, 81, 12]\n",
            "Validation sequence:  [1183, 12, 28, 6, 173, 28, 8, 168]\n"
          ],
          "name": "stdout"
        }
      ]
    },
    {
      "cell_type": "code",
      "metadata": {
        "colab": {
          "base_uri": "https://localhost:8080/"
        },
        "id": "Vo0s-WZfIR3x",
        "outputId": "bebcc760-eb6d-475b-f01b-4ed26d7570ed"
      },
      "source": [
        "# padding the sequences to get equal length sequence because its conventional to use same size sequences\r\n",
        "# padding the training sequence\r\n",
        "pad_train = pad_sequences(train_seq)\r\n",
        "T = pad_train.shape[1]\r\n",
        "print('The length of training sequence is: ', T)"
      ],
      "execution_count": null,
      "outputs": [
        {
          "output_type": "stream",
          "text": [
            "The length of training sequence is:  197\n"
          ],
          "name": "stdout"
        }
      ]
    },
    {
      "cell_type": "code",
      "metadata": {
        "colab": {
          "base_uri": "https://localhost:8080/"
        },
        "id": "Uhg1EXQ-IjWl",
        "outputId": "62eaac54-e01e-4176-f756-fb508738bd61"
      },
      "source": [
        "# padding the valid sequence\r\n",
        "pad_valid = pad_sequences(valid_seq, maxlen=T)\r\n",
        "print('The length of testing sequence is: ', pad_valid.shape[1])"
      ],
      "execution_count": null,
      "outputs": [
        {
          "output_type": "stream",
          "text": [
            "The length of testing sequence is:  197\n"
          ],
          "name": "stdout"
        }
      ]
    },
    {
      "cell_type": "code",
      "metadata": {
        "id": "jtSCy6RyRU2D"
      },
      "source": [
        "from sklearn.model_selection import train_test_split\r\n",
        "X_train,X_test,y_train,y_test=train_test_split(pad_train, y_train,train_size=0.7)"
      ],
      "execution_count": null,
      "outputs": []
    },
    {
      "cell_type": "code",
      "metadata": {
        "id": "DgEiBIpXJbLb"
      },
      "source": [
        "# building the model\r\n",
        "\r\n",
        "from tensorflow.keras.layers import Input, Dense, Embedding, LSTM, GlobalMaxPooling1D\r\n",
        "from tensorflow.keras.models import Model\r\n",
        "from keras.models import Sequential\r\n",
        "from keras.layers import Dense, Embedding, LSTM, SpatialDropout1D\r\n",
        "\r\n",
        "\r\n",
        "D = 20 \r\n",
        "M = 15\r\n",
        "model = Sequential()\r\n",
        "#i = Input (shape=(T, ))   \r\n",
        "model.add(Embedding(V+1, D ,input_length = T))   # V+1 because the indexing of the words in vocab (V) start from 1 not 0\r\n",
        "model.add(LSTM(M,dropout=0.2, recurrent_dropout=0.2,return_sequences=True))\r\n",
        "model.add(GlobalMaxPooling1D())\r\n",
        "model.add(Dense(32, activation='relu'))\r\n",
        "model.add(Dense(1, activation='sigmoid'))\r\n",
        "# model = Sequential()\r\n",
        "# model.add(Embedding(max_fatures, embed_dim,input_length = X.shape[1]))\r\n",
        "# model.add(SpatialDropout1D(0.4))\r\n",
        "# model.add(LSTM(lstm_out, dropout=0.2, recurrent_dropout=0.2))\r\n",
        "# model.add(Dense(2,activation='softmax'))\r\n",
        "\r\n",
        "\r\n",
        "# model = Model(i,x)"
      ],
      "execution_count": null,
      "outputs": []
    },
    {
      "cell_type": "code",
      "metadata": {
        "id": "PMj4aQChQmf7"
      },
      "source": [
        "# compiling the model\r\n",
        "model.compile(optimizer='adam', \r\n",
        "              loss='binary_crossentropy', \r\n",
        "              metrics=['accuracy'])"
      ],
      "execution_count": null,
      "outputs": []
    },
    {
      "cell_type": "code",
      "metadata": {
        "colab": {
          "base_uri": "https://localhost:8080/"
        },
        "id": "nJEhyL37Qsnt",
        "outputId": "262f20c3-a3c8-43d8-fbe6-f702e94f84c1"
      },
      "source": [
        "r = model.fit(X_train,y_train, validation_data=(X_test,y_test), epochs=5)"
      ],
      "execution_count": null,
      "outputs": [
        {
          "output_type": "stream",
          "text": [
            "Epoch 1/5\n",
            "498/498 [==============================] - 86s 167ms/step - loss: 0.3823 - accuracy: 0.9129 - val_loss: 0.3071 - val_accuracy: 0.9094\n",
            "Epoch 2/5\n",
            "498/498 [==============================] - 81s 163ms/step - loss: 0.2905 - accuracy: 0.9160 - val_loss: 0.3089 - val_accuracy: 0.9094\n",
            "Epoch 3/5\n",
            "498/498 [==============================] - 83s 167ms/step - loss: 0.2919 - accuracy: 0.9155 - val_loss: 0.3101 - val_accuracy: 0.9094\n",
            "Epoch 4/5\n",
            "498/498 [==============================] - 81s 162ms/step - loss: 0.2903 - accuracy: 0.9163 - val_loss: 0.3108 - val_accuracy: 0.9094\n",
            "Epoch 5/5\n",
            "498/498 [==============================] - 83s 166ms/step - loss: 0.2956 - accuracy: 0.9141 - val_loss: 0.3106 - val_accuracy: 0.9094\n"
          ],
          "name": "stdout"
        }
      ]
    },
    {
      "cell_type": "code",
      "metadata": {
        "colab": {
          "base_uri": "https://localhost:8080/",
          "height": 282
        },
        "id": "T7x3Qmekhq97",
        "outputId": "7d064470-c8bd-45c4-b232-b18179ff6ce8"
      },
      "source": [
        "# Evaluating the model\r\n",
        "# plotting the loss and validation loss of the model\r\n",
        "plt.plot(r.history['loss'], label='loss')\r\n",
        "plt.plot(r.history['val_loss'], label = 'val_loss')\r\n",
        "plt.legend()"
      ],
      "execution_count": null,
      "outputs": [
        {
          "output_type": "execute_result",
          "data": {
            "text/plain": [
              "<matplotlib.legend.Legend at 0x7f6722b52bd0>"
            ]
          },
          "metadata": {
            "tags": []
          },
          "execution_count": 148
        },
        {
          "output_type": "display_data",
          "data": {
            "image/png": "[encoded data removed]",
            "text/plain": [
              "<Figure size 432x288 with 1 Axes>"
            ]
          },
          "metadata": {
            "tags": [],
            "needs_background": "light"
          }
        }
      ]
    },
    {
      "cell_type": "code",
      "metadata": {
        "colab": {
          "base_uri": "https://localhost:8080/",
          "height": 282
        },
        "id": "UTYnrHijiLm_",
        "outputId": "e904b405-e021-4511-b872-085d3c91b874"
      },
      "source": [
        "# plotting the accuracy and validation accuracy of the model\r\n",
        "plt.plot(r.history['accuracy'], label= 'accuracy')\r\n",
        "plt.plot(r.history['val_accuracy'], label='val_accuracy')\r\n",
        "plt.legend()\r\n"
      ],
      "execution_count": null,
      "outputs": [
        {
          "output_type": "execute_result",
          "data": {
            "text/plain": [
              "<matplotlib.legend.Legend at 0x7f67248f9350>"
            ]
          },
          "metadata": {
            "tags": []
          },
          "execution_count": 149
        },
        {
          "output_type": "display_data",
          "data": {
            "image/png": "[encoded data removed]",
            "text/plain": [
              "<Figure size 432x288 with 1 Axes>"
            ]
          },
          "metadata": {
            "tags": [],
            "needs_background": "light"
          }
        }
      ]
    }
  ]
}