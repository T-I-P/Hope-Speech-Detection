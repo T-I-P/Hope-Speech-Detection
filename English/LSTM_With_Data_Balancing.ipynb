{
  "nbformat": 4,
  "nbformat_minor": 0,
  "metadata": {
    "colab": {
      "name": "Data_Balancing.ipynb",
      "provenance": [],
      "collapsed_sections": []
    },
    "kernelspec": {
      "name": "python3",
      "display_name": "Python 3"
    }
  },
  "cells": [
    {
      "cell_type": "code",
      "metadata": {
        "id": "fGzRtqGTx5Jr"
      },
      "source": [
        "import tensorflow as tf\r\n",
        "import pandas as pd\r\n",
        "import numpy as np\r\n",
        "import matplotlib.pyplot as plt"
      ],
      "execution_count": null,
      "outputs": []
    },
    {
      "cell_type": "code",
      "metadata": {
        "id": "YWi_9b5sw2gM"
      },
      "source": [
        "# reading the data in a dataframe df\r\n",
        "\r\n",
        "header_list = [\"text\",\"intent\",\"buffer\"]\r\n",
        "train=pd.read_csv(\"/content/train_10000_dpadded.csv\" )\r\n",
        "#valid = pd.read_csv(\"/content/drive/My Drive/english_hope_dev.csv\", '\\t',header=None,names=header_list)\r\n"
      ],
      "execution_count": null,
      "outputs": []
    },
    {
      "cell_type": "code",
      "metadata": {
        "id": "fkIXfMVVnX7n"
      },
      "source": [
        "valid = pd.read_csv(\"/content/valid_preprocessed.csv\")"
      ],
      "execution_count": null,
      "outputs": []
    },
    {
      "cell_type": "code",
      "metadata": {
        "colab": {
          "base_uri": "https://localhost:8080/",
          "height": 195
        },
        "id": "m3x6I2KRnd8P",
        "outputId": "9280e7a4-2fbf-4baa-a7f3-494cdc9e0f6d"
      },
      "source": [
        "valid.head()"
      ],
      "execution_count": null,
      "outputs": [
        {
          "output_type": "execute_result",
          "data": {
            "text/html": [
              "<div>\n",
              "<style scoped>\n",
              "    .dataframe tbody tr th:only-of-type {\n",
              "        vertical-align: middle;\n",
              "    }\n",
              "\n",
              "    .dataframe tbody tr th {\n",
              "        vertical-align: top;\n",
              "    }\n",
              "\n",
              "    .dataframe thead th {\n",
              "        text-align: right;\n",
              "    }\n",
              "</style>\n",
              "<table border=\"1\" class=\"dataframe\">\n",
              "  <thead>\n",
              "    <tr style=\"text-align: right;\">\n",
              "      <th></th>\n",
              "      <th>Unnamed: 0</th>\n",
              "      <th>text</th>\n",
              "      <th>intent</th>\n",
              "    </tr>\n",
              "  </thead>\n",
              "  <tbody>\n",
              "    <tr>\n",
              "      <th>0</th>\n",
              "      <td>0</td>\n",
              "      <td>that it like I do not like that statue</td>\n",
              "      <td>Non_hope_speech</td>\n",
              "    </tr>\n",
              "    <tr>\n",
              "      <th>1</th>\n",
              "      <td>1</td>\n",
              "      <td>Counting money that she be give for promote hy...</td>\n",
              "      <td>Non_hope_speech</td>\n",
              "    </tr>\n",
              "    <tr>\n",
              "      <th>2</th>\n",
              "      <td>2</td>\n",
              "      <td>Hernandez never say to be intolerant and hateful</td>\n",
              "      <td>Non_hope_speech</td>\n",
              "    </tr>\n",
              "    <tr>\n",
              "      <th>3</th>\n",
              "      <td>3</td>\n",
              "      <td>wow an opinion be that I do not like color</td>\n",
              "      <td>Non_hope_speech</td>\n",
              "    </tr>\n",
              "    <tr>\n",
              "      <th>4</th>\n",
              "      <td>4</td>\n",
              "      <td>WOWThat be so so inspiring and incredible this...</td>\n",
              "      <td>Hope_speech</td>\n",
              "    </tr>\n",
              "  </tbody>\n",
              "</table>\n",
              "</div>"
            ],
            "text/plain": [
              "   Unnamed: 0  ...           intent\n",
              "0           0  ...  Non_hope_speech\n",
              "1           1  ...  Non_hope_speech\n",
              "2           2  ...  Non_hope_speech\n",
              "3           3  ...  Non_hope_speech\n",
              "4           4  ...      Hope_speech\n",
              "\n",
              "[5 rows x 3 columns]"
            ]
          },
          "metadata": {
            "tags": []
          },
          "execution_count": 12
        }
      ]
    },
    {
      "cell_type": "code",
      "metadata": {
        "colab": {
          "base_uri": "https://localhost:8080/",
          "height": 314
        },
        "id": "UHX9HsVP6X_l",
        "outputId": "7f5acdb4-8580-4858-e1cc-560bc5b10829"
      },
      "source": [
        "df_train = pd.DataFrame(train)\r\n",
        "df_train.head(9)"
      ],
      "execution_count": null,
      "outputs": [
        {
          "output_type": "execute_result",
          "data": {
            "text/html": [
              "<div>\n",
              "<style scoped>\n",
              "    .dataframe tbody tr th:only-of-type {\n",
              "        vertical-align: middle;\n",
              "    }\n",
              "\n",
              "    .dataframe tbody tr th {\n",
              "        vertical-align: top;\n",
              "    }\n",
              "\n",
              "    .dataframe thead th {\n",
              "        text-align: right;\n",
              "    }\n",
              "</style>\n",
              "<table border=\"1\" class=\"dataframe\">\n",
              "  <thead>\n",
              "    <tr style=\"text-align: right;\">\n",
              "      <th></th>\n",
              "      <th>Unnamed: 0</th>\n",
              "      <th>text</th>\n",
              "      <th>intent</th>\n",
              "    </tr>\n",
              "  </thead>\n",
              "  <tbody>\n",
              "    <tr>\n",
              "      <th>0</th>\n",
              "      <td>32472</td>\n",
              "      <td>KEEP PEACE of LOVE your heart</td>\n",
              "      <td>Hope_speech</td>\n",
              "    </tr>\n",
              "    <tr>\n",
              "      <th>1</th>\n",
              "      <td>13545</td>\n",
              "      <td>She will always be Madonna without her</td>\n",
              "      <td>Non_hope_speech</td>\n",
              "    </tr>\n",
              "    <tr>\n",
              "      <th>2</th>\n",
              "      <td>10577</td>\n",
              "      <td>in probably of the most non racist people you ...</td>\n",
              "      <td>Non_hope_speech</td>\n",
              "    </tr>\n",
              "    <tr>\n",
              "      <th>3</th>\n",
              "      <td>8647</td>\n",
              "      <td>Linda Godinez to compare the state of the indu...</td>\n",
              "      <td>Non_hope_speech</td>\n",
              "    </tr>\n",
              "    <tr>\n",
              "      <th>4</th>\n",
              "      <td>4790</td>\n",
              "      <td>this be so inspiring</td>\n",
              "      <td>Hope_speech</td>\n",
              "    </tr>\n",
              "    <tr>\n",
              "      <th>5</th>\n",
              "      <td>10339</td>\n",
              "      <td>It be like look into the past at my own self l...</td>\n",
              "      <td>Non_hope_speech</td>\n",
              "    </tr>\n",
              "    <tr>\n",
              "      <th>6</th>\n",
              "      <td>3300</td>\n",
              "      <td>what they be say be Black Live matter more</td>\n",
              "      <td>Non_hope_speech</td>\n",
              "    </tr>\n",
              "    <tr>\n",
              "      <th>7</th>\n",
              "      <td>26999</td>\n",
              "      <td>I which in love with loving such would not cha...</td>\n",
              "      <td>Hope_speech</td>\n",
              "    </tr>\n",
              "    <tr>\n",
              "      <th>8</th>\n",
              "      <td>8902</td>\n",
              "      <td>what legacy He be on fentynal and shove pistol...</td>\n",
              "      <td>Non_hope_speech</td>\n",
              "    </tr>\n",
              "  </tbody>\n",
              "</table>\n",
              "</div>"
            ],
            "text/plain": [
              "   Unnamed: 0  ...           intent\n",
              "0       32472  ...      Hope_speech\n",
              "1       13545  ...  Non_hope_speech\n",
              "2       10577  ...  Non_hope_speech\n",
              "3        8647  ...  Non_hope_speech\n",
              "4        4790  ...      Hope_speech\n",
              "5       10339  ...  Non_hope_speech\n",
              "6        3300  ...  Non_hope_speech\n",
              "7       26999  ...      Hope_speech\n",
              "8        8902  ...  Non_hope_speech\n",
              "\n",
              "[9 rows x 3 columns]"
            ]
          },
          "metadata": {
            "tags": []
          },
          "execution_count": 13
        }
      ]
    },
    {
      "cell_type": "code",
      "metadata": {
        "id": "2qDAe9xh9tSP"
      },
      "source": [
        "train = train.drop(['Unnamed: 0'], axis=1)"
      ],
      "execution_count": null,
      "outputs": []
    },
    {
      "cell_type": "code",
      "metadata": {
        "colab": {
          "base_uri": "https://localhost:8080/"
        },
        "id": "NTEbv50uaSQa",
        "outputId": "87eaac75-fc70-49b9-f922-17c967241902"
      },
      "source": [
        "df_train[\"intent\"] = df_train[\"intent\"].replace(to_replace =\"Non_hope_speech\", value =0)\r\n",
        "df_train[\"intent\"] = df_train[\"intent\"].replace(to_replace =\"Hope_speech\", value =1)\r\n",
        "df_train[\"intent\"].unique()"
      ],
      "execution_count": null,
      "outputs": [
        {
          "output_type": "execute_result",
          "data": {
            "text/plain": [
              "array([1, 0])"
            ]
          },
          "metadata": {
            "tags": []
          },
          "execution_count": 16
        }
      ]
    },
    {
      "cell_type": "code",
      "metadata": {
        "colab": {
          "base_uri": "https://localhost:8080/"
        },
        "id": "mYd3vw84nvYH",
        "outputId": "84e620e4-1f39-4d01-ca4b-ba8b3147cf64"
      },
      "source": [
        "valid.intent.unique()"
      ],
      "execution_count": null,
      "outputs": [
        {
          "output_type": "execute_result",
          "data": {
            "text/plain": [
              "array(['Non_hope_speech', 'Hope_speech'], dtype=object)"
            ]
          },
          "metadata": {
            "tags": []
          },
          "execution_count": 32
        }
      ]
    },
    {
      "cell_type": "code",
      "metadata": {
        "colab": {
          "base_uri": "https://localhost:8080/"
        },
        "id": "sxJnlDKznm1G",
        "outputId": "38f8e9e4-c370-423b-c7f5-9774c78d2828"
      },
      "source": [
        "valid[\"intent\"] = valid[\"intent\"].replace(to_replace =\"Non_hope_speech\", value =0)\r\n",
        "valid[\"intent\"] = valid[\"intent\"].replace(to_replace =\"Hope_speech\", value =1)\r\n",
        "valid[\"intent\"].unique()"
      ],
      "execution_count": null,
      "outputs": [
        {
          "output_type": "execute_result",
          "data": {
            "text/plain": [
              "array([0, 1])"
            ]
          },
          "metadata": {
            "tags": []
          },
          "execution_count": 17
        }
      ]
    },
    {
      "cell_type": "code",
      "metadata": {
        "colab": {
          "base_uri": "https://localhost:8080/"
        },
        "id": "KLcQ9_rh-KRC",
        "outputId": "b450c619-8b14-474f-dc82-ec9b0c185abf"
      },
      "source": [
        "train.intent.unique()"
      ],
      "execution_count": null,
      "outputs": [
        {
          "output_type": "execute_result",
          "data": {
            "text/plain": [
              "array(['Hope_speech', 'Non_hope_speech'], dtype=object)"
            ]
          },
          "metadata": {
            "tags": []
          },
          "execution_count": 7
        }
      ]
    },
    {
      "cell_type": "code",
      "metadata": {
        "colab": {
          "base_uri": "https://localhost:8080/"
        },
        "id": "i0WL3FqS-atL",
        "outputId": "40ffb16c-3829-4093-a2a8-15dfb6d11766"
      },
      "source": [
        "train.isnull().sum()"
      ],
      "execution_count": null,
      "outputs": [
        {
          "output_type": "execute_result",
          "data": {
            "text/plain": [
              "text      6\n",
              "intent    0\n",
              "dtype: int64"
            ]
          },
          "metadata": {
            "tags": []
          },
          "execution_count": 28
        }
      ]
    },
    {
      "cell_type": "code",
      "metadata": {
        "colab": {
          "base_uri": "https://localhost:8080/"
        },
        "id": "hYSUUrMtaZHZ",
        "outputId": "f2bda9b6-1cc8-49f9-a69e-1abb98b26ff9"
      },
      "source": [
        "train.dropna(inplace=True)\r\n",
        "train.isnull().sum()"
      ],
      "execution_count": null,
      "outputs": [
        {
          "output_type": "execute_result",
          "data": {
            "text/plain": [
              "text      0\n",
              "intent    0\n",
              "dtype: int64"
            ]
          },
          "metadata": {
            "tags": []
          },
          "execution_count": 41
        }
      ]
    },
    {
      "cell_type": "code",
      "metadata": {
        "colab": {
          "base_uri": "https://localhost:8080/"
        },
        "id": "ZL5QnIKcgoFu",
        "outputId": "2dc1e6d0-8c32-440a-e0fc-1396c7c7f3e5"
      },
      "source": [
        "df_train.dropna(inplace=True)\r\n",
        "df_train.isnull().sum()"
      ],
      "execution_count": null,
      "outputs": [
        {
          "output_type": "execute_result",
          "data": {
            "text/plain": [
              "Unnamed: 0    0\n",
              "text          0\n",
              "intent        0\n",
              "dtype: int64"
            ]
          },
          "metadata": {
            "tags": []
          },
          "execution_count": 14
        }
      ]
    },
    {
      "cell_type": "code",
      "metadata": {
        "colab": {
          "base_uri": "https://localhost:8080/"
        },
        "id": "M-2ETJczoWRQ",
        "outputId": "9eab0c7f-895d-4c2e-c9fa-3803660ad429"
      },
      "source": [
        "valid.dropna(inplace=True)\r\n",
        "valid.isnull().sum()"
      ],
      "execution_count": null,
      "outputs": [
        {
          "output_type": "execute_result",
          "data": {
            "text/plain": [
              "Unnamed: 0    0\n",
              "text          0\n",
              "intent        0\n",
              "dtype: int64"
            ]
          },
          "metadata": {
            "tags": []
          },
          "execution_count": 15
        }
      ]
    },
    {
      "cell_type": "code",
      "metadata": {
        "id": "tFOc5MWqbC_e"
      },
      "source": [
        "x_train = df_train['text']\r\n",
        "y_train = df_train['intent']"
      ],
      "execution_count": null,
      "outputs": []
    },
    {
      "cell_type": "code",
      "metadata": {
        "id": "aYPQOdSZrnGt"
      },
      "source": [
        "y_train = df_train['intent']"
      ],
      "execution_count": null,
      "outputs": []
    },
    {
      "cell_type": "code",
      "metadata": {
        "id": "zgnEUULUoifp"
      },
      "source": [
        "x_test = valid['text']\r\n",
        "y_test = valid['intent']"
      ],
      "execution_count": null,
      "outputs": []
    },
    {
      "cell_type": "code",
      "metadata": {
        "id": "hpdDvFoAsFMH"
      },
      "source": [
        "y_test = valid['intent']"
      ],
      "execution_count": null,
      "outputs": []
    },
    {
      "cell_type": "code",
      "metadata": {
        "colab": {
          "base_uri": "https://localhost:8080/",
          "height": 313
        },
        "id": "nBaLKc9KbMLW",
        "outputId": "33290671-e11c-43d3-f282-747391fac7aa"
      },
      "source": [
        "LABELS = [\"Non_hope_speech\",\"Hope_speech\"]\r\n",
        "\r\n",
        "count_classes = pd.value_counts(valid['intent'])\r\n",
        "count_classes.plot(kind = 'bar', rot=0)\r\n",
        "plt.title(\"Traning dataset class distribution\")\r\n",
        "plt.xticks(range(2), LABELS)\r\n",
        "plt.xlabel(\"intent\")\r\n",
        "plt.ylabel(\"Frequency\")"
      ],
      "execution_count": null,
      "outputs": [
        {
          "output_type": "execute_result",
          "data": {
            "text/plain": [
              "Text(0, 0.5, 'Frequency')"
            ]
          },
          "metadata": {
            "tags": []
          },
          "execution_count": 37
        },
        {
          "output_type": "display_data",
          "data": {
            "image/png": "[encoded data removed]",
            "text/plain": [
              "<Figure size 432x288 with 1 Axes>"
            ]
          },
          "metadata": {
            "tags": [],
            "needs_background": "light"
          }
        }
      ]
    },
    {
      "cell_type": "code",
      "metadata": {
        "id": "XMp72VWVbRjF"
      },
      "source": [
        "# converting the strings into integers using Tokenizer \r\n",
        "from tensorflow.keras.preprocessing.text import Tokenizer\r\n",
        "from tensorflow.keras.preprocessing.sequence import pad_sequences"
      ],
      "execution_count": null,
      "outputs": []
    },
    {
      "cell_type": "code",
      "metadata": {
        "id": "oWOkRXbAbX0C"
      },
      "source": [
        "# instantiating the tokenizer\r\n",
        "max_vocab = 50000\r\n",
        "tokenizer = Tokenizer(num_words=max_vocab , lower=None)\r\n",
        "tokenizer.fit_on_texts(x_train)"
      ],
      "execution_count": null,
      "outputs": []
    },
    {
      "cell_type": "code",
      "metadata": {
        "colab": {
          "base_uri": "https://localhost:8080/"
        },
        "id": "QbVYFJUjg833",
        "outputId": "7a5cd62a-2bd8-41b9-aaa7-b13997348849"
      },
      "source": [
        "# checking the word index and find out the vocabulary of the dataset\r\n",
        "wordidx = tokenizer.word_index\r\n",
        "V = len(wordidx)\r\n",
        "print('The size of datatset vocab is: ', V)"
      ],
      "execution_count": null,
      "outputs": [
        {
          "output_type": "stream",
          "text": [
            "The size of datatset vocab is:  21755\n"
          ],
          "name": "stdout"
        }
      ]
    },
    {
      "cell_type": "code",
      "metadata": {
        "colab": {
          "base_uri": "https://localhost:8080/"
        },
        "id": "nkii1Lh5hA-W",
        "outputId": "a90ce8ec-fef3-4893-f269-f6abb86e1db8"
      },
      "source": [
        "# converting trian and valid sentences into sequences\r\n",
        "train_seq = tokenizer.texts_to_sequences(x_train)\r\n",
        "valid_seq = tokenizer.texts_to_sequences(x_test)\r\n",
        "print('Training sequence: ', train_seq[0])\r\n"
      ],
      "execution_count": null,
      "outputs": [
        {
          "output_type": "stream",
          "text": [
            "Training sequence:  [3069, 2873, 8, 1132, 49, 355]\n"
          ],
          "name": "stdout"
        }
      ]
    },
    {
      "cell_type": "code",
      "metadata": {
        "colab": {
          "base_uri": "https://localhost:8080/"
        },
        "id": "V5dgvpuGhGzM",
        "outputId": "7386c0d8-5a5a-46ad-88b5-3f390a388c5b"
      },
      "source": [
        "# padding the sequences to get equal length sequence because its conventional to use same size sequences\r\n",
        "# padding the training sequence\r\n",
        "pad_train = pad_sequences(train_seq)\r\n",
        "pad_test = pad_sequences(valid_seq, maxlen=205)\r\n",
        "T = pad_train.shape[1]\r\n",
        "print('The length of training sequence is: ', T)"
      ],
      "execution_count": null,
      "outputs": [
        {
          "output_type": "stream",
          "text": [
            "The length of training sequence is:  205\n"
          ],
          "name": "stdout"
        }
      ]
    },
    {
      "cell_type": "code",
      "metadata": {
        "id": "T2AK1npws6yR"
      },
      "source": [
        "pad_test = pad_sequences(valid_seq, maxlen=205)"
      ],
      "execution_count": null,
      "outputs": []
    },
    {
      "cell_type": "code",
      "metadata": {
        "id": "Z2uqDN2ahP2K"
      },
      "source": [
        "from sklearn.model_selection import train_test_split\r\n",
        "X_train,X_test,y_train,y_test=train_test_split(pad_train, y_train,train_size=1)"
      ],
      "execution_count": null,
      "outputs": []
    },
    {
      "cell_type": "code",
      "metadata": {
        "id": "-sABfFuhhXWS"
      },
      "source": [
        "# building the model\r\n",
        "\r\n",
        "from tensorflow.keras.layers import Input, Dense, Embedding, LSTM, GlobalMaxPooling1D\r\n",
        "from tensorflow.keras.models import Model\r\n",
        "\r\n",
        "D = 20 \r\n",
        "M = 15\r\n",
        "\r\n",
        "i = Input (shape=(T, ))   \r\n",
        "x = Embedding(V+1, D)(i)    # V+1 because the indexing of the words in vocab (V) start from 1 not 0\r\n",
        "x = LSTM(M, return_sequences=True)(x)\r\n",
        "x = GlobalMaxPooling1D()(x)\r\n",
        "x = Dense(32, activation='relu')(x)\r\n",
        "x = Dense(1, activation='sigmoid')(x)\r\n",
        "\r\n",
        "model = Model(i,x)"
      ],
      "execution_count": null,
      "outputs": []
    },
    {
      "cell_type": "code",
      "metadata": {
        "id": "67bvxvcKhd5v"
      },
      "source": [
        "# compiling the model\r\n",
        "model.compile(optimizer='adam', \r\n",
        "              loss='binary_crossentropy', \r\n",
        "              metrics=['accuracy'])"
      ],
      "execution_count": null,
      "outputs": []
    },
    {
      "cell_type": "code",
      "metadata": {
        "colab": {
          "base_uri": "https://localhost:8080/"
        },
        "id": "Gi6vImKyhkIv",
        "outputId": "cacae557-6098-407a-f437-46d2d01c5770"
      },
      "source": [
        "r = model.fit(pad_train,y_train, validation_data=(pad_test,y_test), epochs=5)"
      ],
      "execution_count": null,
      "outputs": [
        {
          "output_type": "stream",
          "text": [
            "Epoch 1/5\n",
            "1023/1023 [==============================] - 88s 86ms/step - loss: 0.1692 - accuracy: 0.9322 - val_loss: 0.2905 - val_accuracy: 0.8951\n",
            "Epoch 2/5\n",
            "1023/1023 [==============================] - 89s 87ms/step - loss: 0.1314 - accuracy: 0.9483 - val_loss: 0.3308 - val_accuracy: 0.8814\n",
            "Epoch 3/5\n",
            "1023/1023 [==============================] - 87s 85ms/step - loss: 0.1062 - accuracy: 0.9588 - val_loss: 0.3509 - val_accuracy: 0.8838\n",
            "Epoch 4/5\n",
            "1023/1023 [==============================] - 87s 85ms/step - loss: 0.0893 - accuracy: 0.9645 - val_loss: 0.3807 - val_accuracy: 0.8888\n",
            "Epoch 5/5\n",
            "1023/1023 [==============================] - 88s 86ms/step - loss: 0.0747 - accuracy: 0.9718 - val_loss: 0.3865 - val_accuracy: 0.8969\n"
          ],
          "name": "stdout"
        }
      ]
    },
    {
      "cell_type": "code",
      "metadata": {
        "colab": {
          "base_uri": "https://localhost:8080/"
        },
        "id": "Bd84gkq3i4Wz",
        "outputId": "534f094c-8f34-4ef4-b9db-b34a0e75d316"
      },
      "source": [
        "x_train.shape"
      ],
      "execution_count": null,
      "outputs": [
        {
          "output_type": "execute_result",
          "data": {
            "text/plain": [
              "(32734,)"
            ]
          },
          "metadata": {
            "tags": []
          },
          "execution_count": 59
        }
      ]
    },
    {
      "cell_type": "code",
      "metadata": {
        "id": "Biv3Jib2juGI"
      },
      "source": [
        "from sklearn import model_selection, metrics"
      ],
      "execution_count": null,
      "outputs": []
    },
    {
      "cell_type": "code",
      "metadata": {
        "id": "M871uceAj9Z6"
      },
      "source": [
        ""
      ],
      "execution_count": null,
      "outputs": []
    }
  ]
}