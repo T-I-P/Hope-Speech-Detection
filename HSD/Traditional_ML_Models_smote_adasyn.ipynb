{
  "nbformat": 4,
  "nbformat_minor": 0,
  "metadata": {
    "colab": {
      "provenance": []
    },
    "kernelspec": {
      "name": "python3",
      "display_name": "Python 3"
    },
    "accelerator": "GPU"
  },
  "cells": [
    {
      "cell_type": "code",
      "metadata": {
        "id": "r4rW5xVNl-E5",
        "colab": {
          "base_uri": "https://localhost:8080/"
        },
        "outputId": "c2e0939e-a33c-4b74-a165-cf66d6915bbc"
      },
      "source": [
        "import pandas as pd\n",
        "import numpy as np\n",
        "from nltk.tokenize import word_tokenize\n",
        "from nltk import pos_tag\n",
        "from nltk.corpus import stopwords\n",
        "from nltk.stem import WordNetLemmatizer\n",
        "from sklearn.preprocessing import LabelEncoder\n",
        "from collections import defaultdict\n",
        "from nltk.corpus import wordnet as wn\n",
        "from sklearn.feature_extraction.text import TfidfVectorizer\n",
        "from sklearn import model_selection, naive_bayes,svm\n",
        "from sklearn.linear_model import LogisticRegression\n",
        "from sklearn.neighbors import KNeighborsClassifier\n",
        "import sklearn.metrics as metrics\n",
        "from sklearn.metrics import accuracy_score, f1_score, confusion_matrix,classification_report\n",
        "import ast\n",
        "from imblearn.over_sampling import SMOTE, ADASYN\n",
        "import seaborn as sns\n",
        "\n",
        "%matplotlib inline\n",
        "from matplotlib import pyplot as plt"
      ],
      "execution_count": null,
      "outputs": [
        {
          "output_type": "stream",
          "text": [
            "/usr/local/lib/python3.7/dist-packages/sklearn/externals/six.py:31: FutureWarning: The module is deprecated in version 0.21 and will be removed in version 0.23 since we've dropped support for Python 2.7. Please rely on the official version of six (https://pypi.org/project/six/).\n",
            "  \"(https://pypi.org/project/six/).\", FutureWarning)\n",
            "/usr/local/lib/python3.7/dist-packages/sklearn/utils/deprecation.py:144: FutureWarning: The sklearn.neighbors.base module is  deprecated in version 0.22 and will be removed in version 0.24. The corresponding classes / functions should instead be imported from sklearn.neighbors. Anything that cannot be imported from sklearn.neighbors is now part of the private API.\n",
            "  warnings.warn(message, FutureWarning)\n"
          ],
          "name": "stderr"
        }
      ]
    },
    {
      "cell_type": "code",
      "metadata": {
        "id": "Qtr2nnQzYJiO"
      },
      "source": [
        "train = pd.read_csv(\"https://raw.githubusercontent.com/T-I-P/Hope-Speech-Detection/master/English/train_tokenized.csv\")\n",
        "test = pd.read_csv(\"https://raw.githubusercontent.com/T-I-P/Hope-Speech-Detection/master/English/valid_tokenized.csv\")"
      ],
      "execution_count": null,
      "outputs": []
    },
    {
      "cell_type": "code",
      "metadata": {
        "colab": {
          "base_uri": "https://localhost:8080/",
          "height": 195
        },
        "id": "ZdNEHl3YmBPD",
        "outputId": "d78a22a3-ee60-4053-eed3-e6fa3ae448e7"
      },
      "source": [
        "train.head()"
      ],
      "execution_count": null,
      "outputs": [
        {
          "output_type": "execute_result",
          "data": {
            "text/html": [
              "<div>\n",
              "<style scoped>\n",
              "    .dataframe tbody tr th:only-of-type {\n",
              "        vertical-align: middle;\n",
              "    }\n",
              "\n",
              "    .dataframe tbody tr th {\n",
              "        vertical-align: top;\n",
              "    }\n",
              "\n",
              "    .dataframe thead th {\n",
              "        text-align: right;\n",
              "    }\n",
              "</style>\n",
              "<table border=\"1\" class=\"dataframe\">\n",
              "  <thead>\n",
              "    <tr style=\"text-align: right;\">\n",
              "      <th></th>\n",
              "      <th>Unnamed: 0</th>\n",
              "      <th>text</th>\n",
              "      <th>intent</th>\n",
              "      <th>text_final</th>\n",
              "    </tr>\n",
              "  </thead>\n",
              "  <tbody>\n",
              "    <tr>\n",
              "      <th>0</th>\n",
              "      <td>0</td>\n",
              "      <td>['these', 'tiktok', 'radiate', 'gay', 'chaotic...</td>\n",
              "      <td>Non_hope_speech</td>\n",
              "      <td>['tiktok', 'radiate', 'gay', 'chaotic', 'energ...</td>\n",
              "    </tr>\n",
              "    <tr>\n",
              "      <th>1</th>\n",
              "      <td>1</td>\n",
              "      <td>['again', 'he', 'get', 'kill', 'for', 'use', '...</td>\n",
              "      <td>Non_hope_speech</td>\n",
              "      <td>['get', 'kill', 'use', 'false', 'money']</td>\n",
              "    </tr>\n",
              "    <tr>\n",
              "      <th>2</th>\n",
              "      <td>2</td>\n",
              "      <td>['it', 'be', 'not', 'that', 'all', 'life', 'do...</td>\n",
              "      <td>Non_hope_speech</td>\n",
              "      <td>['life', 'matter']</td>\n",
              "    </tr>\n",
              "    <tr>\n",
              "      <th>3</th>\n",
              "      <td>3</td>\n",
              "      <td>['be', 'it', 'really', 'that', 'difficult', 't...</td>\n",
              "      <td>Non_hope_speech</td>\n",
              "      <td>['really', 'difficult', 'understand', 'black',...</td>\n",
              "    </tr>\n",
              "    <tr>\n",
              "      <th>4</th>\n",
              "      <td>4</td>\n",
              "      <td>['whenever', 'we', 'say', 'black', 'be', 'not'...</td>\n",
              "      <td>Non_hope_speech</td>\n",
              "      <td>['whenever', 'say', 'black', 'racist', 'say', ...</td>\n",
              "    </tr>\n",
              "  </tbody>\n",
              "</table>\n",
              "</div>"
            ],
            "text/plain": [
              "   Unnamed: 0  ...                                         text_final\n",
              "0           0  ...  ['tiktok', 'radiate', 'gay', 'chaotic', 'energ...\n",
              "1           1  ...           ['get', 'kill', 'use', 'false', 'money']\n",
              "2           2  ...                                 ['life', 'matter']\n",
              "3           3  ...  ['really', 'difficult', 'understand', 'black',...\n",
              "4           4  ...  ['whenever', 'say', 'black', 'racist', 'say', ...\n",
              "\n",
              "[5 rows x 4 columns]"
            ]
          },
          "metadata": {
            "tags": []
          },
          "execution_count": 3
        }
      ]
    },
    {
      "cell_type": "code",
      "metadata": {
        "id": "dpNpcNyBmOmU"
      },
      "source": [
        "train = train.drop('Unnamed: 0', axis=1)\n",
        "test = test.drop('Unnamed: 0',axis =1)"
      ],
      "execution_count": null,
      "outputs": []
    },
    {
      "cell_type": "code",
      "metadata": {
        "id": "FoJvf7MyWNDA"
      },
      "source": [
        "def string2list(data):\n",
        "    for i, sentence in enumerate(data):\n",
        "        res = ast.literal_eval(sentence)\n",
        "        data[i] = res\n",
        "    # return data"
      ],
      "execution_count": null,
      "outputs": []
    },
    {
      "cell_type": "code",
      "metadata": {
        "id": "i_UrD9kwWO-N"
      },
      "source": [
        "string2list(train.text)\n",
        "string2list(test.text)\n",
        "string2list(train.text_final)\n",
        "string2list(test.text_final)"
      ],
      "execution_count": null,
      "outputs": []
    },
    {
      "cell_type": "code",
      "metadata": {
        "id": "e3NklOdzWREX"
      },
      "source": [
        "def listToString(s):\n",
        "    str1 = \" \"\n",
        "    return (str1.join(s))\n",
        "\n",
        "for i,sen in enumerate(train['text']):\n",
        "  train['text'][i] = listToString(sen)"
      ],
      "execution_count": null,
      "outputs": []
    },
    {
      "cell_type": "code",
      "metadata": {
        "id": "uUjK_ehVWTXD"
      },
      "source": [
        "for i,sen in enumerate(test['text']):\n",
        "  test['text'][i] = listToString(sen)"
      ],
      "execution_count": null,
      "outputs": []
    },
    {
      "cell_type": "code",
      "metadata": {
        "colab": {
          "base_uri": "https://localhost:8080/",
          "height": 195
        },
        "id": "QhjbszURWVjl",
        "outputId": "5e51a3f6-205e-417b-f85f-8f41bf886d62"
      },
      "source": [
        "train.head()"
      ],
      "execution_count": null,
      "outputs": [
        {
          "output_type": "execute_result",
          "data": {
            "text/html": [
              "<div>\n",
              "<style scoped>\n",
              "    .dataframe tbody tr th:only-of-type {\n",
              "        vertical-align: middle;\n",
              "    }\n",
              "\n",
              "    .dataframe tbody tr th {\n",
              "        vertical-align: top;\n",
              "    }\n",
              "\n",
              "    .dataframe thead th {\n",
              "        text-align: right;\n",
              "    }\n",
              "</style>\n",
              "<table border=\"1\" class=\"dataframe\">\n",
              "  <thead>\n",
              "    <tr style=\"text-align: right;\">\n",
              "      <th></th>\n",
              "      <th>text</th>\n",
              "      <th>intent</th>\n",
              "      <th>text_final</th>\n",
              "    </tr>\n",
              "  </thead>\n",
              "  <tbody>\n",
              "    <tr>\n",
              "      <th>0</th>\n",
              "      <td>these tiktok radiate gay chaotic energy and lo...</td>\n",
              "      <td>Non_hope_speech</td>\n",
              "      <td>[tiktok, radiate, gay, chaotic, energy, love]</td>\n",
              "    </tr>\n",
              "    <tr>\n",
              "      <th>1</th>\n",
              "      <td>again he get kill for use false money</td>\n",
              "      <td>Non_hope_speech</td>\n",
              "      <td>[get, kill, use, false, money]</td>\n",
              "    </tr>\n",
              "    <tr>\n",
              "      <th>2</th>\n",
              "      <td>it be not that all life do not matter</td>\n",
              "      <td>Non_hope_speech</td>\n",
              "      <td>[life, matter]</td>\n",
              "    </tr>\n",
              "    <tr>\n",
              "      <th>3</th>\n",
              "      <td>be it really that difficult to understand blac...</td>\n",
              "      <td>Non_hope_speech</td>\n",
              "      <td>[really, difficult, understand, black, live, m...</td>\n",
              "    </tr>\n",
              "    <tr>\n",
              "      <th>4</th>\n",
              "      <td>whenever we say black be not that racist why d...</td>\n",
              "      <td>Non_hope_speech</td>\n",
              "      <td>[whenever, say, black, racist, say, american]</td>\n",
              "    </tr>\n",
              "  </tbody>\n",
              "</table>\n",
              "</div>"
            ],
            "text/plain": [
              "                                                text  ...                                         text_final\n",
              "0  these tiktok radiate gay chaotic energy and lo...  ...      [tiktok, radiate, gay, chaotic, energy, love]\n",
              "1              again he get kill for use false money  ...                     [get, kill, use, false, money]\n",
              "2              it be not that all life do not matter  ...                                     [life, matter]\n",
              "3  be it really that difficult to understand blac...  ...  [really, difficult, understand, black, live, m...\n",
              "4  whenever we say black be not that racist why d...  ...      [whenever, say, black, racist, say, american]\n",
              "\n",
              "[5 rows x 3 columns]"
            ]
          },
          "metadata": {
            "tags": []
          },
          "execution_count": 8
        }
      ]
    },
    {
      "cell_type": "code",
      "metadata": {
        "id": "IhlLgF2OmkkH"
      },
      "source": [
        "Test_X = test['text']\n",
        "Test_Y = test['intent']"
      ],
      "execution_count": null,
      "outputs": []
    },
    {
      "cell_type": "code",
      "metadata": {
        "id": "_-lCL3wjYnPU"
      },
      "source": [
        "Train_X, Valid_X, Train_Y, Valid_Y = model_selection.train_test_split(train['text'],train['intent'],test_size=0.3)"
      ],
      "execution_count": null,
      "outputs": []
    },
    {
      "cell_type": "code",
      "metadata": {
        "colab": {
          "base_uri": "https://localhost:8080/"
        },
        "id": "tEza0_ycbTSh",
        "outputId": "835de36e-6a23-47d7-8449-464f4a5a22d3"
      },
      "source": [
        "Train_Y = Train_Y.replace(to_replace =\"Non_hope_speech\", value =0)\n",
        "Train_Y = Train_Y.replace(to_replace =\"Hope_speech\", value =1)\n",
        "Train_Y.unique()\n",
        "\n",
        "Test_Y = Test_Y.replace(to_replace =\"Non_hope_speech\", value =0)\n",
        "Test_Y = Test_Y.replace(to_replace =\"Hope_speech\", value =1)\n",
        "Train_Y.unique()\n",
        "\n",
        "Valid_Y = Valid_Y.replace(to_replace =\"Non_hope_speech\", value =0)\n",
        "Valid_Y = Valid_Y.replace(to_replace =\"Hope_speech\", value =1)\n",
        "Valid_Y.unique()"
      ],
      "execution_count": null,
      "outputs": [
        {
          "output_type": "execute_result",
          "data": {
            "text/plain": [
              "array([0, 1])"
            ]
          },
          "metadata": {
            "tags": []
          },
          "execution_count": 11
        }
      ]
    },
    {
      "cell_type": "code",
      "metadata": {
        "id": "IFgxNKJcbDre"
      },
      "source": [
        "# Other method for doing operations done in above 1 cell\n",
        "# can use either of them\n",
        "Encoder = LabelEncoder()\n",
        "Train_Y = Encoder.fit_transform(Train_Y)\n",
        "Valid_Y = Encoder.fit_transform(Valid_Y)\n",
        "Test_Y = Encoder.fit_transform(Test_Y)"
      ],
      "execution_count": null,
      "outputs": []
    },
    {
      "cell_type": "code",
      "metadata": {
        "id": "LGV7hwUxYTaf"
      },
      "source": [
        "#Tokenization\n",
        "Tfidf_vect = TfidfVectorizer(max_features=5000)\n",
        "Tfidf_vect.fit(train['text'])\n",
        "Train_X_Tfidf = Tfidf_vect.transform(Train_X)\n",
        "Test_X_Tfidf = Tfidf_vect.transform(Test_X)\n",
        "Valid_X_Tfidf = Tfidf_vect.transform(Valid_X)"
      ],
      "execution_count": null,
      "outputs": []
    },
    {
      "cell_type": "markdown",
      "metadata": {
        "id": "AkvpeCzNpYQg"
      },
      "source": [
        "## **SMOTE**"
      ]
    },
    {
      "cell_type": "code",
      "metadata": {
        "colab": {
          "base_uri": "https://localhost:8080/"
        },
        "id": "Emj8rD0pbW8i",
        "outputId": "464d30ad-3838-4bbe-d8b0-97602647e03d"
      },
      "source": [
        "smt_list = []\n",
        "for i in range(25,101,25):\n",
        "  print(i)\n",
        "  a = SMOTE(sampling_strategy=i/100)\n",
        "  smt_list.append(a)"
      ],
      "execution_count": null,
      "outputs": [
        {
          "output_type": "stream",
          "text": [
            "25\n",
            "50\n",
            "75\n",
            "100\n"
          ],
          "name": "stdout"
        }
      ]
    },
    {
      "cell_type": "code",
      "metadata": {
        "colab": {
          "base_uri": "https://localhost:8080/"
        },
        "id": "F6pxL8JHbolQ",
        "outputId": "8b91dba4-ddd4-40d9-f028-b8a63c325109"
      },
      "source": [
        "X_smote=[]\n",
        "y_smote=[]\n",
        "for i in range(0,4):\n",
        "  a,b = smt_list[i].fit_sample(Train_X_Tfidf, Train_Y)\n",
        "  X_smote.append(a)\n",
        "  y_smote.append(b)"
      ],
      "execution_count": null,
      "outputs": [
        {
          "output_type": "stream",
          "text": [
            "/usr/local/lib/python3.7/dist-packages/sklearn/utils/deprecation.py:87: FutureWarning: Function safe_indexing is deprecated; safe_indexing is deprecated in version 0.22 and will be removed in version 0.24.\n",
            "  warnings.warn(msg, category=FutureWarning)\n"
          ],
          "name": "stderr"
        }
      ]
    },
    {
      "cell_type": "code",
      "metadata": {
        "colab": {
          "base_uri": "https://localhost:8080/"
        },
        "id": "-Fkmdv74YZrD",
        "outputId": "e0fafeed-635c-402f-f896-bfc482ca52e8"
      },
      "source": [
        "print(Tfidf_vect.vocabulary_)"
      ],
      "execution_count": null,
      "outputs": [
        {
          "output_type": "stream",
          "text": [
            "{'these': 4497, 'radiate': 3609, 'gay': 1705, 'energy': 1350, 'and': 189, 'love': 2584, 'it': 2280, 'again': 90, 'he': 1907, 'get': 1733, 'kill': 2390, 'for': 1601, 'use': 4727, 'false': 1487, 'money': 2840, 'be': 411, 'not': 3047, 'that': 4471, 'all': 135, 'life': 2513, 'do': 1211, 'matter': 2688, 'really': 3656, 'difficult': 1156, 'to': 4549, 'understand': 4678, 'black': 491, 'live': 2539, 'exclusive': 1433, 'they': 4498, 'both': 540, 'true': 4621, 'as': 289, 'general': 1715, 'statement': 4255, 'so': 4148, 'white': 4865, 'asian': 297, 'in': 2139, 'this': 4507, 'context': 871, 'simply': 4089, 'the': 4476, 'name': 2913, 'of': 3108, 'movement': 2872, 'against': 91, 'high': 1954, 'rate': 3638, 'police': 3405, 'violence': 4778, 'on': 3136, 'people': 3300, 'refer': 3678, 'those': 4512, 'who': 4868, 'behave': 435, 'like': 2520, 'treat': 4607, 'if': 2095, 'example': 1425, 'whenever': 4854, 'we': 4821, 'say': 3907, 'racist': 3606, 'why': 4878, 'just': 2363, 'americans': 171, 'boss': 538, 'donat': 1227, 'know': 2409, 'shea': 4027, 'actually': 51, 'lgbtq': 2501, 'tho': 4508, 'funny': 1680, 'at': 317, 'end': 1346, 'when': 4853, 'larry': 2434, 'what': 4847, 'argue': 263, 'about': 16, 'then': 4486, 'haha': 1849, 'but': 608, 'she': 4026, 'save': 3900, 'with': 4906, 'her': 1937, 'music': 2896, 'there': 4494, 'lot': 2577, 'my': 2902, 'army': 270, 'unit': 4694, 'network': 2968, 'engineer': 1355, 'here': 1939, 'currently': 991, 'work': 4923, 'an': 180, 'teach': 4434, 'man': 2629, 'woman': 4914, 'look': 2564, 'next': 2975, 'want': 4802, 'university': 4700, 'justice': 2364, 'native': 2930, 'government': 1782, 'literally': 2535, 'pay': 3280, 'us': 4725, 'closet': 759, 'injustice': 2187, 'way': 4819, 'world': 4928, 'millionaire': 2782, 'someone': 4171, 'few': 1542, 'dollar': 1221, 'wash': 4810, 'his': 1974, 'car': 645, 'prime': 3487, 'minister': 2795, 'madonna': 2611, 'would': 4937, 'mother': 2862, 'have': 1905, 'attitude': 338, 'tea': 4433, 'equal': 1378, 'same': 3873, 'thing': 4503, 'tech': 4439, 'industry': 2170, 'tough': 4578, 'everyone': 1414, 'most': 2860, 'push': 3574, 'hard': 1882, 'garbage': 1696, 'blm': 510, 'only': 3142, 'come': 789, 'around': 274, 'every': 1410, 'year': 4964, 'still': 4285, 'hide': 1952, 'gender': 1713, 'parent': 3241, 'date': 1031, 'friend': 1652, 'already': 149, 'very': 4760, 'supportive': 4365, 'thankful': 4468, 'find': 1559, 'them': 4483, 'without': 4908, 'never': 2971, 'peace': 3286, 'me': 2719, 'forever': 1609, 'clark': 742, 'thank': 4467, 'you': 4977, 'salute': 3871, 'brown': 581, 'make': 2621, 'seem': 3959, 'opinion': 3150, 'attack': 334, 'hold': 1988, 'lives': 2541, 'sign': 4076, 'yall': 4959, 'talk': 4418, 'lesbian': 2484, 'think': 4504, 'more': 2851, 'likely': 2521, 'will': 4884, 'out': 3189, 'trans': 4597, 'france': 1634, 'youare': 4981, 'dumb': 1267, 'itas': 2284, 'simple': 4087, 'include': 2144, 'basic': 402, 'understanding': 4679, 'english': 1358, 'language': 2431, 'should': 4061, 'how': 2042, 'read': 3649, 'comment': 794, 'go': 1759, 'your': 4984, 'agenda': 94, 'spit': 4220, 'instantly': 2206, 'evidence': 1418, 'need': 2951, 'type': 4647, 'train': 4593, 'marxist': 2666, 'boom': 531, 'randomgirlwhosings': 3625, 'feel': 1528, 'agree': 102, 'or': 3162, 'someonea': 4172, 'sexuality': 4007, 'any': 222, 'christian': 720, 'weird': 4837, 'nothing': 3049, 'aagreea': 1, 'normally': 3042, 'princess': 3489, 'set': 3997, 'standard': 4245, 'young': 4983, 'girl': 1742, 'now': 3056, 'fat': 1509, 'guy': 1846, 'happen': 1875, 'skin': 4113, 'rac': 3600, 'rock': 3821, 'voice': 4784, 'actor': 49, 'character': 688, 'fine': 1560, 'let': 2488, 'big': 469, 'hero': 1943, 'because': 422, 'slightly': 4129, 'japanese': 2301, 'sometimes': 4174, 'its': 2286, 'mr': 2875, 'incredible': 2153, 'kinda': 2396, 'shit': 4048, 'south': 4191, 'korea': 2415, 'almost': 144, 'school': 3922, 'one': 3138, 'stop': 4292, 'rule': 3846, 'small': 4137, 'modern': 2832, 'revolution': 3770, 'time': 4540, 'perform': 3312, 'eurovision': 1403, 'tel': 4447, 'wrong': 4945, 'laugh': 2442, 'beat': 417, 'bible': 467, 'iam': 2074, 'presbyterian': 3467, 'homosexualitya': 2009, 'before': 430, 'everything': 1415, 'youave': 4982, 'help': 1932, 'grow': 1828, 'up': 4712, 'kid': 2386, 'west': 4843, 'philadelphia': 3343, 'inspire': 2201, 'greatly': 1806, 'much': 2881, 'respect': 3749, 'queen': 3586, 'pop': 3419, 'turn': 4636, 'off': 3112, 'reasonable': 3658, 'right': 3790, 'sis': 4104, 'consider': 857, 'hell': 1929, 'also': 151, 'whole': 4872, 'joke': 2339, 'lol': 2556, 'democrats': 1096, 'sucker': 4340, 'follow': 1594, 'down': 1242, 'path': 3266, 'socialism': 4153, 'crush': 975, 'political': 3411, 'move': 2871, 'by': 618, 'democratic': 1094, 'socialist': 4154, 'party': 3256, 'media': 2730, 'tell': 4448, 'show': 4066, 'dem': 1090, 'except': 1428, 'fox': 1630, 'news': 2974, 'good': 1773, 'job': 2329, 'sunshine': 4356, 'littlephilly': 2537, 'canat': 635, 'even': 1405, 'imagine': 2116, 'thought': 4514, 'process': 3510, 'shape': 4020, 'own': 3207, 'especially': 1389, 'topic': 4569, 'fact': 1471, 'hurt': 2063, 'homosexual': 2007, 'whether': 4858, 'believe': 441, 'harm': 1886, 'publicly': 3558, 'state': 4254, 'person': 3325, 'their': 4480, 'evil': 1419, 'unless': 4703, 'participant': 3250, 'alot': 148, 'day': 1038, 'depend': 1111, 'less': 2485, 'hit': 1981, 'dog': 1218, 'short': 4057, 'no': 3025, 'im': 2112, 'upset': 4720, 'ive': 2289, 'see': 3956, 'nobody': 3029, 'family': 1490, 'career': 648, 'yourself': 4987, 'can': 631, 'well': 4841, 'position': 3429, 'from': 1654, 'poor': 3418, 'video': 4772, 'game': 1689, 'developer': 1144, 'fucking': 1666, 'watch': 4816, 'recent': 3665, 'ago': 100, 'where': 4855, 'sheriff': 4039, 'medium': 2732, 'crooked': 968, 'politician': 3413, 'whip': 4863, 'rid': 3783, 'officer': 3119, 'keep': 2377, 'knee': 2405, 'neck': 2949, 'minute': 2800, 'second': 3948, 'bernie': 456, 'hood': 2019, 'him': 1964, 'walk': 4797, 'street': 4304, 'disagree': 1164, 'homosexuality': 2008, 'insecure': 2193, 'abt': 21, 'liberal': 2505, 'lmao': 2543, 'alison': 132, 'ha': 1848, 'another': 214, 'mom': 2838, 'harass': 1880, 'haircut': 1855, 'seriously': 3991, 'doesnat': 1216, 'least': 2461, 'could': 919, 'back': 370, 'sound': 4189, 'kind': 2395, 'act': 43, 'daily': 1004, 'beg': 431, 'put': 3576, 'straight': 4296, 'abuse': 22, 'sheas': 4030, 'clearly': 749, 'herself': 1946, 'masculine': 2669, 'manner': 2640, 'didnat': 1150, 'rebekah': 3660, 'therefore': 4496, 'suck': 4339, 'chloe': 713, 'faye': 1520, 'mean': 2720, 'hear': 1915, 'story': 4295, 'certainly': 679, 'herd': 1938, 'mentality': 2748, 'sasha': 3890, 'dumse': 1272, 'god': 1762, 'accept': 27, 'ask': 300, 'hea': 1908, 'base': 399, 'wasnat': 4812, 'human': 2054, 'dy': 1279, 'american': 170, 'stage': 4239, 'race': 3601, 'war': 4803, 'hilarious': 1960, 'though': 4513, 'dps': 1244, 'interviewer': 2237, 'hot': 2035, 'glad': 1749, 'toy': 4586, 'extend': 1455, 'science': 3925, 'fit': 1570, 'arenat': 262, 'color': 780, 'proud': 3544, 'ready': 3651, 'meaning': 2722, 'anything': 226, 'exactly': 1423, 'uhh': 4659, 'pure': 3566, 'yes': 4969, 'walker': 4798, 'rly': 3810, 'sorry': 4186, 'santiago': 3886, 'mouth': 2870, 'crazy': 945, 'matternbut': 2693, 'matternthat': 2694, 'nunderstande': 3077, 'therapy': 4493, 'must': 2901, 'truth': 4626, 'house': 2038, 'market': 2652, 'beyond': 463, 'border': 534, 'globally': 1755, 'legend': 2474, 'once': 3137, 'shake': 4012, 'beautiful': 418, 'amazing': 162, 'couldnat': 920, 'boy': 549, 'cat': 657, 'bee': 427, 'tree': 4609, 'idea': 2081, 'side': 4073, 'status': 4263, 'quo': 3595, 'return': 3763, 'mention': 2750, 'fall': 1485, 'hand': 1866, 'protester': 3542, 'protect': 3539, 'business': 605, 'protest': 3541, 'care': 647, 'cop': 898, 'involve': 2252, 'blind': 507, 'eye': 1462, 'responsible': 3756, 'facts': 1473, 'common': 799, 'interest': 2224, 'country': 928, 'shut': 4069, 'kim': 2393, 'china': 710, 'try': 4628, 'pass': 3257, 'national': 2925, 'anthem': 216, 'bill': 474, 'which': 4859, 'fun': 1672, 'chinese': 711, 'freedom': 1644, 'while': 4860, 'everybody': 1411, 'boo': 526, 'support': 4363, 'ainat': 115, 'personally': 3328, 'mexico': 2763, 'buy': 615, 'some': 4167, 'everyday': 1413, 'intelligent': 2218, 'too': 4564, 'appreciate': 248, 'enough': 1362, 'little': 2536, 'wake': 4796, 'majority': 2620, 'racists': 3608, 'are': 260, 'empower': 1341, 'racial': 3602, 'leave': 2462, 'tag': 4411, 'such': 4338, 'many': 2643, 'outlet': 3192, 'paint': 3218, 'fuss': 1684, 'add': 54, 'slogan': 4131, 'intent': 2221, 'scrap': 3931, 'metal': 2757, 'real': 3652, 'racism': 3605, 'fight': 1546, 'equality': 1379, 'juan': 2349, 'williams': 4887, 'into': 2239, 'space': 4194, 'peaceful': 3287, 'david': 1035, 'clarke': 743, 'wat': 4815, 'absolute': 18, 'milwaukee': 2783, 'ya': 4955, 'fair': 1478, 'hannity': 1874, 'take': 4414, 'than': 4466, 'clown': 761, 'speak': 4199, 'period': 3316, 'stick': 4284, 'european': 1401, 'worry': 4931, 'dislike': 1183, 'last': 2435, 'check': 695, 'caucasians': 663, 'europe': 1400, 'bring': 570, 'africa': 84, 'ugh': 4656, 'hate': 1901, 'cause': 664, 'ai': 109, 'mind': 2786, 'physics': 3353, 'himmelright': 1965, 'remind': 3717, 'movie': 2873, 'death': 1048, 'become': 424, 'condemn': 828, 'judge': 2350, 'john': 2333, 'blame': 497, 'themselves': 4485, 'selfish': 3969, 'bad': 375, 'behaviour': 437, 'trump': 4624, 'sense': 3979, 'reason': 3657, 'leftist': 2467, 'possess': 3432, 'illogical': 2110, 'awkward': 363, 'may': 2703, 'community': 804, 'suffer': 4344, 'mostly': 2861, 'crime': 956, 'yet': 4972, 'riot': 3794, 'dress': 1254, 'clothe': 760, 'ok': 3127, 'book': 529, 'several': 4000, 'bell': 444, 'tall': 4421, 'choice': 714, 'fan': 1494, 'disappointed': 1166, 'response': 3754, 'swear': 4389, 'fuck': 1661, 'tired': 4546, 'weak': 4822, 'old': 3129, 'raise': 3619, 'sheeple': 4033, 'perhaps': 3315, 'star': 4247, 'inspirational': 2200, 'burgundy': 599, 'rude': 3844, 'group': 1826, 'reinforce': 3695, 'deserve': 1126, 'wonderful': 4920, 'shameful': 4018, 'oh': 3124, 'wait': 4795, 'outside': 3194, 'inside': 2195, 'bend': 451, 'over': 3197, 'reasoning': 3659, 'aall': 2, 'mattera': 2689, 'whatas': 4849, 'surround': 4379, 'yell': 4966, 'annie': 207, 'probably': 3506, 'nni': 3010, 'sec': 3947, 'mess': 2755, 'always': 155, 'cry': 976, 'culture': 984, 'horrid': 2027, 'christianity': 721, 'choose': 717, 'thatas': 4473, 'full': 1670, 'circle': 726, 'sjw': 4110, 'president': 3471, 'waste': 4814, 'min': 2784, 'discuss': 1174, 'distraction': 1199, 'reality': 3654, 'anti': 218, 'place': 3373, 'america': 168, 'anyone': 225, 'past': 3261, 'heall': 1911, 'whoop': 4874, 'break': 561, 'destroy': 1136, 'statue': 4262, 'throw': 4525, 'river': 3805, 'pull': 3560, 're': 3645, 'write': 4943, 'mindless': 2788, 'fool': 1597, 'different': 1154, 'slavery': 4123, 'bristol': 571, 'present': 3469, 'moronic': 2856, 'individual': 2166, 'vote': 4786, 'face': 1467, 'homophobe': 2004, 'hatred': 1904, 'justify': 2365, 'worship': 4932, 'interpret': 2231, 'gross': 1824, 'capitalism': 643, 'create': 946, 'product': 3511, 'solve': 4166, 'problem': 3507, 'label': 2420, 'consumer': 866, 'totally': 4576, 'colour': 783, 'ever': 1409, 'meet': 2734, 'womb': 4916, 'panel': 3230, 'together': 4551, 'donald': 1226, 'completely': 814, 'age': 92, 'experience': 1444, 'else': 1326, 'senator': 3976, 'sanders': 3882, 'suspend': 4384, 'pretty': 3477, 'appropriate': 250, 'question': 3588, 'motive': 2866, 'dangerous': 1015, 'sincere': 4092, 'ignorance': 2097, 'martin': 2661, 'luther': 2596, 'king': 2398, 'jr': 2347, 'jason': 2303, 'scream': 3932, 'junior': 2361, 'poeple': 3397, 'die': 1152, 'change': 684, 'pray': 3451, 'nice': 2989, 'longer': 2562, 'power': 3442, 'display': 1190, 'encourage': 1345, 'our': 3186, 'worth': 4934, 'nlet': 3000, 'continue': 873, 'survivor': 4381, 'nto': 3072, 'effort': 1304, 'recieve': 3667, 'trauma': 4604, 'lead': 2456, 'mental': 2747, 'illness': 2109, 'suicide': 4350, 'slave': 4121, 'reading': 3650, 'ruler': 3847, 'rampant': 3621, 'hope': 2022, 'satan': 3892, 'earth': 1286, 'yea': 4962, 'bbc': 408, 'censored': 674, 'democracy': 1092, 'cheese': 697, 'conclusion': 827, 'order': 3163, 'maybe': 2705, 'local': 2548, 'hufflepuff': 2048, 'thinking': 4505, 'sexual': 4005, 'orientation': 3172, 'wear': 4828, 'max': 2701, 'stand': 4244, 'mayor': 2707, 'awesome': 360, 'perfect': 3310, 'answer': 215, 'sir': 4102, 'service': 3995, 'mad': 2606, 'trader': 4589, 'kay': 2376, 'paul': 3274, 'alm': 141, 'mildly': 2775, 'annoying': 211, 'colored': 781, 'theyare': 4499, 'specie': 4203, 'either': 1311, 'bleed': 504, 'catherine': 659, 'great': 1805, 'ii': 2101, 'through': 4523, 'crown': 971, 'above': 17, 'bruh': 582, 'lgbt': 2500, 'chill': 709, 'anywhere': 230, 'threat': 4518, 'athat': 318, 'meana': 2721, 'aw': 352, 'kiddo': 2387, 'politic': 3410, 'brexit': 566, 'debate': 1049, 'sophisticated': 4182, 'keith': 2380, 'leftists': 2468, 'remove': 3722, 'history': 1980, 'replace': 3728, 'drive': 1256, 'th': 4465, 'grader': 1789, 'first': 1566, 'holocaust': 1995, 'give': 1747, 'hour': 2037, 'thief': 4501, 'night': 2993, 'quote': 3597, 'scripture': 3936, 'predict': 3458, 'skinny': 4114, 'awhite': 362, 'yaall': 4956, 'home': 1997, 'arreola': 275, 'repeat': 3726, 'dave': 1034, 'fame': 1489, 'luck': 2591, 'journey': 2346, 'admit': 64, 'george': 1728, 'strength': 4305, 'physical': 3351, 'appear': 242, 'judgement': 2351, 'alone': 145, 'sufficient': 4346, 'debbie': 1050, 'inspiration': 2199, 'censor': 673, 'hint': 1969, 'ppl': 3445, 'middle': 2771, 'east': 1288, 'channel': 685, 'bout': 546, 'idc': 2080, 'purple': 3570, 'dude': 1264, 'banana': 389, 'slima': 4130, 'head': 1909, 'important': 2131, 'realise': 3653, 'insult': 2213, 'saying': 3909, 'male': 2627, 'honest': 2010, 'grip': 1823, 'brainless': 554, 'twist': 4644, 'af': 76, 'realize': 3655, 'public': 3556, 'matthew': 2697, 'jesus': 2320, 'deaf': 1044, 'owen': 3205, 'mcdonial': 2712, 'shame': 4017, 'react': 3647, 'other': 3181, 'wise': 4902, 'ur': 4722, 'lie': 2511, 'forgive': 1611, 'nespecially': 2965, 'play': 3384, 'seek': 3957, 'ours': 3187, 'found': 1626, 'bs': 586, 'bubble': 588, 'bc': 410, 'brutality': 584, 'profiling': 3517, 'secret': 3950, 'neither': 2961, 'confirm': 836, 'deny': 1109, 'eternal': 1393, 'long': 2561, 'heart': 1917, 'cross': 969, 'finger': 1561, 'tomorrow': 4559, 'bit': 488, 'cough': 918, 'spend': 4213, 'half': 1859, 'figure': 1549, 'conversion': 887, 'therapist': 4492, 'title': 4547, 'share': 4021, 'nation': 2924, 'remain': 3714, 'vs': 4788, 'gaydar': 1706, 'soon': 4180, 'screen': 3933, 'thats': 4474, 'word': 4921, 'rabble': 3599, 'wish': 4903, 'single': 4098, 'husband': 2065, 'wife': 4881, 'child': 706, 'aids': 112, 'taylor': 4430, 'reply': 3729, 'african': 85, 'scholarship': 3921, 'plan': 3376, 'genocide': 1724, 'divide': 1203, 'household': 2039, 'income': 2147, 'slowly': 4133, 'idiocracy': 2087, 'shoulder': 4062, 'point': 3398, 'level': 2495, 'case': 653, 'top': 4568, 'benjamin': 453, 'abortion': 15, 'wall': 4799, 'focus': 1591, 'listen': 2533, 'smart': 4138, 'machine': 2604, 'cook': 894, 'food': 1596, 'defend': 1073, 'personality': 3327, 'something': 4173, 'weare': 4829, 'german': 1729, 'singer': 4097, 'song': 4178, 'youtube': 4989, 'amadeu': 157, 'unfortunately': 4686, 'anymore': 224, 'please': 3387, 'under': 4675, 'law': 2448, 'moses': 2858, 'jessica': 2318, 'shallow': 4015, 'wan': 4801, 'na': 2907, 'offend': 3114, 'okay': 3128, 'sam': 3872, 'garcia': 1697, 'uber': 4654, 'keira': 2379, 'canada': 632, 'ritchie': 3801, 'drama': 1250, 'hair': 1854, 'mia': 2764, 'being': 439, 'wow': 4940, 'wonder': 4919, 'ban': 388, 'haired': 1856, 'future': 1685, 'rest': 3757, 'mercy': 2752, 'england': 1357, 'aid': 111, 'oil': 3126, 'stay': 4265, 'respond': 3753, 'imply': 2129, 'lifea': 2514, 'ps': 3548, 'final': 1555, 'run': 3849, 'away': 358, 'bottle': 544, 'embarrassing': 1331, 'damage': 1007, 'violent': 4779, 'aggressive': 98, 'towards': 4582, 'nd': 2943, 'wave': 4818, 'coronavirus': 908, 'till': 4539, 'qwerty': 3598, 'main': 2614, 'stream': 4303, 'antifa': 219, 'salary': 3868, 'tran': 4596, 'bisexual': 487, 'yeah': 4963, 'shall': 4014, 'lay': 2451, 'mistranslate': 2818, 'pedophilia': 3292, 'religion': 3709, 'bennett': 454, 'democrat': 1093, 'lose': 2573, 'slander': 4117, 'tool': 4566, 'loser': 2574, 'expose': 1451, 'inspiring': 2202, 'nowadays': 3057, 'doubt': 1241, 'sure': 4372, 'generation': 1719, 'iall': 2073, 'finish': 1562, 'study': 4319, 'environmental': 1374, 'engineering': 1356, 'research': 3743, 'source': 4190, 'invalid': 2245, 'daughter': 1033, 'uniform': 4690, 'square': 4233, 'sheep': 4032, 'bi': 464, 'pan': 3226, 'church': 724, 'omg': 3134, 'council': 921, 'fail': 1476, 'amsterdam': 177, 'berg': 455, 'hitler': 1982, 'session': 3996, 'musician': 2897, 'regularly': 3691, 'surgery': 4375, 'tape': 4425, 'etc': 1392, 'botox': 543, 'visit': 4783, 'recording': 3674, 'badly': 380, 'translate': 4600, 'supremacy': 4370, 'famous': 1492, 'female': 1531, 'artist': 287, 'selling': 3971, 'sweet': 4395, 'genuine': 1726, 'bitter': 490, 'sigh': 4074, 'chant': 686, 'blue': 515, 'strongly': 4313, 'number': 3076, 'humanity': 2055, 'godas': 1763, 'image': 2113, 'kennedy': 2382, 'mensah': 2746, 'self': 3968, 'activist': 48, 'nobel': 3027, 'prize': 3503, 'nbut': 2942, 'dnc': 1210, 'line': 2528, 'masse': 2675, 'sinner': 4101, 'exploit': 1450, 'nyoutube': 3090, 'nntrump': 3022, 'sin': 4090, 'million': 2781, 'defeat': 1072, 'recently': 3666, 'revolutionary': 3771, 'christ': 719, 'sodomite': 4157, 'brave': 558, 'fortunate': 1621, 'parsons': 3247, 'didnt': 1151, 'got': 1780, 'lucky': 2592, 'ality': 133, 'nut': 3080, 'planet': 3378, 'clueless': 763, 'dream': 1253, 'couple': 930, 'until': 4709, 'college': 776, 'suggestion': 4349, 'ridiculous': 3787, 'open': 3147, 'free': 1643, 'discussion': 1175, 'perfectly': 3311, 'fear': 1524, 'terror': 4455, 'floyd': 1585, 'insecurity': 2194, 'legit': 2475, 'complain': 810, 'deal': 1045, 'stuff': 4320, 'worenwu': 4922, 'ancient': 188, 'soul': 4188, 'lord': 2571, 'specific': 4205, 'arise': 266, 'multiple': 2889, 'incident': 2142, 'otherwise': 3182, 'exist': 1438, 'unjustly': 4702, 'obviously': 3101, 'allow': 139, 'able': 10, 'oppose': 3152, 'sadly': 3862, 'uk': 4660, 'anarchy': 186, 'doma': 1222, 'pointless': 3400, 'feminist': 1534, 'aggression': 97, 'content': 869, 'population': 3422, 'yo': 4974, 'confusion': 843, 'hong': 2014, 'kong': 2414, 'corporate': 909, 'kitty': 2402, 'recognize': 3670, 'relate': 3698, 'vision': 4782, 'honey': 2013, 'cute': 996, 'butch': 609, 'maroon': 2655, 'body': 519, 'complexion': 816, 'dear': 1047, 'catch': 658, 'handle': 1869, 'incorrectly': 2151, 'correct': 911, 'criminal': 957, 'chaos': 687, 'ourselves': 3188, 'baby': 367, 'post': 3435, 'send': 3977, 'message': 2756, 'nope': 3038, 'heavy': 1925, 'handed': 1867, 'city': 731, 'building': 593, 'hospital': 2032, 'tear': 4438, 'jasper': 2304, 'nova': 3053, 'dat': 1029, 'macky': 2605, 'kratt': 2417, 'mario': 2650, 'da': 999, 'pic': 3354, 'early': 1284, 'whatever': 4850, 'hundred': 2059, 'thousand': 4516, 'whose': 4876, 'thru': 4526, 'issue': 2277, 'suppose': 4366, 'secretary': 3951, 'stupid': 4323, 'demonstrate': 1102, 'disgraceful': 1178, 'govt': 1784, 'yep': 4968, 'major': 2619, 'connection': 849, 'worthy': 4936, 'soros': 4185, 'behind': 438, 'scumbag': 3939, 'lifestyle': 2516, 'minority': 2798, 'demand': 1091, 'extra': 1457, 'hispanic': 1975, 'superstar': 4361, 'accepting': 30, 'ignorant': 2098, 'plantation': 3381, 'excellent': 1427, 'term': 4452, 'pandering': 3229, 'steve': 4279, 'brain': 553, 'called': 625, 'tail': 4413, 'genesis': 1721, 'bridge': 567, 'build': 592, 'arch': 257, 'stealing': 4267, 'looting': 2569, 'po': 3394, 'incorrect': 2150, 'sherrif': 4040, 'devil': 1145, 'savior': 3904, 'demonic': 1100, 'bag': 381, 'matters': 2695, 'rn': 3811, 'innocent': 2191, 'spanish': 4195, 'per': 3305, 'patriot': 3271, 'rob': 3813, 'scientific': 3926, 'proof': 3528, 'universe': 4699, 'natural': 2932, 'chemical': 698, 'reaction': 3648, 'isnat': 2271, 'united': 4696, 'states': 4256, 'total': 4575, 'idiot': 2088, 'happy': 1879, 'trigger': 4616, 'logic': 2552, 'rational': 3641, 'argument': 265, 'hi': 1950, 'ryan': 3853, 'storey': 4294, 'cyndi': 998, 'highly': 1956, 'odd': 3107, 'interview': 2236, 'conversation': 885, 'accomplish': 31, 'room': 3832, 'project': 3523, 'creative': 948, 'passionate': 3260, 'definitely': 1078, 'luv': 2597, 'nelson': 2962, 'mandela': 2633, 'london': 2559, 'terrorist': 4457, 'murderer': 2892, 'along': 146, 'griffin': 1820, 'instead': 2207, 'unite': 4695, 'guess': 1835, 'part': 3248, 'warm': 4805, 'lee': 2465, 'publish': 3559, 'bunch': 597, 'labour': 2422, 'pathetic': 3267, 'piece': 3358, 'sub': 4326, 'sum': 4352, 'donation': 1229, 'religious': 3710, 'denial': 1107, 'obama': 3091, 'priti': 3498, 'patel': 3265, 'forget': 1610, 'heritage': 1940, 'central': 676, 'after': 88, 'raphael': 3631, 'bet': 459, 'hater': 1903, 'nail': 2910, 'demorat': 1104, 'voter': 4787, 'absolutely': 19, 'apple': 245, 'lift': 2518, 'hey': 1949, 'tune': 4633, 'quick': 3589, 'later': 2438, 'dislikes': 1184, 'during': 1275, 'teenage': 4445, 'boot': 533, 'pride': 3485, 'jimmy': 2325, 'yours': 4986, 'concept': 822, 'relevant': 3706, 'june': 2360, 'sht': 4067, 'usually': 4734, 'yellow': 4967, 'explain': 1447, 'gift': 1741, 'rather': 3639, 'sherriff': 4041, 'michael': 2766, 'johnson': 2335, 'start': 4251, 'sentence': 3981, 'interesting': 2226, 'jewish': 2322, 'testament': 4459, 'exodus': 1440, 'ashamed': 293, 'ridicule': 3786, 'trash': 4603, 'ablack': 9, 'purposefully': 3572, 'miss': 2813, 'core': 903, 'awareness': 357, 'hopefully': 2023, 'subject': 4329, 'acceptance': 29, 'anger': 199, 'easy': 1290, 'online': 3141, 'coward': 939, 'ugghh': 4655, 'nah': 2909, 'jean': 2309, 'honestly': 2011, 'ngl': 2977, 'utter': 4736, 'bullshit': 595, 'admire': 63, 'peter': 3334, 'logical': 2553, 'course': 933, 'discriminate': 1171, 'chicken': 704, 'wolf': 4913, 'privelege': 3500, 'lovely': 2586, 'smash': 4139, 'haskin': 1896, 'mask': 2670, 'hinder': 1967, 'system': 4402, 'mine': 2790, 'entity': 1372, 'delete': 1085, 'prove': 3545, 'scare': 3914, 'sheall': 4029, 'learn': 2459, 'adorable': 68, 'bean': 414, 'mature': 2698, 'minded': 2787, 'disrespect': 1194, 'lynch': 2599, 'properly': 3532, 'museum': 2895, 'obey': 3092, 'thug': 4528, 'madness': 2610, 'illegal': 2106, 'super': 4357, 'wicked': 4879, 'non': 3033, 'christians': 722, 'edward': 1299, 'enslave': 1363, 'charge': 689, 'elizabeth': 1322, 'emanuel': 1330, 'ita': 2281, 'nibiru': 2987, 'surprised': 4377, 'sander': 3881, 'obvious': 3100, 'umm': 4666, 'brother': 580, 'today': 4550, 'honour': 2017, 'commit': 798, 'dont': 1232, 'thread': 4517, 'carefully': 650, 'key': 2384, 'climate': 752, 'document': 1213, 'natsuki': 2931, 'masamune': 2668, 'guilty': 1840, 'bark': 398, 'loud': 2580, 'pea': 3285, 'troll': 4617, 'nthis': 3071, 'horrible': 2026, 'iave': 2075, 'strong': 4312, 'tryna': 4630, 'witness': 4909, 'circumstance': 727, 'prevent': 3480, 'entirely': 1368, 'nnbut': 3009, 'bike': 473, 'ace': 37, 'generalize': 1717, 'certain': 678, 'queer': 3587, 'noo': 3036, 'emotional': 1335, 'fire': 1563, 'guarantee': 1832, 'close': 755, 'often': 3122, 'light': 2519, 'crystal': 977, 'facial': 1469, 'composure': 817, 'facebook': 1468, 'fist': 1569, 'icon': 2077, 'aka': 120, 'master': 2678, 'since': 4091, 'stamp': 4241, 'welfare': 4840, 'whitey': 4867, 'conquered': 852, 'anyways': 229, 'homophobia': 2005, 'ugly': 4657, 'oppress': 3155, 'palestinians': 3225, 'global': 1753, 'pandemic': 3227, 'each': 1280, 'sake': 3867, 'cast': 655, 'lake': 2427, 'respectful': 3751, 'horror': 2029, 'call': 624, 'moron': 2855, 'windsor': 4895, 'xoxo': 4952, 'whata': 4848, 'precious': 3455, 'gosh': 1778, 'homophobic': 2006, 'section': 3953, 'link': 2529, 'ta': 4406, 'mark': 2651, 'defense': 1074, 'action': 45, 'serve': 3994, 'air': 116, 'breathe': 563, 'jackson': 2293, 'filthy': 1554, 'rich': 3779, 'celebrity': 670, 'shot': 4059, 'tj': 4548, 'bros': 579, 'wtf': 4947, 'childhood': 707, 'living': 2542, 'pitner': 3370, 'girlfriend': 1744, 'kiss': 2400, 'lmfao': 2545, 'phase': 3340, 'behalf': 434, 'decent': 1057, 'asteroid': 314, 'wipe': 4898, 'board': 516, 'mm': 2827, 'leviticus': 2497, 'lady': 2426, 'degenerate': 1083, 'drug': 1260, 'addict': 55, 'remote': 3719, 'control': 880, 'draw': 1251, 'doll': 1220, 'sane': 3885, 'disrespectful': 1195, 'victim': 4766, 'therea': 4495, 'fraziera': 1640, 'largely': 2433, 'butt': 610, 'somebody': 4168, 'similar': 4085, 'pose': 3428, 'father': 1511, 'kneel': 2406, 'shout': 4064, 'cant': 640, 'birth': 484, 'aswell': 316, 'supremacist': 4369, 'pol': 3402, 'price': 3482, 'award': 355, 'mix': 2822, 'fabric': 1465, 'heaven': 1923, 'doctor': 1212, 'far': 1497, 'amen': 166, 'neutral': 2969, 'tf': 4464, 'sit': 4106, 'privileged': 3502, 'ass': 305, 'shoot': 4054, 'mexican': 2761, 'segregation': 3963, 'whom': 4873, 'nwe': 3082, 'corona': 907, 'century': 677, 'conservative': 856, 'dragon': 1249, 'bro': 576, 'student': 4318, 'atheist': 321, 'bully': 596, 'curse': 992, 'angel': 198, 'brainwash': 555, 'anne': 206, 'fcke': 1523, 'toward': 4581, 'ukraine': 4661, 'burn': 600, 'sutherland': 4387, 'ofcourse': 3111, 'celebrate': 668, 'invite': 2251, 'token': 4554, 'le': 2455, 'saint': 3866, 'week': 4835, 'fast': 1507, 'increase': 2152, 'western': 4844, 'boris': 537, 'due': 1265, 'romans': 3828, 'wire': 4899, 'dead': 1042, 'lockdown': 2550, 'nevermind': 2972, 'bear': 415, 'advocate': 74, 'possible': 3433, 'despicable': 1132, 'yup': 4993, 'liberalism': 2506, 'difference': 1153, 'morgan': 2852, 'marie': 2648, 'nnblack': 3008, 'counter': 924, 'plenty': 3389, 'johnsona': 2336, 'comeback': 790, 'education': 1298, 'moment': 2839, 'degree': 1084, 'gladly': 1750, 'robot': 3818, 'detail': 1139, 'truck': 4620, 'vehicle': 4755, 'thumbnail': 4531, 'safely': 3864, 'confused': 841, 'ppls': 3446, 'supporter': 4364, 'situation': 4108, 'glorify': 1757, 'eastern': 1289, 'mugabe': 2882, 'phrasing': 3350, 'load': 2546, 'between': 461, 'importance': 2130, 'dumbe': 1269, 'ayy': 365, 'cuffed': 981, 'delusional': 1089, 'weall': 4824, 'tosh': 4573, 'obscure': 3095, 'badge': 379, 'liberty': 2507, 'bottom': 545, 'bus': 603, 'authority': 346, 'relation': 3700, 'nearly': 2946, 'attention': 337, 'valuable': 4743, 'eff': 1301, 'clue': 762, 'touch': 4577, 'oppression': 3157, 'inequality': 2171, 'stark': 4249, 'mathematical': 2686, 'equation': 1381, 'plus': 3392, 'ah': 106, 'smell': 4140, 'mile': 2776, 'soak': 4149, 'rainbow': 3618, 'fix': 1571, 'amy': 179, 'sob': 4150, 'nyes': 3088, 'roll': 3826, 'meter': 2759, 'reach': 3646, 'iad': 2072, 'however': 2045, 'donate': 1228, 'huge': 2051, 'near': 2945, 'protestor': 3543, 'lovea': 2585, 'palestinian': 3224, 'cut': 995, 'spread': 4231, 'insulting': 2214, 'extremely': 1460, 'lock': 2549, 'abusive': 23, 'torture': 4572, 'decade': 1053, 'assume': 312, 'address': 56, 'concern': 823, 'various': 4750, 'within': 4907, 'mrcosmin': 2877, 'assumption': 313, 'knowledge': 2411, 'whatsoever': 4851, 'historical': 1978, 'record': 3673, 'aside': 299, 'credibility': 951, 'original': 3174, 'historic': 1977, 'claim': 738, 'cuff': 980, 'um': 4665, 'complete': 813, 'presidency': 3470, 'chief': 705, 'anyway': 228, 'constantly': 861, 'forward': 1624, 'lack': 2424, 'confidence': 834, 'instagram': 2204, 'normal': 3041, 'scene': 3918, 'cultural': 983, 'pro': 3504, 'script': 3935, 'glaad': 1748, 'propaganda': 3530, 'unnecessary': 4705, 'sarcastic': 3888, 'rellie': 3712, 'harsh': 1892, 'perception': 3309, 'feminism': 1533, 'darzo': 1028, 'xx': 4953, 'afraid': 83, 'loot': 2567, 'march': 2645, 'root': 3834, 'extreme': 1459, 'organization': 3167, 'actively': 47, 'manipulate': 2636, 'holmes': 1994, 'cost': 917, 'id': 2079, 'republican': 3737, 'travel': 4605, 'decision': 1060, 'feed': 1527, 'decide': 1059, 'cher': 700, 'transgend': 4598, 'special': 4201, 'aim': 114, 'favorite': 1517, 'win': 4890, 'platform': 3383, 'military': 2778, 'mountain': 2867, 'demon': 1099, 'britain': 573, 'malcolm': 2626, 'legacy': 2471, 'wealthy': 4826, 'nonsense': 3035, 'moan': 2828, 'jews': 2323, 'somewhere': 4176, 'suggest': 4348, 'style': 4325, 'satisfy': 3895, 'shiroyuki': 4046, 'analogy': 181, 'btw': 587, 'usa': 4726, 'korean': 2416, 'water': 4817, 'apology': 238, 'smoke': 4144, 'mirror': 2802, 'bless': 505, 'massacre': 2674, 'sell': 3970, 'whore': 4875, 'slaver': 4122, 'ahh': 108, 'fuel': 1668, 'fault': 1513, 'prison': 3495, 'breath': 562, 'jane': 2299, 'gerrard': 1732, 'evolve': 1420, 'weakness': 4823, 'plain': 3375, 'hardly': 1885, 'recognise': 3668, 'purpose': 3571, 'gas': 1700, 'month': 2842, 'irish': 2260, 'box': 548, 'institution': 2210, 'enemy': 1349, 'wlm': 4910, 'drag': 1248, 'training': 4594, 'don': 1225, 'lemon': 2482, 'silence': 4080, 'aged': 93, 'himself': 1966, 'anonymous': 212, 'behavior': 436, 'overuse': 3203, 'al': 122, 'sharpton': 4023, 'lonely': 2560, 'crap': 943, 'company': 805, 'hire': 1973, 'sad': 3859, 'backwards': 373, 'intelligence': 2217, 'steven': 4280, 'ethnicity': 1397, 'idol': 2092, 'fate': 1510, 'murder': 2891, 'accuse': 36, 'schuile': 3923, 'struggle': 4315, 'discrimination': 1172, 'excuse': 1434, 'property': 3533, 'hug': 2050, 'lotta': 2579, 'stud': 4317, 'unarmed': 4670, 'version': 4758, 'abort': 13, 'sky': 4115, 'blk': 509, 'chicago': 702, 'drop': 1259, 'program': 3520, 'davis': 1036, 'danielle': 1017, 'hateful': 1902, 'disgust': 1180, 'contradict': 875, 'immature': 2119, 'handsome': 1872, 'better': 460, 'presence': 3468, 'mistreat': 2819, 'beer': 429, 'weed': 4834, 'plant': 3380, 'ohh': 3125, 'construction': 864, 'wired': 4900, 'andrea': 192, 'raimey': 3616, 'mama': 2628, 'repent': 3727, 'search': 3943, 'easily': 1287, 'equally': 1380, 'pink': 3365, 'ilhan': 2104, 'omar': 3132, 'muslims': 2899, 'islam': 2268, 'mosque': 2859, 'represent': 3732, 'persecution': 3324, 'seeker': 3958, 'minor': 2797, 'gods': 1764, 'nnthe': 3020, 'nnit': 3012, 'progress': 3521, 'report': 3730, 'math': 2684, 'unsure': 4708, 'impressed': 2135, 'dark': 1025, 'reporter': 3731, 'tds': 4432, 'pill': 3361, 'thumb': 4530, 'truly': 4623, 'greg': 1814, 'karl': 2373, 'marx': 2664, 'doesnt': 1217, 'toronto': 4571, 'lunatic': 2593, 'civil': 732, 'refuse': 3685, 'request': 3740, 'poison': 3401, 'josh': 2343, 'remember': 3716, 'greta': 1816, 'demonstration': 1103, 'favor': 1516, 'society': 4156, 'cc': 665, 'turtle': 4638, 'immediately': 2120, 'sea': 3941, 'creature': 950, 'danger': 1014, 'mis': 2803, 'latinos': 2441, 'organisation': 3166, 'epic': 1375, 'afro': 87, 'lem': 2481, 'vulnerable': 4790, 'aa': 0, 'aerospace': 75, 'graduate': 1790, 'department': 1110, 'impression': 2136, 'limit': 2525, 'micro': 2768, 'describe': 1125, 'desire': 1129, 'factual': 1474, 'nature': 2934, 'thronin': 4522, 'grammar': 1792, 'skill': 4112, 'jerde': 2315, 'indian': 2159, 'dictionary': 1149, 'egyptians': 1309, 'babe': 366, 'lawlessness': 2449, 'yrs': 4991, 'election': 1314, 'low': 2589, 'apologise': 236, 'stereotyping': 4276, 'invent': 2248, 'lazy': 2452, 'field': 1545, 'across': 42, 'folk': 1593, 'door': 1234, 'jamie': 2297, 'musso': 2900, 'shoud': 4060, 'continent': 872, 'determination': 1141, 'nathanael': 2923, 'wade': 4791, 'wikipedia': 4882, 'hill': 1962, 'independent': 2157, 'celebs': 671, 'rise': 3799, 'sweetie': 4398, 'basement': 400, 'australia': 344, 'hillary': 1963, 'hang': 1873, 'ray': 3643, 'harvey': 1894, 'blank': 499, 'rights': 3792, 'mob': 2829, 'french': 1648, 'henry': 1936, 'feeling': 1529, 'target': 4426, 'new': 2973, 'soft': 4158, 'eugene': 1399, 'birukov': 486, 'fully': 1671, 'hispanics': 1976, 'stir': 4286, 'division': 1206, 'founder': 1628, 'equivalent': 1382, 'participation': 3251, 'unborn': 4672, 'sister': 4105, 'serious': 3990, 'health': 1912, 'mass': 2672, 'liver': 2540, 'conceive': 821, 'surprise': 4376, 'spot': 4226, 'rapist': 3632, 'protection': 3540, 'class': 744, 'ruin': 3845, 'possibly': 3434, 'late': 2436, 'rare': 3634, 'stereotype': 4274, 'tie': 4537, 'tube': 4631, 'store': 4293, 'apart': 233, 'result': 3759, 'jzizzle': 2367, 'lesson': 2486, 'thy': 4534, 'entire': 1367, 'stranger': 4299, 'wouldnat': 4939, 'clean': 747, 'tunstall': 4634, 'la': 2419, 'land': 2430, 'halligan': 1861, 'admiral': 60, 'succeed': 4335, 'ie': 2094, 'ego': 1306, 'iq': 2256, 'useful': 4729, 'social': 4152, 'distancing': 1197, 'center': 675, 'aborted': 14, 'extent': 1456, 'particular': 3252, 'prayer': 3452, 'album': 124, 'beloved': 447, 'alive': 134, 'ambition': 165, 'tour': 4579, 'dancer': 1012, 'civilisation': 734, 'repair': 3724, 'smith': 4143, 'sue': 4343, 'agod': 101, 'systemic': 4405, 'pain': 3216, 'battle': 407, 'son': 4177, 'nthank': 3065, 'mar': 2644, 'determine': 1142, 'court': 934, 'convict': 890, 'damn': 1009, 'perspective': 3330, 'narrative': 2919, 'persecute': 3323, 'pick': 3355, 'hole': 1990, 'blacklivesmatter': 492, 'aware': 356, 'impossible': 2133, 'banner': 395, 'valid': 4741, 'provocative': 3547, 'impact': 2125, 'unity': 4697, 'opportunity': 3151, 'area': 261, 'although': 154, 'click': 751, 'buzzfeed': 616, 'beauty': 420, 'stem': 4269, 'qualified': 3581, 'actual': 50, 'interact': 2223, 'value': 4744, 'communist': 802, 'page': 3215, 'dad': 1000, 'passion': 3259, 'goldieblox': 1769, 'ted': 4443, 'clear': 748, 'loose': 2566, 'belong': 446, 'misogyny': 2812, 'software': 4159, 'view': 4773, 'code': 769, 'objective': 3094, 'task': 4427, 'sick': 4071, 'stone': 4291, 'overlook': 3200, 'benefit': 452, 'theo': 4487, 'colvin': 787, 'deep': 1069, 'citizen': 730, 'sandra': 3883, 'bland': 498, 'bitch': 489, 'neighbor': 2957, 'picture': 3357, 'turkey': 4635, 'current': 990, 'pal': 3222, 'forcefully': 1604, 'function': 1673, 'ignore': 2099, 'depressed': 1116, 'saddam': 3860, 'iraq': 2258, 'random': 3624, 'chance': 683, 'mckinney': 2714, 'cool': 896, 'directly': 1161, 'none': 3034, 'writer': 4944, 'expectation': 1442, 'openly': 3148, 'engage': 1353, 'liar': 2504, 'dr': 1247, 'bea': 412, 'millan': 2779, 'windorski': 4893, 'combat': 788, 'physically': 3352, 'mentally': 2749, 'ngo': 2978, 'website': 4832, 'button': 613, 'information': 2179, 'amount': 176, 'butthurt': 612, 'brilliant': 569, 'baltimore': 387, 'doe': 1215, 'identify': 2083, 'nnow': 3018, 'join': 2337, 'wonat': 4918, 'confront': 839, 'india': 2158, 'pursue': 3573, 'strange': 4298, 'google': 1776, 'datum': 1032, 'russia': 3850, 'communists': 803, 'xd': 4951, 'myself': 2903, 'marshall': 2659, 'marcus': 2646, 'heartfelt': 1918, 'overly': 3201, 'imalfie': 2117, 'clarify': 741, 'collapse': 774, 'scientist': 3927, 'goat': 1761, 'greece': 1808, 'rome': 3830, 'egypt': 1307, 'isis': 2267, 'hypocritical': 2070, 'carry': 651, 'adolf': 65, 'mission': 2814, 'episode': 1377, 'consist': 858, 'patrick': 3270, 'squid': 4234, 'factor': 1472, 'tip': 4545, 'sweater': 4391, 'theme': 4484, 'topple': 4570, 'cromwell': 966, 'whovian': 4877, 'roman': 3827, 'catholic': 660, 'exact': 1422, 'owo': 3210, 'actblue': 44, 'campaign': 629, 'huh': 2052, 'instinct': 2209, 'horse': 2030, 'floyed': 1587, 'panther': 3233, 'nall': 2912, 'organic': 3165, 'ride': 3785, 'premise': 3464, 'publicity': 3557, 'fundamentally': 1676, 'peoplea': 3301, 'dismantle': 1185, 'negative': 2955, 'press': 3473, 'practice': 3449, 'accord': 32, 'asians': 298, 'peopleas': 3302, 'risk': 3800, 'guest': 1836, 'heterosexual': 1947, 'morally': 2850, 'itself': 2287, 'solid': 4163, 'require': 3741, 'knock': 2408, 'neil': 2960, 'yess': 4970, 'ikr': 2103, 'discourage': 1169, 'subconsciously': 4327, 'aspect': 302, 'force': 1603, 'pregnant': 3462, 'invasion': 2247, 'endure': 1348, 'americas': 172, 'blessing': 506, 'federal': 1526, 'leader': 2457, 'internet': 2230, 'owens': 3206, 'trust': 4625, 'hilary': 1961, 'angry': 201, 'tragic': 4592, 'gary': 1699, 'destruction': 1137, 'educated': 1297, 'nationality': 2928, 'adjective': 57, 'noun': 3052, 'moorish': 2848, 'rd': 3644, 'grade': 1788, 'bleach': 502, 'pale': 3223, 'inanimate': 2140, 'object': 3093, 'og': 3123, 'arrington': 277, 'xxx': 4954, 'dankitydoge': 1019, 'whoas': 4870, 'quite': 3593, 'sexually': 4008, 'assault': 306, 'fortnite': 1619, 'pls': 3391, 'uneducated': 4682, 'goodness': 1774, 'apply': 246, 'wide': 4880, 'veteran': 4761, 'shop': 4056, 'raid': 3615, 'cuz': 997, 'conviction': 891, 'ahead': 107, 'biomedical': 481, 'successful': 4337, 'art': 282, 'waffle': 4792, 'begin': 432, 'sexist': 4004, 'predominantly': 3459, 'orient': 3171, 'jaun': 2305, 'cnn': 765, 'spoke': 4224, 'mike': 2774, 'penny': 3299, 'camera': 627, 'phrase': 3349, 'fake': 1483, 'accent': 26, 'naughty': 2935, 'letter': 2493, 'nose': 3044, 'making': 2624, 'step': 4270, 'notice': 3050, 'uncomfortable': 4674, 'adult': 71, 'hypocrite': 2069, 'dems': 1106, 'sterling': 4278, 'soo': 4179, 'fascism': 1503, 'boring': 536, 'treatment': 4608, 'mistake': 2816, 'partly': 3254, 'driver': 1257, 'engine': 1354, 'expect': 1441, 'exaggeration': 1424, 'floor': 1582, 'site': 4107, 'precisely': 3456, 'misfit': 2808, 'dependent': 1112, 'manager': 2632, 'rarely': 3635, 'lest': 2487, 'psychology': 3553, 'kick': 2385, 'slum': 4134, 'almighty': 143, 'trade': 4588, 'enforcement': 1352, 'giant': 1740, 'latino': 2440, 'floydas': 1586, 'gun': 1843, 'front': 1655, 'thata': 4472, 'red': 3676, 'flag': 1574, 'louise': 2583, 'veronica': 4756, 'dictate': 1148, 'awful': 361, 'flow': 1583, 'whoever': 4871, 'dirty': 1162, 'uh': 4658, 'nher': 2981, 'sassy': 3891, 'switch': 4399, 'hindu': 1968, 'nuclear': 3075, 'virtue': 4780, 'charity': 690, 'hometown': 2000, 'sexism': 4003, 'hai': 1852, 'huynh': 2067, 'shouldnat': 4063, 'wind': 4892, 'shell': 4034, 'zealand': 4997, 'design': 1127, 'remotely': 3720, 'myth': 2904, 'wright': 4941, 'form': 1614, 'acknowledge': 40, 'suffering': 4345, 'somehow': 4170, 'positive': 3430, 'njust': 2998, 'receive': 3664, 'tribe': 4614, 'employer': 1340, 'indeed': 2155, 'disgrace': 1177, 'vice': 4765, 'ni': 2985, 'scared': 3915, 'shade': 4010, 'july': 2357, 'havenat': 1906, 'idk': 2091, 'pansexual': 3231, 'offensive': 3116, 'bot': 539, 'conscious': 853, 'dump': 1271, 'fish': 1568, 'profit': 3518, 'quit': 3592, 'warped': 4808, 'sarkar': 3889, 'statistic': 4258, 'vastly': 4752, 'percentage': 3308, 'ability': 8, 'demographic': 1097, 'welcome': 4839, 'nn': 3005, 'industrial': 2169, 'philippines': 3344, 'drawing': 1252, 'semester': 3974, 'congratulation': 845, 'prop': 3529, 'entertainer': 1365, 'cookie': 895, 'binary': 477, 'genderfluid': 1714, 'fluid': 1589, 'holy': 1996, 'theodore': 4488, 'calm': 626, 'dam': 1006, 'fortune': 1622, 'grievance': 1819, 'monument': 2843, 'controversial': 882, 'fragile': 1632, 'honor': 2015, 'mindset': 2789, 'stupidity': 4324, 'hose': 2031, 'specifically': 4206, 'mcdonald': 2711, 'grant': 1799, 'dumbass': 1268, 'professional': 3514, 'finally': 1556, 'paysour': 3283, 'bloody': 513, 'raw': 3642, 'bledsoe': 503, 'provide': 3546, 'gotcha': 1781, 'youre': 4985, 'buddy': 590, 'funeral': 1678, 'rumor': 3848, 'bother': 541, 'electric': 1315, 'mistaken': 2817, 'ideology': 2085, 'erase': 1385, 'rewrite': 3773, 'hijack': 1959, 'gain': 1688, 'parson': 3246, 'fellow': 1530, 'caucasian': 662, 'shirt': 4047, 'rioter': 3795, 'advantage': 72, 'compassionate': 809, 'insane': 2192, 'nationalist': 2927, 'reparation': 3725, 'globalist': 1754, 'road': 3812, 'steal': 4266, 'cos': 916, 'leo': 2483, 'alice': 129, 'dee': 1066, 'accurate': 35, 'analysis': 182, 'terrible': 4453, 'sugar': 4347, 'coat': 766, 'spelling': 4212, 'stan': 4242, 'swedish': 4393, 'quality': 3583, 'enjoy': 1359, 'jesse': 2317, 'pollack': 3417, 'favourite': 1519, 'trouble': 4619, 'abandon': 4, 'hashtag': 1895, 'baden': 378, 'jones': 2341, 'mixed': 2823, 'expression': 1453, 'piss': 3366, 'taxis': 4429, 'woke': 4912, 'simon': 4086, 'nim': 2994, 'keeper': 2378, 'achieve': 38, 'stomach': 4289, 'depict': 1113, 'ethnic': 1396, 'supposedly': 4367, 'privilege': 3501, 'neighbour': 2959, 'europeans': 1402, 'molly': 2836, 'cone': 832, 'prepared': 3466, 'chip': 712, 'choke': 716, 'willholt': 4885, 'phd': 3341, 'convert': 888, 'segment': 3960, 'regard': 3686, 'irrelevant': 2264, 'suspicion': 4385, 'asphyxiation': 303, 'pressure': 3474, 'left': 2466, 'wing': 4896, 'percent': 3307, 'fascist': 1504, 'mighty': 2772, 'jump': 2358, 'window': 4894, 'net': 2966, 'basis': 404, 'articulate': 285, 'mlk': 2826, 'elect': 1313, 'advice': 73, 'olivia': 3131, 'riggs': 3789, 'hun': 2058, 'filter': 1553, 'mra': 2876, 'youa': 4978, 'cmon': 764, 'nedit': 2950, 'nthe': 3069, 'scary': 3916, 'nyou': 3089, 'onto': 3143, 'nand': 2915, 'sinful': 4094, 'immoral': 2122, 'sly': 4136, 'incredibly': 2154, 'legos': 2479, 'teenager': 4446, 'zolik': 4999, 'unfair': 4684, 'punish': 3563, 'stephanie': 4271, 'mate': 2680, 'badass': 376, 'countless': 927, 'perceive': 3306, 'scale': 3910, 'meghan': 2737, 'obsess': 3098, 'aif': 113, 'username': 4732, 'sleep': 4125, 'commandment': 793, 'article': 284, 'babyas': 368, 'kindness': 2397, 'partially': 3249, 'moral': 2849, 'migrant': 2773, 'passage': 3258, 'mood': 2844, 'rebuild': 3662, 'bronze': 578, 'british': 575, 'homeland': 1998, 'tom': 4557, 'october': 3106, 'oct': 3105, 'haskins': 1897, 'complaint': 812, 'candace': 638, 'thomas': 4509, 'definition': 1079, 'lil': 2522, 'wayne': 4820, 'ironic': 2261, 'rip': 3798, 'slur': 4135, 'eventually': 1408, 'rub': 3842, 'comfortable': 792, 'lad': 2425, 'gregory': 1815, 'lately': 2437, 'fantasy': 1496, 'associate': 311, 'flight': 1579, 'indians': 2161, 'republicans': 3738, 'influence': 2176, 'candidate': 639, 'pander': 3228, 'avoid': 351, 'triangle': 4612, 'verse': 4757, 'ooh': 3144, 'systematic': 4403, 'joannot': 2328, 'fampionona': 1493, 'segregate': 3961, 'cite': 729, 'yesterday': 4971, 'goal': 1760, 'fetus': 1541, 'seattle': 3945, 'bomb': 523, 'ancestor': 187, 'ther': 4491, 'hook': 2020, 'match': 2679, 'descendant': 1124, 'melt': 2739, 'chat': 693, 'maya': 2704, 'humble': 2056, 'nasty': 2922, 'camp': 628, 'legal': 2472, 'norm': 3040, 'workplace': 4927, 'tongue': 4562, 'farmer': 1501, 'purge': 3568, 'offence': 3113, 'warrior': 4809, 'quota': 3596, 'domestic': 1223, 'commercial': 796, 'immigrant': 2121, 'email': 1329, 'phone': 3347, 'flat': 1577, 'tomboy': 4558, 'vibe': 4763, 'demolish': 1098, 'credit': 952, 'regardless': 3687, 'uzokwe': 4738, 'solution': 4165, 'nnall': 3006, 'inclusive': 2146, 'killing': 2392, 'vid': 4771, 'tbh': 4431, 'meanwhile': 2724, 'mock': 2830, 'akid': 121, 'international': 2229, 'seize': 3964, 'upon': 4717, 'misconduct': 2805, 'event': 1407, 'educate': 1296, 'elite': 1321, 'retire': 3762, 'survive': 4380, 'besides': 457, 'internal': 2227, 'superior': 4359, 'anybody': 223, 'lmaoo': 2544, 'disown': 1188, 'megan': 2736, 'anderson': 190, 'insta': 2203, 'trayvon': 4606, 'filler': 1551, 'granny': 1798, 'patch': 3264, 'organized': 3169, 'refreshing': 3683, 'policeman': 3406, 'dss': 1262, 'clan': 740, 'sentiment': 3982, 'nbe': 2938, 'dance': 1011, 'africans': 86, 'grateful': 1801, 'ice': 2076, 'dominate': 1224, 'player': 3385, 'sacrifice': 3858, 'ami': 173, 'owner': 3208, 'list': 2532, 'coin': 771, 'pastor': 3262, 'tolerance': 4555, 'cell': 672, 'separation': 3986, 'scheme': 3919, 'conquer': 851, 'segregating': 3962, 'hammer': 1863, 'memorialize': 2743, 'colston': 785, 'retard': 3760, 'lets': 2492, 'ww': 4949, 'putin': 3577, 'vandalism': 4747, 'shift': 4043, 'consciousness': 854, 'threaten': 4519, 'mcbride': 2709, 'prejudice': 3463, 'personal': 3326, 'attribute': 341, 'computer': 819, 'genuinely': 1727, 'sort': 4187, 'nass': 2921, 'hippo': 1971, 'exclude': 1432, 'beyonce': 462, 'washington': 4811, 'admirals': 61, 'lip': 2531, 'fascinating': 1502, 'shortly': 4058, 'mugieq': 2883, 'tik': 4538, 'tok': 4553, 'aoh': 231, 'controversy': 883, 'bigot': 470, 'mater': 2681, 'kk': 2403, 'eat': 1291, 'memorial': 2742, 'logo': 2555, 'negativity': 2956, 'magazine': 2612, 'afford': 81, 'painting': 3220, 'butts': 614, 'cold': 773, 'symbol': 4400, 'classic': 745, 'clinton': 753, 'timothy': 4542, 'homework': 2001, 'outstanding': 3195, 'letas': 2490, 'differently': 1155, 'nhere': 2982, 'model': 2831, 'noelle': 3030, 'entitle': 1369, 'viewpoint': 4774, 'dus': 1276, 'ac': 24, 'lethal': 2491, 'deliberately': 1086, 'andor': 191, 'park': 3243, 'fam': 1488, 'tone': 4561, 'ethic': 1395, 'previous': 3481, 'decline': 1063, 'prefer': 3460, 'biologically': 480, 'dare': 1023, 'jim': 2324, 'byrne': 620, 'ought': 3184, 'classmate': 746, 'relationship': 3701, 'despise': 1133, 'basically': 403, 'existence': 1439, 'destine': 1135, 'fucken': 1663, 'st': 4236, 'erect': 1386, 'significance': 4078, 'youad': 4979, 'peacefully': 3289, 'deface': 1070, 'abide': 7, 'consequence': 855, 'acceptable': 28, 'marxists': 2667, 'spotlight': 4227, 'weather': 4830, 'rl': 3808, 'tony': 4563, 'timpa': 4543, 'srsly': 4235, 'golden': 1767, 'rage': 3614, 'ostracize': 3180, 'saville': 3903, 'gospel': 1779, 'happiness': 1878, 'aiaman': 110, 'bye': 619, 'everywhere': 1417, 'holiday': 1991, 'imo': 2124, 'chain': 680, 'roughly': 3837, 'species': 4204, 'complex': 815, 'capable': 642, 'third': 4506, 'reverse': 3766, 'breed': 564, 'exsist': 1454, 'drink': 1255, 'cash': 654, 'illegally': 2107, 'arrest': 276, 'background': 371, 'extremist': 1461, 'courageous': 932, 'jealous': 2307, 'dole': 1219, 'meth': 2760, 'hearing': 1916, 'tiny': 4544, 'radical': 3610, 'msm': 2880, 'coverage': 937, 'mohammed': 2834, 'cooper': 897, 'portray': 3425, 'cure': 987, 'naomi': 2916, 'useless': 4730, 'rape': 3630, 'wealth': 4825, 'upbringing': 4714, 'relative': 3702, 'blood': 512, 'royal': 3839, 'comprehend': 818, 'greek': 1809, 'mythology': 2906, 'count': 923, 'greeks': 1810, 'strike': 4308, 'demonrat': 1101, 'scott': 3930, 'distort': 1198, 'sweetest': 4396, 'colony': 779, 'philosophy': 3345, 'inform': 2178, 'psychological': 3552, 'bone': 525, 'agreed': 104, 'fashionable': 1506, 'stat': 4253, 'freely': 1646, 'available': 349, 'burger': 598, 'shooting': 4055, 'overall': 3198, 'bias': 465, 'encounter': 1344, 'operate': 3149, 'role': 3825, 'rivas': 3804, 'robinson': 3816, 'unbelievable': 4671, 'beginning': 433, 'trend': 4610, 'former': 1615, 'judgemental': 2352, 'praise': 3450, 'interested': 2225, 'conspiracy': 859, 'theorist': 4489, 'parade': 3239, 'intervene': 2235, 'organizer': 3170, 'intention': 2222, 'starve': 4252, 'hick': 1951, 'wrongly': 4946, 'rubbish': 3843, 'allivesmatter': 138, 'twitter': 4645, 'churchill': 725, 'miner': 2792, 'griffith': 1821, 'eric': 1387, 'sarcasm': 3887, 'richard': 3780, 'curious': 988, 'danversa': 1021, 'italian': 2282, 'chick': 703, 'slow': 4132, 'screw': 3934, 'nmaybe': 3004, 'nit': 2997, 'constant': 860, 'trap': 4602, 'interrupt': 2233, 'hollywood': 1993, 'pretend': 3476, 'pc': 3284, 'intellect': 2215, 'insightful': 2197, 'franco': 1636, 'jras': 2348, 'speecha': 4210, 'tooa': 4565, 'nnlike': 3013, 'nnand': 3007, 'nowhere': 3058, 'seriouslynnthis': 3992, 'yaallnnthat': 4957, 'sex': 4002, 'unable': 4668, 'formulate': 1616, 'hairstyle': 1857, 'adrian': 70, 'looter': 2568, 'tagerius': 4412, 'winchester': 4891, 'arm': 268, 'canadian': 633, 'moonlight': 2846, 'intro': 2241, 'doom': 1233, 'resident': 3745, 'stance': 4243, 'intolerant': 2240, 'britian': 574, 'adore': 69, 'interpretation': 2232, 'abomination': 12, 'approve': 251, 'barbie': 396, 'cheap': 694, 'intellectual': 2216, 'fund': 1674, 'harvard': 1893, 'stab': 4237, 'ja': 2290, 'victimize': 4768, 'knowitall': 2410, 'nostar': 3046, 'james': 2296, 'copy': 901, 'speech': 4209, 'shoe': 4053, 'comparison': 807, 'compare': 806, 'mum': 2890, 'hello': 1931, 'cruel': 973, 'judgmental': 2353, 'agreea': 103, 'ghetto': 1739, 'fallacy': 1486, 'dunno': 1274, 'corner': 906, 'professor': 3515, 'grown': 1829, 'lefty': 2469, 'marxism': 2665, 'covid': 938, 'lecture': 2464, 'related': 3699, 'poll': 3416, 'radicalise': 3611, 'constitution': 862, 'foundation': 1627, 'divided': 1204, 'snake': 4146, 'vile': 4776, 'wilson': 4889, 'lebron': 2463, 'convince': 892, 'cover': 936, 'essentially': 1390, 'texas': 4461, 'diverse': 1201, 'resist': 3747, 'japan': 2300, 'am': 156, 'motivate': 2863, 'faith': 1482, 'infect': 2173, 'safe': 3863, 'bob': 518, 'buster': 606, 'petition': 3335, 'woah': 4911, 'twice': 4642, 'chan': 682, 'minecraft': 2791, 'block': 511, 'affect': 78, 'wwe': 4950, 'gtfo': 1831, 'earn': 1285, 'specially': 4202, 'married': 2657, 'thompson': 4510, 'define': 1076, 'battery': 406, 'famine': 1491, 'libs': 2508, 'notion': 3051, 'unique': 4692, 'responsibility': 3755, 'rap': 3629, 'collective': 775, 'guilt': 1839, 'speaker': 4200, 'stress': 4306, 'confident': 835, 'mechanical': 2728, 'develop': 1143, 'attraction': 340, 'dallas': 1005, 'blow': 514, 'soro': 4184, 'bed': 426, 'alright': 150, 'crook': 967, 'test': 4458, 'serpent': 3993, 'forbid': 1602, 'town': 4584, 'deem': 1068, 'critic': 961, 'rizki': 3807, 'epidemic': 1376, 'phony': 3348, 'reflection': 3681, 'throat': 4521, 'belief': 440, 'bood': 527, 'bull': 594, 'teacher': 4435, 'robotic': 3819, 'thelegend': 4482, 'corrupt': 914, 'stunt': 4322, 'indoctrinate': 2167, 'youth': 4988, 'shun': 4068, 'implication': 2128, 'option': 3161, 'silly': 4083, 'enforce': 1351, 'lool': 2565, 'involvement': 2254, 'hypocrisy': 2068, 'maximum': 2702, 'genius': 1723, 'disgusting': 1181, 'disabled': 1163, 'disparity': 1189, 'elseas': 1327, 'enter': 1364, 'ear': 1282, 'bored': 535, 'ground': 1825, 'oxygen': 3211, 'follower': 1595, 'aww': 364, 'express': 1452, 'fuckin': 1665, 'jules': 2356, 'pfp': 3339, 'darryl': 1026, 'pagan': 3214, 'mcfadyen': 2713, 'illiterate': 2108, 'collins': 777, 'iv': 2288, 'rally': 3620, 'busy': 607, 'mdna': 2718, 'jeans': 2310, 'officially': 3121, 'careful': 649, 'roost': 3833, 'amusing': 178, 'undo': 4681, 'refund': 3684, 'rocket': 3822, 'private': 3499, 'atlas': 329, 'straightforward': 4297, 'mrmojoman': 2878, 'team': 4437, 'grandchild': 1793, 'suprise': 4371, 'stereotypical': 4275, 'custody': 994, 'member': 2740, 'jail': 2295, 'corinthians': 905, 'lies': 2512, 'omfg': 3133, 'dust': 1277, 'sun': 4354, 'buffalo': 591, 'soldier': 4161, 'release': 3705, 'conflict': 837, 'unicorn': 4689, 'inner': 2190, 'farce': 1499, 'alex': 126, 'automatically': 348, 'nnif': 3011, 'nthatas': 3068, 'corruption': 915, 'coz': 941, 'honesty': 2012, 'promise': 3524, 'ntrump': 3073, 'ig': 2096, 'lego': 2478, 'pocket': 3396, 'gravois': 1804, 'andreas': 193, 'versus': 4759, 'employ': 1339, 'worldwide': 4929, 'gap': 1695, 'prepare': 3465, 'illuminati': 2111, 'card': 646, 'fort': 1617, 'yr': 4990, 'tower': 4583, 'ben': 449, 'pyramid': 3578, 'massive': 2677, 'concert': 825, 'ticket': 4536, 'sale': 3869, 'sentimental': 3983, 'louder': 2581, 'dismiss': 1186, 'originate': 3176, 'counterprotest': 926, 'propose': 3536, 'shitty': 4049, 'heterosexuality': 1948, 'idiotic': 2089, 'rasist': 3636, 'prince': 3488, 'samee': 3874, 'oop': 3145, 'origin': 3173, 'virus': 4781, 'hoax': 1986, 'flu': 1588, 'johnny': 2334, 'prosecute': 3537, 'thx': 4533, 'muslim': 2898, 'arab': 254, 'yt': 4992, 'recommendation': 3672, 'scroll': 3937, 'ownership': 3209, 'phobia': 3346, 'policy': 3407, 'tax': 4428, 'funding': 1677, 'leta': 2489, 'zara': 4996, 'hassan': 1899, 'typically': 4649, 'universal': 4698, 'among': 174, 'fantastic': 1495, 'pit': 3369, 'rite': 3802, 'mainly': 2615, 'clever': 750, 'plot': 3390, 'vast': 4751, 'slaves': 4124, 'witch': 4905, 'annoy': 209, 'rlly': 3809, 'ellen': 1323, 'large': 2432, 'inherently': 2183, 'tyrant': 4651, 'attract': 339, 'intense': 2220, 'hudson': 2047, 'birt': 483, 'dan': 1010, 'align': 131, 'aonly': 232, 'rae': 3613, 'teaching': 4436, 'mj': 2824, 'pertain': 3331, 'stalin': 4240, 'bury': 602, 'scanlon': 3913, 'nthanks': 3066, 'inappropriate': 2141, 'karen': 2372, 'typical': 4648, 'direction': 1160, 'constructive': 865, 'promote': 3525, 'delusion': 1088, 'rose': 3835, 'systematically': 4404, 'structure': 4314, 'convenient': 884, 'fyi': 1686, 'offense': 3115, 'claire': 739, 'miserable': 2806, 'dada': 1001, 'thus': 4532, 'ofc': 3110, 'hella': 1930, 'backlash': 372, 'aspiration': 304, 'fbi': 1521, 'scandal': 3912, 'mainstream': 2616, 'expert': 1446, 'hum': 2053, 'indigo': 2164, 'sensitive': 3980, 'correctness': 913, 'jeff': 2311, 'ing': 2181, 'psalm': 3549, 'affront': 82, 'ingredient': 2182, 'green': 1811, 'milis': 2777, 'sa': 3854, 'seomra': 3984, 'spraoi': 4229, 'boomer': 532, 'goingto': 1765, 'op': 3146, 'armed': 269, 'brutal': 583, 'isnt': 2272, 'adam': 53, 'eve': 1404, 'spell': 4211, 'awakening': 354, 'affirmative': 80, 'victimhood': 4767, 'politics': 3414, 'everytime': 1416, 'empire': 1338, 'cus': 993, 'disguise': 1179, 'warfare': 4804, 'creator': 949, 'derek': 1120, 'spirit': 4219, 'aaron': 3, 'lehman': 2480, 'confuse': 840, 'jk': 2326, 'impressive': 2137, 'colonial': 778, 'globe': 1756, 'financial': 1558, 'linda': 2527, 'unlike': 4704, 'mccain': 2710, 'impoverish': 2134, 'sacred': 3857, 'deed': 1067, 'neighborhood': 2958, 'jerk': 2316, 'architect': 258, 'truthful': 4627, 'subtitle': 4333, 'portuguese': 3426, 'boat': 517, 'jack': 2291, 'em': 1328, 'pos': 3427, 'fighting': 1548, 'hm': 1984, 'inzodda': 2255, 'destructive': 1138, 'hmm': 1985, 'office': 3118, 'administration': 58, 'economy': 1293, 'prior': 3492, 'mana': 2630, 'originally': 3175, 'aman': 159, 'translation': 4601, 'thay': 4475, 'failure': 1477, 'shepard': 4037, 'moon': 2845, 'web': 4831, 'emperor': 1337, 'tourr': 4580, 'nblack': 2939, 'belive': 443, 'needlessly': 2953, 'invalidate': 2246, 'horrific': 2028, 'hahahaha': 1851, 'birthday': 485, 'tolerate': 4556, 'text': 4462, 'erm': 1388, 'loving': 2588, 'nhow': 2983, 'atleast': 330, 'excited': 1431, 'kitchen': 2401, 'shy': 4070, 'theirs': 4481, 'grab': 1786, 'shine': 4044, 'shadow': 4011, 'regret': 3689, 'quiz': 3594, 'measure': 2725, 'ff': 1543, 'grandfather': 1794, 'moore': 2847, 'nhs': 2984, 'billionaire': 476, 'corporation': 910, 'smh': 4141, 'riviera': 3806, 'indicate': 2162, 'biden': 468, 'trully': 4622, 'killer': 2391, 'breonna': 565, 'nif': 2992, 'deflect': 1080, 'plastic': 3382, 'feature': 1525, 'gee': 1709, 'tantrum': 4424, 'bandit': 391, 'deceive': 1056, 'takeover': 4415, 'greet': 1812, 'congrat': 844, 'organize': 3168, 'governor': 1783, 'farage': 1498, 'kimmel': 2394, 'worthless': 4935, 'sack': 3856, 'friendly': 1653, 'undermine': 4677, 'permit': 3320, 'offer': 3117, 'naturally': 2933, 'temple': 4449, 'materia': 2682, 'agreement': 105, 'double': 1240, 'solo': 4164, 'convinced': 893, 'potential': 3438, 'motivation': 2865, 'hitora': 1983, 'anime': 204, 'anarchist': 185, 'germans': 1730, 'belly': 445, 'empty': 1342, 'attend': 336, 'excessive': 1429, 'ill': 2105, 'agnostic': 99, 'merely': 2753, 'stephen': 4272, 'theherpes': 4479, 'lonnie': 2563, 'stevens': 4281, 'appose': 247, 'worried': 4930, 'sauce': 3897, 'lost': 2576, 'de': 1041, 'bird': 482, 'heas': 1920, 'coloured': 784, 'wage': 4793, 'infiltrate': 2175, 'boycott': 550, 'pyramids': 3579, 'sherif': 4038, 'naive': 2911, 'apparently': 240, 'spout': 4228, 'asia': 296, 'rapper': 3633, 'generational': 1720, 'overcome': 3199, 'lynn': 2600, 'gaslight': 1701, 'stanford': 4246, 'wasnt': 4813, 'been': 428, 'pity': 3371, 'twat': 4640, 'shakeel': 4013, 'mankind': 2638, 'explanation': 1448, 'extract': 1458, 'era': 1384, 'superiority': 4360, 'ndo': 2944, 'paper': 3237, 'theory': 4490, 'declaration': 1061, 'independence': 2156, 'agent': 96, 'rely': 3713, 'fuk': 1669, 'arnt': 272, 'artifact': 286, 'unapologetically': 4669, 'powerful': 3443, 'reference': 3679, 'gf': 1735, 'tyler': 4646, 'performance': 3313, 'audience': 342, 'splash': 4221, 'heh': 1927, 'multidarkzen': 2888, 'pawn': 3279, 'sanchez': 3878, 'joshua': 2344, 'fernandes': 1538, 'brazil': 560, 'ad': 52, 'nnwhen': 3024, 'rwanda': 3852, 'critical': 962, 'loss': 2575, 'nurse': 3078, 'patient': 3268, 'healthy': 1914, 'lavin': 2447, 'antizionist': 221, 'israel': 2274, 'gezinterhayt': 1734, 'season': 3944, 'transgender': 4599, 'representative': 3734, 'dilute': 1158, 'ton': 4560, 'straw': 4302, 'sing': 4095, 'gaga': 1687, 'zimbabwe': 4998, 'bailey': 382, 'mouse': 2868, 'concerned': 824, 'tooth': 4567, 'hasnat': 1898, 'outta': 3196, 'elder': 1312, 'frank': 1637, 'beautifully': 419, 'sow': 4193, 'accountable': 34, 'commenter': 795, 'whereas': 4856, 'grief': 1818, 'hall': 1860, 'disease': 1176, 'merit': 2754, 'nlook': 3003, 'explode': 1449, 'teen': 4444, 'economic': 1292, 'farm': 1500, 'tv': 4639, 'bind': 478, 'vibes': 4764, 'prioritize': 3493, 'germany': 1731, 'seduce': 3955, 'attempt': 335, 'debunk': 1052, 'lincoln': 2526, 'crimminal': 958, 'north': 3043, 'charles': 691, 'execute': 1435, 'kids': 2389, 'gold': 1766, 'terrorism': 4456, 'greeting': 1813, 'helpful': 1933, 'principle': 3490, 'cs': 978, 'nthey': 3070, 'manifesto': 2635, 'lyon': 2601, 'ironically': 2262, 'november': 3055, 'creation': 947, 'finance': 1557, 'labrae': 2423, 'suddenly': 4342, 'matternall': 2692, 'randall': 3623, 'agender': 95, 'sincerely': 4093, 'powerless': 3444, 'ally': 140, 'ideal': 2082, 'everybodyas': 1412, 'bow': 547, 'bio': 479, 'nso': 3063, 'flip': 1580, 'necessary': 2948, 'supply': 4362, 'technical': 4440, 'prevail': 3478, 'francesca': 1635, 'opposite': 3153, 'effect': 1302, 'subscribe': 4330, 'divisive': 1207, 'levi': 2496, 'optimistic': 3160, 'jade': 2294, 'edwards': 1300, 'criticize': 965, 'ricky': 3782, 'kocijancic': 2413, 'entitlement': 1371, 'owe': 3204, 'remark': 3715, 'subdue': 4328, 'irony': 2263, 'downplay': 1243, 'hernandez': 1942, 'grandma': 1795, 'satanic': 3893, 'spike': 4216, 'nazis': 2937, 'architecture': 259, 'cancer': 637, 'idgaf': 2086, 'abhorrent': 6, 'marry': 2658, 'romantic': 3829, 'compassion': 808, 'gravity': 1803, 'pilot': 3362, 'plane': 3377, 'petroleum': 3337, 'nthat': 3067, 'booka': 530, 'madge': 2609, 'signal': 4077, 'desperate': 1130, 'bush': 604, 'toss': 4574, 'canal': 634, 'smile': 4142, 'average': 350, 'murican': 2893, 'official': 3120, 'constitutional': 863, 'shawn': 4025, 'majano': 2618, 'imma': 2118, 'perry': 3322, 'joint': 2338, 'taco': 4408, 'gaming': 1691, 'eh': 1310, 'misleading': 2809, 'werenat': 4842, 'heartless': 1919, 'oppressed': 3156, 'goldie': 1768, 'silver': 4084, 'best': 458, 'misunderstanding': 2820, 'pig': 3359, 'blanket': 500, 'fry': 1659, 'bacon': 374, 'impose': 2132, 'polite': 3409, 'incompetent': 2149, 'pet': 3332, 'quiet': 3591, 'partner': 3255, 'marko': 2654, 'vujovic': 4789, 'size': 4109, 'outfit': 3191, 'ia': 2071, 'orleans': 3177, 'obsessed': 3099, 'rioting': 3796, 'paver': 3277, 'maintain': 2617, 'review': 3767, 'schmidt': 3920, 'arizona': 267, 'chris': 718, 'joey': 2331, 'lion': 2530, 'un': 4667, 'literal': 2534, 'inman': 2189, 'depression': 1117, 'ptsd': 3555, 'uni': 4688, 'atheyare': 324, 'observation': 3096, 'hiraeth': 1972, 'ink': 2188, 'victoria': 4769, 'louis': 2582, 'oneself': 3139, 'thoughtful': 4515, 'nstop': 3064, 'spatial': 4197, 'graduation': 1791, 'athe': 320, 'upa': 4713, 'ali': 128, 'knight': 2407, 'nno': 3015, 'reminder': 3718, 'pat': 3263, 'fucktard': 1667, 'defund': 1081, 'metaphor': 2758, 'fucker': 1664, 'pistol': 3368, 'correctly': 912, 'below': 448, 'cops': 900, 'ireland': 2259, 'gunpoint': 1844, 'martyr': 2663, 'mexicans': 2762, 'grill': 1822, 'portion': 3424, 'multicultural': 2887, 'communism': 801, 'discover': 1170, 'millennial': 2780, 'thorpe': 4511, 'punchable': 3562, 'broken': 577, 'sham': 4016, 'deliver': 1087, 'idolize': 2093, 'alexander': 127, 'weekend': 4836, 'bash': 401, 'civilian': 733, 'significant': 4079, 'kingdom': 2399, 'nationwide': 2929, 'statute': 4264, 'contribute': 879, 'atlantic': 327, 'kabbalah': 2369, 'freemason': 1647, 'account': 33, 'bank': 394, 'balance': 384, 'shocking': 4052, 'series': 3989, 'payer': 3282, 'nnso': 3019, 'rhetoric': 3775, 'generalization': 1716, 'wheel': 4852, 'masseuse': 2676, 'cis': 728, 'empathy': 1336, 'plague': 3374, 'amendment': 167, 'conduct': 831, 'cuase': 979, 'fran': 1633, 'blake': 496, 'eloise': 1325, 'talking': 4420, 'royals': 3840, 'garden': 1698, 'particularly': 3253, 'rent': 3723, 'profile': 3516, 'is': 2265, 'pantry': 3235, 'apartheid': 234, 'table': 4407, 'nwhy': 3085, 'shove': 4065, 'firsthand': 1567, 'perpetuate': 3321, 'pussy': 3575, 'puppet': 3564, 'burst': 601, 'profitable': 3519, 'kidnap': 2388, 'dna': 1209, 'stratford': 4301, 'antique': 220, 'amazed': 161, 'anytime': 227, 'noah': 3026, 'athatas': 319, 'closed': 756, 'narrow': 2920, 'aless': 125, 'pointed': 3399, 'designer': 1128, 'bigote': 471, 'stock': 4287, 'embrace': 1332, 'proceed': 3509, 'animal': 203, 'imagination': 2115, 'environment': 1373, 'mason': 2671, 'crowd': 970, 'jonathan': 2340, 'ross': 3836, 'merchant': 2751, 'harder': 1884, 'latin': 2439, 'nnot': 3017, 'poland': 3403, 'defensive': 1075, 'cult': 982, 'leg': 2470, 'priest': 3486, 'poster': 3436, 'separate': 3985, 'secondly': 3949, 'silicon': 4082, 'kelly': 2381, 'lopez': 2570, 'establish': 1391, 'nnwhat': 3023, 'morning': 2853, 'bigotry': 472, 'surely': 4373, 'foreign': 1606, 'worker': 4924, 'inclusion': 2145, 'forgiveness': 1612, 'learning': 2460, 'priceless': 3483, 'exchange': 1430, 'nwhat': 3083, 'sober': 4151, 'hip': 1970, 'andrew': 195, 'fu': 1660, 'saddams': 3861, 'alternative': 153, 'dig': 1157, 'patriarchy': 3269, 'celebration': 669, 'rehabilitation': 3693, 'hardcore': 1883, 'ferguson': 1537, 'necessarily': 2947, 'ashxr': 295, 'benchekroun': 450, 'appeal': 241, 'observe': 3097, 'pete': 3333, 'revisionism': 3768, 'sicken': 4072, 'ungrateful': 4687, 'footage': 1600, 'untrue': 4711, 'fabricate': 1466, 'presidential': 3472, 'billboard': 475, 'fresh': 1649, 'preach': 3454, 'hs': 2046, 'nor': 3039, 'safety': 3865, 'hunt': 2062, 'patriotic': 3272, 'roblox': 3817, 'pepsi': 3304, 'ship': 4045, 'israelites': 2276, 'mee': 2733, 'occur': 3103, 'contraversial': 878, 'sellout': 3972, 'occasion': 3102, 'racially': 3603, 'yip': 4973, 'peer': 3293, 'meaningless': 2723, 'nuts': 3081, 'dosent': 1237, 'asshole': 307, 'elm': 1324, 'discriminatory': 1173, 'despite': 1134, 'cobb': 767, 'improve': 2138, 'hahaha': 1850, 'singe': 4096, 'freaking': 1642, 'minimum': 2794, 'melanin': 2738, 'entitled': 1370, 'update': 4715, 'active': 46, 'harrison': 1890, 'kahlo': 2371, 'noble': 3028, 'copper': 899, 'ccp': 666, 'statistics': 4260, 'ounce': 3185, 'fill': 1550, 'ratio': 3640, 'festival': 1540, 'kris': 2418, 'memory': 2744, 'freak': 1641, 'anthony': 217, 'savvy': 3906, 'horizon': 2024, 'beach': 413, 'girla': 1743, 'gonzalez': 1772, 'atherapya': 323, 'summer': 4353, 'grace': 1787, 'permanently': 3318, 'guinness': 1841, 'records': 3675, 'brand': 557, 'sudden': 4341, 'silent': 4081, 'fathers': 1512, 'generally': 1718, 'nwo': 3086, 'lyfe': 2598, 'band': 390, 'wagon': 4794, 'nicholas': 2990, 'glasgow': 1751, 'william': 4886, 'duh': 1266, 'purely': 3567, 'emily': 1333, 'foster': 1625, 'favour': 1518, 'thugs': 4529, 'cackle': 621, 'jacket': 2292, 'closer': 758, 'ashton': 294, 'levry': 2498, 'poverty': 3440, 'trading': 4590, 'enthusiastic': 1366, 'laurencya': 2446, 'nhe': 2980, 'sand': 3879, 'identity': 2084, 'san': 3877, 'hail': 1853, 'gangster': 1694, 'wether': 4845, 'heather': 1922, 'removal': 3721, 'corgi': 904, 'cats': 661, 'resign': 3746, 'yah': 4958, 'mans': 2641, 'istanbul': 2279, 'painter': 3219, 'contradictory': 876, 'commie': 797, 'wherever': 4857, 'spring': 4232, 'ma': 2602, 'nom': 3032, 'nshe': 3062, 'orwellian': 3179, 'bbm': 409, 'beckett': 423, 'ngongo': 2979, 'qualification': 3580, 'communicate': 800, 'shock': 4050, 'cousin': 935, 'internalize': 2228, 'polar': 3404, 'cheer': 696, 'brit': 572, 'mrs': 2879, 'deg': 1082, 'tyrone': 4652, 'split': 4222, 'fav': 1515, 'darci': 1022, 'note': 3048, 'willing': 4888, 'nkeep': 2999, 'priority': 3494, 'flaming': 1576, 'samurai': 3876, 'vegan': 4753, 'cruelty': 974, 'australian': 345, 'wth': 4948, 'shed': 4031, 'county': 929, 'pre': 3453, 'meme': 2741, 'elementary': 1318, 'further': 1683, 'lolol': 2558, 'kabal': 2368, 'sexualise': 4006, 'subvert': 4334, 'bond': 524, 'atheistic': 322, 'abhorr': 5, 'nbowie': 2941, 'material': 2683, 'angulo': 202, 'crack': 942, 'daddy': 1003, 'incoming': 2148, 'dd': 1040, 'spare': 4196, 'rod': 3823, 'slight': 4128, 'calendar': 623, 'dang': 1013, 'grandmother': 1796, 'abolish': 11, 'sweden': 4392, 'fade': 1475, 'talkin': 4419, 'tyranny': 4650, 'howard': 2043, 'september': 3988, 'hostile': 2034, 'bang': 393, 'donna': 1231, 'damaging': 1008, 'proportion': 3535, 'involved': 2253, 'stuck': 4316, 'criticism': 964, 'thankfully': 4469, 'healthcare': 1913, 'housing': 2041, 'lame': 2429, 'bandwagon': 392, 'technology': 4442, 'adopt': 67, 'er': 1383, 'medical': 2731, 'reject': 3696, 'fentanyl': 1536, 'jan': 2298, 'barely': 397, 'throughout': 4524, 'simpleton': 4088, 'smollett': 4145, 'drone': 1258, 'van': 4745, 'almen': 142, 'goofy': 1775, 'ong': 3140, 'sew': 4001, 'mattersa': 2696, 'pixie': 3372, 'israeli': 2275, 'atkinson': 325, 'reform': 3682, 'imaginary': 2114, 'pleasure': 3388, 'sean': 3942, 'andy': 197, 'men': 2745, 'vos': 4785, 'warp': 4807, 'ghana': 1737, 'tucker': 4632, 'glass': 1752, 'nis': 2996, 'nwho': 3084, 'stfu': 4283, 'thrive': 4520, 'asurvivora': 315, 'weapon': 4827, 'maui': 2699, 'representation': 3733, 'alahna': 123, 'investigate': 2250, 'atm': 331, 'politically': 3412, 'respectable': 3750, 'faux': 1514, 'greatness': 1807, 'asleep': 301, 'becuase': 425, 'mc': 2708, 'fortnut': 1620, 'done': 1230, 'petty': 3338, 'dank': 1018, 'hurtful': 2064, 'congress': 846, 'happily': 1877, 'jessup': 2319, 'specify': 4207, 'distance': 1196, 'inevitable': 2172, 'village': 4777, 'parliament': 3244, 'info': 2177, 'traditional': 4591, 'emotion': 1334, 'complaining': 811, 'sport': 4225, 'sweat': 4390, 'painful': 3217, 'hat': 1900, 'fernandez': 1539, 'courage': 931, 'pronounce': 3526, 'crash': 944, 'saturday': 3896, 'sunday': 4355, 'endless': 1347, 'furry': 1681, 'nplease': 3059, 'stunning': 4321, 'guideline': 1837, 'enable': 1343, 'untill': 4710, 'jay': 2306, 'nina': 2995, 'confederate': 833, 'reliable': 3707, 'youall': 4980, 'turner': 4637, 'fairly': 1479, 'instance': 2205, 'restore': 3758, 'noh': 3031, 'amazingly': 163, 'spine': 4218, 'assign': 308, 'atooa': 332, 'hiho': 1957, 'sebastian': 3946, 'peoples': 3303, 'someday': 4169, 'personas': 3329, 'legally': 2473, 'boi': 521, 'comfort': 791, 'psst': 3550, 'textbook': 4463, 'outrage': 3193, 'asexual': 292, 'pause': 3275, 'dheas': 1146, 'exercise': 1436, 'saved': 3901, 'yusuf': 4994, 'track': 4587, 'analyst': 183, 'strip': 4309, 'monster': 2841, 'russian': 3851, 'drunk': 1261, 'unemployed': 4683, 'fruit': 1656, 'duck': 1263, 'vaccine': 4739, 'gates': 1702, 'uprising': 4719, 'tamir': 4422, 'rice': 3778, 'upload': 4716, 'foot': 1599, 'awake': 353, 'indiana': 2160, 'pant': 3232, 'unjust': 4701, 'quickly': 3590, 'initial': 2185, 'whine': 4861, 'firm': 1565, 'lawyer': 2450, 'jenny': 2314, 'susan': 4382, 'spectrum': 4208, 'aro': 273, 'ex': 1421, 'derp': 1122, 'judicial': 2354, 'pakistan': 3221, 'shenanigan': 4035, 'ramsey': 3622, 'resource': 3748, 'penalty': 3296, 'harris': 1889, 'closely': 757, 'direct': 1159, 'whiny': 4862, 'unsubscribed': 4707, 'vandal': 4746, 'neven': 2970, 'suit': 4351, 'round': 3838, 'marty': 2662, 'mic': 2765, 'shocked': 4051, 'amaze': 160, 'jew': 2321, 'declare': 1062, 'cee': 667, 'admiration': 62, 'logically': 2554, 'wild': 4883, 'pack': 3213, 'ottoman': 3183, 'lime': 2524, 'informative': 2180, 'shane': 4019, 'derpvaxxer': 1123, 'jog': 2332, 'han': 1865, 'lockhart': 2551, 'eliminate': 1320, 'knutson': 2412, 'misconception': 2804, 'uniral': 4693, 'danvers': 1020, 'electrical': 1316, 'ricardo': 3777, 'glory': 1758, 'darwin': 1027, 'republic': 3736, 'robbery': 3814, 'anna': 205, 'harbour': 1881, 'undervalue': 4680, 'maddie': 2608, 'slack': 4116, 'stomp': 4290, 'indigenous': 2163, 'humor': 2057, 'tend': 4450, 'absurd': 20, 'creep': 953, 'selassie': 3965, 'pissed': 3367, 'eachother': 1281, 'slap': 4119, 'idiots': 2090, 'institutional': 2211, 'cummings': 985, 'crisis': 960, 'disconnect': 1167, 'predator': 3457, 'intersex': 2234, 'facist': 1470, 'soviet': 4192, 'union': 4691, 'arnold': 271, 'dummy': 1270, 'rig': 3788, 'beast': 416, 'sinister': 4099, 'historically': 1979, 'legitimate': 2476, 'hungry': 2061, 'sirrus': 4103, 'noone': 3037, 'depreciate': 1115, 'trick': 4615, 'snowflake': 4147, 'aisle': 117, 'mini': 2793, 'suspicious': 4386, 'purity': 3569, 'lgbtqia': 2502, 'eu': 1398, 'fourth': 1629, 'inferior': 2174, 'iran': 2257, 'mp': 2874, 'blindly': 508, 'selena': 3967, 'believer': 442, 'aps': 253, 'walmart': 4800, 'mole': 2835, 'upper': 4718, 'narcissist': 2917, 'allah': 136, 'fraud': 1639, 'rain': 3617, 'forest': 1608, 'freek': 1645, 'eternity': 1394, 'olive': 3130, 'multi': 2886, 'homeless': 1999, 'disprove': 1193, 'alien': 130, 'lunch': 2594, 'whites': 4866, 'maas': 2603, 'intimidate': 2238, 'divorce': 1208, 'lorenna': 2572, 'needed': 2952, 'slaughter': 4120, 'nationalism': 2926, 'dpsdps': 1245, 'cap': 641, 'tactic': 4409, 'arabs': 256, 'success': 4336, 'reid': 3694, 'ish': 2266, 'statistically': 4259, 'print': 3491, 'electronic': 1317, 'approach': 249, 'enlighten': 1360, 'usual': 4733, 'york': 4976, 'whoa': 4869, 'helicopter': 1928, 'grass': 1800, 'intend': 2219, 'statment': 4261, 'periodt': 3317, 'retarded': 3761, 'suppress': 4368, 'freshman': 1650, 'senior': 3978, 'sabbath': 3855, 'wouldave': 4938, 'denmark': 1108, 'forgot': 1613, 'egg': 1305, 'immunity': 2123, 'conform': 838, 'gather': 1703, 'problematic': 3508, 'pr': 3447, 'nlike': 3001, 'popular': 3421, 'penis': 3298, 'disproportionately': 1192, 'italy': 2283, 'invade': 2244, 'andres': 194, 'achievement': 39, 'trendy': 4611, 'relatively': 3703, 'bright': 568, 'unrest': 4706, 'contention': 870, 'civilization': 735, 'henderson': 1935, 'contact': 867, 'sooner': 4181, 'condition': 829, 'respectfully': 3752, 'tryin': 4629, 'deceit': 1055, 'pearn': 3290, 'nursing': 3079, 'harper': 1888, 'utterly': 4737, 'assistance': 310, 'amazon': 164, 'klan': 2404, 'muscle': 2894, 'paradigm': 3240, 'focused': 1592, 'thedargon': 4478, 'sight': 4075, 'disappear': 1165, 'tribal': 4613, 'gang': 1693, 'savvakhs': 3905, 'scam': 3911, 'affiliate': 79, 'used': 4728, 'troop': 4618, 'horrendous': 2025, 'cage': 622, 'arrive': 278, 'maria': 2647, 'botina': 542, 'nra': 3060, 'launder': 2444, 'prisonnso': 3497, 'giuliani': 1746, 'lev': 2494, 'parnas': 3245, 'igore': 2100, 'fruman': 1657, 'stack': 4238, 'ron': 3831, 'manna': 2639, 'maker': 2622, 'scum': 3938, 'instruction': 2212, 'makeup': 2623, 'contrary': 877, 'edgy': 1294, 'enoch': 1361, 'powell': 3441, 'gentleman': 1725, 'times': 4541, 'ye': 4961, 'jun': 2359, 'sandwich': 3884, 'hussein': 2066, 'groups': 1827, 'oppressive': 3158, 'relaxed': 3704, 'curly': 989, 'condone': 830, 'hers': 1945, 'heavily': 1924, 'variety': 4749, 'data': 1030, 'frankly': 1638, 'toilet': 4552, 'insight': 2196, 'apologize': 237, 'tension': 4451, 'annoyed': 210, 'brainwashed': 556, 'definite': 1077, 'foolish': 1598, 'workforce': 4925, 'appearance': 243, 'sympathy': 4401, 'nyc': 3087, 'prisoner': 3496, 'fashion': 1505, 'counterpart': 925, 'scotland': 3929, 'lilyx': 2523, 'nosferatu': 3045, 'distroy': 1200, 'micheal': 2767, 'poc': 3395, 'christmas': 723, 'terrify': 4454, 'thanks': 4470, 'deport': 1114, 'guard': 1833, 'purchase': 3565, 'fck': 1522, 'boet': 520, 'gg': 1736, 'reservation': 3744, 'item': 2285, 'proper': 3531, 'prophet': 3534, 'challenge': 681, 'lauper': 2445, 'creepy': 954, 'oml': 3135, 'punch': 3561, 'gem': 1712, 'lbj': 2454, 'sophomore': 4183, 'women': 4917, 'talent': 4417, 'nnoh': 3016, 'regulator': 3692, 'elevator': 1319, 'flaw': 1578, 'societal': 4155, 'lalala': 2428, 'guys': 1847, 'feminine': 1532, 'maverick': 2700, 'via': 4762, 'academic': 25, 'conclude': 826, 'heal': 1910, 'heck': 1926, 'gon': 1770, 'frickin': 1651, 'toxic': 4585, 'ball': 385, 'coen': 770, 'radio': 3612, 'announce': 208, 'derogatory': 1121, 'pimp': 3363, 'nnthis': 3021, 'revolt': 3769, 'ultimate': 4662, 'gone': 1771, 'nlol': 3002, 'microaggression': 2769, 'retweet': 3764, 'salty': 3870, 'rebel': 3661, 'boyfriend': 551, 'niam': 2986, 'religiously': 3711, 'gta': 1830, 'manage': 2631, 'tweet': 4641, 'earlier': 1283, 'presumably': 3475, 'aplantation': 235, 'politicsa': 3415, 'heat': 1921, 'furth': 1682, 'mid': 2770, 'sink': 4100, 'par': 3238, 'plead': 3386, 'suspect': 4383, 'doty': 1239, 'whitaker': 4864, 'labor': 2421, 'fighter': 1547, 'gays': 1708, 'outcome': 3190, 'underclass': 4676, 'experiment': 1445, 'criticise': 963, 'hooligan': 2021, 'forth': 1618, 'fr': 1631, 'relatable': 3697, 'discount': 1168, 'civilized': 736, 'spray': 4230, 'yoo': 4975, 'androgynous': 196, 'hence': 1934, 'aita': 118, 'maggie': 2613, 'sayin': 3908, 'handful': 1868, 'ofabooste': 3109, 'lust': 2595, 'samuel': 3875, 'arse': 280, 'homie': 2002, 'gandhi': 1692, 'rat': 3637, 'mohamed': 2833, 'deadly': 1043, 'motivated': 2864, 'testimony': 4460, 'scenario': 3917, 'bait': 383, 'theyave': 4500, 'reynolds': 3774, 'harmful': 1887, 'sexy': 4009, 'excel': 1426, 'applaud': 244, 'atlantismystic': 328, 'dorn': 1235, 'captain': 644, 'blatant': 501, 'panthers': 3234, 'subscriber': 4331, 'cancel': 636, 'girly': 1745, 'starseed': 4250, 'bud': 589, 'disproportionate': 1191, 'grandparent': 1797, 'vanesa': 4748, 'yeet': 4965, 'cringe': 959, 'user': 4731, 'loyal': 2590, 'mk': 2825, 'ultra': 4664, 'contract': 874, 'baddie': 377, 'repress': 3735, 'nnmy': 3014, 'strive': 4311, 'diversity': 1202, 'edit': 1295, 'guo': 1845, 'flame': 1575, 'alongside': 147, 'molyneux': 2837, 'duty': 1278, 'mythological': 2905, 'film': 1552, 'disorder': 1187, 'launch': 2443, 'iconic': 2078, 'affair': 77, 'cretin': 955, 'arsehole': 281, 'riddance': 3784, 'implement': 2127, 'duncan': 1273, 'dealer': 1046, 'gorge': 1777, 'wee': 4833, 'grave': 1802, 'tan': 4423, 'nblm': 2940, 'phil': 3342, 'mckracken': 2715, 'campbell': 630, 'joseph': 2342, 'divine': 1205, 'default': 1071, 'foreigner': 1607, 'misogynist': 2811, 'nancy': 2914, 'pelosi': 3294, 'slang': 4118, 'uae': 4653, 'libtard': 2509, 'fly': 1590, 'childish': 708, 'superficial': 4358, 'coworker': 940, 'repulsive': 3739, 'congressional': 847, 'progressive': 3522, 'sola': 4160, 'colubrum': 786, 'float': 1581, 'traitor': 4595, 'eyes': 1463, 'hound': 2036, 'mattern': 2691, 'harry': 1891, 'handler': 1870, 'debt': 1051, 'app': 239, 'pork': 3423, 'secretly': 3952, 'psychopath': 3554, 'fa': 1464, 'seperate': 3987, 'rival': 3803, 'instigate': 2208, 'manual': 2642, 'admirable': 59, 'novel': 3054, 'firefighter': 1564, 'wrinkle': 4942, 'conceal': 820, 'victory': 4770, 'indirectly': 2165, 'aunt': 343, 'uncle': 4673, 'vegans': 4754, 'littler': 2538, 'stretch': 4307, 'semitic': 3975, 'misspell': 2815, 'tian': 4535, 'dc': 1039, 'blade': 494, 'hairy': 1858, 'neo': 2963, 'flower': 1584, 'weirdo': 4838, 'chemistry': 699, 'bravo': 559, 'regime': 3688, 'faster': 1508, 'loll': 2557, 'nazi': 2936, 'solely': 4162, 'jo': 2327, 'rescue': 3742, 'lobby': 2547, 'sleeve': 4127, 'ck': 737, 'evening': 1406, 'strategy': 4300, 'kat': 2375, 'mulenga': 2885, 'deception': 1058, 'indoctrination': 2168, 'minalinsky': 2785, 'sway': 4388, 'ultimately': 4663, 'zach': 4995, 'sterilization': 4277, 'joe': 2330, 'rant': 3628, 'royalty': 3841, 'niece': 2991, 'selective': 3966, 'sweetheart': 4397, 'riots': 3797, 'prevalent': 3479, 'mayja': 2706, 'gamer': 1690, 'wisdom': 4901, 'jealousy': 2308, 'kenny': 2383, 'yay': 4960, 'inherit': 2184, 'mcleod': 2716, 'vagina': 4740, 'productive': 3512, 'artwork': 288, 'netherlands': 2967, 'narcissistic': 2918, 'grey': 1817, 'awe': 359, 'speach': 4198, 'somewhat': 4175, 'incite': 2143, 'fk': 1573, 'bxndit': 617, 'biased': 466, 'revelation': 3765, 'rocco': 3820, 'cocoa': 768, 'butter': 611, 'jussie': 2362, 'racista': 3607, 'cherry': 701, 'spin': 4217, 'ffs': 1544, 'dept': 1118, 'meeting': 2735, 'journalist': 2345, 'permission': 3319, 'meat': 2726, 'utopia': 4735, 'geek': 1710, 'atlanta': 326, 'recall': 3663, 'cartel': 652, 'clip': 754, 'wit': 4904, 'detention': 1140, 'raciest': 3604, 'miserably': 2807, 'dpsdpsdps': 1246, 'regular': 3690, 'nget': 2976, 'malaysia': 2625, 'selve': 3973, 'alt': 152, 'robert': 3815, 'holler': 1992, 'reward': 3772, 'chart': 692, 'technically': 4441, 'handout': 1871, 'psychic': 3551, 'invest': 2249, 'profession': 3513, 'spoiled': 4223, 'colosseum': 782, 'hol': 1987, 'performer': 3314, 'nerd': 2964, 'islamic': 2269, 'dedicated': 1065, 'pin': 3364, 'needs': 2954, 'urself': 4724, 'womans': 4915, 'gr': 1785, 'worshipper': 4933, 'anot': 213, 'decrease': 1064, 'stoke': 4288, 'organ': 3164, 'heroas': 1944, 'sharp': 4022, 'karma': 2374, 'convey': 889, 'lgbttq': 2503, 'pavement': 3276, 'brutally': 585, 'amongst': 175, 'expendable': 1443, 'introduce': 2242, 'democratically': 1095, 'confusing': 842, 'gathering': 1704, 'vigorito': 4775, 'dose': 1236, 'hamster': 1864, 'thier': 4502, 'hern': 1941, 'happend': 1876, 'autistic': 347, 'exhibit': 1437, 'med': 2729, 'settle': 3998, 'rick': 3781, 'connie': 850, 'schuiling': 3924, 'marketing': 2653, 'prob': 3505, 'blackmail': 493, 'popcorn': 3420, 'fixate': 1572, 'controln': 881, 'desperately': 1131, 'impartial': 2126, 'coincidence': 772, 'gump': 1842, 'fairness': 1480, 'satanist': 3894, 'savile': 3902, 'asain': 290, 'jeffrey': 2312, 'beaver': 421, 'redefine': 3677, 'opposition': 3154, 'surgeon': 4374, 'geez': 1711, 'stefan': 4268, 'daniel': 1016, 'shaver': 4024, 'shead': 4028, 'pedophile': 3291, 'positivity': 3431, 'score': 3928, 'stephens': 4273, 'sweep': 4394, 'mattering': 2690, 'misnomer': 2810, 'nic': 2988, 'effective': 1303, 'range': 3626, 'cup': 986, 'host': 2033, 'working': 4926, 'unfairly': 4685, 'stargate': 4248, 'pattyy': 3273, 'polish': 3408, 'upside': 4721, 'hijab': 1958, 'parenthood': 3242, 'braid': 552, 'hamilton': 1862, 'sleepy': 4126, 'riight': 3793, 'jenner': 2313, 'forum': 1623, 'rodney': 3824, 'atrocity': 333, 'pigment': 3360, 'jule': 2355, 'reflect': 3680, 'acome': 41, 'island': 2270, 'documentary': 1214, 'madame': 2607, 'booing': 528, 'surrender': 4378, 'sandberg': 3880, 'prick': 3484, 'fairy': 1481, 'adonat': 66, 'peacefull': 3288, 'bold': 522, 'highlight': 1955, 'valley': 4742, 'dickhead': 1147, 'oxymoron': 3212, 'insist': 2198, 'pen': 3295, 'ghandi': 1738, 'morningstar': 2854, 'feminists': 1535, 'relief': 3708, 'security': 3954, 'warn': 4806, 'guardafui': 1834, 'holdings': 1989, 'fucked': 1662, 'ik': 2102, 'amadeus': 158, 'nshare': 3061, 'pour': 3439, 'choicea': 715, 'egyptian': 1308, 'nubian': 3074, 'libya': 2510, 'stripe': 4310, 'lexus': 2499, 'hiding': 1953, 'bachelor': 369, 'tht': 4527, 'recommend': 3671, 'angle': 200, 'quarantine': 3585, 'minneapolis': 2796, 'dosnt': 1238, 'howas': 2044, 'hominem': 2003, 'blah': 495, 'lifes': 2515, 'jut': 2366, 'marriage': 2656, 'guillam': 1838, 'recognition': 3669, 'geng': 1722, 'mathematic': 2685, 'hoo': 2018, 'disingenuous': 1182, 'qualify': 3582, 'stewart': 4282, 'bat': 405, 'initially': 2186, 'funnel': 1679, 'manic': 2634, 'shenanigans': 4036, 'arrogance': 279, 'planned': 3379, 'sphere': 4214, 'dadada': 1002, 'spider': 4215, 'demos': 1105, 'falcon': 1484, 'moustache': 2869, 'legitimately': 2477, 'pot': 3437, 'counselor': 922, 'shield': 4042, 'rhodesia': 3776, 'saudi': 3898, 'substance': 4332, 'corax': 902, 'petra': 3336, 'paviaia': 3278, 'ballet': 386, 'honored': 2016, 'tad': 4410, 'fundamental': 1675, 'arabia': 255, 'naacp': 2908, 'aftermath': 89, 'dawson': 1037, 'twin': 4643, 'pronunciation': 3527, 'lover': 2587, 'lothbrok': 2578, 'ocean': 3104, 'urban': 4723, 'aj': 119, 'righteous': 3791, 'ist': 2278, 'tale': 4416, 'frustrating': 1658, 'april': 252, 'kabbalist': 2370, 'connect': 848, 'station': 4257, 'jared': 2302, 'leadership': 2458, 'depth': 1119, 'castle': 656, 'arguement': 264, 'contemplate': 868, 'hunger': 2060, 'overrun': 3202, 'morrison': 2857, 'introvert': 2243, 'mather': 2687, 'crude': 972, 'muhammad': 2884, 'allegation': 137, 'winner': 4897, 'quantum': 3584, 'mechanic': 2727, 'pence': 3297, 'thecounterpointer': 4477, 'pantsa': 3236, 'ascribe': 291, 'forefather': 1605, 'manipulation': 2637, 'gayness': 1707, 'practically': 3448, 'plz': 3393, 'marijuana': 2649, 'isolate': 2273, 'skate': 4111, 'prostitute': 3538, 'analyze': 184, 'martial': 2660, 'mcmahon': 2717, 'americaas': 169, 'houses': 2040, 'se': 3940, 'lifetime': 2517, 'savage': 3899, 'rank': 3627, 'settlement': 3999, 'preference': 3461, 'converse': 886, 'assist': 309, 'artery': 283, 'orr': 3178, 'lbgtq': 2453, 'massa': 2673, 'picking': 3356, 'miracle': 2801, 'minus': 2799, 'oppressor': 3159, 'misunderstood': 2821, 'daring': 1024, 'deceased': 1054, 'huffpost': 2049, 'paycheck': 3281, 'whale': 4846}\n"
          ],
          "name": "stdout"
        }
      ]
    },
    {
      "cell_type": "code",
      "metadata": {
        "colab": {
          "base_uri": "https://localhost:8080/",
          "height": 335
        },
        "id": "axiyjvfRYraS",
        "outputId": "669adb04-f95f-463a-a84c-6777bd49c077"
      },
      "source": [
        "sns.countplot(y_smote[3])"
      ],
      "execution_count": null,
      "outputs": [
        {
          "output_type": "stream",
          "text": [
            "/usr/local/lib/python3.7/dist-packages/seaborn/_decorators.py:43: FutureWarning: Pass the following variable as a keyword arg: x. From version 0.12, the only valid positional argument will be `data`, and passing other arguments without an explicit keyword will result in an error or misinterpretation.\n",
            "  FutureWarning\n"
          ],
          "name": "stderr"
        },
        {
          "output_type": "execute_result",
          "data": {
            "text/plain": [
              "<matplotlib.axes._subplots.AxesSubplot at 0x7f0dd97d4390>"
            ]
          },
          "metadata": {
            "tags": []
          },
          "execution_count": 24
        },
        {
          "output_type": "display_data",
          "data": {
            "image/png": "[encoded data removed]",
            "text/plain": [
              "<Figure size 432x288 with 1 Axes>"
            ]
          },
          "metadata": {
            "tags": [],
            "needs_background": "light"
          }
        }
      ]
    },
    {
      "cell_type": "markdown",
      "metadata": {
        "id": "9CmtUN0GYyPP"
      },
      "source": [
        "**Naive Bayes**"
      ]
    },
    {
      "cell_type": "code",
      "metadata": {
        "colab": {
          "base_uri": "https://localhost:8080/"
        },
        "id": "E_Q7qPSEYs-u",
        "outputId": "916bdfcd-99ac-4e9a-d809-f996d42e475e"
      },
      "source": [
        "for i in range(0,4):\n",
        "  Naive = naive_bayes.MultinomialNB()\n",
        "  Naive.fit(X_smote[i],y_smote[i])\n",
        "  predictions_NB = Naive.predict(Valid_X_Tfidf)\n",
        "  print(\"Naive Bayes Accuracy Score on valid set-> \",accuracy_score(predictions_NB, Valid_Y)*100)\n",
        "  predictions_NB_T = Naive.predict(Test_X_Tfidf)\n",
        "  print(\"Naive Bayes Accuracy Score on test set-> \",accuracy_score(predictions_NB_T, Test_Y)*100)\n",
        "  predictions_NB_Tr = Naive.predict(X_smote[i])\n",
        "  print(\"Naive Bayes Accuracy Score on training set -> \",accuracy_score(predictions_NB_Tr, y_smote[i])*100)\n",
        "  print ('\\n*Classification Report: Naive bayes\\n', classification_report(Test_Y, predictions_NB_T))\n",
        "  print(confusion_matrix(Test_Y, predictions_NB_T))\n"
      ],
      "execution_count": null,
      "outputs": [
        {
          "output_type": "stream",
          "text": [
            "Naive Bayes Accuracy Score on valid set->  91.88673708920187\n",
            "Naive Bayes Accuracy Score on test set->  91.19408242338851\n",
            "Naive Bayes Accuracy Score on training set ->  85.77242479238849\n",
            "Naive Bayes Accuracy Score on training set ->  93.31530625078607\n",
            "\n",
            "*Classification Report: Naive bayes\n",
            "               precision    recall  f1-score   support\n",
            "\n",
            "           0       0.92      0.99      0.95      2568\n",
            "           1       0.61      0.22      0.32       271\n",
            "\n",
            "    accuracy                           0.91      2839\n",
            "   macro avg       0.77      0.60      0.64      2839\n",
            "weighted avg       0.89      0.91      0.89      2839\n",
            "\n",
            "[[2530   38]\n",
            " [ 212   59]]\n",
            "Naive Bayes Accuracy Score on valid set->  89.21654929577466\n",
            "Naive Bayes Accuracy Score on test set->  89.99647763296934\n",
            "Naive Bayes Accuracy Score on training set ->  88.51054078826765\n",
            "Naive Bayes Accuracy Score on training set ->  92.12048798893221\n",
            "\n",
            "*Classification Report: Naive bayes\n",
            "               precision    recall  f1-score   support\n",
            "\n",
            "           0       0.95      0.94      0.94      2568\n",
            "           1       0.48      0.55      0.51       271\n",
            "\n",
            "    accuracy                           0.90      2839\n",
            "   macro avg       0.72      0.74      0.73      2839\n",
            "weighted avg       0.91      0.90      0.90      2839\n",
            "\n",
            "[[2407  161]\n",
            " [ 123  148]]\n",
            "Naive Bayes Accuracy Score on valid set->  82.79049295774648\n",
            "Naive Bayes Accuracy Score on test set->  83.33920394505108\n",
            "Naive Bayes Accuracy Score on training set ->  88.64359508190282\n",
            "Naive Bayes Accuracy Score on training set ->  86.61803546723682\n",
            "\n",
            "*Classification Report: Naive bayes\n",
            "               precision    recall  f1-score   support\n",
            "\n",
            "           0       0.96      0.85      0.90      2568\n",
            "           1       0.33      0.71      0.45       271\n",
            "\n",
            "    accuracy                           0.83      2839\n",
            "   macro avg       0.65      0.78      0.67      2839\n",
            "weighted avg       0.90      0.83      0.86      2839\n",
            "\n",
            "[[2174  394]\n",
            " [  79  192]]\n",
            "Naive Bayes Accuracy Score on valid set->  76.29107981220658\n",
            "Naive Bayes Accuracy Score on test set->  77.4568510038746\n",
            "Naive Bayes Accuracy Score on training set ->  87.88066267959029\n",
            "Naive Bayes Accuracy Score on training set ->  80.80115708715884\n",
            "\n",
            "*Classification Report: Naive bayes\n",
            "               precision    recall  f1-score   support\n",
            "\n",
            "           0       0.97      0.77      0.86      2568\n",
            "           1       0.27      0.77      0.40       271\n",
            "\n",
            "    accuracy                           0.77      2839\n",
            "   macro avg       0.62      0.77      0.63      2839\n",
            "weighted avg       0.90      0.77      0.82      2839\n",
            "\n",
            "[[1990  578]\n",
            " [  62  209]]\n"
          ],
          "name": "stdout"
        }
      ]
    },
    {
      "cell_type": "markdown",
      "metadata": {
        "id": "qPYMK3h5ZPZc"
      },
      "source": [
        "**SVM**"
      ]
    },
    {
      "cell_type": "code",
      "metadata": {
        "colab": {
          "base_uri": "https://localhost:8080/"
        },
        "id": "lAXZNZrWZRbq",
        "outputId": "54326a44-3c16-4978-fa58-63dcf2a2eafd"
      },
      "source": [
        "for i in range(0,4):\n",
        "  SVM = svm.SVC(C=1.0, kernel='linear', degree=3, gamma='auto')\n",
        "  SVM.fit(X_smote[i],y_smote[i])\n",
        "  predictions_SVM = SVM.predict(Valid_X_Tfidf)\n",
        "  print(\"SVM Accuracy Score on valid set-> \",accuracy_score(predictions_SVM, Valid_Y)*100)\n",
        "  #accuracy on test set\n",
        "  predictions_SVM_T = SVM.predict(Test_X_Tfidf)\n",
        "  print(\"SVM Accuracy Score test set -> \",accuracy_score(predictions_SVM_T, Test_Y)*100)\n",
        "  # Training set accuracy SVM\n",
        "  predictions_SVM_Tr = SVM.predict(X_smote[i])\n",
        "  print(\"SVM Accuracy Score on training set -> \",accuracy_score(predictions_SVM_Tr, y_smote[i])*100)\n",
        "  print('\\n*Classification Report: SVM\\n', classification_report(Test_Y, predictions_SVM_T))\n",
        "  print(confusion_matrix(Test_Y, predictions_SVM_T))"
      ],
      "execution_count": null,
      "outputs": [
        {
          "output_type": "stream",
          "text": [
            "SVM Accuracy Score on valid set->  91.34389671361502\n",
            "SVM Accuracy Score test set ->  91.01796407185628\n",
            "SVM Accuracy Score on training set ->  93.49392289501182\n",
            "\n",
            "*Classification Report: SVM\n",
            "               precision    recall  f1-score   support\n",
            "\n",
            "           0       0.95      0.95      0.95      2568\n",
            "           1       0.53      0.54      0.54       271\n",
            "\n",
            "    accuracy                           0.91      2839\n",
            "   macro avg       0.74      0.75      0.74      2839\n",
            "weighted avg       0.91      0.91      0.91      2839\n",
            "\n",
            "[[2437  131]\n",
            " [ 124  147]]\n",
            "SVM Accuracy Score on valid set->  89.05516431924883\n",
            "SVM Accuracy Score test set ->  88.90454385346953\n",
            "SVM Accuracy Score on training set ->  93.35930339138405\n",
            "\n",
            "*Classification Report: SVM\n",
            "               precision    recall  f1-score   support\n",
            "\n",
            "           0       0.96      0.92      0.94      2568\n",
            "           1       0.44      0.62      0.52       271\n",
            "\n",
            "    accuracy                           0.89      2839\n",
            "   macro avg       0.70      0.77      0.73      2839\n",
            "weighted avg       0.91      0.89      0.90      2839\n",
            "\n",
            "[[2355  213]\n",
            " [ 102  169]]\n",
            "SVM Accuracy Score on valid set->  87.51467136150235\n",
            "SVM Accuracy Score test set ->  88.20007044734062\n",
            "SVM Accuracy Score on training set ->  94.0723573084024\n",
            "\n",
            "*Classification Report: SVM\n",
            "               precision    recall  f1-score   support\n",
            "\n",
            "           0       0.96      0.90      0.93      2568\n",
            "           1       0.43      0.68      0.52       271\n",
            "\n",
            "    accuracy                           0.88      2839\n",
            "   macro avg       0.69      0.79      0.73      2839\n",
            "weighted avg       0.91      0.88      0.89      2839\n",
            "\n",
            "[[2320  248]\n",
            " [  87  184]]\n",
            "SVM Accuracy Score on valid set->  86.57570422535211\n",
            "SVM Accuracy Score test set ->  86.68545262416345\n",
            "SVM Accuracy Score on training set ->  94.6586925139204\n",
            "\n",
            "*Classification Report: SVM\n",
            "               precision    recall  f1-score   support\n",
            "\n",
            "           0       0.96      0.89      0.92      2568\n",
            "           1       0.39      0.69      0.50       271\n",
            "\n",
            "    accuracy                           0.87      2839\n",
            "   macro avg       0.68      0.79      0.71      2839\n",
            "weighted avg       0.91      0.87      0.88      2839\n",
            "\n",
            "[[2273  295]\n",
            " [  83  188]]\n"
          ],
          "name": "stdout"
        }
      ]
    },
    {
      "cell_type": "markdown",
      "metadata": {
        "id": "zsAoIhRkb_mu"
      },
      "source": [
        "**Logistic Regression**"
      ]
    },
    {
      "cell_type": "code",
      "metadata": {
        "colab": {
          "base_uri": "https://localhost:8080/"
        },
        "id": "aljBrRSycD1e",
        "outputId": "5f547e6d-b682-41df-a4ac-1a841521b43e"
      },
      "source": [
        "for i in range(0,4):\n",
        "    LR = LogisticRegression()\n",
        "    model = LR.fit(X_smote[i],y_smote[i])\n",
        "    prediction_LR = model.predict(Valid_X_Tfidf)\n",
        "    print(\"Logistic Regression Accuracy Score on valid set-> \",accuracy_score(prediction_LR, Valid_Y)*100)\n",
        "    #accuracy on test set\n",
        "    predictions_LR_T = model.predict(Test_X_Tfidf)\n",
        "    print(\"Logistic Regression Accuracy Score test set -> \",accuracy_score(predictions_LR_T, Test_Y)*100)\n",
        "    # Training set accuracy SVM\n",
        "    predictions_LR_Tr = model.predict(X_smote[i])\n",
        "    print(\"Logistic Regression Accuracy Score on training set -> \",accuracy_score(predictions_LR_Tr, y_smote[i])*100)\n",
        "    print('\\n*Classification Report: Logistic Regression\\n', classification_report(Test_Y, predictions_LR_T))\n",
        "    print(confusion_matrix(Test_Y, predictions_LR_T))"
      ],
      "execution_count": null,
      "outputs": [
        {
          "output_type": "stream",
          "text": [
            "Logistic Regression Accuracy Score on valid set->  91.56396713615024\n",
            "Logistic Regression Accuracy Score test set ->  91.54631912645299\n",
            "Logistic Regression Accuracy Score on training set ->  91.21707089039212\n",
            "\n",
            "*Classification Report: Logistic Regression\n",
            "               precision    recall  f1-score   support\n",
            "\n",
            "           0       0.94      0.96      0.95      2568\n",
            "           1       0.57      0.45      0.51       271\n",
            "\n",
            "    accuracy                           0.92      2839\n",
            "   macro avg       0.76      0.71      0.73      2839\n",
            "weighted avg       0.91      0.92      0.91      2839\n",
            "\n",
            "[[2476   92]\n",
            " [ 148  123]]\n",
            "Logistic Regression Accuracy Score on valid set->  89.99413145539906\n",
            "Logistic Regression Accuracy Score test set ->  90.41916167664671\n",
            "Logistic Regression Accuracy Score on training set ->  90.8890925756187\n",
            "\n",
            "*Classification Report: Logistic Regression\n",
            "               precision    recall  f1-score   support\n",
            "\n",
            "           0       0.96      0.93      0.95      2568\n",
            "           1       0.50      0.63      0.56       271\n",
            "\n",
            "    accuracy                           0.90      2839\n",
            "   macro avg       0.73      0.78      0.75      2839\n",
            "weighted avg       0.92      0.90      0.91      2839\n",
            "\n",
            "[[2397  171]\n",
            " [ 101  170]]\n",
            "Logistic Regression Accuracy Score on valid set->  88.3362676056338\n",
            "Logistic Regression Accuracy Score test set ->  88.48185980979218\n",
            "Logistic Regression Accuracy Score on training set ->  91.91577954982913\n",
            "\n",
            "*Classification Report: Logistic Regression\n",
            "               precision    recall  f1-score   support\n",
            "\n",
            "           0       0.97      0.91      0.93      2568\n",
            "           1       0.43      0.69      0.53       271\n",
            "\n",
            "    accuracy                           0.88      2839\n",
            "   macro avg       0.70      0.80      0.73      2839\n",
            "weighted avg       0.91      0.88      0.90      2839\n",
            "\n",
            "[[2325  243]\n",
            " [  84  187]]\n",
            "Logistic Regression Accuracy Score on valid set->  87.05985915492957\n",
            "Logistic Regression Accuracy Score test set ->  87.07291299753435\n",
            "Logistic Regression Accuracy Score on training set ->  92.4348662954561\n",
            "\n",
            "*Classification Report: Logistic Regression\n",
            "               precision    recall  f1-score   support\n",
            "\n",
            "           0       0.97      0.89      0.93      2568\n",
            "           1       0.40      0.73      0.52       271\n",
            "\n",
            "    accuracy                           0.87      2839\n",
            "   macro avg       0.69      0.81      0.72      2839\n",
            "weighted avg       0.91      0.87      0.89      2839\n",
            "\n",
            "[[2275  293]\n",
            " [  74  197]]\n"
          ],
          "name": "stdout"
        },
        {
          "output_type": "stream",
          "text": [
            "/usr/local/lib/python3.7/dist-packages/sklearn/linear_model/_logistic.py:940: ConvergenceWarning: lbfgs failed to converge (status=1):\n",
            "STOP: TOTAL NO. of ITERATIONS REACHED LIMIT.\n",
            "\n",
            "Increase the number of iterations (max_iter) or scale the data as shown in:\n",
            "    https://scikit-learn.org/stable/modules/preprocessing.html\n",
            "Please also refer to the documentation for alternative solver options:\n",
            "    https://scikit-learn.org/stable/modules/linear_model.html#logistic-regression\n",
            "  extra_warning_msg=_LOGISTIC_SOLVER_CONVERGENCE_MSG)\n"
          ],
          "name": "stderr"
        }
      ]
    },
    {
      "cell_type": "markdown",
      "metadata": {
        "id": "izyK1SJidi8o"
      },
      "source": [
        "**KNN**"
      ]
    },
    {
      "cell_type": "code",
      "metadata": {
        "colab": {
          "base_uri": "https://localhost:8080/"
        },
        "id": "eOtc8fHndk-6",
        "outputId": "32cc5c4f-a9d3-45e0-c328-2302a0c91237"
      },
      "source": [
        "lst_acc = []\n",
        "lst_f1 = []\n",
        "lst_recall = []\n",
        "lst_prec = []\n",
        "for i in range(0, 4):\n",
        "  print(\"****************************************************************\")\n",
        "  for j in range(1,10):\n",
        "\n",
        "    knn = KNeighborsClassifier(n_neighbors=j)\n",
        "    knn.fit(X_smote[i],y_smote[i])\n",
        "    y_pred = knn.predict(Test_X_Tfidf)\n",
        "    acc = metrics.accuracy_score(Test_Y, y_pred)\n",
        "    recall = metrics.recall_score(Test_Y, y_pred)\n",
        "    precision = metrics.precision_score(Test_Y, y_pred)\n",
        "    f1 = metrics.f1_score(Test_Y, y_pred)\n",
        "    # cr = classification_report(Test_Y, y_pred)\n",
        "    print(\"Accuracy: {:.4f}\" .format(acc), \"F1 Score: {:.4f}\" .format(f1), \"Precision: {:.4f}\" .format(precision), \"Recall: {:.4f}\" .format(recall))\n",
        "    #print(cr)\n",
        "    #print(\"Confusion Matrix :\" confusion_matrix(Test_Y, predictions_SVM_T))\n",
        "    # lst_acc[i].append(acc)\n",
        "    # lst_f1[i].append(f1)\n",
        "    # lst_prec[i].append(precision)\n",
        "    # lst_recall[i].append(recall)\n",
        "  print(\"****************************************************************\")\n",
        ""
      ],
      "execution_count": null,
      "outputs": [
        {
          "output_type": "stream",
          "text": [
            "****************************************************************\n",
            "Accuracy: 0.8897 F1 Score: 0.4061 Precision: 0.4180 Recall: 0.3948\n",
            "Accuracy: 0.8989 F1 Score: 0.3664 Precision: 0.4560 Recall: 0.3063\n",
            "Accuracy: 0.8883 F1 Score: 0.3723 Precision: 0.4017 Recall: 0.3469\n",
            "Accuracy: 0.8954 F1 Score: 0.3667 Precision: 0.4343 Recall: 0.3173\n",
            "Accuracy: 0.8901 F1 Score: 0.3760 Precision: 0.4105 Recall: 0.3469\n",
            "Accuracy: 0.8957 F1 Score: 0.3675 Precision: 0.4365 Recall: 0.3173\n",
            "Accuracy: 0.8926 F1 Score: 0.3659 Precision: 0.4190 Recall: 0.3247\n",
            "Accuracy: 0.8961 F1 Score: 0.3601 Precision: 0.4368 Recall: 0.3063\n",
            "Accuracy: 0.8947 F1 Score: 0.3652 Precision: 0.4300 Recall: 0.3173\n",
            "****************************************************************\n",
            "****************************************************************\n",
            "Accuracy: 0.8739 F1 Score: 0.3849 Precision: 0.3601 Recall: 0.4133\n",
            "Accuracy: 0.8838 F1 Score: 0.3820 Precision: 0.3878 Recall: 0.3764\n",
            "Accuracy: 0.8697 F1 Score: 0.3874 Precision: 0.3514 Recall: 0.4317\n",
            "Accuracy: 0.8788 F1 Score: 0.3901 Precision: 0.3754 Recall: 0.4059\n",
            "Accuracy: 0.8707 F1 Score: 0.3894 Precision: 0.3545 Recall: 0.4317\n",
            "Accuracy: 0.8785 F1 Score: 0.3937 Precision: 0.3758 Recall: 0.4133\n",
            "Accuracy: 0.8714 F1 Score: 0.3845 Precision: 0.3540 Recall: 0.4207\n",
            "Accuracy: 0.8792 F1 Score: 0.3820 Precision: 0.3732 Recall: 0.3911\n",
            "Accuracy: 0.8735 F1 Score: 0.3757 Precision: 0.3553 Recall: 0.3985\n",
            "****************************************************************\n",
            "****************************************************************\n",
            "Accuracy: 0.8686 F1 Score: 0.3875 Precision: 0.3491 Recall: 0.4354\n",
            "Accuracy: 0.8820 F1 Score: 0.4029 Precision: 0.3897 Recall: 0.4170\n",
            "Accuracy: 0.8626 F1 Score: 0.3906 Precision: 0.3388 Recall: 0.4613\n",
            "Accuracy: 0.8725 F1 Score: 0.3946 Precision: 0.3609 Recall: 0.4354\n",
            "Accuracy: 0.8630 F1 Score: 0.3912 Precision: 0.3397 Recall: 0.4613\n",
            "Accuracy: 0.8679 F1 Score: 0.3883 Precision: 0.3480 Recall: 0.4391\n",
            "Accuracy: 0.8602 F1 Score: 0.3787 Precision: 0.3288 Recall: 0.4465\n",
            "Accuracy: 0.8686 F1 Score: 0.3895 Precision: 0.3500 Recall: 0.4391\n",
            "Accuracy: 0.8633 F1 Score: 0.3841 Precision: 0.3370 Recall: 0.4465\n",
            "****************************************************************\n",
            "****************************************************************\n",
            "Accuracy: 0.8637 F1 Score: 0.3925 Precision: 0.3415 Recall: 0.4613\n",
            "Accuracy: 0.8764 F1 Score: 0.4041 Precision: 0.3742 Recall: 0.4391\n",
            "Accuracy: 0.8563 F1 Score: 0.3910 Precision: 0.3283 Recall: 0.4834\n",
            "Accuracy: 0.8651 F1 Score: 0.3911 Precision: 0.3436 Recall: 0.4539\n",
            "Accuracy: 0.8549 F1 Score: 0.3851 Precision: 0.3233 Recall: 0.4760\n",
            "Accuracy: 0.8609 F1 Score: 0.3818 Precision: 0.3315 Recall: 0.4502\n",
            "Accuracy: 0.8542 F1 Score: 0.3765 Precision: 0.3181 Recall: 0.4613\n",
            "Accuracy: 0.8570 F1 Score: 0.3676 Precision: 0.3181 Recall: 0.4354\n",
            "Accuracy: 0.8492 F1 Score: 0.3612 Precision: 0.3033 Recall: 0.4465\n",
            "****************************************************************\n"
          ],
          "name": "stdout"
        }
      ]
    },
    {
      "cell_type": "code",
      "metadata": {
        "colab": {
          "base_uri": "https://localhost:8080/",
          "height": 265
        },
        "id": "-t-sEs-1gmIs",
        "outputId": "7382eeb0-b5c2-4af8-8a92-25151a8c3159"
      },
      "source": [
        "plt.plot(lst_acc)\n",
        "plt.plot(lst_f1)\n",
        "plt.plot(lst_recall)\n",
        "plt.plot(lst_prec)\n",
        "plt.show()"
      ],
      "execution_count": null,
      "outputs": [
        {
          "output_type": "display_data",
          "data": {
            "image/png": "[encoded data removed]",
            "text/plain": [
              "<Figure size 432x288 with 1 Axes>"
            ]
          },
          "metadata": {
            "tags": [],
            "needs_background": "light"
          }
        }
      ]
    },
    {
      "cell_type": "markdown",
      "metadata": {
        "id": "UIwJxO4xpQ_l"
      },
      "source": [
        "## **ADASYN**"
      ]
    },
    {
      "cell_type": "code",
      "metadata": {
        "id": "ZAdnh_Ajrj2X",
        "colab": {
          "base_uri": "https://localhost:8080/"
        },
        "outputId": "2eb7be2e-2a45-4221-ba67-985c24683735"
      },
      "source": [
        "ada_list = []\n",
        "for i in range(25,101,25):\n",
        "  print(i)\n",
        "  a = ADASYN(sampling_strategy=i/100)\n",
        "  ada_list.append(a)"
      ],
      "execution_count": null,
      "outputs": [
        {
          "output_type": "stream",
          "text": [
            "25\n",
            "50\n",
            "75\n",
            "100\n"
          ],
          "name": "stdout"
        }
      ]
    },
    {
      "cell_type": "code",
      "metadata": {
        "colab": {
          "base_uri": "https://localhost:8080/"
        },
        "id": "U_3mZOxy5CEV",
        "outputId": "9c045951-e834-4e42-89d4-f12d5c892688"
      },
      "source": [
        "X_ada=[]\n",
        "y_ada=[]\n",
        "for i in range(0,4):\n",
        "  a,b = ada_list[i].fit_sample(Train_X_Tfidf, Train_Y)\n",
        "  X_ada.append(a)\n",
        "  y_ada.append(b)"
      ],
      "execution_count": null,
      "outputs": [
        {
          "output_type": "stream",
          "text": [
            "/usr/local/lib/python3.7/dist-packages/sklearn/utils/deprecation.py:87: FutureWarning: Function safe_indexing is deprecated; safe_indexing is deprecated in version 0.22 and will be removed in version 0.24.\n",
            "  warnings.warn(msg, category=FutureWarning)\n"
          ],
          "name": "stderr"
        }
      ]
    },
    {
      "cell_type": "code",
      "metadata": {
        "colab": {
          "base_uri": "https://localhost:8080/",
          "height": 335
        },
        "id": "E--AKeh05PN8",
        "outputId": "09c1b785-af74-4a95-fee5-106284ef9276"
      },
      "source": [
        "sns.countplot(y_ada[1])"
      ],
      "execution_count": null,
      "outputs": [
        {
          "output_type": "stream",
          "text": [
            "/usr/local/lib/python3.7/dist-packages/seaborn/_decorators.py:43: FutureWarning: Pass the following variable as a keyword arg: x. From version 0.12, the only valid positional argument will be `data`, and passing other arguments without an explicit keyword will result in an error or misinterpretation.\n",
            "  FutureWarning\n"
          ],
          "name": "stderr"
        },
        {
          "output_type": "execute_result",
          "data": {
            "text/plain": [
              "<matplotlib.axes._subplots.AxesSubplot at 0x7f8a800dab90>"
            ]
          },
          "metadata": {
            "tags": []
          },
          "execution_count": 18
        },
        {
          "output_type": "display_data",
          "data": {
            "image/png": "[encoded data removed]",
            "text/plain": [
              "<Figure size 432x288 with 1 Axes>"
            ]
          },
          "metadata": {
            "tags": [],
            "needs_background": "light"
          }
        }
      ]
    },
    {
      "cell_type": "markdown",
      "metadata": {
        "id": "CjLxxmex5Tca"
      },
      "source": [
        "**Naive Bayes**"
      ]
    },
    {
      "cell_type": "code",
      "metadata": {
        "colab": {
          "base_uri": "https://localhost:8080/"
        },
        "id": "pkfj9x7s5Pxr",
        "outputId": "86a04933-8182-456a-81d3-0011c6293e26"
      },
      "source": [
        "for i in range(0,4):\n",
        "  Naive = naive_bayes.MultinomialNB()\n",
        "  Naive.fit(X_ada[i],y_ada[i])\n",
        "  predictions_NB = Naive.predict(Valid_X_Tfidf)\n",
        "  print(\"Naive Bayes Accuracy Score on valid set-> \",accuracy_score(predictions_NB, Valid_Y)*100)\n",
        "  predictions_NB_T = Naive.predict(Test_X_Tfidf)\n",
        "  print(\"Naive Bayes Accuracy Score on test set-> \",accuracy_score(predictions_NB_T, Test_Y)*100)\n",
        "  predictions_NB_Tr = Naive.predict(X_ada[i])\n",
        "  print(\"Naive Bayes Accuracy Score on training set -> \",accuracy_score(predictions_NB_Tr, y_ada[i])*100)\n",
        "  predictions_NB_Tr = Naive.predict(Train_X_Tfidf)\n",
        "  print(\"Naive Bayes Accuracy Score on training set -> \",accuracy_score(predictions_NB_Tr, Train_Y)*100)\n",
        "  print ('\\n*Classification Report: Naive bayes\\n', classification_report(Test_Y, predictions_NB_T))\n",
        "  print(confusion_matrix(Test_Y, predictions_NB_T))\n"
      ],
      "execution_count": null,
      "outputs": [
        {
          "output_type": "stream",
          "text": [
            "Naive Bayes Accuracy Score on valid set->  91.85739436619718\n",
            "Naive Bayes Accuracy Score on test set->  91.26452976400141\n",
            "Naive Bayes Accuracy Score on training set ->  85.29186707477045\n",
            "Naive Bayes Accuracy Score on training set ->  93.39076845679789\n",
            "\n",
            "*Classification Report: Naive bayes\n",
            "               precision    recall  f1-score   support\n",
            "\n",
            "           0       0.92      0.98      0.95      2568\n",
            "           1       0.61      0.24      0.35       271\n",
            "\n",
            "    accuracy                           0.91      2839\n",
            "   macro avg       0.77      0.61      0.65      2839\n",
            "weighted avg       0.89      0.91      0.90      2839\n",
            "\n",
            "[[2525   43]\n",
            " [ 205   66]]\n",
            "Naive Bayes Accuracy Score on valid set->  89.12852112676056\n",
            "Naive Bayes Accuracy Score on test set->  89.85558295174357\n",
            "Naive Bayes Accuracy Score on training set ->  87.93554606803471\n",
            "Naive Bayes Accuracy Score on training set ->  92.32800905546472\n",
            "\n",
            "*Classification Report: Naive bayes\n",
            "               precision    recall  f1-score   support\n",
            "\n",
            "           0       0.95      0.93      0.94      2568\n",
            "           1       0.47      0.55      0.51       271\n",
            "\n",
            "    accuracy                           0.90      2839\n",
            "   macro avg       0.71      0.74      0.73      2839\n",
            "weighted avg       0.91      0.90      0.90      2839\n",
            "\n",
            "[[2401  167]\n",
            " [ 121  150]]\n",
            "Naive Bayes Accuracy Score on valid set->  82.10093896713614\n",
            "Naive Bayes Accuracy Score on test set->  83.37442761535752\n",
            "Naive Bayes Accuracy Score on training set ->  88.17965967550455\n",
            "Naive Bayes Accuracy Score on training set ->  86.27845554018363\n",
            "\n",
            "*Classification Report: Naive bayes\n",
            "               precision    recall  f1-score   support\n",
            "\n",
            "           0       0.96      0.85      0.90      2568\n",
            "           1       0.33      0.71      0.45       271\n",
            "\n",
            "    accuracy                           0.83      2839\n",
            "   macro avg       0.65      0.78      0.68      2839\n",
            "weighted avg       0.90      0.83      0.86      2839\n",
            "\n",
            "[[2175  393]\n",
            " [  79  192]]\n",
            "Naive Bayes Accuracy Score on valid set->  75.45481220657277\n",
            "Naive Bayes Accuracy Score on test set->  75.97745685100388\n",
            "Naive Bayes Accuracy Score on training set ->  87.26441241685144\n",
            "Naive Bayes Accuracy Score on training set ->  79.9459187523582\n",
            "\n",
            "*Classification Report: Naive bayes\n",
            "               precision    recall  f1-score   support\n",
            "\n",
            "           0       0.97      0.76      0.85      2568\n",
            "           1       0.25      0.78      0.38       271\n",
            "\n",
            "    accuracy                           0.76      2839\n",
            "   macro avg       0.61      0.77      0.62      2839\n",
            "weighted avg       0.90      0.76      0.81      2839\n",
            "\n",
            "[[1945  623]\n",
            " [  59  212]]\n"
          ],
          "name": "stdout"
        }
      ]
    },
    {
      "cell_type": "markdown",
      "metadata": {
        "id": "HDvZSd9Z5eKR"
      },
      "source": [
        "**SVM**"
      ]
    },
    {
      "cell_type": "code",
      "metadata": {
        "colab": {
          "base_uri": "https://localhost:8080/"
        },
        "id": "2HXCVSfg5bOD",
        "outputId": "269f75a4-2742-4ec5-9821-04d7972beb68"
      },
      "source": [
        "for i in range(0,4):\n",
        "  SVM = svm.SVC(C=1.0, kernel='linear', degree=3, gamma='auto')\n",
        "  SVM.fit(X_ada[i],y_ada[i])\n",
        "  predictions_SVM = SVM.predict(Valid_X_Tfidf)\n",
        "  print(\"SVM Accuracy Score on valid set-> \",accuracy_score(predictions_SVM, Valid_Y)*100)\n",
        "  #accuracy on test set\n",
        "  predictions_SVM_T = SVM.predict(Test_X_Tfidf)\n",
        "  print(\"SVM Accuracy Score test set -> \",accuracy_score(predictions_SVM_T, Test_Y)*100)\n",
        "  # Training set accuracy SVM\n",
        "  predictions_SVM_Tr = SVM.predict(X_ada[i])\n",
        "  print(\"SVM Accuracy Score on training set -> \",accuracy_score(predictions_SVM_Tr, y_ada[i])*100)\n",
        "  print('\\n*Classification Report: SVM\\n', classification_report(Test_Y, predictions_SVM_T))\n",
        "  print(confusion_matrix(Test_Y, predictions_SVM_T))"
      ],
      "execution_count": null,
      "outputs": [
        {
          "output_type": "stream",
          "text": [
            "SVM Accuracy Score on valid set->  91.22652582159625\n",
            "SVM Accuracy Score test set ->  90.87706939063051\n",
            "SVM Accuracy Score on training set ->  93.21163095758635\n",
            "\n",
            "*Classification Report: SVM\n",
            "               precision    recall  f1-score   support\n",
            "\n",
            "           0       0.95      0.95      0.95      2568\n",
            "           1       0.52      0.55      0.54       271\n",
            "\n",
            "    accuracy                           0.91      2839\n",
            "   macro avg       0.74      0.75      0.74      2839\n",
            "weighted avg       0.91      0.91      0.91      2839\n",
            "\n",
            "[[2431  137]\n",
            " [ 122  149]]\n",
            "SVM Accuracy Score on valid set->  89.01115023474179\n",
            "SVM Accuracy Score test set ->  89.22155688622755\n",
            "SVM Accuracy Score on training set ->  93.31129780103751\n",
            "\n",
            "*Classification Report: SVM\n",
            "               precision    recall  f1-score   support\n",
            "\n",
            "           0       0.96      0.92      0.94      2568\n",
            "           1       0.45      0.65      0.53       271\n",
            "\n",
            "    accuracy                           0.89      2839\n",
            "   macro avg       0.71      0.78      0.74      2839\n",
            "weighted avg       0.91      0.89      0.90      2839\n",
            "\n",
            "[[2358  210]\n",
            " [  96  175]]\n",
            "SVM Accuracy Score on valid set->  87.30927230046949\n",
            "SVM Accuracy Score test set ->  87.8830574145826\n",
            "SVM Accuracy Score on training set ->  93.81480015829047\n",
            "\n",
            "*Classification Report: SVM\n",
            "               precision    recall  f1-score   support\n",
            "\n",
            "           0       0.96      0.90      0.93      2568\n",
            "           1       0.42      0.69      0.52       271\n",
            "\n",
            "    accuracy                           0.88      2839\n",
            "   macro avg       0.69      0.79      0.73      2839\n",
            "weighted avg       0.91      0.88      0.89      2839\n",
            "\n",
            "[[2308  260]\n",
            " [  84  187]]\n",
            "SVM Accuracy Score on valid set->  86.26760563380282\n",
            "SVM Accuracy Score test set ->  86.72067629446988\n",
            "SVM Accuracy Score on training set ->  94.4255820399113\n",
            "\n",
            "*Classification Report: SVM\n",
            "               precision    recall  f1-score   support\n",
            "\n",
            "           0       0.97      0.88      0.92      2568\n",
            "           1       0.39      0.70      0.50       271\n",
            "\n",
            "    accuracy                           0.87      2839\n",
            "   macro avg       0.68      0.79      0.71      2839\n",
            "weighted avg       0.91      0.87      0.88      2839\n",
            "\n",
            "[[2271  297]\n",
            " [  80  191]]\n"
          ],
          "name": "stdout"
        }
      ]
    },
    {
      "cell_type": "markdown",
      "metadata": {
        "id": "6rqdqjwA5jqZ"
      },
      "source": [
        "**Logistic Regression**"
      ]
    },
    {
      "cell_type": "code",
      "metadata": {
        "colab": {
          "base_uri": "https://localhost:8080/"
        },
        "id": "ZbJ3Yb9U5dj1",
        "outputId": "3ccca967-d731-4441-9b54-98348aedd2fc"
      },
      "source": [
        "for i in range(0,4):\n",
        "    LR = LogisticRegression()\n",
        "    model = LR.fit(X_ada[i],y_ada[i])\n",
        "    prediction_LR = model.predict(Valid_X_Tfidf)\n",
        "    print(\"Logistic Regression Accuracy Score on valid set-> \",accuracy_score(prediction_LR, Valid_Y)*100)\n",
        "    #accuracy on test set\n",
        "    predictions_LR_T = model.predict(Test_X_Tfidf)\n",
        "    print(\"Logistic Regression Accuracy Score test set -> \",accuracy_score(predictions_LR_T, Test_Y)*100)\n",
        "    # Training set accuracy SVM\n",
        "    predictions_LR_Tr = model.predict(X_ada[i])\n",
        "    print(\"Logistic Regression Accuracy Score on training set -> \",accuracy_score(predictions_LR_Tr, y_ada[i])*100)\n",
        "    print('\\n*Classification Report: Logistic Regression\\n', classification_report(Test_Y, predictions_LR_T))\n",
        "    print(confusion_matrix(Test_Y, predictions_LR_T))"
      ],
      "execution_count": null,
      "outputs": [
        {
          "output_type": "stream",
          "text": [
            "Logistic Regression Accuracy Score on valid set->  91.57863849765259\n",
            "Logistic Regression Accuracy Score test set ->  91.65199013737232\n",
            "Logistic Regression Accuracy Score on training set ->  90.86139046786182\n",
            "\n",
            "*Classification Report: Logistic Regression\n",
            "               precision    recall  f1-score   support\n",
            "\n",
            "           0       0.95      0.96      0.95      2568\n",
            "           1       0.57      0.49      0.53       271\n",
            "\n",
            "    accuracy                           0.92      2839\n",
            "   macro avg       0.76      0.72      0.74      2839\n",
            "weighted avg       0.91      0.92      0.91      2839\n",
            "\n",
            "[[2470   98]\n",
            " [ 139  132]]\n",
            "Logistic Regression Accuracy Score on valid set->  89.7593896713615\n",
            "Logistic Regression Accuracy Score test set ->  90.24304332511448\n",
            "Logistic Regression Accuracy Score on training set ->  90.66703392553826\n",
            "\n",
            "*Classification Report: Logistic Regression\n",
            "               precision    recall  f1-score   support\n",
            "\n",
            "           0       0.96      0.93      0.95      2568\n",
            "           1       0.49      0.63      0.55       271\n",
            "\n",
            "    accuracy                           0.90      2839\n",
            "   macro avg       0.73      0.78      0.75      2839\n",
            "weighted avg       0.92      0.90      0.91      2839\n",
            "\n",
            "[[2390  178]\n",
            " [  99  172]]\n",
            "Logistic Regression Accuracy Score on valid set->  88.30692488262912\n",
            "Logistic Regression Accuracy Score test set ->  88.27051778795351\n",
            "Logistic Regression Accuracy Score on training set ->  91.54728927582113\n",
            "\n",
            "*Classification Report: Logistic Regression\n",
            "               precision    recall  f1-score   support\n",
            "\n",
            "           0       0.97      0.90      0.93      2568\n",
            "           1       0.43      0.70      0.53       271\n",
            "\n",
            "    accuracy                           0.88      2839\n",
            "   macro avg       0.70      0.80      0.73      2839\n",
            "weighted avg       0.91      0.88      0.89      2839\n",
            "\n",
            "[[2317  251]\n",
            " [  82  189]]\n",
            "Logistic Regression Accuracy Score on valid set->  86.69307511737088\n",
            "Logistic Regression Accuracy Score test set ->  86.72067629446988\n",
            "Logistic Regression Accuracy Score on training set ->  92.31222283813747\n",
            "\n",
            "*Classification Report: Logistic Regression\n",
            "               precision    recall  f1-score   support\n",
            "\n",
            "           0       0.97      0.88      0.92      2568\n",
            "           1       0.39      0.73      0.51       271\n",
            "\n",
            "    accuracy                           0.87      2839\n",
            "   macro avg       0.68      0.81      0.72      2839\n",
            "weighted avg       0.91      0.87      0.88      2839\n",
            "\n",
            "[[2263  305]\n",
            " [  72  199]]\n"
          ],
          "name": "stdout"
        }
      ]
    },
    {
      "cell_type": "markdown",
      "metadata": {
        "id": "LV6d2_5K5m-4"
      },
      "source": [
        "**KNN**"
      ]
    },
    {
      "cell_type": "code",
      "metadata": {
        "colab": {
          "base_uri": "https://localhost:8080/"
        },
        "id": "MFB_NPg25qA2",
        "outputId": "dd08634b-4ed1-40bb-dcb1-8fe7c304c1e1"
      },
      "source": [
        "lst_acc = [[]]\n",
        "lst_f1 = [[]]\n",
        "lst_recall = [[]]\n",
        "lst_prec = [[]]\n",
        "for i in range(0, 4):\n",
        "  print(\"****************************************************************\")\n",
        "  for j in range(1,10):\n",
        "\n",
        "    knn = KNeighborsClassifier(n_neighbors=j)\n",
        "    knn.fit(X_ada[i],y_ada[i])\n",
        "    y_pred = knn.predict(Test_X_Tfidf)\n",
        "    acc = metrics.accuracy_score(Test_Y, y_pred)\n",
        "    recall = metrics.recall_score(Test_Y, y_pred)\n",
        "    precision = metrics.precision_score(Test_Y, y_pred)\n",
        "    f1 = metrics.f1_score(Test_Y, y_pred)\n",
        "    # cr = classification_report(Test_Y, y_pred)\n",
        "    print(\"Accuracy: {:.4f}\" .format(acc), \"F1 Score: {:.4f}\" .format(f1), \"Precision: {:.4f}\" .format(precision), \"Recall: {:.4f}\" .format(recall))\n",
        "    #print(cr)\n",
        "    #print(\"Confusion Matrix :\" confusion_matrix(Test_Y, predictions_SVM_T))\n",
        "    # lst_acc[i].append(acc)\n",
        "    # lst_f1[i].append(f1)\n",
        "    # lst_prec[i].append(precision)\n",
        "    # lst_recall[i].append(recall)\n",
        "  print(\"****************************************************************\")"
      ],
      "execution_count": null,
      "outputs": [
        {
          "output_type": "stream",
          "text": [
            "****************************************************************\n",
            "Accuracy: 0.8838 F1 Score: 0.3843 Precision: 0.3887 Recall: 0.3801\n",
            "Accuracy: 0.8943 F1 Score: 0.3617 Precision: 0.4271 Recall: 0.3137\n",
            "Accuracy: 0.8848 F1 Score: 0.3933 Precision: 0.3955 Recall: 0.3911\n",
            "Accuracy: 0.8943 F1 Score: 0.3902 Precision: 0.4344 Recall: 0.3542\n",
            "Accuracy: 0.8926 F1 Score: 0.4055 Precision: 0.4298 Recall: 0.3838\n",
            "Accuracy: 0.8971 F1 Score: 0.3967 Precision: 0.4507 Recall: 0.3542\n",
            "Accuracy: 0.8950 F1 Score: 0.3968 Precision: 0.4395 Recall: 0.3616\n",
            "Accuracy: 0.8964 F1 Score: 0.3797 Precision: 0.4433 Recall: 0.3321\n",
            "Accuracy: 0.8933 F1 Score: 0.3778 Precision: 0.4259 Recall: 0.3395\n",
            "****************************************************************\n",
            "****************************************************************\n",
            "Accuracy: 0.8739 F1 Score: 0.3891 Precision: 0.3619 Recall: 0.4207\n",
            "Accuracy: 0.8809 F1 Score: 0.3694 Precision: 0.3736 Recall: 0.3653\n",
            "Accuracy: 0.8630 F1 Score: 0.3695 Precision: 0.3295 Recall: 0.4207\n",
            "Accuracy: 0.8739 F1 Score: 0.3697 Precision: 0.3535 Recall: 0.3875\n",
            "Accuracy: 0.8669 F1 Score: 0.3803 Precision: 0.3422 Recall: 0.4280\n",
            "Accuracy: 0.8781 F1 Score: 0.3951 Precision: 0.3754 Recall: 0.4170\n",
            "Accuracy: 0.8721 F1 Score: 0.3837 Precision: 0.3553 Recall: 0.4170\n",
            "Accuracy: 0.8760 F1 Score: 0.3825 Precision: 0.3645 Recall: 0.4022\n",
            "Accuracy: 0.8707 F1 Score: 0.3790 Precision: 0.3500 Recall: 0.4133\n",
            "****************************************************************\n",
            "****************************************************************\n",
            "Accuracy: 0.8665 F1 Score: 0.3877 Precision: 0.3448 Recall: 0.4428\n",
            "Accuracy: 0.8820 F1 Score: 0.3920 Precision: 0.3857 Recall: 0.3985\n",
            "Accuracy: 0.8633 F1 Score: 0.3880 Precision: 0.3388 Recall: 0.4539\n",
            "Accuracy: 0.8704 F1 Score: 0.3867 Precision: 0.3526 Recall: 0.4280\n",
            "Accuracy: 0.8612 F1 Score: 0.3863 Precision: 0.3342 Recall: 0.4576\n",
            "Accuracy: 0.8662 F1 Score: 0.3871 Precision: 0.3438 Recall: 0.4428\n",
            "Accuracy: 0.8616 F1 Score: 0.3869 Precision: 0.3351 Recall: 0.4576\n",
            "Accuracy: 0.8672 F1 Score: 0.3870 Precision: 0.3459 Recall: 0.4391\n",
            "Accuracy: 0.8609 F1 Score: 0.3799 Precision: 0.3306 Recall: 0.4465\n",
            "****************************************************************\n",
            "****************************************************************\n",
            "Accuracy: 0.8672 F1 Score: 0.3910 Precision: 0.3477 Recall: 0.4465\n",
            "Accuracy: 0.8792 F1 Score: 0.4014 Precision: 0.3808 Recall: 0.4244\n",
            "Accuracy: 0.8580 F1 Score: 0.3885 Precision: 0.3299 Recall: 0.4723\n",
            "Accuracy: 0.8637 F1 Score: 0.3886 Precision: 0.3398 Recall: 0.4539\n",
            "Accuracy: 0.8535 F1 Score: 0.3882 Precision: 0.3227 Recall: 0.4871\n",
            "Accuracy: 0.8588 F1 Score: 0.3821 Precision: 0.3280 Recall: 0.4576\n",
            "Accuracy: 0.8528 F1 Score: 0.3798 Precision: 0.3176 Recall: 0.4723\n",
            "Accuracy: 0.8598 F1 Score: 0.3858 Precision: 0.3316 Recall: 0.4613\n",
            "Accuracy: 0.8524 F1 Score: 0.3737 Precision: 0.3141 Recall: 0.4613\n",
            "****************************************************************\n"
          ],
          "name": "stdout"
        }
      ]
    }
  ]
}