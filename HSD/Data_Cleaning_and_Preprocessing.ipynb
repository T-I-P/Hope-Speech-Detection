{
  "nbformat": 4,
  "nbformat_minor": 0,
  "metadata": {
    "colab": {
      "provenance": []
    },
    "kernelspec": {
      "name": "python3",
      "display_name": "Python 3"
    },
    "language_info": {
      "name": "python"
    },
    "accelerator": "GPU"
  },
  "cells": [
    {
      "cell_type": "code",
      "metadata": {
        "colab": {
          "base_uri": "https://localhost:8080/"
        },
        "id": "S2hOp_H8S-FE",
        "outputId": "1ebbd0f6-925b-4a6a-b8bc-4f136a9d8833"
      },
      "source": [
        "!pip install contractions"
      ],
      "execution_count": null,
      "outputs": [
        {
          "output_type": "stream",
          "text": [
            "Collecting contractions\n",
            "  Downloading https://files.pythonhosted.org/packages/0a/04/d5e0bb9f2cef5d15616ebf68087a725c5dbdd71bd422bcfb35d709f98ce7/contractions-0.0.48-py2.py3-none-any.whl\n",
            "Collecting textsearch>=0.0.21\n",
            "  Downloading https://files.pythonhosted.org/packages/d3/fe/021d7d76961b5ceb9f8d022c4138461d83beff36c3938dc424586085e559/textsearch-0.0.21-py2.py3-none-any.whl\n",
            "Collecting anyascii\n",
            "\u001b[?25l  Downloading https://files.pythonhosted.org/packages/a3/14/666cd44bf53f36a961544af592cb5c5c800013f9c51a4745af8d7c17362a/anyascii-0.2.0-py3-none-any.whl (283kB)\n",
            "\u001b[K     |████████████████████████████████| 286kB 41.6MB/s \n",
            "\u001b[?25hCollecting pyahocorasick\n",
            "\u001b[?25l  Downloading https://files.pythonhosted.org/packages/7f/c2/eae730037ae1cbbfaa229d27030d1d5e34a1e41114b21447d1202ae9c220/pyahocorasick-1.4.2.tar.gz (321kB)\n",
            "\u001b[K     |████████████████████████████████| 327kB 51.6MB/s \n",
            "\u001b[?25hBuilding wheels for collected packages: pyahocorasick\n",
            "  Building wheel for pyahocorasick (setup.py) ... \u001b[?25l\u001b[?25hdone\n",
            "  Created wheel for pyahocorasick: filename=pyahocorasick-1.4.2-cp37-cp37m-linux_x86_64.whl size=85393 sha256=c9a153eeb09d2fe2c17ab9b3729b2763db67cbb537b217abf25fda326ec2e33d\n",
            "  Stored in directory: /root/.cache/pip/wheels/3a/03/34/77e3ece0bba8b86bfac88a79f923b36d805cad63caeba38842\n",
            "Successfully built pyahocorasick\n",
            "Installing collected packages: anyascii, pyahocorasick, textsearch, contractions\n",
            "Successfully installed anyascii-0.2.0 contractions-0.0.48 pyahocorasick-1.4.2 textsearch-0.0.21\n"
          ],
          "name": "stdout"
        }
      ]
    },
    {
      "cell_type": "code",
      "metadata": {
        "colab": {
          "base_uri": "https://localhost:8080/"
        },
        "id": "W0jWaOGy8nH8",
        "outputId": "a33d9711-4683-44e0-8a2d-834b639245e3"
      },
      "source": [
        "pip install pyspellchecker"
      ],
      "execution_count": null,
      "outputs": [
        {
          "output_type": "stream",
          "text": [
            "Collecting pyspellchecker\n",
            "\u001b[?25l  Downloading https://files.pythonhosted.org/packages/64/c7/435f49c0ac6bec031d1aba4daf94dc21dc08a9db329692cdb77faac51cea/pyspellchecker-0.6.2-py3-none-any.whl (2.7MB)\n",
            "\u001b[K     |████████████████████████████████| 2.7MB 18.3MB/s \n",
            "\u001b[?25hInstalling collected packages: pyspellchecker\n",
            "Successfully installed pyspellchecker-0.6.2\n"
          ],
          "name": "stdout"
        }
      ]
    },
    {
      "cell_type": "code",
      "metadata": {
        "colab": {
          "base_uri": "https://localhost:8080/"
        },
        "id": "SD3q7jWNbyh4",
        "outputId": "d3cbd900-ad05-48c2-dd95-f18cb3125dea"
      },
      "source": [
        "import sys\n",
        "!{sys.executable} -m pip install contractions"
      ],
      "execution_count": null,
      "outputs": [
        {
          "output_type": "stream",
          "text": [
            "Requirement already satisfied: contractions in /usr/local/lib/python3.7/dist-packages (0.0.48)\n",
            "Requirement already satisfied: textsearch>=0.0.21 in /usr/local/lib/python3.7/dist-packages (from contractions) (0.0.21)\n",
            "Requirement already satisfied: pyahocorasick in /usr/local/lib/python3.7/dist-packages (from textsearch>=0.0.21->contractions) (1.4.2)\n",
            "Requirement already satisfied: anyascii in /usr/local/lib/python3.7/dist-packages (from textsearch>=0.0.21->contractions) (0.2.0)\n"
          ],
          "name": "stdout"
        }
      ]
    },
    {
      "cell_type": "code",
      "metadata": {
        "id": "vgluk9lfb_8d"
      },
      "source": [
        "import pandas as pd\n",
        "import numpy as np\n",
        "import re"
      ],
      "execution_count": null,
      "outputs": []
    },
    {
      "cell_type": "code",
      "metadata": {
        "id": "Z6EVVSHTcE27"
      },
      "source": [
        "train = pd.read_csv(\"/content/train_bert_v2_half_team.csv\")\n",
        "test = pd.read_csv(\"/content/test_bert_v1.csv\")"
      ],
      "execution_count": null,
      "outputs": []
    },
    {
      "cell_type": "code",
      "metadata": {
        "colab": {
          "base_uri": "https://localhost:8080/",
          "height": 195
        },
        "id": "2O8VRCwzl_Bo",
        "outputId": "36cab994-3180-4c74-ec17-abcf0de3cb3b"
      },
      "source": [
        "train.head()"
      ],
      "execution_count": null,
      "outputs": [
        {
          "output_type": "execute_result",
          "data": {
            "text/html": [
              "<div>\n",
              "<style scoped>\n",
              "    .dataframe tbody tr th:only-of-type {\n",
              "        vertical-align: middle;\n",
              "    }\n",
              "\n",
              "    .dataframe tbody tr th {\n",
              "        vertical-align: top;\n",
              "    }\n",
              "\n",
              "    .dataframe thead th {\n",
              "        text-align: right;\n",
              "    }\n",
              "</style>\n",
              "<table border=\"1\" class=\"dataframe\">\n",
              "  <thead>\n",
              "    <tr style=\"text-align: right;\">\n",
              "      <th></th>\n",
              "      <th>Unnamed: 0</th>\n",
              "      <th>text</th>\n",
              "      <th>updated</th>\n",
              "    </tr>\n",
              "  </thead>\n",
              "  <tbody>\n",
              "    <tr>\n",
              "      <th>0</th>\n",
              "      <td>0</td>\n",
              "      <td>nice interview</td>\n",
              "      <td>1.0</td>\n",
              "    </tr>\n",
              "    <tr>\n",
              "      <th>1</th>\n",
              "      <td>1</td>\n",
              "      <td>serious energy</td>\n",
              "      <td>-1.0</td>\n",
              "    </tr>\n",
              "    <tr>\n",
              "      <th>2</th>\n",
              "      <td>2</td>\n",
              "      <td>yesss</td>\n",
              "      <td>-1.0</td>\n",
              "    </tr>\n",
              "    <tr>\n",
              "      <th>3</th>\n",
              "      <td>3</td>\n",
              "      <td>she is inspiring</td>\n",
              "      <td>1.0</td>\n",
              "    </tr>\n",
              "    <tr>\n",
              "      <th>4</th>\n",
              "      <td>4</td>\n",
              "      <td>i cackled</td>\n",
              "      <td>0.0</td>\n",
              "    </tr>\n",
              "  </tbody>\n",
              "</table>\n",
              "</div>"
            ],
            "text/plain": [
              "   Unnamed: 0              text  updated\n",
              "0           0    nice interview      1.0\n",
              "1           1    serious energy     -1.0\n",
              "2           2             yesss     -1.0\n",
              "3           3  she is inspiring      1.0\n",
              "4           4         i cackled      0.0"
            ]
          },
          "metadata": {
            "tags": []
          },
          "execution_count": 35
        }
      ]
    },
    {
      "cell_type": "code",
      "metadata": {
        "id": "Nxuh3MEwmKNO"
      },
      "source": [
        "train.drop(labels=['Unnamed: 0','Unnamed: 5','Unnamed: 6','intent','length'], inplace=True, axis =1)"
      ],
      "execution_count": null,
      "outputs": []
    },
    {
      "cell_type": "code",
      "metadata": {
        "id": "WQpFYqMo6qAw"
      },
      "source": [
        "test.drop(labels=['Unnamed: 0','intent','length'], axis=1, inplace=True)"
      ],
      "execution_count": null,
      "outputs": []
    },
    {
      "cell_type": "code",
      "metadata": {
        "id": "cQQ53rUbn4CH"
      },
      "source": [
        "train = train[:7999]"
      ],
      "execution_count": null,
      "outputs": []
    },
    {
      "cell_type": "code",
      "metadata": {
        "colab": {
          "base_uri": "https://localhost:8080/",
          "height": 195
        },
        "id": "XdmbhTi2l87S",
        "outputId": "b20783df-d2b4-43e0-ffc0-a65d5a552684"
      },
      "source": [
        "train.tail()"
      ],
      "execution_count": null,
      "outputs": [
        {
          "output_type": "execute_result",
          "data": {
            "text/html": [
              "<div>\n",
              "<style scoped>\n",
              "    .dataframe tbody tr th:only-of-type {\n",
              "        vertical-align: middle;\n",
              "    }\n",
              "\n",
              "    .dataframe tbody tr th {\n",
              "        vertical-align: top;\n",
              "    }\n",
              "\n",
              "    .dataframe thead th {\n",
              "        text-align: right;\n",
              "    }\n",
              "</style>\n",
              "<table border=\"1\" class=\"dataframe\">\n",
              "  <thead>\n",
              "    <tr style=\"text-align: right;\">\n",
              "      <th></th>\n",
              "      <th>text</th>\n",
              "      <th>updated</th>\n",
              "    </tr>\n",
              "  </thead>\n",
              "  <tbody>\n",
              "    <tr>\n",
              "      <th>7994</th>\n",
              "      <td>I'm bi Deal with it you don’t understand</td>\n",
              "      <td>1.0</td>\n",
              "    </tr>\n",
              "    <tr>\n",
              "      <th>7995</th>\n",
              "      <td>Why are we talkin about people in Africa</td>\n",
              "      <td>0.0</td>\n",
              "    </tr>\n",
              "    <tr>\n",
              "      <th>7996</th>\n",
              "      <td>If your not here to make an argument</td>\n",
              "      <td>-1.0</td>\n",
              "    </tr>\n",
              "    <tr>\n",
              "      <th>7997</th>\n",
              "      <td>She apparently came out according to other com...</td>\n",
              "      <td>-1.0</td>\n",
              "    </tr>\n",
              "    <tr>\n",
              "      <th>7998</th>\n",
              "      <td>Gender Based Violence in South Africa must fall.</td>\n",
              "      <td>1.0</td>\n",
              "    </tr>\n",
              "  </tbody>\n",
              "</table>\n",
              "</div>"
            ],
            "text/plain": [
              "                                                   text  updated\n",
              "7994           I'm bi Deal with it you don’t understand      1.0\n",
              "7995           Why are we talkin about people in Africa      0.0\n",
              "7996               If your not here to make an argument     -1.0\n",
              "7997  She apparently came out according to other com...     -1.0\n",
              "7998   Gender Based Violence in South Africa must fall.      1.0"
            ]
          },
          "metadata": {
            "tags": []
          },
          "execution_count": 10
        }
      ]
    },
    {
      "cell_type": "code",
      "metadata": {
        "id": "Oum9CIm77s5N"
      },
      "source": [
        "test = test[:2770]"
      ],
      "execution_count": null,
      "outputs": []
    },
    {
      "cell_type": "code",
      "metadata": {
        "colab": {
          "base_uri": "https://localhost:8080/"
        },
        "id": "bLX2KgDhoO-F",
        "outputId": "5ccb0a1f-5a5e-423f-f163-69b0798ae938"
      },
      "source": [
        "test.updated.unique()"
      ],
      "execution_count": null,
      "outputs": [
        {
          "output_type": "execute_result",
          "data": {
            "text/plain": [
              "array([-1.,  0.,  1.])"
            ]
          },
          "metadata": {
            "tags": []
          },
          "execution_count": 12
        }
      ]
    },
    {
      "cell_type": "code",
      "metadata": {
        "colab": {
          "base_uri": "https://localhost:8080/"
        },
        "id": "kvt6M_yprT1O",
        "outputId": "07d95f29-27d4-4a96-839b-0f6421c9eb13"
      },
      "source": [
        "train.isnull().sum()"
      ],
      "execution_count": null,
      "outputs": [
        {
          "output_type": "execute_result",
          "data": {
            "text/plain": [
              "Unnamed: 0    0\n",
              "text          0\n",
              "updated       0\n",
              "dtype: int64"
            ]
          },
          "metadata": {
            "tags": []
          },
          "execution_count": 36
        }
      ]
    },
    {
      "cell_type": "code",
      "metadata": {
        "id": "Af4GaJf-rXCx"
      },
      "source": [
        "train = train.dropna(axis=0)"
      ],
      "execution_count": null,
      "outputs": []
    },
    {
      "cell_type": "code",
      "metadata": {
        "id": "HfDNaNsfrbv5"
      },
      "source": [
        "train = train.reset_index()"
      ],
      "execution_count": null,
      "outputs": []
    },
    {
      "cell_type": "code",
      "metadata": {
        "id": "eSRXz6DbmKyk"
      },
      "source": [
        "train.drop(labels='index',axis=1,inplace=True)"
      ],
      "execution_count": null,
      "outputs": []
    },
    {
      "cell_type": "code",
      "metadata": {
        "id": "lAcuUKZ22meP"
      },
      "source": [
        "from spellchecker import SpellChecker\n",
        "spelling = SpellChecker()\n",
        "def spelling_checks(text):\n",
        "    correct_result = []\n",
        "    typo_words = spelling.unknown(text.split())\n",
        "    for word in text.split():\n",
        "        if word in typo_words:\n",
        "            correct_result.append(spelling.correction(word))\n",
        "        else:\n",
        "            correct_result.append(word)\n",
        "    return \" \".join(correct_result)\n",
        "\n",
        "for index,i in enumerate(train.text):\n",
        "  a = spelling_checks(i)\n",
        "  train.loc[index,['text']] = a"
      ],
      "execution_count": null,
      "outputs": []
    },
    {
      "cell_type": "code",
      "metadata": {
        "id": "PaFYjsS3DobJ"
      },
      "source": [
        "for index,i in enumerate(test.text):\n",
        "  a = spelling_checks(i)\n",
        "  test.loc[index,['text']] = a"
      ],
      "execution_count": null,
      "outputs": []
    },
    {
      "cell_type": "code",
      "metadata": {
        "id": "VRNPPY2coXlC"
      },
      "source": [
        "# import library\n",
        "import contractions\n",
        "for index,i in enumerate(train.text):\n",
        "  i = re.sub('@[^\\s]+','',i)\n",
        "  expanded_words = []\n",
        "  for word in i.split():\n",
        "  # using contractions.fix to expand the shotened words\n",
        "     expanded_words.append(contractions.fix(word))\n",
        "\n",
        "  expanded_text = ' '.join(expanded_words)\n",
        "  train.loc[index,['text']] = expanded_text.lower()"
      ],
      "execution_count": null,
      "outputs": []
    },
    {
      "cell_type": "code",
      "metadata": {
        "id": "KRBmZ-qfEhE3"
      },
      "source": [
        "for index,i in enumerate(test.text):\n",
        "  i = re.sub('@[^\\s]+','',i)\n",
        "  expanded_words = []\n",
        "  for word in i.split():\n",
        "  # using contractions.fix to expand the shotened words\n",
        "     expanded_words.append(contractions.fix(word))\n",
        "\n",
        "  expanded_text = ' '.join(expanded_words)\n",
        "  test.loc[index,['text']] = expanded_text.lower()"
      ],
      "execution_count": null,
      "outputs": []
    },
    {
      "cell_type": "code",
      "metadata": {
        "colab": {
          "base_uri": "https://localhost:8080/",
          "height": 52
        },
        "id": "dx2CxldkoorT",
        "outputId": "5176bf6d-56ea-455d-b09f-f9b814904325"
      },
      "source": [
        "text = '''She'd like to know how I'd done that!\n",
        "          She's going to the park and I don't think I'll be home for dinner.\n",
        "          Theyre going to the zoo and she'll be home for dinner.'''\n",
        "\n",
        "contractions.fix(text)"
      ],
      "execution_count": null,
      "outputs": [
        {
          "output_type": "execute_result",
          "data": {
            "application/vnd.google.colaboratory.intrinsic+json": {
              "type": "string"
            },
            "text/plain": [
              "'she would like to know how I would done that! \\n          she is going to the park and I do not think I will be home for dinner.\\n          they are going to the zoo and she will be home for dinner.'"
            ]
          },
          "metadata": {
            "tags": []
          },
          "execution_count": 17
        }
      ]
    },
    {
      "cell_type": "code",
      "metadata": {
        "id": "VDfsSQmJo7yp"
      },
      "source": [
        "train.at[0,'text'] = 'SERIOUS ENERGY'"
      ],
      "execution_count": null,
      "outputs": []
    },
    {
      "cell_type": "code",
      "metadata": {
        "id": "O533C39Pzs_M",
        "colab": {
          "base_uri": "https://localhost:8080/",
          "height": 195
        },
        "outputId": "bda4dd16-6ea5-4d99-d992-290d8c53afb7"
      },
      "source": [
        "train.tail()"
      ],
      "execution_count": null,
      "outputs": [
        {
          "output_type": "execute_result",
          "data": {
            "text/html": [
              "<div>\n",
              "<style scoped>\n",
              "    .dataframe tbody tr th:only-of-type {\n",
              "        vertical-align: middle;\n",
              "    }\n",
              "\n",
              "    .dataframe tbody tr th {\n",
              "        vertical-align: top;\n",
              "    }\n",
              "\n",
              "    .dataframe thead th {\n",
              "        text-align: right;\n",
              "    }\n",
              "</style>\n",
              "<table border=\"1\" class=\"dataframe\">\n",
              "  <thead>\n",
              "    <tr style=\"text-align: right;\">\n",
              "      <th></th>\n",
              "      <th>text</th>\n",
              "      <th>updated</th>\n",
              "    </tr>\n",
              "  </thead>\n",
              "  <tbody>\n",
              "    <tr>\n",
              "      <th>16501</th>\n",
              "      <td>it relates to alot more people if you say all ...</td>\n",
              "      <td>1.0</td>\n",
              "    </tr>\n",
              "    <tr>\n",
              "      <th>16502</th>\n",
              "      <td>all lives do matter and we can do a much bette...</td>\n",
              "      <td>1.0</td>\n",
              "    </tr>\n",
              "    <tr>\n",
              "      <th>16503</th>\n",
              "      <td>a it is just how it is in a workplace. blunt c...</td>\n",
              "      <td>1.0</td>\n",
              "    </tr>\n",
              "    <tr>\n",
              "      <th>16504</th>\n",
              "      <td>it is not disagreeing with the fact that the a...</td>\n",
              "      <td>1.0</td>\n",
              "    </tr>\n",
              "    <tr>\n",
              "      <th>16505</th>\n",
              "      <td>did you not watch the video lolnnwhat the fuck...</td>\n",
              "      <td>1.0</td>\n",
              "    </tr>\n",
              "  </tbody>\n",
              "</table>\n",
              "</div>"
            ],
            "text/plain": [
              "                                                    text  updated\n",
              "16501  it relates to alot more people if you say all ...      1.0\n",
              "16502  all lives do matter and we can do a much bette...      1.0\n",
              "16503  a it is just how it is in a workplace. blunt c...      1.0\n",
              "16504  it is not disagreeing with the fact that the a...      1.0\n",
              "16505  did you not watch the video lolnnwhat the fuck...      1.0"
            ]
          },
          "metadata": {
            "tags": []
          },
          "execution_count": 81
        }
      ]
    },
    {
      "cell_type": "code",
      "metadata": {
        "id": "9nkI2Jwtti75"
      },
      "source": [
        "import re\n",
        "cList = {\n",
        "  \"blm\" : \"black lives matter\",\n",
        "\"bbm\" : \"blackberry messenger\",\n",
        "\"wtf\" : \"what the fuck\",\n",
        "\"fr\" : \"for real\",\n",
        "\"wth\" : \"what the heck\",\n",
        "\"omfg\" : \"oh my fucking god\",\n",
        "\"stfu\" : \"shut the fuck up\",\n",
        "\"omg\" : \"oh my god\",\n",
        "\"lmao\" : \"laughing my ass off\",\n",
        "\"lmaoo\" : \"laughing my ass off and off\",\n",
        "\"lol\" : \"laugh out loud\",\n",
        "\"nooo\" : \"no\",\n",
        "\"bich5\" : \"bitch\",\n",
        "\"libs\" : \"liberals\",\n",
        "\"fkin\" : \"fucking\",\n",
        "\"fuckin’\" : \"fucking\",\n",
        "\"autie\" : \"autistic\",\n",
        "\"ikr\" : \"i know right\",\n",
        "\"af\" : \"as fuck\",\n",
        "\"btw\" : \"by the way\",\n",
        "\"tbh\" : \"to be honest\",\n",
        "\"sjw\" : \"social justice warrior\",\n",
        "\"ngl\" : \"not gonna lie\",\n",
        "\"bs\" : \"bullshit\",\n",
        "\"smh\" : \"stupid minded humans\",\n",
        "\"mvp\" : \"most valuable power\",\n",
        "\"asf\" : \"as fuck\",\n",
        "\"nuf\" : \"enough\",\n",
        "\"fyi\" : \"for your information\",\n",
        "\"tf\" : \"the fuck\",\n",
        "\"fbi\" : \"federal bureau of investigation\",\n",
        "\"idk\" : \"i do not know\",\n",
        "\"ig\" : \"i guess\",\n",
        "\"coz\" : \"because\",\n",
        "\"cuz\" : \"because\",\n",
        "\"cos\" : \"because\",\n",
        "\"bc\" : \"because\",\n",
        "\"aka\" : \"also known as\",\n",
        "\"tfk\" : \"the fashion kingdom\",\n",
        "\"istg\" : \"i swear to god\",\n",
        "\"luv\" : \"love\",\n",
        "\"ppl\" : \"people\",\n",
        "\"whateva\" : \"whatever\",\n",
        "\"sth\" : \"something\",\n",
        "\"tdh\" : \"teenage dickhead\",\n",
        "\"poc\" : \"people of color\",\n",
        "# \"goat\" : \"greatest of all time\",\n",
        "\"blk\" : \"black\",\n",
        "\"bcus\" : \"because\",\n",
        "\"imo\" : \"in my opinion\",\n",
        "\"mf\" : \"mother fuck\",\n",
        "\"gtfoh\" : \"get the fuck out of here\",\n",
        "\"gtfo\" : \"get the fuck out\",\n",
        "\"mlk\" : \"martin luther king\",\n",
        "\"fos\" : \"full of shit\",\n",
        "\"idgaf\" : \"i do not give a fuck\",\n",
        "\"pc\" : \"politically correct\",\n",
        "\"sthg\" : \"something\",\n",
        "\"asap\" : \"as soon as possible\",\n",
        "\"mgtoh\" : \"men going their own way\",\n",
        "\"ulm\" : \"unborn lives matter\",\n",
        "\"idrc\" : \"i do not really care\",\n",
        "\"rn\" : \"right now\",\n",
        "\"og\" :\"original gangster\",\n",
        "\"tysm\" : \"thank you so much\",\n",
        "\"ntls\" : \"nothing left to say\",\n",
        "\"rlly\" : \"really\",\n",
        "\"acab\" : \"all cops are bastards\",\n",
        "\"bs\" : \"bullshit\",\n",
        "\"brd\" : \"black rock depth\",\n",
        "\"potus\" : \"president of the united states\",\n",
        "\"pov\" : \"point of view\",\n",
        "\"isis\" : \"islamic state of iraq and syria\",\n",
        "\"nyc\" : \"new york city\",\n",
        "\"n1\" : \"nice one\",\n",
        "\"some1\" : \"some one\",\n",
        "\"tho\" : \"though\",\n",
        "\"hv\" : \"have\",\n",
        "\"yt\" : \"youtube\",\n",
        "\"gbs\" : \"general bullshit\",\n",
        "\"c’mon\" : \"common\",\n",
        "\"i’ma\" : \"i am going to\",\n",
        "\"ptsd\" : \"post traumatic stress disorder\",\n",
        "\"aids\" : \"acquired immunodeficiency syndrome\",\n",
        "\"uk\" : \"united kingdom\",\n",
        "\"us\" : \"united states of america\",\n",
        "\"lyon\" : \"louisville youth opportunity network\",\n",
        "\"fck\" : \"fuck\",\n",
        "\"m8\" : \"mate\",\n",
        "\" y \" : \" why \",\n",
        "\" f \" : \" fuck \",\n",
        "\"idk\" : \"i do not know\",\n",
        "\"bstrd\" : \"bastard\",\n",
        "\"wth\" : \"what the heck\",\n",
        "\"yll\" : \"you all\",\n",
        "\"thx\" : \"thanks\",\n",
        "\"wat\" : \"what\",\n",
        "\"lmk\" : \"let me know\",\n",
        "\"vs\" : \"versus\",\n",
        "\"thou\" : \"though\",\n",
        "\"blmm\" : \"black lives matter more\",\n",
        "\"iq\" : \"intelligent quotient\",\n",
        "\"str8\": \"straight\",\n",
        "\"antifa\" : \"anti fascism\",\n",
        "\"bjk\" : \"big jock knew\",\n",
        "\"blk\" : \"black\",\n",
        "\"smdh\" : \"shaking my damn head\",\n",
        "\"antigua\" : \"antigua and barbuda\",\n",
        "\"dem\" : \"democrats\",\n",
        "\"dems\" : \"democrats\",\n",
        "\"ofc\" : \"of course\",\n",
        "\"u r a\" : \"you are a\",\n",
        "\"wdym\" : \"what do you mean\",\n",
        "\"msm\" : \"main stream media\",\n",
        "\"d’you\" : \"did you\"\n",
        "}\n",
        "\n",
        "c_re = re.compile('(%s)' % '|'.join(cList.keys()))\n",
        "\n",
        "def expandContractions(text, c_re=c_re):\n",
        "    def replace(match):\n",
        "        return cList[match.group(0)]\n",
        "    return c_re.sub(replace, text)\n",
        "\n",
        "# for index,i in enumerate(train.text):\n",
        "#   a = expandContractions(i)\n",
        "#   train.loc[index,['text']] = a"
      ],
      "execution_count": null,
      "outputs": []
    },
    {
      "cell_type": "code",
      "metadata": {
        "id": "Gq1AkDyv0Mr1"
      },
      "source": [
        "for index,i in enumerate(train.text):\n",
        "  a = expandContractions(i)\n",
        "  train.loc[index,['text']] = a"
      ],
      "execution_count": null,
      "outputs": []
    },
    {
      "cell_type": "code",
      "metadata": {
        "id": "fv7stlzV1Ym4",
        "colab": {
          "base_uri": "https://localhost:8080/",
          "height": 35
        },
        "outputId": "52b81388-ba2f-43c0-91a6-d586af2290ff"
      },
      "source": [
        "a"
      ],
      "execution_count": null,
      "outputs": [
        {
          "output_type": "execute_result",
          "data": {
            "application/vnd.google.colaboratory.intrinsic+json": {
              "type": "string"
            },
            "text/plain": [
              "'black lives matter y'"
            ]
          },
          "metadata": {
            "tags": []
          },
          "execution_count": 33
        }
      ]
    },
    {
      "cell_type": "code",
      "metadata": {
        "colab": {
          "base_uri": "https://localhost:8080/"
        },
        "id": "4erBC6vkn-P5",
        "outputId": "fffe50e5-c04c-401e-9f92-adc2994f519c"
      },
      "source": [
        "train.shape"
      ],
      "execution_count": null,
      "outputs": [
        {
          "output_type": "execute_result",
          "data": {
            "text/plain": [
              "(7995, 2)"
            ]
          },
          "metadata": {
            "tags": []
          },
          "execution_count": 22
        }
      ]
    },
    {
      "cell_type": "code",
      "metadata": {
        "id": "uTSk95JbFvpg"
      },
      "source": [
        "for index,i in enumerate(test.text):\n",
        "  a = expandContractions(i)\n",
        "  test.loc[index,['text']] = a"
      ],
      "execution_count": null,
      "outputs": []
    },
    {
      "cell_type": "code",
      "metadata": {
        "id": "RpGYvoFL47bg"
      },
      "source": [
        "train[\"without_punct\"] = train['text'].str.replace('[^\\w\\s]','')\n",
        "test[\"without_punct\"] = test['text'].str.replace('[^\\w\\s]','')"
      ],
      "execution_count": null,
      "outputs": []
    },
    {
      "cell_type": "code",
      "metadata": {
        "id": "8QHWC5PwKVc7"
      },
      "source": [
        "train.drop(labels='index',axis=1,inplace=True)"
      ],
      "execution_count": null,
      "outputs": []
    },
    {
      "cell_type": "code",
      "metadata": {
        "id": "wRBBQ_rJqQOr"
      },
      "source": [
        "train.to_csv('train_bert_v3_half_team.csv')\n",
        "test.to_csv('test_bert_v2.csv')"
      ],
      "execution_count": null,
      "outputs": []
    }
  ]
}