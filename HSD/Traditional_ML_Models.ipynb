{
  "nbformat": 4,
  "nbformat_minor": 0,
  "metadata": {
    "colab": {
      "provenance": []
    },
    "kernelspec": {
      "name": "python3",
      "display_name": "Python 3"
    },
    "accelerator": "GPU"
  },
  "cells": [
    {
      "cell_type": "code",
      "metadata": {
        "id": "r4rW5xVNl-E5"
      },
      "source": [
        "import pandas as pd\n",
        "import numpy as np\n",
        "from nltk.tokenize import word_tokenize\n",
        "from nltk import pos_tag\n",
        "from nltk.corpus import stopwords\n",
        "from nltk.stem import WordNetLemmatizer\n",
        "from sklearn.preprocessing import LabelEncoder\n",
        "from collections import defaultdict\n",
        "from nltk.corpus import wordnet as wn\n",
        "from sklearn.feature_extraction.text import TfidfVectorizer\n",
        "from sklearn import model_selection, naive_bayes,svm\n",
        "from sklearn.linear_model import LogisticRegression\n",
        "from sklearn.neighbors import KNeighborsClassifier\n",
        "import sklearn.metrics as metrics\n",
        "from sklearn.metrics import accuracy_score, f1_score, confusion_matrix,classification_report\n",
        "import ast\n",
        "\n",
        "%matplotlib inline\n",
        "from matplotlib import pyplot as plt"
      ],
      "execution_count": null,
      "outputs": []
    },
    {
      "cell_type": "code",
      "metadata": {
        "id": "Qtr2nnQzYJiO"
      },
      "source": [
        "train = pd.read_csv(\"/content/train_tokenized_again.csv\")\n",
        "test = pd.read_csv(\"/content/valid_tokenized_again.csv\")"
      ],
      "execution_count": null,
      "outputs": []
    },
    {
      "cell_type": "code",
      "metadata": {
        "colab": {
          "base_uri": "https://localhost:8080/",
          "height": 195
        },
        "id": "ZdNEHl3YmBPD",
        "outputId": "6f11b839-8657-48e6-acfe-aaae20d73f89"
      },
      "source": [
        "train.head()"
      ],
      "execution_count": null,
      "outputs": [
        {
          "output_type": "execute_result",
          "data": {
            "text/html": [
              "<div>\n",
              "<style scoped>\n",
              "    .dataframe tbody tr th:only-of-type {\n",
              "        vertical-align: middle;\n",
              "    }\n",
              "\n",
              "    .dataframe tbody tr th {\n",
              "        vertical-align: top;\n",
              "    }\n",
              "\n",
              "    .dataframe thead th {\n",
              "        text-align: right;\n",
              "    }\n",
              "</style>\n",
              "<table border=\"1\" class=\"dataframe\">\n",
              "  <thead>\n",
              "    <tr style=\"text-align: right;\">\n",
              "      <th></th>\n",
              "      <th>Unnamed: 0</th>\n",
              "      <th>text</th>\n",
              "      <th>updated</th>\n",
              "      <th>text_final</th>\n",
              "    </tr>\n",
              "  </thead>\n",
              "  <tbody>\n",
              "    <tr>\n",
              "      <th>0</th>\n",
              "      <td>0</td>\n",
              "      <td>['nice', 'interview']</td>\n",
              "      <td>1.0</td>\n",
              "      <td>['nice', 'interview']</td>\n",
              "    </tr>\n",
              "    <tr>\n",
              "      <th>1</th>\n",
              "      <td>1</td>\n",
              "      <td>['seriounited', 'states', 'of', 'america', 'en...</td>\n",
              "      <td>-1.0</td>\n",
              "      <td>['seriounited', 'state', 'america', 'energy']</td>\n",
              "    </tr>\n",
              "    <tr>\n",
              "      <th>2</th>\n",
              "      <td>2</td>\n",
              "      <td>['yess']</td>\n",
              "      <td>-1.0</td>\n",
              "      <td>['yes']</td>\n",
              "    </tr>\n",
              "    <tr>\n",
              "      <th>3</th>\n",
              "      <td>3</td>\n",
              "      <td>['shea', 'inspire']</td>\n",
              "      <td>1.0</td>\n",
              "      <td>['shea', 'inspire']</td>\n",
              "    </tr>\n",
              "    <tr>\n",
              "      <th>4</th>\n",
              "      <td>4</td>\n",
              "      <td>['i', 'cackle']</td>\n",
              "      <td>0.0</td>\n",
              "      <td>['cackle']</td>\n",
              "    </tr>\n",
              "  </tbody>\n",
              "</table>\n",
              "</div>"
            ],
            "text/plain": [
              "   Unnamed: 0  ...                                     text_final\n",
              "0           0  ...                          ['nice', 'interview']\n",
              "1           1  ...  ['seriounited', 'state', 'america', 'energy']\n",
              "2           2  ...                                        ['yes']\n",
              "3           3  ...                            ['shea', 'inspire']\n",
              "4           4  ...                                     ['cackle']\n",
              "\n",
              "[5 rows x 4 columns]"
            ]
          },
          "metadata": {
            "tags": []
          },
          "execution_count": 34
        }
      ]
    },
    {
      "cell_type": "code",
      "metadata": {
        "id": "dpNpcNyBmOmU"
      },
      "source": [
        "train = train.drop('Unnamed: 0', axis=1)\n",
        "test = test.drop('Unnamed: 0',axis =1)"
      ],
      "execution_count": null,
      "outputs": []
    },
    {
      "cell_type": "code",
      "metadata": {
        "id": "FoJvf7MyWNDA"
      },
      "source": [
        "def string2list(data):\n",
        "    for i, sentence in enumerate(data):\n",
        "        res = ast.literal_eval(sentence)\n",
        "        data[i] = res\n",
        "    # return data"
      ],
      "execution_count": null,
      "outputs": []
    },
    {
      "cell_type": "code",
      "metadata": {
        "id": "0eQNThlEU9XM"
      },
      "source": [
        "train=train.reset_index()\n",
        "test = test.reset_index()"
      ],
      "execution_count": null,
      "outputs": []
    },
    {
      "cell_type": "code",
      "metadata": {
        "id": "i_UrD9kwWO-N",
        "colab": {
          "base_uri": "https://localhost:8080/"
        },
        "outputId": "a766011b-59d2-4d43-ae85-92bf1cfaa5af"
      },
      "source": [
        "string2list(train.text)\n",
        "string2list(test.text)\n",
        "string2list(train.text_final)\n",
        "string2list(test.text_final)"
      ],
      "execution_count": null,
      "outputs": [
        {
          "output_type": "stream",
          "text": [
            "/usr/local/lib/python3.7/dist-packages/ipykernel_launcher.py:4: SettingWithCopyWarning: \n",
            "A value is trying to be set on a copy of a slice from a DataFrame\n",
            "\n",
            "See the caveats in the documentation: https://pandas.pydata.org/pandas-docs/stable/user_guide/indexing.html#returning-a-view-versus-a-copy\n",
            "  after removing the cwd from sys.path.\n"
          ],
          "name": "stderr"
        }
      ]
    },
    {
      "cell_type": "code",
      "metadata": {
        "colab": {
          "base_uri": "https://localhost:8080/"
        },
        "id": "abokg7BZV1F0",
        "outputId": "75676936-0898-40f4-88a4-f1e588545add"
      },
      "source": [
        "train.text[0]"
      ],
      "execution_count": null,
      "outputs": [
        {
          "output_type": "execute_result",
          "data": {
            "text/plain": [
              "['nice', 'interview']"
            ]
          },
          "metadata": {
            "tags": []
          },
          "execution_count": 39
        }
      ]
    },
    {
      "cell_type": "code",
      "metadata": {
        "id": "e3NklOdzWREX",
        "colab": {
          "base_uri": "https://localhost:8080/"
        },
        "outputId": "d3e69206-b944-4ebb-a9da-1513918530b4"
      },
      "source": [
        "def listToString(s):\n",
        "    str1 = \" \"\n",
        "    return (str1.join(s))\n",
        "\n",
        "for i,sen in enumerate(train['text']):\n",
        "  train['text'][i] = listToString(sen)"
      ],
      "execution_count": null,
      "outputs": [
        {
          "output_type": "stream",
          "text": [
            "/usr/local/lib/python3.7/dist-packages/ipykernel_launcher.py:6: SettingWithCopyWarning: \n",
            "A value is trying to be set on a copy of a slice from a DataFrame\n",
            "\n",
            "See the caveats in the documentation: https://pandas.pydata.org/pandas-docs/stable/user_guide/indexing.html#returning-a-view-versus-a-copy\n",
            "  \n"
          ],
          "name": "stderr"
        }
      ]
    },
    {
      "cell_type": "code",
      "metadata": {
        "id": "uUjK_ehVWTXD",
        "colab": {
          "base_uri": "https://localhost:8080/"
        },
        "outputId": "a397163d-9085-4fa5-eeb9-9a89756381f5"
      },
      "source": [
        "for i,sen in enumerate(test['text']):\n",
        "  test['text'][i] = listToString(sen)"
      ],
      "execution_count": null,
      "outputs": [
        {
          "output_type": "stream",
          "text": [
            "/usr/local/lib/python3.7/dist-packages/ipykernel_launcher.py:2: SettingWithCopyWarning: \n",
            "A value is trying to be set on a copy of a slice from a DataFrame\n",
            "\n",
            "See the caveats in the documentation: https://pandas.pydata.org/pandas-docs/stable/user_guide/indexing.html#returning-a-view-versus-a-copy\n",
            "  \n"
          ],
          "name": "stderr"
        }
      ]
    },
    {
      "cell_type": "code",
      "metadata": {
        "colab": {
          "base_uri": "https://localhost:8080/",
          "height": 195
        },
        "id": "5j4u056qVeVS",
        "outputId": "fdd6808b-6981-4b3f-bd22-24d3b099f4c2"
      },
      "source": [
        "train.head()"
      ],
      "execution_count": null,
      "outputs": [
        {
          "output_type": "execute_result",
          "data": {
            "text/html": [
              "<div>\n",
              "<style scoped>\n",
              "    .dataframe tbody tr th:only-of-type {\n",
              "        vertical-align: middle;\n",
              "    }\n",
              "\n",
              "    .dataframe tbody tr th {\n",
              "        vertical-align: top;\n",
              "    }\n",
              "\n",
              "    .dataframe thead th {\n",
              "        text-align: right;\n",
              "    }\n",
              "</style>\n",
              "<table border=\"1\" class=\"dataframe\">\n",
              "  <thead>\n",
              "    <tr style=\"text-align: right;\">\n",
              "      <th></th>\n",
              "      <th>text</th>\n",
              "      <th>updated</th>\n",
              "      <th>text_final</th>\n",
              "    </tr>\n",
              "  </thead>\n",
              "  <tbody>\n",
              "    <tr>\n",
              "      <th>0</th>\n",
              "      <td>nice interview</td>\n",
              "      <td>1.0</td>\n",
              "      <td>[nice, interview]</td>\n",
              "    </tr>\n",
              "    <tr>\n",
              "      <th>1</th>\n",
              "      <td>seriounited states of america energy</td>\n",
              "      <td>-1.0</td>\n",
              "      <td>[seriounited, state, america, energy]</td>\n",
              "    </tr>\n",
              "    <tr>\n",
              "      <th>2</th>\n",
              "      <td>yess</td>\n",
              "      <td>-1.0</td>\n",
              "      <td>[yes]</td>\n",
              "    </tr>\n",
              "    <tr>\n",
              "      <th>3</th>\n",
              "      <td>shea inspire</td>\n",
              "      <td>1.0</td>\n",
              "      <td>[shea, inspire]</td>\n",
              "    </tr>\n",
              "    <tr>\n",
              "      <th>4</th>\n",
              "      <td>i cackle</td>\n",
              "      <td>0.0</td>\n",
              "      <td>[cackle]</td>\n",
              "    </tr>\n",
              "  </tbody>\n",
              "</table>\n",
              "</div>"
            ],
            "text/plain": [
              "                                   text  ...                             text_final\n",
              "0                        nice interview  ...                      [nice, interview]\n",
              "1  seriounited states of america energy  ...  [seriounited, state, america, energy]\n",
              "2                                  yess  ...                                  [yes]\n",
              "3                          shea inspire  ...                        [shea, inspire]\n",
              "4                              i cackle  ...                               [cackle]\n",
              "\n",
              "[5 rows x 3 columns]"
            ]
          },
          "metadata": {
            "tags": []
          },
          "execution_count": 42
        }
      ]
    },
    {
      "cell_type": "code",
      "metadata": {
        "id": "QhjbszURWVjl"
      },
      "source": [
        "train.updated = train.updated.astype(int)"
      ],
      "execution_count": null,
      "outputs": []
    },
    {
      "cell_type": "code",
      "metadata": {
        "id": "lWgfRT5oWXrd"
      },
      "source": [
        "test.updated = test.updated.astype(int)"
      ],
      "execution_count": null,
      "outputs": []
    },
    {
      "cell_type": "code",
      "metadata": {
        "id": "IhlLgF2OmkkH"
      },
      "source": [
        "Test_X = test['text']\n",
        "Test_Y = test['updated']"
      ],
      "execution_count": null,
      "outputs": []
    },
    {
      "cell_type": "code",
      "metadata": {
        "id": "_-lCL3wjYnPU"
      },
      "source": [
        "Train_X, Valid_X, Train_Y, Valid_Y = model_selection.train_test_split(train['text'],train['updated'],test_size=0.3,shuffle=True)"
      ],
      "execution_count": null,
      "outputs": []
    },
    {
      "cell_type": "code",
      "metadata": {
        "colab": {
          "base_uri": "https://localhost:8080/"
        },
        "id": "tEza0_ycbTSh",
        "outputId": "c2ab1add-25ea-4cd4-929f-d181b2f96c0a"
      },
      "source": [
        "Train_Y = Train_Y.replace(to_replace =\"Non_hope_speech\", value =0)\n",
        "Train_Y = Train_Y.replace(to_replace =\"Hope_speech\", value =1)\n",
        "Train_Y.unique()\n",
        "\n",
        "Test_Y = Test_Y.replace(to_replace =\"Non_hope_speech\", value =0)\n",
        "Test_Y = Test_Y.replace(to_replace =\"Hope_speech\", value =1)\n",
        "Train_Y.unique()\n",
        "\n",
        "Valid_Y = Valid_Y.replace(to_replace =\"Non_hope_speech\", value =0)\n",
        "Valid_Y = Valid_Y.replace(to_replace =\"Hope_speech\", value =1)\n",
        "Valid_Y.unique()"
      ],
      "execution_count": null,
      "outputs": [
        {
          "output_type": "execute_result",
          "data": {
            "text/plain": [
              "array([1, 0])"
            ]
          },
          "metadata": {
            "tags": []
          },
          "execution_count": 12
        }
      ]
    },
    {
      "cell_type": "code",
      "metadata": {
        "id": "IFgxNKJcbDre"
      },
      "source": [
        "# Other method for doing operations done in above 1 cell\n",
        "# can use either of them\n",
        "Encoder = LabelEncoder()\n",
        "Train_Y = Encoder.fit_transform(Train_Y)\n",
        "Valid_Y = Encoder.fit_transform(Valid_Y)\n",
        "Test_Y = Encoder.fit_transform(Test_Y)"
      ],
      "execution_count": null,
      "outputs": []
    },
    {
      "cell_type": "code",
      "metadata": {
        "id": "LGV7hwUxYTaf"
      },
      "source": [
        "#Tokenization\n",
        "Tfidf_vect = TfidfVectorizer(max_features=5000)\n",
        "Tfidf_vect.fit(train['text'])\n",
        "Train_X_Tfidf = Tfidf_vect.transform(Train_X)\n",
        "Test_X_Tfidf = Tfidf_vect.transform(Test_X)\n",
        "Valid_X_Tfidf = Tfidf_vect.transform(Valid_X)"
      ],
      "execution_count": null,
      "outputs": []
    },
    {
      "cell_type": "code",
      "metadata": {
        "id": "-Fkmdv74YZrD"
      },
      "source": [
        "a = ['madonna for everything you have helped']\n",
        "b = Tfidf_vect.transform(a)"
      ],
      "execution_count": null,
      "outputs": []
    },
    {
      "cell_type": "code",
      "metadata": {
        "colab": {
          "base_uri": "https://localhost:8080/"
        },
        "id": "WAfH4iP8WUIC",
        "outputId": "92f0c3b4-15b4-46b5-8656-acbead051d98"
      },
      "source": [
        "b"
      ],
      "execution_count": null,
      "outputs": [
        {
          "output_type": "execute_result",
          "data": {
            "text/plain": [
              "<1x5000 sparse matrix of type '<class 'numpy.float64'>'\n",
              "\twith 6 stored elements in Compressed Sparse Row format>"
            ]
          },
          "metadata": {
            "tags": []
          },
          "execution_count": 12
        }
      ]
    },
    {
      "cell_type": "code",
      "metadata": {
        "colab": {
          "base_uri": "https://localhost:8080/"
        },
        "id": "axiyjvfRYraS",
        "outputId": "2fd02a29-aa9b-49cd-bc3f-39521f635427"
      },
      "source": [
        "print(Train_X_Tfidf)"
      ],
      "execution_count": null,
      "outputs": [
        {
          "output_type": "stream",
          "text": [
            "  (0, 4715)\t0.4182503387482151\n",
            "  (0, 4705)\t0.3028841720400499\n",
            "  (0, 4578)\t0.1709654513506782\n",
            "  (0, 4321)\t0.17775830299537032\n",
            "  (0, 3165)\t0.1490116917100456\n",
            "  (0, 2747)\t0.2933645057229492\n",
            "  (0, 2718)\t0.21145352400491807\n",
            "  (0, 2522)\t0.23677000425902942\n",
            "  (0, 771)\t0.5478275122758892\n",
            "  (0, 557)\t0.22725138057914018\n",
            "  (0, 149)\t0.2543186664949825\n",
            "  (0, 113)\t0.21685163153802106\n",
            "  (1, 4529)\t0.23890775951034693\n",
            "  (1, 4527)\t0.5731896871181436\n",
            "  (1, 4344)\t0.3900746347811901\n",
            "  (1, 3667)\t0.32502971101095424\n",
            "  (1, 2544)\t0.47262128119361585\n",
            "  (1, 2116)\t0.22950048236318915\n",
            "  (1, 139)\t0.28378298829488774\n",
            "  (2, 2257)\t0.2720226589205008\n",
            "  (2, 2015)\t0.38933346827332516\n",
            "  (2, 1849)\t0.701391729809585\n",
            "  (2, 1239)\t0.5314816693648076\n",
            "  (3, 4783)\t0.5130781987265939\n",
            "  (3, 2574)\t0.658262478693819\n",
            "  :\t:\n",
            "  (11554, 3501)\t0.39070177808330553\n",
            "  (11554, 3165)\t0.09973828369657536\n",
            "  (11554, 3068)\t0.11879338945818058\n",
            "  (11554, 2161)\t0.42846624636929814\n",
            "  (11554, 1978)\t0.25178965170971496\n",
            "  (11554, 1239)\t0.13116585532368147\n",
            "  (11554, 321)\t0.17955134476687604\n",
            "  (11554, 296)\t0.3975723471379003\n",
            "  (11554, 238)\t0.3511542530224508\n",
            "  (11554, 149)\t0.1702236047193423\n",
            "  (11555, 4968)\t0.6204590851838865\n",
            "  (11555, 3667)\t0.5078601838031753\n",
            "  (11555, 2261)\t0.5975856066875938\n",
            "  (11556, 4865)\t0.217039910427267\n",
            "  (11556, 3167)\t0.2892555532997091\n",
            "  (11556, 2672)\t0.47317691729782574\n",
            "  (11556, 2527)\t0.20386694110824394\n",
            "  (11556, 2116)\t0.16279500536252967\n",
            "  (11556, 2015)\t0.22413226605446512\n",
            "  (11556, 1731)\t0.2366687684046287\n",
            "  (11556, 811)\t0.3637961833704452\n",
            "  (11556, 459)\t0.2615002650920474\n",
            "  (11556, 446)\t0.36507979738442714\n",
            "  (11556, 225)\t0.1447871573700871\n",
            "  (11556, 43)\t0.340647257372138\n"
          ],
          "name": "stdout"
        }
      ]
    },
    {
      "cell_type": "code",
      "metadata": {
        "colab": {
          "base_uri": "https://localhost:8080/",
          "height": 312
        },
        "id": "4e2FsPpvuReW",
        "outputId": "2987ca0c-8bb1-4b59-b2d3-0a3819f317a4"
      },
      "source": [
        "\n",
        "\n",
        "count_classes = pd.value_counts(train['updated'])\n",
        "count_classes.plot(kind = 'bar', rot=0)\n",
        "plt.title(\"Traning dataset class distribution\")\n",
        "plt.xlabel(\"intent\")\n",
        "plt.ylabel(\"Frequency\")"
      ],
      "execution_count": null,
      "outputs": [
        {
          "output_type": "execute_result",
          "data": {
            "text/plain": [
              "Text(0, 0.5, 'Frequency')"
            ]
          },
          "metadata": {
            "tags": []
          },
          "execution_count": 49
        },
        {
          "output_type": "display_data",
          "data": {
            "image/png": "[encoded data removed]",
            "text/plain": [
              "<Figure size 432x288 with 1 Axes>"
            ]
          },
          "metadata": {
            "tags": [],
            "needs_background": "light"
          }
        }
      ]
    },
    {
      "cell_type": "markdown",
      "metadata": {
        "id": "9CmtUN0GYyPP"
      },
      "source": [
        "**Naive Bayes**"
      ]
    },
    {
      "cell_type": "code",
      "metadata": {
        "colab": {
          "base_uri": "https://localhost:8080/"
        },
        "id": "E_Q7qPSEYs-u",
        "outputId": "315d2383-f4ea-4fcc-957a-862f0bd5fef6"
      },
      "source": [
        "Naive = naive_bayes.MultinomialNB()\n",
        "Naive.fit(Train_X_Tfidf,Train_Y)\n",
        "predictions_NB = Naive.predict(Valid_X_Tfidf)\n",
        "print(\"Naive Bayes Accuracy Score on valid set-> \",accuracy_score(predictions_NB, Valid_Y)*100)"
      ],
      "execution_count": null,
      "outputs": [
        {
          "output_type": "stream",
          "text": [
            "Naive Bayes Accuracy Score on valid set->  61.9095680258377\n"
          ],
          "name": "stdout"
        }
      ]
    },
    {
      "cell_type": "code",
      "metadata": {
        "colab": {
          "base_uri": "https://localhost:8080/"
        },
        "id": "6URjoE9cZEwe",
        "outputId": "18fa942d-7e3b-485b-9976-3282de677a68"
      },
      "source": [
        "# accuracy on test set\n",
        "predictions_NB_T = Naive.predict(Test_X_Tfidf)\n",
        "print(\"Naive Bayes Accuracy Score on test set-> \",accuracy_score(predictions_NB_T, Test_Y)*100)"
      ],
      "execution_count": null,
      "outputs": [
        {
          "output_type": "stream",
          "text": [
            "Naive Bayes Accuracy Score on test set->  62.03034682080924\n"
          ],
          "name": "stdout"
        }
      ]
    },
    {
      "cell_type": "code",
      "metadata": {
        "colab": {
          "base_uri": "https://localhost:8080/"
        },
        "id": "rNL9Ro8CZq4u",
        "outputId": "c388d63f-d80b-47fd-fc53-36bda10a2075"
      },
      "source": [
        "#Training set accuracy Naive bayes\n",
        "predictions_NB_Tr = Naive.predict(Train_X_Tfidf)\n",
        "print(\"Naive Bayes Accuracy Score on training set -> \",accuracy_score(predictions_NB_Tr, Train_Y)*100)"
      ],
      "execution_count": null,
      "outputs": [
        {
          "output_type": "stream",
          "text": [
            "Naive Bayes Accuracy Score on training set ->  74.17149779354504\n"
          ],
          "name": "stdout"
        }
      ]
    },
    {
      "cell_type": "code",
      "metadata": {
        "colab": {
          "base_uri": "https://localhost:8080/"
        },
        "id": "LWgF65OfZK2x",
        "outputId": "6084afb2-d623-4c64-d3d9-bc85ab2cca01"
      },
      "source": [
        "print ('\\n*Classification Report: Naive bayes\\n', classification_report(Test_Y, predictions_NB_T))\n",
        "confusion_matrix(Test_Y, predictions_NB_T)"
      ],
      "execution_count": null,
      "outputs": [
        {
          "output_type": "stream",
          "text": [
            "\n",
            "*Classification Report: Naive bayes\n",
            "               precision    recall  f1-score   support\n",
            "\n",
            "          -1       0.59      0.70      0.64      1072\n",
            "           0       0.60      0.69      0.65       990\n",
            "           1       0.76      0.40      0.53       706\n",
            "\n",
            "    accuracy                           0.62      2768\n",
            "   macro avg       0.65      0.60      0.60      2768\n",
            "weighted avg       0.64      0.62      0.61      2768\n",
            "\n"
          ],
          "name": "stdout"
        },
        {
          "output_type": "execute_result",
          "data": {
            "text/plain": [
              "array([[747, 264,  61],\n",
              "       [277, 687,  26],\n",
              "       [238, 185, 283]])"
            ]
          },
          "metadata": {
            "tags": []
          },
          "execution_count": 53
        }
      ]
    },
    {
      "cell_type": "code",
      "metadata": {
        "colab": {
          "base_uri": "https://localhost:8080/"
        },
        "id": "5-NjiiluZL5T",
        "outputId": "c3aa341d-f940-45a7-dd5f-369ce6610850"
      },
      "source": [
        "tn, fp, fn, tp = confusion_matrix(Test_Y, predictions_NB_T).ravel()\n",
        "print(tn,fp,fn,tp)"
      ],
      "execution_count": null,
      "outputs": [
        {
          "output_type": "stream",
          "text": [
            "2566 2 262 9\n"
          ],
          "name": "stdout"
        }
      ]
    },
    {
      "cell_type": "markdown",
      "metadata": {
        "id": "qPYMK3h5ZPZc"
      },
      "source": [
        "**SVM**"
      ]
    },
    {
      "cell_type": "code",
      "metadata": {
        "colab": {
          "base_uri": "https://localhost:8080/"
        },
        "id": "lAXZNZrWZRbq",
        "outputId": "66215368-4abd-441c-fae6-71a2831d405d"
      },
      "source": [
        "SVM = svm.SVC(C=1.0, kernel='linear', degree=3, gamma='auto')\n",
        "SVM.fit(Train_X_Tfidf,Train_Y)\n",
        "predictions_SVM = SVM.predict(Valid_X_Tfidf)\n",
        "print(\"SVM Accuracy Score on valid set-> \",accuracy_score(predictions_SVM, Valid_Y)*100)"
      ],
      "execution_count": null,
      "outputs": [
        {
          "output_type": "stream",
          "text": [
            "SVM Accuracy Score on valid set->  64.89705288655631\n"
          ],
          "name": "stdout"
        }
      ]
    },
    {
      "cell_type": "code",
      "metadata": {
        "colab": {
          "base_uri": "https://localhost:8080/"
        },
        "id": "l7vBGg_mZVME",
        "outputId": "d12d468e-1dc5-4766-88db-968b7706518c"
      },
      "source": [
        "#accuracy on test set\n",
        "predictions_SVM_T = SVM.predict(Test_X_Tfidf)\n",
        "print(\"SVM Accuracy Score test set -> \",accuracy_score(predictions_SVM_T, Test_Y)*100)"
      ],
      "execution_count": null,
      "outputs": [
        {
          "output_type": "stream",
          "text": [
            "SVM Accuracy Score test set ->  65.24566473988439\n"
          ],
          "name": "stdout"
        }
      ]
    },
    {
      "cell_type": "code",
      "metadata": {
        "colab": {
          "base_uri": "https://localhost:8080/"
        },
        "id": "oma-ewIrZxKv",
        "outputId": "5d515ab5-864f-4069-8a94-45020cb1178a"
      },
      "source": [
        "# Training set accuracy SVM\n",
        "predictions_SVM_Tr = SVM.predict(Train_X_Tfidf)\n",
        "print(\"SVM Accuracy Score on training set -> \",accuracy_score(predictions_SVM_Tr, Train_Y)*100)"
      ],
      "execution_count": null,
      "outputs": [
        {
          "output_type": "stream",
          "text": [
            "SVM Accuracy Score on training set ->  78.53249113091633\n"
          ],
          "name": "stdout"
        }
      ]
    },
    {
      "cell_type": "code",
      "metadata": {
        "colab": {
          "base_uri": "https://localhost:8080/"
        },
        "id": "PE9D4ARkZhNb",
        "outputId": "711249ba-985d-4cd6-df6e-3f6e1571dc31"
      },
      "source": [
        "print ('\\n*Classification Report: SVM\\n', classification_report(Test_Y, predictions_SVM_T))\n",
        "confusion_matrix(Test_Y, predictions_SVM_T)"
      ],
      "execution_count": null,
      "outputs": [
        {
          "output_type": "stream",
          "text": [
            "\n",
            "*Classification Report: SVM\n",
            "               precision    recall  f1-score   support\n",
            "\n",
            "          -1       0.63      0.69      0.66      1072\n",
            "           0       0.66      0.67      0.66       990\n",
            "           1       0.69      0.57      0.62       706\n",
            "\n",
            "    accuracy                           0.65      2768\n",
            "   macro avg       0.66      0.64      0.65      2768\n",
            "weighted avg       0.66      0.65      0.65      2768\n",
            "\n"
          ],
          "name": "stdout"
        },
        {
          "output_type": "execute_result",
          "data": {
            "text/plain": [
              "array([[744, 220, 108],\n",
              "       [259, 663,  68],\n",
              "       [186, 121, 399]])"
            ]
          },
          "metadata": {
            "tags": []
          },
          "execution_count": 57
        }
      ]
    },
    {
      "cell_type": "code",
      "metadata": {
        "colab": {
          "base_uri": "https://localhost:8080/"
        },
        "id": "VFha2YYbZiCy",
        "outputId": "51043fc5-f176-4714-8b02-dfa803a33ac2"
      },
      "source": [
        "tn, fp, fn, tp = confusion_matrix(Test_Y, predictions_SVM_T).ravel()\n",
        "print(tn,fp,fn,tp)"
      ],
      "execution_count": null,
      "outputs": [
        {
          "output_type": "stream",
          "text": [
            "2548 20 222 49\n"
          ],
          "name": "stdout"
        }
      ]
    },
    {
      "cell_type": "markdown",
      "metadata": {
        "id": "zsAoIhRkb_mu"
      },
      "source": [
        "**Logistic Regression**"
      ]
    },
    {
      "cell_type": "code",
      "metadata": {
        "colab": {
          "base_uri": "https://localhost:8080/"
        },
        "id": "aljBrRSycD1e",
        "outputId": "756a1d59-e633-49ad-9f60-77f89ba04765"
      },
      "source": [
        "LR = LogisticRegression()\n",
        "model = LR.fit(Train_X_Tfidf,Train_Y)\n",
        "prediction_LR = model.predict(Valid_X_Tfidf)\n",
        "print(\"Logistic Regression Accuracy Score on valid set-> \",accuracy_score(prediction_LR, Valid_Y)*100)"
      ],
      "execution_count": null,
      "outputs": [
        {
          "output_type": "stream",
          "text": [
            "Logistic Regression Accuracy Score on valid set->  64.61445296729916\n"
          ],
          "name": "stdout"
        },
        {
          "output_type": "stream",
          "text": [
            "/usr/local/lib/python3.7/dist-packages/sklearn/linear_model/_logistic.py:940: ConvergenceWarning: lbfgs failed to converge (status=1):\n",
            "STOP: TOTAL NO. of ITERATIONS REACHED LIMIT.\n",
            "\n",
            "Increase the number of iterations (max_iter) or scale the data as shown in:\n",
            "    https://scikit-learn.org/stable/modules/preprocessing.html\n",
            "Please also refer to the documentation for alternative solver options:\n",
            "    https://scikit-learn.org/stable/modules/linear_model.html#logistic-regression\n",
            "  extra_warning_msg=_LOGISTIC_SOLVER_CONVERGENCE_MSG)\n"
          ],
          "name": "stderr"
        }
      ]
    },
    {
      "cell_type": "code",
      "metadata": {
        "id": "a_2U_eNlCEUh",
        "colab": {
          "base_uri": "https://localhost:8080/"
        },
        "outputId": "910952a8-71b8-4acb-d29d-ad6e5a775ff9"
      },
      "source": [
        "accuracy_score(prediction_LR, Valid_Y)*100"
      ],
      "execution_count": null,
      "outputs": [
        {
          "output_type": "execute_result",
          "data": {
            "text/plain": [
              "92.97241784037558"
            ]
          },
          "metadata": {
            "tags": []
          },
          "execution_count": 28
        }
      ]
    },
    {
      "cell_type": "code",
      "metadata": {
        "colab": {
          "base_uri": "https://localhost:8080/"
        },
        "id": "tzfXgkdHc4hj",
        "outputId": "569b529d-24bb-4db2-d8e4-7a3d091bd063"
      },
      "source": [
        "#accuracy on test set\n",
        "predictions_LR_T = model.predict(Test_X_Tfidf)\n",
        "print(\"Logistic Regression Accuracy Score test set -> \",accuracy_score(predictions_LR_T, Test_Y)*100)"
      ],
      "execution_count": null,
      "outputs": [
        {
          "output_type": "stream",
          "text": [
            "Logistic Regression Accuracy Score test set ->  65.02890173410405\n"
          ],
          "name": "stdout"
        }
      ]
    },
    {
      "cell_type": "code",
      "metadata": {
        "colab": {
          "base_uri": "https://localhost:8080/"
        },
        "id": "4Q7a3l95dB4x",
        "outputId": "ee43ae81-72d4-470e-a172-21102eddcfec"
      },
      "source": [
        "# Training set accuracy LR\n",
        "predictions_LR_Tr = model.predict(Train_X_Tfidf)\n",
        "print(\"Logistic Regression Accuracy Score on training set -> \",accuracy_score(predictions_LR_Tr, Train_Y)*100)"
      ],
      "execution_count": null,
      "outputs": [
        {
          "output_type": "stream",
          "text": [
            "Logistic Regression Accuracy Score on training set ->  77.02691009777624\n"
          ],
          "name": "stdout"
        }
      ]
    },
    {
      "cell_type": "code",
      "metadata": {
        "colab": {
          "base_uri": "https://localhost:8080/"
        },
        "id": "-I6NaH5kdIE6",
        "outputId": "a7dec9cf-031d-49d9-9380-25ae09dc75e6"
      },
      "source": [
        "print ('\\n*Classification Report: Logistic Regression\\n', classification_report(Test_Y, predictions_LR_T))\n",
        "confusion_matrix(Test_Y, predictions_LR_T)"
      ],
      "execution_count": null,
      "outputs": [
        {
          "output_type": "stream",
          "text": [
            "\n",
            "*Classification Report: Logistic Regression\n",
            "               precision    recall  f1-score   support\n",
            "\n",
            "          -1       0.63      0.68      0.65      1072\n",
            "           0       0.66      0.67      0.66       990\n",
            "           1       0.69      0.58      0.63       706\n",
            "\n",
            "    accuracy                           0.65      2768\n",
            "   macro avg       0.66      0.64      0.65      2768\n",
            "weighted avg       0.65      0.65      0.65      2768\n",
            "\n"
          ],
          "name": "stdout"
        },
        {
          "output_type": "execute_result",
          "data": {
            "text/plain": [
              "array([[731, 222, 119],\n",
              "       [260, 662,  68],\n",
              "       [178, 121, 407]])"
            ]
          },
          "metadata": {
            "tags": []
          },
          "execution_count": 62
        }
      ]
    },
    {
      "cell_type": "code",
      "metadata": {
        "colab": {
          "base_uri": "https://localhost:8080/"
        },
        "id": "ZK2YdCxxBznD",
        "outputId": "6efa8a71-af17-457c-f774-39efe8863f29"
      },
      "source": [
        "confusion_matrix(Test_Y, predictions_LR_T)"
      ],
      "execution_count": null,
      "outputs": [
        {
          "output_type": "execute_result",
          "data": {
            "text/plain": [
              "array([[2544,   24],\n",
              "       [ 209,   62]])"
            ]
          },
          "metadata": {
            "tags": []
          },
          "execution_count": 33
        }
      ]
    },
    {
      "cell_type": "code",
      "metadata": {
        "colab": {
          "base_uri": "https://localhost:8080/"
        },
        "id": "gxM4SbymdXHJ",
        "outputId": "3d40f573-e713-4362-d941-7b3d156d0f82"
      },
      "source": [
        "tn, fp, fn, tp = confusion_matrix(Test_Y, predictions_LR_T).ravel()\n",
        "print(tn,fp,fn,tp)"
      ],
      "execution_count": null,
      "outputs": [
        {
          "output_type": "stream",
          "text": [
            "2543 25 211 60\n"
          ],
          "name": "stdout"
        }
      ]
    },
    {
      "cell_type": "markdown",
      "metadata": {
        "id": "izyK1SJidi8o"
      },
      "source": [
        "**KNN**"
      ]
    },
    {
      "cell_type": "code",
      "metadata": {
        "colab": {
          "base_uri": "https://localhost:8080/"
        },
        "id": "eOtc8fHndk-6",
        "outputId": "89f91f15-2452-461c-9bda-55395e8ebe7e"
      },
      "source": [
        "lst_acc = []\n",
        "lst_f1 = []\n",
        "lst_recall = []\n",
        "lst_prec = []\n",
        "for i in range(1, 10):\n",
        "  knn = KNeighborsClassifier(n_neighbors=i)\n",
        "  knn.fit(Train_X_Tfidf,Train_Y)\n",
        "  y_pred = knn.predict(Valid_X_Tfidf)\n",
        "  acc = metrics.accuracy_score(Valid_Y, y_pred)\n",
        "  recall = metrics.recall_score(Valid_Y, y_pred,average = 'macro')\n",
        "  precision = metrics.precision_score(Valid_Y, y_pred, average='macro')\n",
        "  f1 = metrics.f1_score(Valid_Y, y_pred, average='macro')\n",
        "  # cr = classification_report(Valid_Y, y_pred)\n",
        "  print(\"Accuracy: {:.4f}\" .format(acc), \"F1 Score: {:.4f}\" .format(f1), \"Precision: {:.4f}\" .format(precision), \"Recall: {:.4f}\" .format(recall))\n",
        "  #print(cr)\n",
        "  #print(\"Confusion Matrix :\" confusion_matrix(Valid_Y, predictions_SVM_T))\n",
        "  lst_acc.append(acc)\n",
        "  lst_f1.append(f1)\n",
        "  lst_prec.append(precision)\n",
        "  lst_recall.append(recall)"
      ],
      "execution_count": null,
      "outputs": [
        {
          "output_type": "stream",
          "text": [
            "Accuracy: 0.4148 F1 Score: 0.4045 Precision: 0.5193 Recall: 0.4574\n",
            "Accuracy: 0.5000 F1 Score: 0.4467 Precision: 0.5884 Recall: 0.4678\n",
            "Accuracy: 0.4917 F1 Score: 0.4277 Precision: 0.5966 Recall: 0.4668\n",
            "Accuracy: 0.4719 F1 Score: 0.3828 Precision: 0.6005 Recall: 0.4314\n",
            "Accuracy: 0.4653 F1 Score: 0.3681 Precision: 0.6134 Recall: 0.4231\n",
            "Accuracy: 0.4554 F1 Score: 0.3451 Precision: 0.6216 Recall: 0.4113\n",
            "Accuracy: 0.4550 F1 Score: 0.3430 Precision: 0.6363 Recall: 0.4104\n",
            "Accuracy: 0.4481 F1 Score: 0.3275 Precision: 0.6305 Recall: 0.4021\n",
            "Accuracy: 0.4461 F1 Score: 0.3227 Precision: 0.6415 Recall: 0.3994\n"
          ],
          "name": "stdout"
        }
      ]
    },
    {
      "cell_type": "code",
      "metadata": {
        "colab": {
          "base_uri": "https://localhost:8080/",
          "height": 265
        },
        "id": "-t-sEs-1gmIs",
        "outputId": "9afa0be3-eb2e-4f89-f1aa-7aec2b61f7a8"
      },
      "source": [
        "plt.plot(lst_acc)\n",
        "plt.plot(lst_f1)\n",
        "plt.plot(lst_recall)\n",
        "plt.plot(lst_prec)\n",
        "plt.show()"
      ],
      "execution_count": null,
      "outputs": [
        {
          "output_type": "display_data",
          "data": {
            "image/png": "[encoded data removed]",
            "text/plain": [
              "<Figure size 432x288 with 1 Axes>"
            ]
          },
          "metadata": {
            "tags": [],
            "needs_background": "light"
          }
        }
      ]
    },
    {
      "cell_type": "code",
      "metadata": {
        "id": "ZAdnh_Ajrj2X"
      },
      "source": [],
      "execution_count": null,
      "outputs": []
    }
  ]
}