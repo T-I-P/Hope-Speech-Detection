{
  "nbformat": 4,
  "nbformat_minor": 0,
  "metadata": {
    "colab": {
      "provenance": [],
      "toc_visible": true
    },
    "kernelspec": {
      "name": "python3",
      "display_name": "Python 3"
    },
    "accelerator": "GPU"
  },
  "cells": [
    {
      "cell_type": "code",
      "metadata": {
        "colab": {
          "base_uri": "https://localhost:8080/"
        },
        "id": "oyFBNJl54RFf",
        "outputId": "250792e1-bd54-4a9d-a7ff-1a9c44394ceb"
      },
      "source": [
        "import nltk\n",
        "nltk.download('punkt')\n"
      ],
      "execution_count": null,
      "outputs": [
        {
          "output_type": "stream",
          "text": [
            "[nltk_data] Downloading package punkt to /root/nltk_data...\n",
            "[nltk_data]   Unzipping tokenizers/punkt.zip.\n"
          ],
          "name": "stdout"
        },
        {
          "output_type": "execute_result",
          "data": {
            "text/plain": [
              "True"
            ]
          },
          "metadata": {
            "tags": []
          },
          "execution_count": 1
        }
      ]
    },
    {
      "cell_type": "code",
      "metadata": {
        "colab": {
          "base_uri": "https://localhost:8080/"
        },
        "id": "pNR048bcQODD",
        "outputId": "3df24add-b39c-4208-d7ae-3f16c6602874"
      },
      "source": [
        "!pip install nlpaug"
      ],
      "execution_count": null,
      "outputs": [
        {
          "output_type": "stream",
          "text": [
            "Collecting nlpaug\n",
            "\u001b[?25l  Downloading https://files.pythonhosted.org/packages/03/6d/34f342ba443ca8a74682962f71c465cfcaaa69e9a437cdcf1756986c110d/nlpaug-1.1.2-py3-none-any.whl (387kB)\n",
            "\r\u001b[K     |▉                               | 10kB 21.7MB/s eta 0:00:01\r\u001b[K     |█▊                              | 20kB 27.3MB/s eta 0:00:01\r\u001b[K     |██▌                             | 30kB 22.9MB/s eta 0:00:01\r\u001b[K     |███▍                            | 40kB 26.0MB/s eta 0:00:01\r\u001b[K     |████▎                           | 51kB 25.0MB/s eta 0:00:01\r\u001b[K     |█████                           | 61kB 27.1MB/s eta 0:00:01\r\u001b[K     |██████                          | 71kB 18.1MB/s eta 0:00:01\r\u001b[K     |██████▊                         | 81kB 19.3MB/s eta 0:00:01\r\u001b[K     |███████▋                        | 92kB 18.1MB/s eta 0:00:01\r\u001b[K     |████████▌                       | 102kB 18.0MB/s eta 0:00:01\r\u001b[K     |█████████▎                      | 112kB 18.0MB/s eta 0:00:01\r\u001b[K     |██████████▏                     | 122kB 18.0MB/s eta 0:00:01\r\u001b[K     |███████████                     | 133kB 18.0MB/s eta 0:00:01\r\u001b[K     |███████████▉                    | 143kB 18.0MB/s eta 0:00:01\r\u001b[K     |████████████▊                   | 153kB 18.0MB/s eta 0:00:01\r\u001b[K     |█████████████▌                  | 163kB 18.0MB/s eta 0:00:01\r\u001b[K     |██████████████▍                 | 174kB 18.0MB/s eta 0:00:01\r\u001b[K     |███████████████▏                | 184kB 18.0MB/s eta 0:00:01\r\u001b[K     |████████████████                | 194kB 18.0MB/s eta 0:00:01\r\u001b[K     |█████████████████               | 204kB 18.0MB/s eta 0:00:01\r\u001b[K     |█████████████████▊              | 215kB 18.0MB/s eta 0:00:01\r\u001b[K     |██████████████████▋             | 225kB 18.0MB/s eta 0:00:01\r\u001b[K     |███████████████████▍            | 235kB 18.0MB/s eta 0:00:01\r\u001b[K     |████████████████████▎           | 245kB 18.0MB/s eta 0:00:01\r\u001b[K     |█████████████████████▏          | 256kB 18.0MB/s eta 0:00:01\r\u001b[K     |██████████████████████          | 266kB 18.0MB/s eta 0:00:01\r\u001b[K     |██████████████████████▉         | 276kB 18.0MB/s eta 0:00:01\r\u001b[K     |███████████████████████▋        | 286kB 18.0MB/s eta 0:00:01\r\u001b[K     |████████████████████████▌       | 296kB 18.0MB/s eta 0:00:01\r\u001b[K     |█████████████████████████▍      | 307kB 18.0MB/s eta 0:00:01\r\u001b[K     |██████████████████████████▏     | 317kB 18.0MB/s eta 0:00:01\r\u001b[K     |███████████████████████████     | 327kB 18.0MB/s eta 0:00:01\r\u001b[K     |████████████████████████████    | 337kB 18.0MB/s eta 0:00:01\r\u001b[K     |████████████████████████████▊   | 348kB 18.0MB/s eta 0:00:01\r\u001b[K     |█████████████████████████████▋  | 358kB 18.0MB/s eta 0:00:01\r\u001b[K     |██████████████████████████████▍ | 368kB 18.0MB/s eta 0:00:01\r\u001b[K     |███████████████████████████████▎| 378kB 18.0MB/s eta 0:00:01\r\u001b[K     |████████████████████████████████| 389kB 18.0MB/s \n",
            "\u001b[?25hInstalling collected packages: nlpaug\n",
            "Successfully installed nlpaug-1.1.2\n"
          ],
          "name": "stdout"
        }
      ]
    },
    {
      "cell_type": "code",
      "metadata": {
        "id": "WpoBtVowWS4V"
      },
      "source": [
        "!pip install tqdm  >> /dev/null"
      ],
      "execution_count": null,
      "outputs": []
    },
    {
      "cell_type": "code",
      "metadata": {
        "colab": {
          "base_uri": "https://localhost:8080/"
        },
        "id": "lB_kvzcqTldv",
        "outputId": "8bbf975e-d37e-4ee6-8185-8ca06afcab02"
      },
      "source": [
        "!wget http://nlp.stanford.edu/data/glove.6B.zip"
      ],
      "execution_count": null,
      "outputs": [
        {
          "output_type": "stream",
          "text": [
            "--2021-03-01 05:41:37--  http://nlp.stanford.edu/data/glove.6B.zip\n",
            "Resolving nlp.stanford.edu (nlp.stanford.edu)... 171.64.67.140\n",
            "Connecting to nlp.stanford.edu (nlp.stanford.edu)|171.64.67.140|:80... connected.\n",
            "HTTP request sent, awaiting response... 302 Found\n",
            "Location: https://nlp.stanford.edu/data/glove.6B.zip [following]\n",
            "--2021-03-01 05:41:37--  https://nlp.stanford.edu/data/glove.6B.zip\n",
            "Connecting to nlp.stanford.edu (nlp.stanford.edu)|171.64.67.140|:443... connected.\n",
            "HTTP request sent, awaiting response... 301 Moved Permanently\n",
            "Location: http://downloads.cs.stanford.edu/nlp/data/glove.6B.zip [following]\n",
            "--2021-03-01 05:41:37--  http://downloads.cs.stanford.edu/nlp/data/glove.6B.zip\n",
            "Resolving downloads.cs.stanford.edu (downloads.cs.stanford.edu)... 171.64.64.22\n",
            "Connecting to downloads.cs.stanford.edu (downloads.cs.stanford.edu)|171.64.64.22|:80... connected.\n",
            "HTTP request sent, awaiting response... 200 OK\n",
            "Length: 862182613 (822M) [application/zip]\n",
            "Saving to: ‘glove.6B.zip’\n",
            "\n",
            "glove.6B.zip        100%[===================>] 822.24M  2.06MB/s    in 6m 50s  \n",
            "\n",
            "2021-03-01 05:48:28 (2.00 MB/s) - ‘glove.6B.zip’ saved [862182613/862182613]\n",
            "\n"
          ],
          "name": "stdout"
        }
      ]
    },
    {
      "cell_type": "code",
      "metadata": {
        "colab": {
          "base_uri": "https://localhost:8080/"
        },
        "id": "dHEir-l5VTMN",
        "outputId": "39fa316e-9ecc-47c7-bdc9-806f11c75855"
      },
      "source": [
        "!unzip glove*.zip"
      ],
      "execution_count": null,
      "outputs": [
        {
          "output_type": "stream",
          "text": [
            "Archive:  glove.6B.zip\n",
            "  inflating: glove.6B.50d.txt        \n",
            "  inflating: glove.6B.100d.txt       \n",
            "  inflating: glove.6B.200d.txt       \n",
            "  inflating: glove.6B.300d.txt       \n"
          ],
          "name": "stdout"
        }
      ]
    },
    {
      "cell_type": "code",
      "metadata": {
        "colab": {
          "base_uri": "https://localhost:8080/"
        },
        "id": "BM73luFq5Oxp",
        "outputId": "acfaf1cb-9c7d-42c0-92c8-039a888db929"
      },
      "source": [
        "nltk.download('wordnet')"
      ],
      "execution_count": null,
      "outputs": [
        {
          "output_type": "stream",
          "text": [
            "[nltk_data] Downloading package wordnet to /root/nltk_data...\n",
            "[nltk_data]   Unzipping corpora/wordnet.zip.\n"
          ],
          "name": "stdout"
        },
        {
          "output_type": "execute_result",
          "data": {
            "text/plain": [
              "True"
            ]
          },
          "metadata": {
            "tags": []
          },
          "execution_count": 18
        }
      ]
    },
    {
      "cell_type": "code",
      "metadata": {
        "colab": {
          "base_uri": "https://localhost:8080/"
        },
        "id": "5n4NrXes6gkJ",
        "outputId": "22d40a41-4ccb-4b0f-9664-30549db6a728"
      },
      "source": [
        " nltk.download('averaged_perceptron_tagger')"
      ],
      "execution_count": null,
      "outputs": [
        {
          "output_type": "stream",
          "text": [
            "[nltk_data] Downloading package averaged_perceptron_tagger to\n",
            "[nltk_data]     /root/nltk_data...\n",
            "[nltk_data]   Unzipping taggers/averaged_perceptron_tagger.zip.\n"
          ],
          "name": "stdout"
        },
        {
          "output_type": "execute_result",
          "data": {
            "text/plain": [
              "True"
            ]
          },
          "metadata": {
            "tags": []
          },
          "execution_count": 19
        }
      ]
    },
    {
      "cell_type": "code",
      "metadata": {
        "colab": {
          "base_uri": "https://localhost:8080/"
        },
        "id": "UvnvDNdy7XTi",
        "outputId": "9b5a7ebf-3674-477d-dd57-d58c2b3c6a1d"
      },
      "source": [
        "nltk.download('stopwords')"
      ],
      "execution_count": null,
      "outputs": [
        {
          "output_type": "stream",
          "text": [
            "[nltk_data] Downloading package stopwords to /root/nltk_data...\n",
            "[nltk_data]   Unzipping corpora/stopwords.zip.\n"
          ],
          "name": "stdout"
        },
        {
          "output_type": "execute_result",
          "data": {
            "text/plain": [
              "True"
            ]
          },
          "metadata": {
            "tags": []
          },
          "execution_count": 20
        }
      ]
    },
    {
      "cell_type": "code",
      "metadata": {
        "id": "Q_ErIanepo5N"
      },
      "source": [
        "import pandas as pd\n",
        "import numpy as np\n",
        "from nltk.tokenize import word_tokenize\n",
        "from nltk import pos_tag\n",
        "from nltk.corpus import stopwords\n",
        "from nltk.stem import WordNetLemmatizer\n",
        "from sklearn.preprocessing import LabelEncoder\n",
        "from collections import defaultdict\n",
        "from nltk.corpus import wordnet as wn\n",
        "from sklearn.feature_extraction.text import TfidfVectorizer\n",
        "from sklearn import model_selection, naive_bayes, svm\n",
        "from sklearn.metrics import accuracy_score, f1_score, confusion_matrix,classification_report"
      ],
      "execution_count": null,
      "outputs": []
    },
    {
      "cell_type": "code",
      "metadata": {
        "id": "GlYMdf3bWaDB"
      },
      "source": [
        "from tqdm import tqdm\n",
        "from sklearn.utils import shuffle"
      ],
      "execution_count": null,
      "outputs": []
    },
    {
      "cell_type": "code",
      "metadata": {
        "id": "ZIzLsxzmQZmh"
      },
      "source": [
        "import nlpaug.augmenter.char as nac\n",
        "import nlpaug.augmenter.word as naw\n",
        "import nlpaug.augmenter.sentence as nas\n",
        "import nlpaug.flow as naf\n",
        "\n",
        "from nlpaug.util import Action"
      ],
      "execution_count": null,
      "outputs": []
    },
    {
      "cell_type": "code",
      "metadata": {
        "id": "mbeh8OZsqAOw"
      },
      "source": [
        "header_list = [\"text\",\"intent\",\"buffer\"]\n",
        "train = pd.read_csv(\"/content/english_hope_train.csv\", '\\t',header=None,names=header_list)\n",
        "valid = pd.read_csv(\"/content/english_hope_dev.csv\", '\\t',header=None,names=header_list)"
      ],
      "execution_count": null,
      "outputs": []
    },
    {
      "cell_type": "code",
      "metadata": {
        "id": "aA6PAkp4qJ6J"
      },
      "source": [
        "train = train.drop(labels='buffer',axis=1)\n",
        "valid = valid.drop(labels='buffer',axis=1)"
      ],
      "execution_count": null,
      "outputs": []
    },
    {
      "cell_type": "code",
      "metadata": {
        "id": "3zehjmZvqSky"
      },
      "source": [
        "train = train.loc[train['intent']!='not-English']\n",
        "valid = valid.loc[valid['intent']!='not-English']"
      ],
      "execution_count": null,
      "outputs": []
    },
    {
      "cell_type": "code",
      "metadata": {
        "colab": {
          "base_uri": "https://localhost:8080/"
        },
        "id": "DpBsSe5YqWnS",
        "outputId": "bb8dbe8f-b017-47ec-81b3-dad1f0b959c3"
      },
      "source": [
        "print(train.shape, valid.shape)"
      ],
      "execution_count": null,
      "outputs": [
        {
          "output_type": "stream",
          "text": [
            "(22740, 2) (2841, 2)\n"
          ],
          "name": "stdout"
        }
      ]
    },
    {
      "cell_type": "code",
      "metadata": {
        "colab": {
          "base_uri": "https://localhost:8080/"
        },
        "id": "jG5Rb31kqcXX",
        "outputId": "8c1405c4-6699-4b43-e7f9-c3d14989a5d7"
      },
      "source": [
        "np.unique(train['intent'])"
      ],
      "execution_count": null,
      "outputs": [
        {
          "output_type": "execute_result",
          "data": {
            "text/plain": [
              "array(['Hope_speech', 'Non_hope_speech'], dtype=object)"
            ]
          },
          "metadata": {
            "tags": []
          },
          "execution_count": 25
        }
      ]
    },
    {
      "cell_type": "code",
      "metadata": {
        "colab": {
          "base_uri": "https://localhost:8080/"
        },
        "id": "OBklV3boj-94",
        "outputId": "214d87ed-61ad-4995-82d3-9e1d0881128b"
      },
      "source": [
        "train[train['intent']=='Hope_speech'].shape"
      ],
      "execution_count": null,
      "outputs": [
        {
          "output_type": "execute_result",
          "data": {
            "text/plain": [
              "(1962, 2)"
            ]
          },
          "metadata": {
            "tags": []
          },
          "execution_count": 27
        }
      ]
    },
    {
      "cell_type": "code",
      "metadata": {
        "id": "aeOqCQj_qiwi"
      },
      "source": [
        "contraction_mapping = {\"ain't\": \"is not\", \"aren't\": \"are not\",\"can't\": \"cannot\",\n",
        "                   \"can't've\": \"cannot have\", \"'cause\": \"because\", \"could've\": \"could have\",\n",
        "                   \"couldn't\": \"could not\", \"couldn't've\": \"could not have\",\"didn't\": \"did not\",\n",
        "                   \"doesn't\": \"does not\", \"don't\": \"do not\", \"hadn't\": \"had not\",\n",
        "                   \"hadn't've\": \"had not have\", \"hasn't\": \"has not\", \"haven't\": \"have not\",\n",
        "                   \"he'd\": \"he would\", \"he'd've\": \"he would have\", \"he'll\": \"he will\",\n",
        "                   \"he'll've\": \"he will have\", \"he's\": \"he is\", \"how'd\": \"how did\",\n",
        "                   \"how'd'y\": \"how do you\", \"how'll\": \"how will\", \"how's\": \"how is\",\n",
        "                   \"I'd\": \"I would\", \"I'd've\": \"I would have\", \"I'll\": \"I will\",\n",
        "                   \"I'll've\": \"I will have\",\"I'm\": \"I am\", \"I've\": \"I have\",\n",
        "                   \"i'd\": \"i would\", \"i'd've\": \"i would have\", \"i'll\": \"i will\",\n",
        "                   \"i'll've\": \"i will have\",\"i'm\": \"i am\", \"i've\": \"i have\",\n",
        "                   \"isn't\": \"is not\", \"it'd\": \"it would\", \"it'd've\": \"it would have\",\n",
        "                   \"it'll\": \"it will\", \"it'll've\": \"it will have\",\"it's\": \"it is\",\n",
        "                   \"let's\": \"let us\", \"ma'am\": \"madam\", \"mayn't\": \"may not\",\n",
        "                   \"might've\": \"might have\",\"mightn't\": \"might not\",\"mightn't've\": \"might not have\",\n",
        "                   \"must've\": \"must have\", \"mustn't\": \"must not\", \"mustn't've\": \"must not have\",\n",
        "                   \"needn't\": \"need not\", \"needn't've\": \"need not have\",\"o'clock\": \"of the clock\",\n",
        "                   \"oughtn't\": \"ought not\", \"oughtn't've\": \"ought not have\", \"shan't\": \"shall not\",\n",
        "                   \"sha'n't\": \"shall not\", \"shan't've\": \"shall not have\", \"she'd\": \"she would\",\n",
        "                   \"she'd've\": \"she would have\", \"she'll\": \"she will\", \"she'll've\": \"she will have\",\n",
        "                   \"she's\": \"she is\", \"should've\": \"should have\", \"shouldn't\": \"should not\",\n",
        "                   \"shouldn't've\": \"should not have\", \"so've\": \"so have\",\"so's\": \"so as\",\n",
        "                   \"this's\": \"this is\",\n",
        "                   \"that'd\": \"that would\", \"that'd've\": \"that would have\",\"that's\": \"that is\",\n",
        "                   \"there'd\": \"there would\", \"there'd've\": \"there would have\",\"there's\": \"there is\",\n",
        "                       \"here's\": \"here is\",\n",
        "                   \"they'd\": \"they would\", \"they'd've\": \"they would have\", \"they'll\": \"they will\",\n",
        "                   \"they'll've\": \"they will have\", \"they're\": \"they are\", \"they've\": \"they have\",\n",
        "                   \"to've\": \"to have\", \"wasn't\": \"was not\", \"we'd\": \"we would\",\n",
        "                   \"we'd've\": \"we would have\", \"we'll\": \"we will\", \"we'll've\": \"we will have\",\n",
        "                   \"we're\": \"we are\", \"we've\": \"we have\", \"weren't\": \"were not\",\n",
        "                   \"what'll\": \"what will\", \"what'll've\": \"what will have\", \"what're\": \"what are\",\n",
        "                   \"what's\": \"what is\", \"what've\": \"what have\", \"when's\": \"when is\",\n",
        "                   \"when've\": \"when have\", \"where'd\": \"where did\", \"where's\": \"where is\",\n",
        "                   \"where've\": \"where have\", \"who'll\": \"who will\", \"who'll've\": \"who will have\",\n",
        "                   \"who's\": \"who is\", \"who've\": \"who have\", \"why's\": \"why is\",\n",
        "                   \"why've\": \"why have\", \"will've\": \"will have\", \"won't\": \"will not\",\n",
        "                   \"won't've\": \"will not have\", \"would've\": \"would have\", \"wouldn't\": \"would not\",\n",
        "                   \"wouldn't've\": \"would not have\", \"y'all\": \"you all\", \"y'all'd\": \"you all would\",\n",
        "                   \"y'all'd've\": \"you all would have\",\"y'all're\": \"you all are\",\"y'all've\": \"you all have\",\n",
        "                   \"you'd\": \"you would\", \"you'd've\": \"you would have\", \"you'll\": \"you will\",\n",
        "                   \"you'll've\": \"you will have\", \"you're\": \"you are\", \"you've\": \"you have\" }"
      ],
      "execution_count": null,
      "outputs": []
    },
    {
      "cell_type": "code",
      "metadata": {
        "colab": {
          "base_uri": "https://localhost:8080/"
        },
        "id": "oPZ0XnI1Lxmy",
        "outputId": "6fedab11-e073-4107-ec26-297cba70135d"
      },
      "source": [
        "pip install Unidecode"
      ],
      "execution_count": null,
      "outputs": [
        {
          "output_type": "stream",
          "text": [
            "Collecting Unidecode\n",
            "\u001b[?25l  Downloading https://files.pythonhosted.org/packages/9e/25/723487ca2a52ebcee88a34d7d1f5a4b80b793f179ee0f62d5371938dfa01/Unidecode-1.2.0-py2.py3-none-any.whl (241kB)\n",
            "\r\u001b[K     |█▍                              | 10kB 19.8MB/s eta 0:00:01\r\u001b[K     |██▊                             | 20kB 15.3MB/s eta 0:00:01\r\u001b[K     |████                            | 30kB 13.3MB/s eta 0:00:01\r\u001b[K     |█████▍                          | 40kB 12.8MB/s eta 0:00:01\r\u001b[K     |██████▉                         | 51kB 7.5MB/s eta 0:00:01\r\u001b[K     |████████▏                       | 61kB 8.8MB/s eta 0:00:01\r\u001b[K     |█████████▌                      | 71kB 8.9MB/s eta 0:00:01\r\u001b[K     |██████████▉                     | 81kB 9.3MB/s eta 0:00:01\r\u001b[K     |████████████▏                   | 92kB 9.3MB/s eta 0:00:01\r\u001b[K     |█████████████▋                  | 102kB 8.4MB/s eta 0:00:01\r\u001b[K     |███████████████                 | 112kB 8.4MB/s eta 0:00:01\r\u001b[K     |████████████████▎               | 122kB 8.4MB/s eta 0:00:01\r\u001b[K     |█████████████████▋              | 133kB 8.4MB/s eta 0:00:01\r\u001b[K     |███████████████████             | 143kB 8.4MB/s eta 0:00:01\r\u001b[K     |████████████████████▍           | 153kB 8.4MB/s eta 0:00:01\r\u001b[K     |█████████████████████▊          | 163kB 8.4MB/s eta 0:00:01\r\u001b[K     |███████████████████████         | 174kB 8.4MB/s eta 0:00:01\r\u001b[K     |████████████████████████▍       | 184kB 8.4MB/s eta 0:00:01\r\u001b[K     |█████████████████████████▊      | 194kB 8.4MB/s eta 0:00:01\r\u001b[K     |███████████████████████████▏    | 204kB 8.4MB/s eta 0:00:01\r\u001b[K     |████████████████████████████▌   | 215kB 8.4MB/s eta 0:00:01\r\u001b[K     |█████████████████████████████▉  | 225kB 8.4MB/s eta 0:00:01\r\u001b[K     |███████████████████████████████▏| 235kB 8.4MB/s eta 0:00:01\r\u001b[K     |████████████████████████████████| 245kB 8.4MB/s \n",
            "\u001b[?25hInstalling collected packages: Unidecode\n",
            "Successfully installed Unidecode-1.2.0\n"
          ],
          "name": "stdout"
        }
      ]
    },
    {
      "cell_type": "code",
      "metadata": {
        "id": "tXX33TSWqnCP"
      },
      "source": [
        "import codecs\n",
        "import unidecode\n",
        "import re\n",
        "import spacy\n",
        "nlp = spacy.load('en')\n",
        "\n",
        "def spacy_cleaner(text):\n",
        "    try:\n",
        "        decoded = unidecode.unidecode(codecs.decode(text, 'unicode_escape'))\n",
        "    except:\n",
        "        decoded = unidecode.unidecode(text)\n",
        "    apostrophe_handled = re.sub(\"’\", \"'\", decoded)\n",
        "    expanded = ' '.join([contraction_mapping[t] if t in contraction_mapping else t for t in apostrophe_handled.split(\" \")])\n",
        "    parsed = nlp(expanded)\n",
        "    final_tokens = []\n",
        "    for t in parsed:\n",
        "        if t.is_punct or t.is_space or t.like_num or t.like_url or str(t).startswith('@'):\n",
        "            pass\n",
        "        else:\n",
        "            if t.lemma_ == '-PRON-':\n",
        "                final_tokens.append(str(t))\n",
        "            else:\n",
        "                sc_removed = re.sub(\"[^a-zA-Z]\", '', str(t.lemma_))\n",
        "                if len(sc_removed) > 1:\n",
        "                    final_tokens.append(sc_removed)\n",
        "    joined = ' '.join(final_tokens)\n",
        "    spell_corrected = re.sub(r'(.)\\1+', r'\\1\\1', joined)\n",
        "    return spell_corrected"
      ],
      "execution_count": null,
      "outputs": []
    },
    {
      "cell_type": "code",
      "metadata": {
        "id": "OP-dQSveqtJI"
      },
      "source": [
        "train['text'] = [spacy_cleaner(t) for t in train.text]"
      ],
      "execution_count": null,
      "outputs": []
    },
    {
      "cell_type": "code",
      "metadata": {
        "id": "QWJSJWB9FckY"
      },
      "source": [
        "valid['text'] = [spacy_cleaner(t) for t in valid.text]"
      ],
      "execution_count": null,
      "outputs": []
    },
    {
      "cell_type": "code",
      "metadata": {
        "colab": {
          "base_uri": "https://localhost:8080/",
          "height": 195
        },
        "id": "fbjRtQ2HFsFP",
        "outputId": "1f8f9070-34eb-463c-d0f5-cbc9369e181b"
      },
      "source": [
        "valid.head()"
      ],
      "execution_count": null,
      "outputs": [
        {
          "output_type": "execute_result",
          "data": {
            "text/html": [
              "<div>\n",
              "<style scoped>\n",
              "    .dataframe tbody tr th:only-of-type {\n",
              "        vertical-align: middle;\n",
              "    }\n",
              "\n",
              "    .dataframe tbody tr th {\n",
              "        vertical-align: top;\n",
              "    }\n",
              "\n",
              "    .dataframe thead th {\n",
              "        text-align: right;\n",
              "    }\n",
              "</style>\n",
              "<table border=\"1\" class=\"dataframe\">\n",
              "  <thead>\n",
              "    <tr style=\"text-align: right;\">\n",
              "      <th></th>\n",
              "      <th>text</th>\n",
              "      <th>intent</th>\n",
              "    </tr>\n",
              "  </thead>\n",
              "  <tbody>\n",
              "    <tr>\n",
              "      <th>0</th>\n",
              "      <td>that it like I do not like that statue</td>\n",
              "      <td>Non_hope_speech</td>\n",
              "    </tr>\n",
              "    <tr>\n",
              "      <th>1</th>\n",
              "      <td>Counting money that she be give for promote hy...</td>\n",
              "      <td>Non_hope_speech</td>\n",
              "    </tr>\n",
              "    <tr>\n",
              "      <th>2</th>\n",
              "      <td>Hernandez never say to be intolerant and hateful</td>\n",
              "      <td>Non_hope_speech</td>\n",
              "    </tr>\n",
              "    <tr>\n",
              "      <th>3</th>\n",
              "      <td>wow an opinion be that I do not like color</td>\n",
              "      <td>Non_hope_speech</td>\n",
              "    </tr>\n",
              "    <tr>\n",
              "      <th>4</th>\n",
              "      <td>WOWThat be so so inspiring and incredible this...</td>\n",
              "      <td>Hope_speech</td>\n",
              "    </tr>\n",
              "  </tbody>\n",
              "</table>\n",
              "</div>"
            ],
            "text/plain": [
              "                                                text           intent\n",
              "0             that it like I do not like that statue  Non_hope_speech\n",
              "1  Counting money that she be give for promote hy...  Non_hope_speech\n",
              "2   Hernandez never say to be intolerant and hateful  Non_hope_speech\n",
              "3         wow an opinion be that I do not like color  Non_hope_speech\n",
              "4  WOWThat be so so inspiring and incredible this...      Hope_speech"
            ]
          },
          "metadata": {
            "tags": []
          },
          "execution_count": 58
        }
      ]
    },
    {
      "cell_type": "code",
      "metadata": {
        "id": "KX_Gt8JILiyn"
      },
      "source": [
        "np.random.seed(500)"
      ],
      "execution_count": null,
      "outputs": []
    },
    {
      "cell_type": "code",
      "metadata": {
        "colab": {
          "base_uri": "https://localhost:8080/"
        },
        "id": "DVZtnaqZ5YgM",
        "outputId": "5c1d85eb-52f2-4dc9-e943-2ca2d01689dd"
      },
      "source": [
        "train['text']"
      ],
      "execution_count": null,
      "outputs": [
        {
          "output_type": "execute_result",
          "data": {
            "text/plain": [
              "0        these tiktok radiate gay chaotic energy and lo...\n",
              "1                    again He get kill for use false money\n",
              "2                    It be not that all life do not matter\n",
              "3        be it really that difficult to understand blac...\n",
              "4        whenever we say black be not that racist why d...\n",
              "                               ...                        \n",
              "22757    It be load of bollock every life matter simple...\n",
              "22758    no say it because all live matter deku would n...\n",
              "22759                              God say her life matter\n",
              "22760    this video be just shit bunch of whiny ass bit...\n",
              "22761     Mc Fortnut she do month ago in west church video\n",
              "Name: text, Length: 22740, dtype: object"
            ]
          },
          "metadata": {
            "tags": []
          },
          "execution_count": 16
        }
      ]
    },
    {
      "cell_type": "code",
      "metadata": {
        "id": "brbATwBtPoHj"
      },
      "source": [
        "# model_type: word2vec, glove or fasttext\n",
        "aug_w2v = naw.WordEmbsAug(\n",
        "#     model_type='word2vec', model_path='../input/nlpword2vecembeddingspretrained/GoogleNews-vectors-negative300.bin',\n",
        "    model_type='glove', model_path='/content/glove.6B.100d.txt',\n",
        "    action=\"substitute\")"
      ],
      "execution_count": null,
      "outputs": []
    },
    {
      "cell_type": "code",
      "metadata": {
        "colab": {
          "base_uri": "https://localhost:8080/"
        },
        "id": "-QYUck1-N1bf",
        "outputId": "bca557d4-58b3-464e-9236-852c5b04474d"
      },
      "source": [
        "#Code for increasing data samples\n",
        "#Run if you want to increase the data samples\n",
        "def augment_text(df,samples=10000,pr=0.2):\n",
        "    aug_w2v.aug_p=pr\n",
        "    new_text=[]\n",
        "\n",
        "    ##selecting the minority class samples\n",
        "    df_n=df[df.intent=='Hope_speech'].reset_index(drop=True)\n",
        "\n",
        "    ## data augmentation loop\n",
        "    for i in tqdm(np.random.randint(0,len(df_n),samples)):\n",
        "\n",
        "            text = df_n.iloc[i]['text']\n",
        "            augmented_text = aug_w2v.augment(text)\n",
        "            new_text.append(augmented_text)\n",
        "\n",
        "\n",
        "    ## dataframe\n",
        "    new=pd.DataFrame({'text':new_text,'intent':'Hope_speech'})\n",
        "    df=shuffle(df.append(new).reset_index(drop=True))\n",
        "    return df,new\n",
        "\n",
        "train_preprocessed, new_dp = augment_text(train_preprocessed)"
      ],
      "execution_count": null,
      "outputs": [
        {
          "output_type": "stream",
          "text": [
            "100%|██████████| 10000/10000 [31:49<00:00,  5.24it/s]\n"
          ],
          "name": "stderr"
        }
      ]
    },
    {
      "cell_type": "code",
      "metadata": {
        "id": "9dnccZYtxu5W"
      },
      "source": [
        "train.dropna(subset=['text'], inplace=True)"
      ],
      "execution_count": null,
      "outputs": []
    },
    {
      "cell_type": "code",
      "metadata": {
        "id": "xr6h7RjX0NTb"
      },
      "source": [
        "# Step - a : Remove blank rows if any.\n",
        "#train['text'].dropna(inplace=True)\n",
        "# Step - b : Change all the text to lower case. This is required as python interprets 'dog' and 'DOG' differently\n",
        "train['text'] = [entry.lower() for entry in train['text']]\n",
        "# Step - c : Tokenization : In this each entry in the corpus will be broken into set of words\n",
        "train['text']= [word_tokenize(entry) for entry in train['text']]\n",
        "# Step - d : Remove Stop words, Non-Numeric and perfom Word Stemming/Lemmenting.\n",
        "# WordNetLemmatizer requires Pos tags to understand if the word is noun or verb or adjective etc. By default it is set to Noun\n",
        "tag_map = defaultdict(lambda : wn.NOUN)\n",
        "tag_map['J'] = wn.ADJ\n",
        "tag_map['V'] = wn.VERB\n",
        "tag_map['R'] = wn.ADV\n",
        "for index,entry in enumerate(train['text']):\n",
        "    # Declaring Empty List to store the words that follow the rules for this step\n",
        "    Final_words = []\n",
        "    # Initializing WordNetLemmatizer()\n",
        "    word_Lemmatized = WordNetLemmatizer()\n",
        "    # pos_tag function below will provide the 'tag' i.e if the word is Noun(N) or Verb(V) or something else.\n",
        "    for word, tag in pos_tag(entry):\n",
        "        # Below condition is to check for Stop words and consider only alphabets\n",
        "        if word not in stopwords.words('english') and word.isalpha():\n",
        "            word_Final = word_Lemmatized.lemmatize(word,tag_map[tag[0]])\n",
        "            Final_words.append(word_Final)\n",
        "    # The final processed set of words for each iteration will be stored in 'text_final'\n",
        "    train.loc[index,'text_final'] = str(Final_words)"
      ],
      "execution_count": null,
      "outputs": []
    },
    {
      "cell_type": "code",
      "metadata": {
        "id": "Svc_nTiNF2uw"
      },
      "source": [
        "# Step - a : Remove blank rows if any.\n",
        "#valid['text'].dropna(inplace=True)\n",
        "# Step - b : Change all the text to lower case. This is required as python interprets 'dog' and 'DOG' differently\n",
        "valid['text'] = [entry.lower() for entry in valid['text']]\n",
        "# Step - c : Tokenization : In this each entry in the corpus will be broken into set of words\n",
        "valid['text']= [word_tokenize(entry) for entry in valid['text']]\n",
        "# Step - d : Remove Stop words, Non-Numeric and perfom Word Stemming/Lemmenting.\n",
        "# WordNetLemmatizer requires Pos tags to understand if the word is noun or verb or adjective etc. By default it is set to Noun\n",
        "tag_map = defaultdict(lambda : wn.NOUN)\n",
        "tag_map['J'] = wn.ADJ\n",
        "tag_map['V'] = wn.VERB\n",
        "tag_map['R'] = wn.ADV\n",
        "for index,entry in enumerate(valid['text']):\n",
        "    # Declaring Empty List to store the words that follow the rules for this step\n",
        "    Final_words = []\n",
        "    # Initializing WordNetLemmatizer()\n",
        "    word_Lemmatized = WordNetLemmatizer()\n",
        "    # pos_tag function below will provide the 'tag' i.e if the word is Noun(N) or Verb(V) or something else.\n",
        "    for word, tag in pos_tag(entry):\n",
        "        # Below condition is to check for Stop words and consider only alphabets\n",
        "        if word not in stopwords.words('english') and word.isalpha():\n",
        "            word_Final = word_Lemmatized.lemmatize(word,tag_map[tag[0]])\n",
        "            Final_words.append(word_Final)\n",
        "    # The final processed set of words for each iteration will be stored in 'text_final'\n",
        "    valid.loc[index,'text_final'] = str(Final_words)"
      ],
      "execution_count": null,
      "outputs": []
    },
    {
      "cell_type": "code",
      "metadata": {
        "id": "1lWPGNVLsTit"
      },
      "source": [
        "train.dropna(subset=['intent'], inplace=True)"
      ],
      "execution_count": null,
      "outputs": []
    },
    {
      "cell_type": "code",
      "metadata": {
        "id": "ZFm5q9qytNhc"
      },
      "source": [
        "train.dropna(subset=['text_final'], inplace=True)"
      ],
      "execution_count": null,
      "outputs": []
    },
    {
      "cell_type": "code",
      "metadata": {
        "colab": {
          "base_uri": "https://localhost:8080/"
        },
        "id": "iAP6O9Ibs9OC",
        "outputId": "9e1b2e55-394b-4195-fe07-2f04ab34192f"
      },
      "source": [
        "train.shape"
      ],
      "execution_count": null,
      "outputs": [
        {
          "output_type": "execute_result",
          "data": {
            "text/plain": [
              "(32728, 3)"
            ]
          },
          "metadata": {
            "tags": []
          },
          "execution_count": 118
        }
      ]
    },
    {
      "cell_type": "code",
      "metadata": {
        "id": "EmiNob7htVhr"
      },
      "source": [
        "valid.dropna(subset=['intent'], inplace=True)"
      ],
      "execution_count": null,
      "outputs": []
    },
    {
      "cell_type": "code",
      "metadata": {
        "id": "58mzIXEEtz6x"
      },
      "source": [
        "valid.dropna(subset=['text_final'], inplace=True)"
      ],
      "execution_count": null,
      "outputs": []
    },
    {
      "cell_type": "code",
      "metadata": {
        "colab": {
          "base_uri": "https://localhost:8080/"
        },
        "id": "-iMdVp2euCW3",
        "outputId": "bc406455-864d-4e6e-bed8-902846aa030f"
      },
      "source": [
        "valid.shape"
      ],
      "execution_count": null,
      "outputs": [
        {
          "output_type": "execute_result",
          "data": {
            "text/plain": [
              "(2841, 3)"
            ]
          },
          "metadata": {
            "tags": []
          },
          "execution_count": 121
        }
      ]
    },
    {
      "cell_type": "code",
      "metadata": {
        "colab": {
          "base_uri": "https://localhost:8080/",
          "height": 195
        },
        "id": "aMle-cQL8O2O",
        "outputId": "67cf9a7c-1b26-469a-bccb-f368001a952f"
      },
      "source": [
        "train.head()"
      ],
      "execution_count": null,
      "outputs": [
        {
          "output_type": "execute_result",
          "data": {
            "text/html": [
              "<div>\n",
              "<style scoped>\n",
              "    .dataframe tbody tr th:only-of-type {\n",
              "        vertical-align: middle;\n",
              "    }\n",
              "\n",
              "    .dataframe tbody tr th {\n",
              "        vertical-align: top;\n",
              "    }\n",
              "\n",
              "    .dataframe thead th {\n",
              "        text-align: right;\n",
              "    }\n",
              "</style>\n",
              "<table border=\"1\" class=\"dataframe\">\n",
              "  <thead>\n",
              "    <tr style=\"text-align: right;\">\n",
              "      <th></th>\n",
              "      <th>text</th>\n",
              "      <th>intent</th>\n",
              "      <th>text_final</th>\n",
              "    </tr>\n",
              "  </thead>\n",
              "  <tbody>\n",
              "    <tr>\n",
              "      <th>0</th>\n",
              "      <td>[these, tiktok, radiate, gay, chaotic, energy,...</td>\n",
              "      <td>Non_hope_speech</td>\n",
              "      <td>['tiktok', 'radiate', 'gay', 'chaotic', 'energ...</td>\n",
              "    </tr>\n",
              "    <tr>\n",
              "      <th>1</th>\n",
              "      <td>[again, he, get, kill, for, use, false, money]</td>\n",
              "      <td>Non_hope_speech</td>\n",
              "      <td>['get', 'kill', 'use', 'false', 'money']</td>\n",
              "    </tr>\n",
              "    <tr>\n",
              "      <th>2</th>\n",
              "      <td>[it, be, not, that, all, life, do, not, matter]</td>\n",
              "      <td>Non_hope_speech</td>\n",
              "      <td>['life', 'matter']</td>\n",
              "    </tr>\n",
              "    <tr>\n",
              "      <th>3</th>\n",
              "      <td>[be, it, really, that, difficult, to, understa...</td>\n",
              "      <td>Non_hope_speech</td>\n",
              "      <td>['really', 'difficult', 'understand', 'black',...</td>\n",
              "    </tr>\n",
              "    <tr>\n",
              "      <th>4</th>\n",
              "      <td>[whenever, we, say, black, be, not, that, raci...</td>\n",
              "      <td>Non_hope_speech</td>\n",
              "      <td>['whenever', 'say', 'black', 'racist', 'say', ...</td>\n",
              "    </tr>\n",
              "  </tbody>\n",
              "</table>\n",
              "</div>"
            ],
            "text/plain": [
              "                                                text  ...                                         text_final\n",
              "0  [these, tiktok, radiate, gay, chaotic, energy,...  ...  ['tiktok', 'radiate', 'gay', 'chaotic', 'energ...\n",
              "1     [again, he, get, kill, for, use, false, money]  ...           ['get', 'kill', 'use', 'false', 'money']\n",
              "2    [it, be, not, that, all, life, do, not, matter]  ...                                 ['life', 'matter']\n",
              "3  [be, it, really, that, difficult, to, understa...  ...  ['really', 'difficult', 'understand', 'black',...\n",
              "4  [whenever, we, say, black, be, not, that, raci...  ...  ['whenever', 'say', 'black', 'racist', 'say', ...\n",
              "\n",
              "[5 rows x 3 columns]"
            ]
          },
          "metadata": {
            "tags": []
          },
          "execution_count": 37
        }
      ]
    },
    {
      "cell_type": "code",
      "metadata": {
        "colab": {
          "base_uri": "https://localhost:8080/",
          "height": 195
        },
        "id": "jByQAEibGMTp",
        "outputId": "bf870d64-b1e7-4141-9bec-1dc1e3f8773b"
      },
      "source": [
        "valid.head()"
      ],
      "execution_count": null,
      "outputs": [
        {
          "output_type": "execute_result",
          "data": {
            "text/html": [
              "<div>\n",
              "<style scoped>\n",
              "    .dataframe tbody tr th:only-of-type {\n",
              "        vertical-align: middle;\n",
              "    }\n",
              "\n",
              "    .dataframe tbody tr th {\n",
              "        vertical-align: top;\n",
              "    }\n",
              "\n",
              "    .dataframe thead th {\n",
              "        text-align: right;\n",
              "    }\n",
              "</style>\n",
              "<table border=\"1\" class=\"dataframe\">\n",
              "  <thead>\n",
              "    <tr style=\"text-align: right;\">\n",
              "      <th></th>\n",
              "      <th>text</th>\n",
              "      <th>intent</th>\n",
              "      <th>text_final</th>\n",
              "    </tr>\n",
              "  </thead>\n",
              "  <tbody>\n",
              "    <tr>\n",
              "      <th>0</th>\n",
              "      <td>[that, it, like, i, do, not, like, that, statue]</td>\n",
              "      <td>Non_hope_speech</td>\n",
              "      <td>['like', 'like', 'statue']</td>\n",
              "    </tr>\n",
              "    <tr>\n",
              "      <th>1</th>\n",
              "      <td>[counting, money, that, she, be, give, for, pr...</td>\n",
              "      <td>Non_hope_speech</td>\n",
              "      <td>['count', 'money', 'give', 'promote', 'hysteri...</td>\n",
              "    </tr>\n",
              "    <tr>\n",
              "      <th>2</th>\n",
              "      <td>[hernandez, never, say, to, be, intolerant, an...</td>\n",
              "      <td>Non_hope_speech</td>\n",
              "      <td>['hernandez', 'never', 'say', 'intolerant', 'h...</td>\n",
              "    </tr>\n",
              "    <tr>\n",
              "      <th>3</th>\n",
              "      <td>[wow, an, opinion, be, that, i, do, not, like,...</td>\n",
              "      <td>Non_hope_speech</td>\n",
              "      <td>['wow', 'opinion', 'like', 'color']</td>\n",
              "    </tr>\n",
              "    <tr>\n",
              "      <th>4</th>\n",
              "      <td>[wowthat, be, so, so, inspiring, and, incredib...</td>\n",
              "      <td>Hope_speech</td>\n",
              "      <td>['wowthat', 'inspiring', 'incredible', 'speech...</td>\n",
              "    </tr>\n",
              "  </tbody>\n",
              "</table>\n",
              "</div>"
            ],
            "text/plain": [
              "                                                text  ...                                         text_final\n",
              "0   [that, it, like, i, do, not, like, that, statue]  ...                         ['like', 'like', 'statue']\n",
              "1  [counting, money, that, she, be, give, for, pr...  ...  ['count', 'money', 'give', 'promote', 'hysteri...\n",
              "2  [hernandez, never, say, to, be, intolerant, an...  ...  ['hernandez', 'never', 'say', 'intolerant', 'h...\n",
              "3  [wow, an, opinion, be, that, i, do, not, like,...  ...                ['wow', 'opinion', 'like', 'color']\n",
              "4  [wowthat, be, so, so, inspiring, and, incredib...  ...  ['wowthat', 'inspiring', 'incredible', 'speech...\n",
              "\n",
              "[5 rows x 3 columns]"
            ]
          },
          "metadata": {
            "tags": []
          },
          "execution_count": 38
        }
      ]
    },
    {
      "cell_type": "code",
      "metadata": {
        "id": "FYKMk6Cs-Iq2"
      },
      "source": [
        "Train_X, Test_X, Train_Y, Test_Y = model_selection.train_test_split(train['text_final'],train['intent'],test_size=0.3)"
      ],
      "execution_count": null,
      "outputs": []
    },
    {
      "cell_type": "code",
      "metadata": {
        "id": "DpWMAMtNGU5y"
      },
      "source": [
        "Valid_X = valid['text_final']\n",
        "Valid_Y = valid['intent']"
      ],
      "execution_count": null,
      "outputs": []
    },
    {
      "cell_type": "code",
      "metadata": {
        "id": "zkLkAoWk-8gC"
      },
      "source": [
        "#Train_Y=pd.Series.to_numpy(Train_Y)\n"
      ],
      "execution_count": null,
      "outputs": []
    },
    {
      "cell_type": "code",
      "metadata": {
        "id": "zDHvxEvCAR5e",
        "colab": {
          "base_uri": "https://localhost:8080/"
        },
        "outputId": "117bd1e2-ff88-41e0-f618-afc5c7647638"
      },
      "source": [
        "train['intent'].unique()"
      ],
      "execution_count": null,
      "outputs": [
        {
          "output_type": "execute_result",
          "data": {
            "text/plain": [
              "array(['Hope_speech', 'Non_hope_speech'], dtype=object)"
            ]
          },
          "metadata": {
            "tags": []
          },
          "execution_count": 125
        }
      ]
    },
    {
      "cell_type": "code",
      "metadata": {
        "colab": {
          "base_uri": "https://localhost:8080/"
        },
        "id": "rViHBpFLz_N6",
        "outputId": "4f98282c-89ac-4cfb-8eed-de617cac0ab8"
      },
      "source": [
        "Train_Y.unique()"
      ],
      "execution_count": null,
      "outputs": [
        {
          "output_type": "execute_result",
          "data": {
            "text/plain": [
              "array(['Non_hope_speech', 'Hope_speech'], dtype=object)"
            ]
          },
          "metadata": {
            "tags": []
          },
          "execution_count": 41
        }
      ]
    },
    {
      "cell_type": "code",
      "metadata": {
        "colab": {
          "base_uri": "https://localhost:8080/"
        },
        "id": "vPdSvnyqzu9P",
        "outputId": "46f9b214-df42-473c-f2c0-f0d8abee4571"
      },
      "source": [
        "Train_Y = Train_Y.replace(to_replace =\"Non_hope_speech\", value =0)\n",
        "Train_Y = Train_Y.replace(to_replace =\"Hope_speech\", value =1)\n",
        "Train_Y.unique()"
      ],
      "execution_count": null,
      "outputs": [
        {
          "output_type": "execute_result",
          "data": {
            "text/plain": [
              "array([0, 1])"
            ]
          },
          "metadata": {
            "tags": []
          },
          "execution_count": 42
        }
      ]
    },
    {
      "cell_type": "code",
      "metadata": {
        "colab": {
          "base_uri": "https://localhost:8080/"
        },
        "id": "qTY39C2z03Tg",
        "outputId": "7ae5fa36-6c97-440e-f169-0f4ac82795b7"
      },
      "source": [
        "Test_Y = Test_Y.replace(to_replace =\"Non_hope_speech\", value =0)\n",
        "Test_Y = Test_Y.replace(to_replace =\"Hope_speech\", value =1)\n",
        "Train_Y.unique()"
      ],
      "execution_count": null,
      "outputs": [
        {
          "output_type": "execute_result",
          "data": {
            "text/plain": [
              "array([0, 1])"
            ]
          },
          "metadata": {
            "tags": []
          },
          "execution_count": 51
        }
      ]
    },
    {
      "cell_type": "code",
      "metadata": {
        "colab": {
          "base_uri": "https://localhost:8080/"
        },
        "id": "HJ8Jgn9M0KrJ",
        "outputId": "3ed83d92-e97c-4962-c9de-9605e4ab4ad6"
      },
      "source": [
        "Valid_Y = Valid_Y.replace(to_replace =\"Non_hope_speech\", value =0)\n",
        "Valid_Y = Valid_Y.replace(to_replace =\"Hope_speech\", value =1)\n",
        "Valid_Y.unique()"
      ],
      "execution_count": null,
      "outputs": [
        {
          "output_type": "execute_result",
          "data": {
            "text/plain": [
              "array([0, 1])"
            ]
          },
          "metadata": {
            "tags": []
          },
          "execution_count": 43
        }
      ]
    },
    {
      "cell_type": "code",
      "metadata": {
        "colab": {
          "base_uri": "https://localhost:8080/"
        },
        "id": "V5jtu1zt0gOL",
        "outputId": "014bfc11-9b13-4d07-a898-b663017f2dce"
      },
      "source": [
        "type(Valid_Y[0])"
      ],
      "execution_count": null,
      "outputs": [
        {
          "output_type": "execute_result",
          "data": {
            "text/plain": [
              "numpy.int64"
            ]
          },
          "metadata": {
            "tags": []
          },
          "execution_count": 50
        }
      ]
    },
    {
      "cell_type": "code",
      "metadata": {
        "id": "XSn1_FD7-WD6"
      },
      "source": [
        "# Other method for doing operations done in above 3 cells\n",
        "Encoder = LabelEncoder()\n",
        "Train_Y = Encoder.fit_transform(Train_Y)\n",
        "Test_Y = Encoder.fit_transform(Test_Y)"
      ],
      "execution_count": null,
      "outputs": []
    },
    {
      "cell_type": "code",
      "metadata": {
        "id": "kL96vbx5GgP3"
      },
      "source": [
        "Valid_Y = Encoder.fit_transform(Valid_Y)"
      ],
      "execution_count": null,
      "outputs": []
    },
    {
      "cell_type": "code",
      "metadata": {
        "id": "YVmy-kGTBzX5"
      },
      "source": [
        "#Tokenization\n",
        "Tfidf_vect = TfidfVectorizer(max_features=5000)\n",
        "Tfidf_vect.fit(train['text_final'])\n",
        "Train_X_Tfidf = Tfidf_vect.transform(Train_X)\n",
        "Test_X_Tfidf = Tfidf_vect.transform(Test_X)"
      ],
      "execution_count": null,
      "outputs": []
    },
    {
      "cell_type": "code",
      "metadata": {
        "id": "8-CQDegVGq7x"
      },
      "source": [
        "Valid_X_Tfidf = Tfidf_vect.transform(Valid_X)"
      ],
      "execution_count": null,
      "outputs": []
    },
    {
      "cell_type": "code",
      "metadata": {
        "colab": {
          "base_uri": "https://localhost:8080/"
        },
        "id": "FxhpP0mOCyh5",
        "outputId": "d6e6dd91-9201-466e-b920-059823060bb6"
      },
      "source": [
        "print(Tfidf_vect.vocabulary_)"
      ],
      "execution_count": null,
      "outputs": [
        {
          "output_type": "stream",
          "text": [
            "{'radiate': 3617, 'gay': 1835, 'chaotic': 742, 'energy': 1478, 'love': 2671, 'get': 1861, 'kill': 2485, 'use': 4702, 'false': 1628, 'money': 2909, 'life': 2602, 'matter': 2766, 'really': 3656, 'difficult': 1248, 'understand': 4656, 'black': 497, 'live': 2627, 'exclusive': 1575, 'true': 4598, 'general': 1844, 'statement': 4230, 'white': 4851, 'asian': 290, 'context': 954, 'simply': 4068, 'name': 2975, 'movement': 2938, 'high': 2069, 'rate': 3639, 'police': 3419, 'violence': 4751, 'people': 3317, 'refer': 3675, 'behave': 437, 'like': 2608, 'treat': 4577, 'example': 1567, 'whenever': 4842, 'say': 3891, 'racist': 3615, 'american': 171, 'bos': 557, 'donat': 1337, 'know': 2504, 'shea': 4009, 'actually': 61, 'lgbtq': 2591, 'tho': 4472, 'funny': 1810, 'end': 1474, 'larry': 2529, 'argue': 256, 'haha': 1969, 'save': 3885, 'music': 2961, 'lot': 2664, 'army': 263, 'unit': 4672, 'network': 3027, 'engineer': 1483, 'currently': 1075, 'work': 4912, 'teach': 4402, 'man': 2712, 'woman': 4903, 'look': 2652, 'next': 3034, 'want': 4784, 'university': 4678, 'justice': 2460, 'native': 2991, 'government': 1907, 'literally': 2623, 'pay': 3299, 'closet': 828, 'injustice': 2291, 'way': 4803, 'world': 4916, 'millionaire': 2852, 'someone': 4149, 'dollar': 1331, 'wash': 4793, 'car': 683, 'prime': 3498, 'minister': 2865, 'madonna': 2694, 'would': 4927, 'mother': 2929, 'attitude': 329, 'tea': 4401, 'equal': 1508, 'thing': 4467, 'tech': 4406, 'industry': 2274, 'tough': 4543, 'everyone': 1552, 'push': 3585, 'hard': 2002, 'garbage': 1825, 'blm': 517, 'come': 864, 'around': 267, 'every': 1548, 'year': 4958, 'still': 4256, 'hide': 2068, 'gender': 1842, 'parent': 3262, 'date': 1113, 'friend': 1784, 'already': 152, 'supportive': 4333, 'thankful': 4434, 'find': 1696, 'without': 4895, 'never': 3030, 'peace': 3304, 'forever': 1743, 'clark': 809, 'thank': 4433, 'salute': 3858, 'brown': 610, 'make': 2704, 'seem': 3943, 'opinion': 3194, 'attack': 325, 'hold': 2099, 'sign': 4055, 'yall': 4951, 'talk': 4385, 'lesbian': 2576, 'think': 4468, 'likely': 2609, 'trans': 4566, 'france': 1767, 'youare': 4978, 'dumb': 1377, 'itas': 2385, 'simple': 4066, 'include': 2249, 'basic': 401, 'understanding': 4657, 'english': 1486, 'language': 2526, 'read': 3649, 'comment': 872, 'go': 1887, 'agenda': 101, 'spit': 4196, 'instantly': 2310, 'evidence': 1556, 'need': 3012, 'type': 4624, 'train': 4561, 'marxist': 2745, 'boom': 548, 'feel': 1668, 'agree': 109, 'someonea': 4150, 'sexuality': 3990, 'christian': 781, 'weird': 4823, 'nothing': 3105, 'aagreea': 1, 'normally': 3098, 'disney': 1288, 'princess': 3500, 'set': 3980, 'standard': 4220, 'young': 4980, 'girl': 1870, 'fat': 1650, 'guy': 1967, 'happen': 1995, 'skin': 4092, 'rac': 3610, 'rock': 3812, 'voice': 4762, 'actor': 58, 'character': 745, 'fine': 1697, 'let': 2579, 'big': 471, 'hero': 2061, 'slightly': 4107, 'japanese': 2400, 'sometimes': 4152, 'mr': 2941, 'incredible': 2258, 'kinda': 2491, 'shit': 4029, 'south': 4169, 'korea': 2510, 'almost': 147, 'school': 3906, 'one': 3187, 'stop': 4263, 'rule': 3834, 'small': 4115, 'modern': 2901, 'revolution': 3761, 'time': 4502, 'perform': 3328, 'eurovision': 1541, 'tel': 4414, 'wrong': 4935, 'laugh': 2537, 'beat': 419, 'bible': 469, 'iam': 2181, 'presbyterian': 3478, 'homosexualitya': 2120, 'everything': 1553, 'youave': 4979, 'help': 2052, 'grow': 1950, 'kid': 2482, 'west': 4830, 'philadelphia': 3359, 'inspire': 2305, 'greatly': 1931, 'much': 2946, 'respect': 3740, 'queen': 3596, 'pop': 3433, 'turn': 4613, 'reasonable': 3658, 'right': 3783, 'si': 4049, 'consider': 940, 'hell': 2049, 'also': 154, 'whole': 4856, 'joke': 2435, 'lol': 2644, 'democrat': 1176, 'sucker': 4308, 'follow': 1729, 'path': 3287, 'socialism': 4130, 'crush': 1059, 'political': 3425, 'move': 2937, 'democratic': 1177, 'socialist': 4131, 'party': 3276, 'medium': 2802, 'tell': 4415, 'show': 4044, 'dem': 1172, 'except': 1570, 'fox': 1763, 'news': 3033, 'good': 1899, 'job': 2425, 'sunshine': 4324, 'littlephilly': 2625, 'canat': 667, 'even': 1543, 'imagine': 2221, 'thought': 4477, 'process': 3521, 'capability': 676, 'shape': 4003, 'especially': 1522, 'topic': 4532, 'fact': 1613, 'hurt': 2170, 'homosexual': 2118, 'whether': 4845, 'believe': 442, 'harm': 2006, 'publicly': 3569, 'state': 4229, 'person': 3341, 'evil': 1557, 'unless': 4681, 'participant': 3270, 'alot': 151, 'day': 1120, 'depend': 1193, 'less': 2577, 'hit': 2092, 'dog': 1328, 'short': 4036, 'im': 2217, 'upset': 4696, 'ive': 2388, 'see': 3940, 'nobody': 3086, 'family': 1631, 'career': 687, 'well': 4827, 'position': 3442, 'poor': 3432, 'video': 4745, 'game': 1818, 'developer': 1226, 'fuck': 1792, 'watch': 4799, 'recent': 3664, 'ago': 107, 'sheriff': 4020, 'politician': 3427, 'whip': 4849, 'rid': 3776, 'officer': 3170, 'keep': 2473, 'knee': 2500, 'neck': 3010, 'minute': 2870, 'second': 3932, 'bernie': 458, 'hood': 2129, 'walk': 4779, 'street': 4275, 'disagree': 1263, 'homosexuality': 2119, 'insecure': 2297, 'abt': 25, 'liberal': 2595, 'lmao': 2630, 'alison': 136, 'ha': 1968, 'another': 210, 'mom': 2907, 'harass': 2000, 'haircut': 1976, 'seriously': 3974, 'doesnat': 1326, 'least': 2555, 'could': 1003, 'back': 365, 'sound': 4167, 'kind': 2490, 'act': 51, 'daily': 1087, 'beg': 433, 'put': 3587, 'straight': 4267, 'abuse': 26, 'sheas': 4012, 'clearly': 818, 'masculine': 2747, 'manner': 2723, 'didnat': 1241, 'rebekah': 3659, 'therefore': 4458, 'suck': 4307, 'chloe': 773, 'faye': 1660, 'mean': 2791, 'hear': 2034, 'story': 4266, 'certainly': 730, 'herd': 2057, 'mentality': 2818, 'sasha': 3875, 'dumse': 1382, 'god': 1890, 'accept': 31, 'ask': 293, 'hea': 2027, 'base': 398, 'wasnat': 4795, 'human': 2161, 'dy': 1388, 'stage': 4214, 'race': 3611, 'war': 4785, 'hilarious': 2075, 'though': 4476, 'dp': 1356, 'interviewer': 2341, 'hot': 2145, 'glad': 1877, 'toy': 4552, 'extend': 1598, 'science': 3909, 'fit': 1707, 'arenat': 255, 'color': 856, 'proud': 3556, 'ready': 3651, 'meaning': 2793, 'anything': 221, 'exactly': 1563, 'uhh': 4636, 'pure': 3577, 'yes': 4965, 'walker': 4780, 'rly': 3801, 'sorry': 4164, 'santiago': 3871, 'mouth': 2936, 'crazy': 1030, 'matternbut': 2770, 'matternthat': 2771, 'nunderstande': 3133, 'therapy': 4456, 'must': 2965, 'truth': 4603, 'house': 2148, 'market': 2732, 'beyond': 464, 'border': 551, 'globally': 1883, 'legend': 2567, 'shake': 3995, 'beautiful': 420, 'amazing': 163, 'couldnat': 1005, 'boy': 568, 'label': 2515, 'cat': 703, 'bee': 430, 'tree': 4579, 'idea': 2188, 'side': 4052, 'status': 4236, 'quo': 3605, 'return': 3754, 'zulu': 4999, 'mention': 2820, 'fall': 1626, 'victim': 4739, 'hand': 1987, 'protester': 3554, 'owner': 3238, 'protect': 3551, 'business': 640, 'protest': 3553, 'care': 686, 'cop': 980, 'involve': 2355, 'blind': 514, 'eye': 1605, 'responsible': 3747, 'common': 877, 'interest': 2328, 'country': 1013, 'shut': 4047, 'kim': 2488, 'china': 770, 'try': 4605, 'pass': 3278, 'national': 2986, 'anthem': 212, 'bill': 476, 'fun': 1802, 'chinese': 771, 'freedom': 1776, 'everybody': 1549, 'boo': 543, 'support': 4331, 'ainat': 119, 'personally': 3345, 'mexico': 2832, 'buy': 649, 'everyday': 1551, 'intelligent': 2322, 'appreciate': 243, 'enough': 1490, 'little': 2624, 'wake': 4778, 'majority': 2703, 'empower': 1468, 'racial': 3612, 'leave': 2556, 'tag': 4378, 'wall': 4781, 'many': 2724, 'outlet': 3226, 'paint': 3246, 'fuss': 1813, 'add': 64, 'slogan': 4109, 'intent': 2325, 'scrap': 3915, 'metal': 2827, 'real': 3652, 'racism': 3614, 'fight': 1684, 'equality': 1509, 'juan': 2446, 'williams': 4872, 'space': 4172, 'peaceful': 3305, 'david': 1117, 'clarke': 810, 'wat': 4798, 'absolute': 22, 'bad': 370, 'milwaukee': 2853, 'ya': 4947, 'fair': 1619, 'hannity': 1994, 'take': 4381, 'clown': 832, 'speak': 4177, 'period': 3332, 'stick': 4255, 'european': 1539, 'worry': 4921, 'dislike': 1285, 'last': 2530, 'check': 754, 'caucasian': 711, 'europe': 1538, 'bring': 597, 'africa': 95, 'ugh': 4633, 'hate': 2021, 'cause': 712, 'ai': 114, 'mind': 2856, 'physic': 3367, 'himmelright': 2079, 'remind': 3708, 'movie': 2939, 'death': 1130, 'become': 426, 'condemn': 912, 'judge': 2447, 'john': 2429, 'blame': 503, 'selfish': 3952, 'behaviour': 439, 'trump': 4601, 'sense': 3962, 'reason': 3657, 'leftist': 2561, 'illogical': 2215, 'awkward': 358, 'may': 2777, 'community': 881, 'suffer': 4312, 'mostly': 2928, 'crime': 1041, 'yet': 4967, 'riot': 3786, 'dress': 1365, 'clothe': 830, 'ok': 3178, 'coherent': 846, 'book': 546, 'several': 3983, 'bell': 445, 'tall': 4387, 'choice': 774, 'fan': 1635, 'disappointed': 1265, 'response': 3745, 'swear': 4357, 'tired': 4508, 'weak': 4806, 'old': 3180, 'tire': 4507, 'raise': 3626, 'sheeple': 4015, 'perhaps': 3331, 'star': 4222, 'inspirational': 2304, 'burgundy': 634, 'rude': 3832, 'group': 1949, 'reinforce': 3693, 'deserve': 1208, 'devotion': 1229, 'wonderful': 4908, 'shameful': 4001, 'oh': 3175, 'wait': 4777, 'outside': 3228, 'inside': 2299, 'bend': 451, 'aall': 2, 'mattera': 2767, 'whatas': 4835, 'surround': 4347, 'yell': 4962, 'annie': 205, 'probably': 3517, 'nni': 3068, 'sec': 3931, 'mess': 2825, 'always': 158, 'cry': 1060, 'culture': 1068, 'horrid': 2137, 'christianity': 782, 'choose': 777, 'thatas': 4438, 'full': 1800, 'circle': 790, 'sjw': 4089, 'president': 3482, 'waste': 4797, 'min': 2854, 'discuss': 1275, 'distraction': 1304, 'reality': 3654, 'anti': 214, 'place': 3388, 'america': 169, 'anyone': 220, 'past': 3282, 'heall': 2030, 'whoop': 4858, 'break': 585, 'destroy': 1218, 'statue': 4235, 'throw': 4487, 'river': 3796, 'pull': 3571, 'write': 4933, 'mindless': 2858, 'fool': 1732, 'different': 1246, 'slavery': 4102, 'bristol': 598, 'present': 3480, 'moronic': 2924, 'individual': 2270, 'vote': 4767, 'face': 1609, 'homophobe': 2115, 'hatred': 2024, 'justify': 2461, 'worship': 4922, 'interpret': 2335, 'gross': 1947, 'capitalism': 679, 'create': 1031, 'product': 3522, 'solve': 4145, 'problem': 3518, 'consumer': 949, 'totally': 4541, 'colour': 859, 'ever': 1547, 'meet': 2804, 'womb': 4904, 'panel': 3253, 'together': 4513, 'donald': 1336, 'completely': 893, 'age': 100, 'experience': 1587, 'else': 1446, 'senator': 3959, 'sander': 3867, 'suspend': 4352, 'citizenship': 797, 'pretty': 3488, 'appropriate': 245, 'question': 3598, 'motive': 2932, 'dangerous': 1098, 'sincere': 4071, 'ignorance': 2202, 'martin': 2740, 'luther': 2681, 'king': 2493, 'jr': 2444, 'jason': 2401, 'scream': 3916, 'junior': 2458, 'poeple': 3411, 'die': 1243, 'change': 738, 'pray': 3463, 'nice': 3048, 'longer': 2650, 'power': 3454, 'display': 1293, 'encourage': 1472, 'worth': 4924, 'nlet': 3058, 'continue': 956, 'survivor': 4349, 'nto': 3128, 'effort': 1418, 'recieve': 3666, 'trauma': 4574, 'lead': 2551, 'mental': 2817, 'illness': 2214, 'suicide': 4318, 'slave': 4100, 'reading': 3650, 'ruler': 3835, 'rampant': 3628, 'hope': 2132, 'satan': 3877, 'earth': 1396, 'yea': 4956, 'bbc': 410, 'censor': 722, 'democracy': 1175, 'cheese': 756, 'conclusion': 911, 'order': 3206, 'maybe': 2779, 'local': 2636, 'hufflepuff': 2155, 'sexual': 3988, 'orientation': 3214, 'wear': 4812, 'stand': 4219, 'mayor': 2780, 'please': 3401, 'awesome': 354, 'perfect': 3326, 'answer': 211, 'sir': 4081, 'service': 3978, 'mad': 2689, 'trader': 4555, 'kay': 2472, 'paul': 3295, 'alm': 144, 'mildly': 2845, 'annoy': 207, 'theyare': 4460, 'specie': 4181, 'either': 1424, 'bleed': 511, 'catherine': 708, 'great': 1930, 'ii': 2206, 'crown': 1055, 'bruh': 611, 'lgbt': 2590, 'chill': 769, 'anywhere': 225, 'threat': 4481, 'athat': 309, 'meana': 2792, 'aw': 346, 'kiddo': 2483, 'politic': 3424, 'brexit': 590, 'debate': 1131, 'sophisticated': 4160, 'keith': 2476, 'remove': 3713, 'history': 2091, 'replace': 3719, 'drive': 1367, 'th': 4432, 'grader': 1914, 'first': 1703, 'holocaust': 2106, 'give': 1875, 'hour': 2147, 'thief': 4463, 'night': 3052, 'quote': 3607, 'scripture': 3920, 'predict': 3470, 'skinny': 4093, 'dicc': 1235, 'awhite': 357, 'yaall': 4948, 'home': 2108, 'arreola': 268, 'repeat': 3717, 'dave': 1116, 'fame': 1630, 'luck': 2677, 'journey': 2443, 'admit': 75, 'george': 1857, 'strength': 4276, 'physical': 3368, 'appear': 237, 'judgement': 2448, 'alone': 148, 'sufficient': 4314, 'debbie': 1132, 'inspiration': 2303, 'hint': 2082, 'ppl': 3457, 'middle': 2841, 'east': 1399, 'channel': 739, 'bout': 565, 'idc': 2187, 'purple': 3581, 'dude': 1374, 'banana': 384, 'slima': 4108, 'mi': 2833, 'head': 2028, 'important': 2236, 'realise': 3653, 'insult': 2317, 'male': 2710, 'honest': 2121, 'grip': 1946, 'brainless': 575, 'twist': 4621, 'af': 87, 'realize': 3655, 'public': 3567, 'matthew': 2773, 'jesus': 2417, 'deaf': 1126, 'owen': 3237, 'mcdonial': 2783, 'shame': 4000, 'react': 3647, 'wise': 4889, 'ur': 4698, 'lie': 2601, 'forgive': 1745, 'nespecially': 3024, 'play': 3398, 'seek': 3941, 'bubble': 620, 'bc': 412, 'brutality': 614, 'profiling': 3529, 'secret': 3934, 'neither': 3020, 'confirm': 921, 'deny': 1191, 'eternal': 1528, 'long': 2649, 'heart': 2036, 'cross': 1053, 'finger': 1698, 'tomorrow': 4522, 'bit': 490, 'cough': 1002, 'spend': 4189, 'half': 1980, 'figure': 1686, 'conversion': 970, 'therapist': 4455, 'title': 4509, 'share': 4004, 'nation': 2985, 'remain': 3706, 'gaydar': 1836, 'soon': 4158, 'screen': 3917, 'thats': 4439, 'word': 4910, 'rabble': 3609, 'wish': 4890, 'single': 4077, 'husband': 2172, 'wife': 4866, 'child': 766, 'aid': 116, 'taylor': 4398, 'reply': 3720, 'african': 96, 'scholarship': 3905, 'plan': 3391, 'genocide': 1853, 'divide': 1313, 'household': 2149, 'income': 2252, 'slowly': 4111, 'idiocracy': 2194, 'shoulder': 4040, 'point': 3412, 'level': 2585, 'case': 697, 'top': 4531, 'benjamin': 455, 'abortion': 20, 'focus': 1727, 'listen': 2621, 'smart': 4116, 'machine': 2687, 'cook': 976, 'food': 1731, 'defend': 1154, 'personality': 3344, 'something': 4151, 'weare': 4813, 'german': 1858, 'singer': 4076, 'song': 4156, 'youtube': 4983, 'amadeu': 159, 'unfortunately': 4664, 'anymore': 219, 'law': 2543, 'moses': 2926, 'jessica': 2415, 'shallow': 3998, 'wan': 4783, 'na': 2969, 'offend': 3165, 'okay': 3179, 'sam': 3859, 'garcia': 1826, 'uber': 4631, 'keira': 2475, 'canada': 664, 'ritchie': 3792, 'drama': 1362, 'hair': 1975, 'mia': 2834, 'wow': 4930, 'wonder': 4907, 'ban': 383, 'haired': 1977, 'future': 1814, 'rest': 3748, 'mercy': 2822, 'england': 1485, 'oil': 3177, 'stay': 4238, 'respond': 3744, 'imply': 2234, 'lifea': 2603, 'final': 1692, 'run': 3837, 'away': 352, 'bottle': 562, 'embarrass': 1451, 'damage': 1090, 'violent': 4752, 'aggressive': 105, 'towards': 4548, 'nd': 3004, 'wave': 4802, 'coronavirus': 989, 'till': 4501, 'qwerty': 3608, 'main': 2697, 'stream': 4274, 'antifa': 215, 'salary': 3855, 'nurse': 3134, 'tran': 4565, 'bisexual': 489, 'yeah': 4957, 'shall': 3997, 'lay': 2546, 'mistranslate': 2887, 'pedophilia': 3310, 'religion': 3702, 'yk': 4970, 'bennett': 456, 'lose': 2661, 'slander': 4096, 'tool': 4529, 'loser': 2662, 'expose': 1594, 'inspiring': 2306, 'nowadays': 3112, 'doubt': 1352, 'sure': 4340, 'generation': 1848, 'iall': 2180, 'finish': 1699, 'study': 4289, 'environmental': 1503, 'engineering': 1484, 'research': 3734, 'source': 4168, 'invalid': 2348, 'daughter': 1115, 'uniform': 4668, 'square': 4208, 'sheep': 4014, 'bi': 466, 'pan': 3249, 'church': 786, 'omg': 3185, 'council': 1006, 'fail': 1617, 'amsterdam': 177, 'berg': 457, 'hitler': 2093, 'session': 3979, 'musician': 2962, 'regularly': 3689, 'surgery': 4343, 'tape': 4391, 'etc': 1527, 'botox': 561, 'visit': 4758, 'badly': 374, 'translate': 4569, 'supremacy': 4338, 'famous': 1633, 'female': 1671, 'artist': 280, 'selling': 3954, 'sweet': 4363, 'genuine': 1855, 'bitter': 493, 'sigh': 4053, 'chant': 740, 'blue': 525, 'strongly': 4284, 'number': 3132, 'bug': 625, 'humanity': 2162, 'godas': 1891, 'image': 2218, 'kennedy': 2478, 'mensah': 2816, 'self': 3951, 'activist': 57, 'nobel': 3084, 'prize': 3514, 'nbut': 3003, 'dnc': 1319, 'line': 2616, 'masse': 2753, 'sinner': 4080, 'exploit': 1593, 'nyoutube': 3144, 'nntrump': 3080, 'sin': 4069, 'cardinal': 685, 'million': 2851, 'defeat': 1153, 'recently': 3665, 'revolutionary': 3762, 'christ': 780, 'sodomite': 4136, 'brave': 580, 'fortunate': 1754, 'parson': 3267, 'didnt': 1242, 'lucky': 2678, 'ality': 137, 'nut': 3135, 'planet': 3393, 'clueless': 835, 'dream': 1364, 'couple': 1015, 'college': 852, 'suggestion': 4317, 'ridiculous': 3780, 'open': 3192, 'free': 1775, 'discussion': 1276, 'perfectly': 3327, 'fear': 1664, 'terror': 4422, 'floyd': 1721, 'insecurity': 2298, 'legit': 2568, 'complain': 890, 'deal': 1127, 'stuff': 4290, 'worenwu': 4911, 'ancient': 187, 'soul': 4166, 'lord': 2659, 'specific': 4182, 'arise': 259, 'multiple': 2954, 'incident': 2247, 'otherwise': 3220, 'exist': 1581, 'unjustly': 4680, 'obviously': 3154, 'allow': 142, 'able': 13, 'oppose': 3196, 'sadly': 3849, 'uk': 4637, 'anarchy': 185, 'bomb': 540, 'doma': 1332, 'pointless': 3414, 'feminist': 1674, 'aggression': 104, 'content': 952, 'population': 3436, 'yo': 4972, 'confusion': 927, 'hong': 2125, 'kong': 2509, 'corporate': 990, 'kitty': 2497, 'recognize': 3669, 'relate': 3696, 'vision': 4757, 'honey': 2124, 'cute': 1079, 'butch': 643, 'maroon': 2735, 'body': 534, 'complexion': 895, 'dear': 1129, 'catch': 705, 'handle': 1989, 'incorrectly': 2256, 'correct': 993, 'criminal': 1042, 'chaos': 741, 'disaster': 1266, 'baby': 362, 'post': 3447, 'send': 3960, 'message': 2826, 'nope': 3095, 'heavy': 2044, 'city': 798, 'build': 626, 'hospital': 2142, 'tear': 4405, 'jasper': 2402, 'nova': 3109, 'dat': 1111, 'macky': 2688, 'kratt': 2512, 'mario': 2730, 'da': 1082, 'pic': 3370, 'early': 1394, 'whatever': 4836, 'hundred': 2166, 'thousand': 4479, 'whose': 4860, 'thru': 4488, 'issue': 2379, 'suppose': 4334, 'secretary': 3935, 'stupid': 4293, 'demonstrate': 1185, 'disgraceful': 1279, 'govt': 1909, 'yep': 4964, 'major': 2702, 'connection': 933, 'worthy': 4926, 'soros': 4163, 'behind': 440, 'scumbag': 3923, 'lifestyle': 2604, 'minority': 2868, 'demand': 1173, 'extra': 1600, 'hispanic': 2087, 'superstar': 4329, 'elderly': 1429, 'ignorant': 2203, 'plantation': 3395, 'excellent': 1569, 'term': 4419, 'pandering': 3252, 'steve': 4250, 'brain': 574, 'call': 658, 'tail': 4380, 'genesis': 1850, 'bridge': 592, 'arch': 251, 'stealing': 4240, 'looting': 2657, 'po': 3408, 'incorrect': 2255, 'sherrif': 4021, 'devil': 1227, 'savior': 3888, 'demonic': 1183, 'bag': 375, 'rn': 3802, 'innocent': 2295, 'spanish': 4173, 'per': 3321, 'patriot': 3292, 'rob': 3804, 'scientific': 3910, 'proof': 3540, 'universe': 4677, 'natural': 2993, 'chemical': 757, 'reaction': 3648, 'isnat': 2373, 'united': 4674, 'total': 4540, 'idiot': 2195, 'happy': 1999, 'trigger': 4588, 'logic': 2640, 'rational': 3642, 'argument': 258, 'hi': 2066, 'ryan': 3841, 'storey': 4265, 'cyndi': 1081, 'highly': 2071, 'odd': 3160, 'interview': 2340, 'conversation': 968, 'accomplish': 35, 'room': 3822, 'project': 3535, 'discipline': 1267, 'creative': 1033, 'passionate': 3281, 'definitely': 1159, 'luv': 2682, 'nelson': 3021, 'mandela': 2716, 'london': 2647, 'terrorist': 4424, 'murderer': 2957, 'along': 149, 'griffin': 1943, 'instead': 2311, 'unite': 4673, 'guess': 1956, 'part': 3268, 'warm': 4788, 'lee': 2559, 'publish': 3570, 'bunch': 631, 'le': 2550, 'labour': 2517, 'pathetic': 3288, 'piece': 3373, 'sub': 4296, 'sum': 4320, 'donation': 1339, 'religious': 3703, 'denial': 1189, 'obama': 3145, 'priti': 3509, 'patel': 3286, 'forget': 1744, 'heritage': 2058, 'central': 725, 'bet': 461, 'hater': 2023, 'nail': 2972, 'demorat': 1187, 'voter': 4768, 'absolutely': 23, 'apple': 240, 'lift': 2606, 'hey': 2065, 'tune': 4610, 'quick': 3599, 'later': 2533, 'teenage': 4412, 'boot': 550, 'pride': 3496, 'americans': 172, 'jimmy': 2421, 'concept': 906, 'aalla': 3, 'relevant': 3701, 'june': 2457, 'sht': 4045, 'usually': 4708, 'yellow': 4963, 'explain': 1590, 'gift': 1869, 'rather': 3640, 'sherriff': 4022, 'michael': 2836, 'johnson': 2431, 'start': 4226, 'persona': 3342, 'sentence': 3964, 'jewish': 2419, 'testament': 4426, 'exodus': 1583, 'ashamed': 286, 'ridicule': 3779, 'trash': 4573, 'ablack': 12, 'purposefully': 3583, 'miss': 2883, 'core': 984, 'awareness': 351, 'hopefully': 2133, 'subject': 4298, 'acceptance': 33, 'anger': 197, 'easy': 1401, 'online': 3188, 'coward': 1024, 'ugghh': 4632, 'nah': 2971, 'jean': 2407, 'honestly': 2122, 'ngl': 3036, 'utter': 4710, 'bullshit': 629, 'admire': 74, 'peter': 3350, 'logical': 2641, 'course': 1018, 'discriminate': 1272, 'chicken': 764, 'wolf': 4902, 'privelege': 3511, 'amaze': 162, 'lovely': 2673, 'smash': 4117, 'haskin': 2016, 'mask': 2748, 'hinder': 2080, 'system': 4369, 'cain': 656, 'mine': 2860, 'entity': 1501, 'delete': 1167, 'prove': 3557, 'scare': 3898, 'sheall': 4011, 'learn': 2554, 'adorable': 79, 'bean': 416, 'mature': 2774, 'disrespect': 1297, 'lynch': 2683, 'properly': 3544, 'museum': 2960, 'obey': 3146, 'thug': 4490, 'madness': 2693, 'illegal': 2211, 'super': 4325, 'wicked': 4864, 'non': 3090, 'edward': 1413, 'kidnap': 2484, 'enslave': 1491, 'charge': 746, 'fucking': 1796, 'elizabeth': 1442, 'emanuel': 1450, 'ita': 2382, 'sis': 4083, 'nibiru': 3046, 'surprise': 4344, 'obvious': 3153, 'umm': 4643, 'brother': 609, 'today': 4512, 'honour': 2127, 'commit': 876, 'dignity': 1252, 'policy': 3421, 'dont': 1341, 'thread': 4480, 'carefully': 689, 'key': 2480, 'climate': 821, 'document': 1322, 'natsuki': 2992, 'masamune': 2746, 'guilty': 1961, 'bark': 396, 'loud': 2667, 'pea': 3303, 'troll': 4591, 'nthis': 3127, 'horrible': 2136, 'iave': 2182, 'strong': 4283, 'tryna': 4607, 'witness': 4896, 'circumstance': 792, 'prevent': 3491, 'entirely': 1497, 'nnbut': 3067, 'bike': 475, 'ace': 43, 'generalize': 1846, 'certain': 729, 'queer': 3597, 'noo': 3093, 'suit': 4319, 'emotional': 1458, 'fire': 1700, 'guarantee': 1953, 'close': 824, 'often': 3173, 'light': 2607, 'crystal': 1061, 'facial': 1611, 'composure': 898, 'facebook': 1610, 'fist': 1706, 'icon': 2184, 'aka': 124, 'master': 2756, 'since': 4070, 'stamp': 4216, 'welfare': 4826, 'whitey': 4852, 'anyways': 224, 'homophobia': 2116, 'ugly': 4634, 'oppress': 3199, 'palestinian': 3248, 'global': 1881, 'pandemic': 3250, 'sake': 3854, 'cast': 700, 'lake': 2522, 'respectful': 3742, 'horror': 2139, 'moron': 2923, 'windsor': 4882, 'xoxo': 4944, 'blonde': 520, 'whata': 4834, 'precious': 3467, 'gosh': 1904, 'homophobic': 2117, 'section': 3937, 'link': 2617, 'ta': 4373, 'mark': 2731, 'defense': 1155, 'action': 53, 'serve': 3977, 'air': 120, 'breathe': 587, 'jackson': 2392, 'filthy': 1691, 'rich': 3772, 'celebrity': 719, 'shot': 4038, 'tj': 4511, 'bros': 608, 'circulqr': 791, 'wtf': 4937, 'childhood': 767, 'living': 2629, 'pitner': 3385, 'girlfriend': 1872, 'kiss': 2495, 'lmfao': 2632, 'phase': 3356, 'mighty': 2842, 'behalf': 436, 'decent': 1138, 'asteroid': 305, 'wipe': 4885, 'board': 529, 'mm': 2896, 'leviticus': 2587, 'lady': 2521, 'degenerate': 1164, 'drug': 1371, 'addict': 65, 'interesting': 2330, 'remote': 3710, 'control': 963, 'draw': 1363, 'doll': 1330, 'sane': 3870, 'disrespectful': 1298, 'therea': 4457, 'bauer': 409, 'fraziera': 1773, 'largely': 2528, 'butt': 645, 'somebody': 4146, 'similar': 4064, 'pose': 3441, 'father': 1652, 'kneel': 2501, 'shout': 4042, 'cant': 674, 'birth': 486, 'aswell': 308, 'supremacist': 4337, 'pol': 3416, 'price': 3493, 'award': 349, 'mix': 2891, 'fabric': 1607, 'heaven': 2042, 'doctor': 1321, 'far': 1638, 'amen': 167, 'neutral': 3028, 'tf': 4431, 'sit': 4085, 'privileged': 3513, 'as': 282, 'shoot': 4033, 'mexican': 2831, 'segregation': 3946, 'nwe': 3136, 'corona': 988, 'century': 727, 'conservative': 939, 'dragon': 1361, 'bro': 604, 'student': 4288, 'atheist': 312, 'bully': 630, 'curse': 1076, 'angel': 196, 'brainwash': 576, 'anne': 204, 'fcke': 1663, 'toward': 4547, 'russian': 3839, 'ukraine': 4638, 'burn': 635, 'sutherland': 4355, 'ofcourse': 3163, 'celebrate': 717, 'invite': 2354, 'token': 4516, 'saint': 3853, 'week': 4820, 'fast': 1648, 'increase': 2257, 'western': 4831, 'boris': 556, 'due': 1375, 'roman': 3818, 'wire': 4886, 'dead': 1124, 'lockdown': 2638, 'nevermind': 3031, 'bear': 417, 'advocate': 85, 'convert': 971, 'possible': 3445, 'despicable': 1214, 'yup': 4987, 'liberalism': 2596, 'difference': 1245, 'morgan': 2920, 'marie': 2728, 'nnblack': 3066, 'counter': 1009, 'plenty': 3403, 'johnsona': 2432, 'comeback': 865, 'education': 1411, 'moment': 2908, 'degree': 1165, 'associate': 302, 'gladly': 1878, 'robot': 3809, 'detail': 1221, 'truck': 4597, 'vehicle': 4730, 'thumbnail': 4492, 'safely': 3851, 'confuse': 925, 'ppls': 3458, 'supporter': 4332, 'situation': 4087, 'glorify': 1885, 'eastern': 1400, 'mugabe': 2947, 'phrasing': 3366, 'load': 2633, 'importance': 2235, 'dumbe': 1379, 'ayy': 360, 'cuffed': 1065, 'delusional': 1171, 'weall': 4808, 'tosh': 4538, 'obscure': 3149, 'badge': 373, 'liberty': 2597, 'bottom': 563, 'bus': 638, 'authority': 339, 'relation': 3697, 'nearly': 3007, 'attention': 328, 'valuable': 4718, 'eff': 1414, 'clue': 834, 'touch': 4542, 'oppression': 3201, 'inequality': 2275, 'stark': 4224, 'mathematical': 2764, 'equation': 1512, 'plus': 3406, 'ah': 111, 'smell': 4118, 'mile': 2846, 'soak': 4126, 'rainbow': 3625, 'fix': 1708, 'amy': 179, 'sob': 4127, 'nyes': 3142, 'roll': 3817, 'meter': 2829, 'reach': 3646, 'iad': 2179, 'however': 2153, 'donate': 1338, 'huge': 2158, 'near': 3006, 'protestor': 3555, 'lovea': 2672, 'cut': 1078, 'spread': 4206, 'insulting': 2318, 'extremely': 1603, 'lock': 2637, 'abusive': 27, 'torture': 4536, 'decade': 1135, 'assume': 303, 'address': 68, 'concern': 907, 'various': 4726, 'within': 4894, 'mrcosmin': 2943, 'assumption': 304, 'knowledge': 2506, 'whatsoever': 4837, 'historical': 2089, 'record': 3672, 'aside': 292, 'credibility': 1036, 'original': 3216, 'historic': 2088, 'claim': 805, 'cuff': 1064, 'um': 4642, 'complete': 892, 'presidency': 3481, 'chief': 765, 'anyway': 223, 'constantly': 944, 'forward': 1757, 'lack': 2519, 'confidence': 919, 'instagram': 2308, 'normal': 3097, 'scene': 3902, 'cultural': 1067, 'pro': 3515, 'script': 3919, 'glaad': 1876, 'propaganda': 3542, 'kat': 2471, 'unnecessary': 4683, 'sarcastic': 3873, 'bite': 492, 'harsh': 2012, 'perception': 3325, 'feminism': 1673, 'darzo': 1110, 'xx': 4945, 'afraid': 94, 'loot': 2655, 'march': 2725, 'root': 3824, 'extreme': 1602, 'organization': 3210, 'actively': 55, 'manipulate': 2719, 'holmes': 2105, 'cost': 1001, 'id': 2186, 'republican': 3728, 'travel': 4575, 'decision': 1141, 'fee': 1667, 'decide': 1140, 'cher': 759, 'transgend': 4567, 'special': 4179, 'beck': 424, 'aim': 118, 'filler': 1688, 'favorite': 1657, 'win': 4877, 'platform': 3397, 'military': 2848, 'mountain': 2933, 'demon': 1182, 'britain': 600, 'malcolm': 2709, 'legacy': 2564, 'wealthy': 4810, 'nonsense': 3092, 'moan': 2897, 'jew': 2418, 'somewhere': 4154, 'suggest': 4316, 'style': 4295, 'satisfy': 3880, 'shiroyuki': 4027, 'analogy': 180, 'btw': 618, 'usa': 4701, 'korean': 2511, 'water': 4800, 'apology': 233, 'smoke': 4122, 'mirror': 2872, 'bless': 512, 'massacre': 2752, 'sell': 3953, 'whore': 4859, 'slaver': 4101, 'ahh': 113, 'fuel': 1798, 'fault': 1653, 'prison': 3506, 'breath': 586, 'jane': 2398, 'gerrard': 1860, 'evolve': 1558, 'weakness': 4807, 'plain': 3390, 'hardly': 2005, 'recognise': 3667, 'purpose': 3582, 'gas': 1829, 'month': 2911, 'irish': 2362, 'charm': 749, 'cereal': 728, 'box': 567, 'vs': 4770, 'institution': 2314, 'enemy': 1477, 'wlm': 4898, 'drag': 1360, 'lemon': 2574, 'silence': 4059, 'anonymous': 208, 'behavior': 438, 'al': 126, 'sharpton': 4006, 'lonely': 2648, 'crap': 1028, 'company': 882, 'hire': 2086, 'sad': 3847, 'backwards': 368, 'intelligence': 2321, 'steven': 4251, 'ethnicity': 1534, 'idol': 2198, 'fate': 1651, 'murder': 2956, 'accuse': 42, 'schuile': 3907, 'struggle': 4286, 'discrimination': 1273, 'chapter': 744, 'excuse': 1576, 'property': 3545, 'hug': 2157, 'lotta': 2666, 'stud': 4287, 'confused': 926, 'unarm': 4647, 'version': 4733, 'abort': 18, 'sky': 4094, 'blk': 516, 'chicago': 762, 'drop': 1370, 'program': 3532, 'davis': 1118, 'danielle': 1100, 'hateful': 2022, 'disgust': 1281, 'contradict': 958, 'immature': 2224, 'handsome': 1992, 'presence': 3479, 'mistreat': 2888, 'beer': 432, 'weed': 4819, 'plant': 3394, 'ohh': 3176, 'construction': 947, 'wired': 4887, 'andrea': 190, 'raimey': 3624, 'mama': 2711, 'repent': 3718, 'search': 3927, 'easily': 1398, 'equally': 1510, 'pink': 3380, 'ilhan': 2209, 'omar': 3183, 'muslim': 2963, 'islam': 2370, 'mosque': 2927, 'represent': 3723, 'persecution': 3340, 'seeker': 3942, 'minor': 2867, 'nnthe': 3078, 'nnit': 3070, 'progress': 3533, 'report': 3721, 'math': 2762, 'unsure': 4686, 'impress': 2240, 'dark': 1107, 'reporter': 3722, 'tds': 4400, 'pill': 3376, 'thumb': 4491, 'truly': 4600, 'greg': 1937, 'karl': 2469, 'marx': 2743, 'doesnt': 1327, 'toronto': 4535, 'lunatic': 2679, 'civil': 799, 'echo': 1403, 'refuse': 3683, 'request': 3731, 'poison': 3415, 'josh': 2440, 'remember': 3707, 'greta': 1939, 'demonstration': 1186, 'favor': 1656, 'society': 4133, 'cc': 713, 'turtle': 4615, 'immediately': 2225, 'sea': 3925, 'creature': 1035, 'danger': 1097, 'latinos': 2536, 'organisation': 3209, 'epic': 1505, 'afro': 98, 'lem': 2573, 'vulnerable': 4772, 'aa': 0, 'aerospace': 86, 'graduate': 1915, 'department': 1192, 'impression': 2242, 'limit': 2613, 'micro': 2838, 'describe': 1207, 'desire': 1211, 'factual': 1615, 'nature': 2995, 'thronin': 4485, 'grammar': 1917, 'skill': 4091, 'jerde': 2412, 'indian': 2264, 'dictionary': 1240, 'egyptian': 1422, 'babe': 361, 'lawlessness': 2544, 'yr': 4984, 'election': 1431, 'low': 2676, 'apologise': 231, 'stereotype': 4246, 'invent': 2351, 'lazy': 2547, 'field': 1683, 'across': 50, 'folk': 1728, 'door': 1343, 'jamie': 2396, 'musso': 2964, 'shoud': 4039, 'continent': 955, 'determination': 1223, 'nathanael': 2984, 'wade': 4773, 'wikipedia': 4867, 'hill': 2077, 'independent': 2262, 'celebs': 720, 'rise': 3790, 'sweetie': 4365, 'basement': 399, 'australia': 337, 'hillary': 2078, 'hang': 1993, 'ray': 3644, 'harvey': 2014, 'blank': 505, 'mob': 2898, 'french': 1780, 'henry': 2056, 'feeling': 1669, 'target': 4392, 'new': 3032, 'soft': 4137, 'eugene': 1537, 'birukov': 488, 'fully': 1801, 'stir': 4257, 'division': 1315, 'founder': 1761, 'equivalent': 1513, 'participation': 3271, 'unborn': 4650, 'sister': 4084, 'serious': 3973, 'health': 2031, 'mass': 2750, 'liver': 2628, 'conceive': 903, 'spot': 4201, 'rapist': 3635, 'protection': 3552, 'class': 812, 'ruin': 3833, 'possibly': 3446, 'late': 2531, 'rare': 3636, 'tie': 4498, 'tube': 4608, 'store': 4264, 'apart': 228, 'result': 3750, 'jzizzle': 2463, 'lesson': 2578, 'thy': 4495, 'achristiansa': 46, 'entire': 1496, 'stranger': 4270, 'wouldnat': 4929, 'clean': 816, 'tunstall': 4611, 'competition': 889, 'la': 2514, 'land': 2525, 'halligan': 1982, 'admiral': 72, 'puppet': 3575, 'succeed': 4304, 'ie': 2200, 'ego': 1420, 'iq': 2358, 'useful': 4703, 'social': 4129, 'distancing': 1301, 'center': 724, 'aborted': 19, 'extent': 1599, 'particular': 3272, 'prayer': 3464, 'album': 129, 'letter': 2583, 'beloved': 448, 'alive': 138, 'ambition': 166, 'tour': 4544, 'dancer': 1095, 'civilisation': 801, 'repair': 3715, 'smith': 4121, 'sue': 4311, 'agod': 108, 'systemic': 4372, 'pain': 3244, 'battle': 408, 'son': 4155, 'nthank': 3121, 'determine': 1224, 'court': 1019, 'convict': 973, 'damn': 1092, 'perspective': 3346, 'narrative': 2981, 'persecute': 3339, 'pick': 3371, 'hole': 2101, 'blacklivesmatter': 498, 'aware': 350, 'impossible': 2238, 'banner': 390, 'valid': 4716, 'provocative': 3559, 'diminish': 1254, 'impact': 2230, 'unity': 4675, 'opportunity': 3195, 'additional': 67, 'area': 254, 'although': 157, 'click': 820, 'buzzfeed': 650, 'beauty': 422, 'stem': 4242, 'qualify': 3592, 'actual': 60, 'interact': 2327, 'value': 4719, 'communist': 880, 'page': 3243, 'dad': 1083, 'passion': 3280, 'goldieblox': 1896, 'boredom': 554, 'ted': 4410, 'clear': 817, 'loose': 2654, 'belong': 447, 'misogyny': 2882, 'software': 4138, 'view': 4746, 'code': 844, 'objective': 3148, 'task': 4393, 'sick': 4050, 'doom': 1342, 'stone': 4262, 'overlook': 3233, 'benefit': 453, 'clash': 811, 'theo': 4449, 'colvin': 862, 'deep': 1150, 'citizen': 796, 'sandra': 3868, 'bland': 504, 'bitch': 491, 'neighbor': 3016, 'picture': 3372, 'turkey': 4612, 'current': 1074, 'pal': 3247, 'forcefully': 1738, 'function': 1803, 'ignore': 2204, 'depressed': 1198, 'wen': 4828, 'saddam': 3848, 'iraq': 2360, 'random': 3630, 'chance': 737, 'mckinney': 2785, 'daddy': 1086, 'cool': 978, 'directly': 1258, 'none': 3091, 'writer': 4934, 'expectation': 1585, 'openly': 3193, 'engage': 1481, 'liar': 2594, 'coconut': 843, 'prop': 3541, 'dr': 1359, 'bea': 414, 'millan': 2849, 'windorski': 4880, 'combat': 863, 'physically': 3369, 'mentally': 2819, 'ngo': 3037, 'website': 4817, 'button': 648, 'information': 2283, 'amount': 176, 'butthurt': 647, 'astound': 306, 'brilliant': 596, 'baltimore': 381, 'doe': 1325, 'identify': 2190, 'wheelchair': 4839, 'nnow': 3076, 'join': 2433, 'wonat': 4906, 'confront': 924, 'india': 2263, 'pursue': 3584, 'strange': 4269, 'google': 1902, 'datum': 1114, 'russia': 3838, 'xd': 4943, 'marshall': 2738, 'marcus': 2726, 'heartfelt': 2037, 'overly': 3234, 'imalfie': 2222, 'clarify': 808, 'collapse': 850, 'hawk': 2026, 'scientist': 3911, 'goat': 1889, 'greece': 1933, 'rome': 3820, 'egypt': 1421, 'isi': 2368, 'hypocritical': 2177, 'dictatorship': 1239, 'carry': 694, 'adolf': 76, 'mission': 2884, 'episode': 1507, 'consist': 941, 'patrick': 3291, 'squid': 4209, 'ward': 4786, 'factor': 1614, 'tip': 4506, 'sweater': 4359, 'theme': 4447, 'topple': 4533, 'cromwell': 1051, 'butcher': 644, 'whovian': 4861, 'catholic': 709, 'exact': 1562, 'owo': 3239, 'actblue': 52, 'campaign': 662, 'huh': 2159, 'instinct': 2313, 'horse': 2140, 'floyed': 1723, 'panther': 3255, 'nall': 2974, 'organic': 3208, 'ride': 3778, 'premise': 3476, 'publicity': 3568, 'fundamentally': 1806, 'peoplea': 3318, 'dismantle': 1286, 'negative': 3014, 'press': 3484, 'practice': 3461, 'accord': 36, 'peopleas': 3319, 'risk': 3791, 'guest': 1957, 'heterosexual': 2063, 'morally': 2919, 'solid': 4142, 'require': 3732, 'knock': 2503, 'neil': 3019, 'ikr': 2208, 'pregnant': 3474, 'invasion': 2350, 'endure': 1476, 'federal': 1666, 'leader': 2552, 'blessing': 513, 'internet': 2334, 'brandon': 579, 'trust': 4602, 'hilary': 2076, 'angry': 199, 'tragic': 4560, 'activism': 56, 'gary': 1828, 'destruction': 1219, 'educate': 1409, 'nationality': 2989, 'adjective': 69, 'noun': 3108, 'moorish': 2917, 'rd': 3645, 'grade': 1913, 'etymology': 1535, 'bleach': 509, 'inanimate': 2245, 'object': 3147, 'og': 3174, 'arrington': 270, 'xxx': 4946, 'dankitydoge': 1102, 'whoas': 4854, 'auto': 341, 'quite': 3603, 'sexually': 3991, 'assault': 297, 'fortnite': 1752, 'pls': 3405, 'uneducated': 4660, 'goodness': 1900, 'apply': 241, 'wide': 4865, 'veteran': 4735, 'shop': 4035, 'raid': 3623, 'cuz': 1080, 'conviction': 974, 'ahead': 112, 'biomedical': 483, 'successful': 4306, 'art': 275, 'waffle': 4774, 'begin': 434, 'sexist': 3987, 'predominantly': 3471, 'orient': 3213, 'jaun': 2403, 'cnn': 837, 'force': 1737, 'mike': 2844, 'penny': 3316, 'camera': 660, 'essay': 1523, 'phrase': 3365, 'fake': 1624, 'accent': 30, 'naughty': 2996, 'nose': 3101, 'making': 2707, 'step': 4243, 'notice': 3106, 'uncomfortable': 4652, 'adult': 82, 'hypocrite': 2176, 'dems': 1188, 'sterling': 4249, 'soo': 4157, 'fascism': 1644, 'bore': 552, 'boring': 555, 'treatment': 4578, 'mistake': 2886, 'partly': 3274, 'driver': 1368, 'engine': 1482, 'expect': 1584, 'exaggeration': 1565, 'floor': 1718, 'site': 4086, 'precisely': 3468, 'misfit': 2877, 'dependent': 1194, 'manager': 2715, 'rarely': 3637, 'psychology': 3564, 'kick': 2481, 'slum': 4112, 'almighty': 146, 'trade': 4554, 'enforcement': 1480, 'giant': 1868, 'latino': 2535, 'floydas': 1722, 'gun': 1964, 'front': 1786, 'thata': 4437, 'red': 3673, 'flag': 1711, 'louise': 2670, 'veronica': 4731, 'dictate': 1237, 'awful': 355, 'flow': 1719, 'cloud': 831, 'whoever': 4855, 'dirty': 1259, 'uh': 4635, 'nher': 3040, 'sassy': 3876, 'switch': 4366, 'hindu': 2081, 'nuclear': 3131, 'virtue': 4754, 'volunteer': 4764, 'charity': 747, 'hometown': 2111, 'sexism': 3986, 'hai': 1972, 'huynh': 2174, 'shouldnat': 4041, 'wind': 4879, 'shell': 4016, 'zealand': 4993, 'design': 1209, 'remotely': 3711, 'myth': 2966, 'wright': 4931, 'form': 1747, 'acknowledge': 47, 'suffering': 4313, 'somehow': 4148, 'positive': 3443, 'njust': 3056, 'receive': 3663, 'tribe': 4585, 'diane': 1234, 'abbott': 6, 'employer': 1466, 'indeed': 2260, 'disgrace': 1278, 'vice': 4738, 'ni': 3044, 'scared': 3899, 'shade': 3993, 'july': 2454, 'accepting': 34, 'havenat': 2025, 'idk': 2197, 'pansexual': 3254, 'offensive': 3167, 'bot': 558, 'conscious': 936, 'dump': 1381, 'fish': 1705, 'thieve': 4465, 'profit': 3530, 'sociopath': 4134, 'quit': 3602, 'warp': 4791, 'sarkar': 3874, 'statistic': 4232, 'vastly': 4728, 'percentage': 3324, 'ability': 11, 'demographic': 1180, 'welcome': 4825, 'nn': 3063, 'industrial': 2273, 'philippine': 3360, 'semester': 3957, 'congratulation': 929, 'virtually': 4753, 'entertainer': 1494, 'cookie': 977, 'binary': 479, 'genderfluid': 1843, 'fluid': 1725, 'holy': 2107, 'theodore': 4450, 'calm': 659, 'dam': 1089, 'co': 838, 'fortune': 1755, 'grievance': 1942, 'monument': 2912, 'controversial': 965, 'fragile': 1765, 'honor': 2126, 'mindset': 2859, 'stupidity': 4294, 'hose': 2141, 'specifically': 4183, 'mcdonald': 2782, 'grant': 1924, 'dumbass': 1378, 'professional': 3526, 'finally': 1693, 'paysour': 3301, 'bloody': 522, 'raw': 3643, 'bledsoe': 510, 'provide': 3558, 'gotcha': 1906, 'youre': 4981, 'buddy': 623, 'funeral': 1808, 'rumor': 3836, 'bother': 559, 'electric': 1432, 'ideology': 2192, 'erase': 1516, 'rewrite': 3764, 'hijack': 2074, 'gain': 1817, 'fellow': 1670, 'shirt': 4028, 'rioter': 3787, 'advantage': 83, 'compassionate': 886, 'insane': 2296, 'nationalist': 2988, 'reparation': 3716, 'globalist': 1882, 'capitalist': 680, 'road': 3803, 'steal': 4239, 'leo': 2575, 'worm': 4919, 'alice': 133, 'dee': 1147, 'accurate': 40, 'analysis': 181, 'terrible': 4420, 'sugar': 4315, 'coat': 840, 'spell': 4188, 'stan': 4217, 'swedish': 4361, 'brit': 599, 'quality': 3593, 'enjoy': 1487, 'jesse': 2414, 'pollack': 3431, 'favourite': 1659, 'trouble': 4595, 'abandon': 5, 'hashtag': 2015, 'baden': 372, 'jones': 2437, 'mixed': 2892, 'expression': 1596, 'equate': 1511, 'piss': 3382, 'taxi': 4396, 'woke': 4901, 'whyatt': 4862, 'simon': 4065, 'nim': 3053, 'keeper': 2474, 'achieve': 44, 'stomach': 4260, 'depict': 1195, 'ethnic': 1533, 'supposedly': 4335, 'privilege': 3512, 'neighbour': 3018, 'europeans': 1540, 'molly': 2905, 'cone': 917, 'chip': 772, 'choke': 776, 'willholt': 4870, 'phd': 3357, 'cos': 1000, 'segment': 3944, 'regard': 3684, 'irrelevant': 2366, 'suspicion': 4353, 'asphyxiation': 295, 'pressure': 3485, 'left': 2560, 'wing': 4883, 'percent': 3323, 'fascist': 1645, 'ethiopian': 1532, 'jump': 2455, 'window': 4881, 'building': 627, 'net': 3025, 'basis': 403, 'articulate': 278, 'mlk': 2895, 'vocal': 4761, 'elect': 1430, 'ale': 130, 'advice': 84, 'olivia': 3182, 'riggs': 3782, 'hun': 2165, 'filter': 1690, 'mra': 2942, 'youa': 4975, 'nthe': 3125, 'scary': 3900, 'nyou': 3143, 'onto': 3189, 'nand': 2977, 'sinful': 4073, 'immoral': 2227, 'sly': 4114, 'incredibly': 2259, 'lego': 2571, 'teenager': 4413, 'zolik': 4998, 'unfair': 4662, 'punish': 3574, 'stephanie': 4244, 'mate': 2758, 'badass': 371, 'countless': 1012, 'perceive': 3322, 'scale': 3893, 'rhetorical': 3767, 'meghan': 2807, 'aif': 117, 'username': 4706, 'sleep': 4103, 'commandment': 869, 'article': 277, 'disconnect': 1268, 'babyas': 363, 'kindness': 2492, 'partially': 3269, 'moral': 2918, 'migrant': 2843, 'passage': 3279, 'mood': 2913, 'rebuild': 3661, 'bronze': 606, 'british': 602, 'homeland': 2109, 'tom': 4519, 'october': 3159, 'oct': 3158, 'haskins': 2017, 'complaint': 891, 'candace': 670, 'thomas': 4473, 'definition': 1160, 'thinking': 4470, 'lil': 2610, 'wayne': 4804, 'ironic': 2363, 'rip': 3789, 'slur': 4113, 'eventually': 1546, 'rub': 3830, 'comfortable': 867, 'classify': 814, 'lad': 2520, 'gregory': 1938, 'lately': 2532, 'fantasy': 1637, 'flight': 1715, 'influence': 2280, 'candidate': 672, 'pander': 3251, 'avoid': 345, 'triangle': 4583, 'mislead': 2878, 'verse': 4732, 'systematic': 4370, 'joannot': 2424, 'fampionona': 1634, 'segregate': 3945, 'cite': 795, 'coulda': 1004, 'yesterday': 4966, 'goal': 1888, 'dominic': 1335, 'fetus': 1680, 'seattle': 3929, 'ancestor': 186, 'ther': 4453, 'hook': 2130, 'match': 2757, 'descendant': 1206, 'melt': 2809, 'chat': 752, 'maya': 2778, 'humble': 2163, 'nasty': 2983, 'camp': 661, 'legal': 2565, 'norm': 3096, 'workplace': 4915, 'tongue': 4525, 'farmer': 1642, 'purge': 3579, 'vaccine': 4714, 'offence': 3164, 'warrior': 4792, 'quota': 3606, 'resource': 3739, 'domestic': 1333, 'commercial': 874, 'immigrant': 2226, 'email': 1449, 'phone': 3363, 'beep': 431, 'jack': 2390, 'flat': 1713, 'tomboy': 4520, 'vibe': 4737, 'demolish': 1181, 'credit': 1037, 'regardless': 3685, 'uzokwe': 4713, 'solution': 4144, 'nnall': 3064, 'inclusive': 2251, 'vid': 4744, 'tbh': 4399, 'meanwhile': 2795, 'mock': 2899, 'akid': 125, 'international': 2333, 'seize': 3947, 'upon': 4693, 'misconduct': 2874, 'event': 1545, 'elite': 1441, 'retire': 3753, 'survive': 4348, 'besides': 459, 'internal': 2331, 'superior': 4327, 'anybody': 218, 'lmaoo': 2631, 'wheeze': 4841, 'disown': 1291, 'megan': 2806, 'anderson': 188, 'insta': 2307, 'trayvon': 4576, 'granny': 1923, 'patch': 3285, 'alarm': 128, 'organize': 3211, 'refresh': 3680, 'policeman': 3420, 'clan': 807, 'sentiment': 3965, 'nbe': 2999, 'dance': 1094, 'void': 4763, 'grateful': 1926, 'ice': 2183, 'dominate': 1334, 'player': 3399, 'sacrifice': 3846, 'ami': 173, 'list': 2620, 'coin': 847, 'pastor': 3283, 'tolerance': 4517, 'cell': 721, 'separation': 3969, 'scheme': 3903, 'dive': 1310, 'conquer': 935, 'hammer': 1984, 'memorialize': 2813, 'colston': 860, 'retard': 3751, 'ww': 4939, 'bogus': 536, 'putin': 3588, 'vandalism': 4723, 'shift': 4024, 'consciousness': 937, 'threaten': 4482, 'prejudice': 3475, 'personal': 3343, 'attribute': 333, 'computer': 901, 'genuinely': 1856, 'sort': 4165, 'hippo': 2084, 'exclude': 1574, 'beyonce': 463, 'washington': 4794, 'lip': 2619, 'fascinate': 1643, 'shortly': 4037, 'mugieq': 2948, 'tik': 4500, 'tok': 4515, 'aoh': 226, 'controversy': 966, 'bigot': 472, 'mater': 2759, 'kk': 2498, 'eat': 1402, 'ds': 1372, 'memorial': 2812, 'logo': 2643, 'negativity': 3015, 'magazine': 2695, 'afford': 92, 'cold': 849, 'symbol': 4367, 'classic': 813, 'clinton': 822, 'timothy': 4503, 'homework': 2112, 'outstanding': 3229, 'letas': 2581, 'differently': 1247, 'weight': 4822, 'height': 2047, 'nhere': 3041, 'model': 2900, 'noelle': 3087, 'entitle': 1499, 'viewpoint': 4747, 'dus': 1385, 'ac': 28, 'lethal': 2582, 'deliberately': 1168, 'andor': 189, 'park': 3264, 'fam': 1629, 'tone': 4524, 'thi': 4462, 'ethic': 1530, 'previous': 3492, 'decline': 1144, 'prefer': 3472, 'biologically': 482, 'dare': 1106, 'jim': 2420, 'byrne': 653, 'ought': 3222, 'classmate': 815, 'relationship': 3698, 'despise': 1215, 'basically': 402, 'existence': 1582, 'destine': 1217, 'fucken': 1793, 'st': 4211, 'erect': 1517, 'significance': 4057, 'youad': 4976, 'peacefully': 3307, 'deface': 1151, 'abide': 10, 'consequence': 938, 'acceptable': 32, 'elephant': 1437, 'spotlight': 4202, 'weather': 4814, 'rl': 3799, 'tony': 4527, 'timpa': 4504, 'srsly': 4210, 'golden': 1894, 'rage': 3622, 'saville': 3887, 'gospel': 1905, 'happiness': 1998, 'yiyen': 4969, 'zengin': 4994, 'aiaman': 115, 'bye': 652, 'everywhere': 1555, 'holiday': 2102, 'imo': 2229, 'chain': 732, 'roughly': 3826, 'complex': 894, 'capable': 677, 'third': 4471, 'reverse': 3757, 'breed': 588, 'exsist': 1597, 'drink': 1366, 'cash': 699, 'illegally': 2212, 'arrest': 269, 'background': 366, 'extremist': 1604, 'courageous': 1017, 'jealous': 2405, 'dole': 1329, 'meth': 2830, 'hearing': 2035, 'tiny': 4505, 'radical': 3618, 'msm': 2945, 'coverage': 1022, 'mohammed': 2903, 'el': 1425, 'cooper': 979, 'portray': 3439, 'cure': 1071, 'naomi': 2978, 'useless': 4704, 'rape': 3634, 'wealth': 4809, 'upbringing': 4690, 'relative': 3699, 'blood': 521, 'royal': 3828, 'comprehend': 899, 'greek': 1934, 'mythology': 2968, 'count': 1008, 'strike': 4279, 'demonrat': 1184, 'scott': 3914, 'distort': 1302, 'colony': 855, 'philosophy': 3361, 'inform': 2282, 'psychological': 3563, 'bone': 542, 'fashionable': 1647, 'stat': 4228, 'freely': 1778, 'available': 343, 'burger': 633, 'overall': 3231, 'bias': 467, 'encounter': 1471, 'role': 3816, 'rivas': 3795, 'robinson': 3807, 'unbelievable': 4649, 'beginning': 435, 'trend': 4580, 'former': 1748, 'judgemental': 2449, 'praise': 3462, 'interested': 2329, 'conspiracy': 942, 'theorist': 4451, 'parade': 3260, 'intervene': 2339, 'organizer': 3212, 'intention': 2326, 'starve': 4227, 'impressed': 2241, 'rant': 3632, 'hick': 2067, 'wrongly': 4936, 'rubbish': 3831, 'allivesmatter': 141, 'twitter': 4622, 'doxxe': 1355, 'churchill': 787, 'miner': 2862, 'griffith': 1944, 'eric': 1518, 'sarcasm': 3872, 'richard': 3773, 'curious': 1072, 'danversa': 1104, 'italian': 2383, 'chick': 763, 'slow': 4110, 'screw': 3918, 'nit': 3055, 'nmaybe': 3062, 'constant': 943, 'trap': 4572, 'interrupt': 2337, 'hollywood': 2104, 'pretend': 3487, 'pc': 3302, 'intellect': 2319, 'insightful': 2301, 'franco': 1769, 'jra': 2445, 'speecha': 4187, 'tooa': 4528, 'nnlike': 3071, 'nnand': 3065, 'nowhere': 3113, 'seriouslynnthis': 3975, 'ass': 296, 'yaallnnthat': 4949, 'sex': 3985, 'intimidate': 2342, 'unable': 4645, 'formulate': 1749, 'hairstyle': 1978, 'adrian': 81, 'looter': 2656, 'tagerius': 4379, 'winchester': 4878, 'arm': 261, 'canadian': 665, 'moonlight': 2915, 'intro': 2344, 'resident': 3736, 'stance': 4218, 'intolerant': 2343, 'britian': 601, 'adore': 80, 'interpretation': 2336, 'abomination': 17, 'approve': 246, 'barbie': 394, 'cheap': 753, 'intellectual': 2320, 'fund': 1804, 'harvard': 2013, 'stab': 4212, 'exaggerate': 1564, 'ja': 2389, 'victimize': 4741, 'knowitall': 2505, 'nostar': 3103, 'james': 2395, 'copy': 982, 'speech': 4186, 'shoe': 4032, 'comparison': 884, 'compare': 883, 'mum': 2955, 'boyd': 571, 'hello': 2051, 'impose': 2237, 'cruel': 1057, 'judgmental': 2450, 'ghetto': 1867, 'fallacy': 1627, 'dunno': 1384, 'corner': 987, 'dynamic': 1389, 'professor': 3527, 'lefty': 2562, 'marxism': 2744, 'covid': 1023, 'lecture': 2558, 'poll': 3430, 'radicalise': 3619, 'constitution': 945, 'foundation': 1760, 'snake': 4124, 'phony': 3364, 'vile': 4749, 'wilson': 4876, 'lebron': 2557, 'convince': 975, 'cover': 1021, 'essentially': 1524, 'texas': 4428, 'diverse': 1311, 'resist': 3738, 'japan': 2399, 'motivate': 2930, 'faith': 1623, 'infect': 2277, 'safe': 3850, 'bob': 531, 'buster': 641, 'petition': 3351, 'woah': 4899, 'twice': 4619, 'chan': 736, 'minecraft': 2861, 'block': 518, 'affect': 89, 'wwe': 4940, 'gtfo': 1952, 'earn': 1395, 'specially': 4180, 'thompson': 4474, 'define': 1157, 'battery': 407, 'famine': 1632, 'libs': 2598, 'notion': 3107, 'unique': 4670, 'responsibility': 3746, 'rap': 3633, 'collective': 851, 'guilt': 1960, 'speaker': 4178, 'stress': 4277, 'confident': 920, 'mechanical': 2799, 'develop': 1225, 'attraction': 331, 'dallas': 1088, 'isis': 2369, 'blow': 524, 'soro': 4162, 'bed': 429, 'alright': 153, 'crook': 1052, 'test': 4425, 'serpent': 3976, 'forbid': 1736, 'town': 4550, 'deem': 1149, 'critic': 1046, 'rizki': 3798, 'epidemic': 1506, 'reflection': 3678, 'throat': 4484, 'belief': 441, 'bood': 544, 'bull': 628, 'teacher': 4403, 'robotic': 3810, 'thelegend': 4446, 'chalk': 733, 'corrupt': 997, 'stunt': 4292, 'indoctrinate': 2271, 'aspect': 294, 'youth': 4982, 'shun': 4046, 'implication': 2233, 'option': 3205, 'silly': 4062, 'enforce': 1479, 'lool': 2653, 'eww': 1560, 'involvement': 2356, 'hypocrisy': 2175, 'maximum': 2776, 'complicate': 897, 'genius': 1852, 'disabled': 1261, 'disparity': 1292, 'elseas': 1447, 'stun': 4291, 'enter': 1492, 'ear': 1392, 'bored': 553, 'ground': 1948, 'follower': 1730, 'aww': 359, 'express': 1595, 'fuckin': 1795, 'jules': 2453, 'pfp': 3355, 'darryl': 1108, 'pagan': 3242, 'mcfadyen': 2784, 'illiterate': 2213, 'collins': 853, 'iv': 2387, 'rally': 3627, 'busy': 642, 'mdna': 2789, 'officially': 3172, 'wdym': 4805, 'careful': 688, 'roost': 3823, 'amuse': 178, 'undo': 4659, 'refund': 3682, 'rocket': 3813, 'private': 3510, 'atlas': 320, 'straightforward': 4268, 'mrmojoman': 2944, 'team': 4404, 'command': 868, 'grandchild': 1918, 'suprise': 4339, 'brianna': 591, 'stereotypical': 4247, 'custody': 1077, 'member': 2810, 'jail': 2394, 'corinthian': 986, 'omfg': 3184, 'dust': 1386, 'sun': 4322, 'buffalo': 624, 'soldier': 4140, 'release': 3700, 'conflict': 922, 'unicorn': 4667, 'training': 4562, 'inner': 2294, 'farce': 1640, 'elaine': 1427, 'alex': 131, 'automatically': 342, 'nnif': 3069, 'dishonest': 1283, 'nthatas': 3124, 'corruption': 998, 'coz': 1026, 'honesty': 2123, 'promise': 3536, 'ntrump': 3129, 'ig': 2201, 'pocket': 3410, 'gravois': 1929, 'ew': 1559, 'andreas': 191, 'qualified': 3591, 'versus': 4734, 'employ': 1464, 'worldwide': 4918, 'gap': 1824, 'zion': 4996, 'prepare': 3477, 'illuminati': 2216, 'card': 684, 'fort': 1750, 'tower': 4549, 'ben': 449, 'pyramid': 3589, 'massive': 2755, 'concert': 909, 'ticket': 4497, 'sale': 3856, 'sentimental': 3966, 'louder': 2668, 'dismiss': 1287, 'originate': 3218, 'counterprotest': 1011, 'propose': 3548, 'shitty': 4030, 'bubba': 619, 'heterosexuality': 2064, 'idiotic': 2196, 'rasist': 3638, 'prince': 3499, 'samee': 3860, 'oop': 3190, 'origin': 3215, 'virus': 4755, 'hoax': 2097, 'flu': 1724, 'johnny': 2430, 'prosecute': 3549, 'thx': 4494, 'arab': 249, 'yt': 4986, 'recommendation': 3671, 'scroll': 3921, 'themself': 4448, 'phobia': 3362, 'tax': 4395, 'funding': 1807, 'leta': 2580, 'zara': 4992, 'hassan': 2019, 'typically': 4626, 'universal': 4676, 'among': 174, 'fantastic': 1636, 'pit': 3384, 'rite': 3793, 'mainly': 2698, 'abolition': 16, 'clever': 819, 'plot': 3404, 'whilst': 4846, 'vast': 4727, 'refreshing': 3681, 'witch': 4892, 'rlly': 3800, 'ellen': 1443, 'large': 2527, 'inherently': 2287, 'tyrant': 4628, 'attract': 330, 'intense': 2324, 'hudson': 2154, 'birt': 485, 'dan': 1093, 'align': 135, 'aonly': 227, 'carly': 691, 'rae': 3621, 'mj': 2893, 'pertain': 3347, 'stalin': 4215, 'bury': 637, 'scanlon': 3896, 'nthanks': 3122, 'inappropriate': 2246, 'karen': 2468, 'typical': 4625, 'direction': 1256, 'constructive': 948, 'promote': 3537, 'delusion': 1170, 'systematically': 4371, 'structure': 4285, 'elaborate': 1426, 'convenient': 967, 'fyi': 1815, 'bs': 617, 'offense': 3166, 'claire': 806, 'miserable': 2875, 'dada': 1084, 'thus': 4493, 'ofc': 3162, 'hella': 2050, 'backlash': 367, 'fbi': 1661, 'scandal': 3895, 'mainstream': 2699, 'expert': 1589, 'bame': 382, 'hum': 2160, 'indigo': 2268, 'sensitive': 3963, 'correctness': 996, 'jeff': 2408, 'jordan': 2438, 'ing': 2285, 'psalm': 3560, 'affront': 93, 'ingredient': 2286, 'green': 1935, 'milis': 2847, 'sa': 3842, 'seomra': 3967, 'spraoi': 4204, 'boomer': 549, 'goingto': 1892, 'op': 3191, 'brook': 607, 'armed': 262, 'brutal': 613, 'isnt': 2374, 'adam': 63, 'eve': 1542, 'affirmative': 91, 'victimhood': 4740, 'politics': 3428, 'everytime': 1554, 'empire': 1463, 'disguise': 1280, 'warfare': 4787, 'creator': 1034, 'witchcraft': 4893, 'derek': 1202, 'spirit': 4195, 'aaron': 4, 'lehman': 2572, 'vo': 4760, 'jk': 2422, 'impressive': 2243, 'colonial': 854, 'globe': 1884, 'financial': 1695, 'linda': 2615, 'unlike': 4682, 'impoverish': 2239, 'sacred': 3845, 'deed': 1148, 'neighborhood': 3017, 'jerk': 2413, 'architect': 252, 'truthful': 4604, 'subtitle': 4302, 'portuguese': 3440, 'boat': 530, 'em': 1448, 'hm': 2095, 'inzodda': 2357, 'destructive': 1220, 'hmm': 2096, 'barack': 392, 'office': 3169, 'administration': 70, 'economy': 1405, 'prior': 3503, 'mana': 2713, 'originally': 3217, 'aman': 161, 'boya': 569, 'translation': 4570, 'thay': 4440, 'failure': 1618, 'shepard': 4018, 'moon': 2914, 'web': 4816, 'emoji': 1456, 'emperor': 1461, 'tourr': 4545, 'nblack': 3000, 'belive': 444, 'needlessly': 3013, 'invalidate': 2349, 'horrific': 2138, 'hahahaha': 1971, 'birthday': 487, 'tolerate': 4518, 'text': 4429, 'erm': 1519, 'loving': 2675, 'bollock': 539, 'nhow': 3042, 'cingulus': 789, 'atleast': 321, 'excited': 1573, 'kitchen': 2496, 'shy': 4048, 'scar': 3897, 'grab': 1911, 'shine': 4025, 'shadow': 3994, 'regret': 3687, 'quiz': 3604, 'measure': 2796, 'ff': 1681, 'grandfather': 1919, 'moore': 2916, 'billionaire': 478, 'corporation': 991, 'smh': 4119, 'riviera': 3797, 'indicate': 2266, 'biden': 470, 'yearsa': 4960, 'trully': 4599, 'killer': 2486, 'breonna': 589, 'nif': 3051, 'deflect': 1161, 'plastic': 3396, 'feature': 1665, 'gee': 1838, 'tantrum': 4390, 'bandit': 386, 'deceive': 1137, 'takeover': 4382, 'greet': 1936, 'candelario': 671, 'congrat': 928, 'governor': 1908, 'farage': 1639, 'kimmel': 2489, 'worthless': 4925, 'sack': 3844, 'friendly': 1785, 'undermine': 4655, 'permit': 3336, 'offer': 3168, 'naturally': 2994, 'temple': 4416, 'materia': 2760, 'asians': 291, 'agreement': 110, 'double': 1351, 'solo': 4143, 'potential': 3450, 'motivation': 2931, 'hitora': 2094, 'anime': 202, 'anarchist': 184, 'belly': 446, 'empty': 1469, 'attend': 327, 'excessive': 1571, 'ill': 2210, 'agnostic': 106, 'merely': 2823, 'stephen': 4245, 'encouragement': 1473, 'theherpes': 4445, 'lonnie': 2651, 'stevens': 4252, 'appose': 242, 'worried': 4920, 'sauce': 3882, 'de': 1123, 'bird': 484, 'heas': 2039, 'wage': 4775, 'infiltrate': 2279, 'boycott': 570, 'sherif': 4019, 'naive': 2973, 'apparently': 235, 'spout': 4203, 'asia': 289, 'generational': 1849, 'overcome': 3232, 'lynn': 2684, 'gaslight': 1830, 'stanford': 4221, 'wasnt': 4796, 'pity': 3386, 'twat': 4617, 'shakeel': 3996, 'mankind': 2721, 'explanation': 1591, 'extract': 1601, 'era': 1515, 'superiority': 4328, 'zoldyk': 4997, 'ndo': 3005, 'tragedy': 4559, 'paper': 3258, 'wich': 4863, 'carson': 695, 'theory': 4452, 'declaration': 1142, 'independence': 2261, 'agent': 103, 'rely': 3705, 'fuk': 1799, 'arnt': 265, 'artifact': 279, 'unapologetically': 4646, 'powerful': 3455, 'reference': 3676, 'gf': 1863, 'tyler': 4623, 'performance': 3329, 'audience': 334, 'splash': 4197, 'ton': 4523, 'heh': 2046, 'multidarkzen': 2953, 'thin': 4466, 'pawn': 3298, 'sanchez': 3864, 'joshua': 2441, 'fernandes': 1677, 'brazil': 583, 'ad': 62, 'yamigajw': 4952, 'nnwhen': 3082, 'rwanda': 3840, 'critical': 1047, 'loss': 2663, 'patient': 3289, 'healthy': 2033, 'lavin': 2542, 'antizionist': 217, 'israel': 2376, 'bd': 413, 'gezinterhayt': 1862, 'season': 3928, 'transgender': 4568, 'representative': 3725, 'dilute': 1253, 'sing': 4074, 'gaga': 1816, 'zimbabwe': 4995, 'bailey': 376, 'actress': 59, 'mouse': 2934, 'concerned': 908, 'tooth': 4530, 'hasnat': 2018, 'outta': 3230, 'elder': 1428, 'frank': 1770, 'pas': 3277, 'beautifully': 421, 'sow': 4171, 'accountable': 39, 'commenter': 873, 'whereas': 4843, 'grief': 1941, 'hall': 1981, 'disease': 1277, 'merit': 2824, 'nlook': 3061, 'explode': 1592, 'teen': 4411, 'economic': 1404, 'farm': 1641, 'tv': 4616, 'entertain': 1493, 'bind': 480, 'condescend': 913, 'prioritize': 3504, 'germany': 1859, 'seduce': 3939, 'attempt': 326, 'debunk': 1134, 'lincoln': 2614, 'crimminal': 1043, 'norman': 3099, 'north': 3100, 'charles': 748, 'execute': 1577, 'gold': 1893, 'terrorism': 4423, 'helpful': 2053, 'principle': 3501, 'nthey': 3126, 'manifesto': 2718, 'lyon': 2685, 'ironically': 2364, 'november': 3111, 'creation': 1032, 'finance': 1694, 'labrae': 2518, 'worldly': 4917, 'suddenly': 4310, 'matternall': 2769, 'educated': 1410, 'randall': 3629, 'agender': 102, 'sincerely': 4072, 'powerless': 3456, 'ally': 143, 'ideal': 2189, 'everybodyas': 1550, 'bow': 566, 'bio': 481, 'nso': 3119, 'flip': 1716, 'necessary': 3009, 'supply': 4330, 'technical': 4407, 'prevail': 3489, 'francesca': 1768, 'opposite': 3197, 'effect': 1415, 'subscribe': 4299, 'divisive': 1316, 'levi': 2586, 'optimistic': 3204, 'jade': 2393, 'criticize': 1050, 'ricky': 3775, 'kocijancic': 2508, 'entitlement': 1500, 'owe': 3236, 'subdue': 4297, 'irony': 2365, 'downplay': 1353, 'hernandez': 2060, 'grandma': 1920, 'satanic': 3878, 'spike': 4192, 'nazi': 2997, 'architecture': 253, 'cancer': 669, 'idgaf': 2193, 'abhorrent': 9, 'marry': 2737, 'romantic': 3819, 'compassion': 885, 'gravity': 1928, 'pilot': 3377, 'plane': 3392, 'petroleum': 3353, 'nthat': 3123, 'booka': 547, 'madge': 2692, 'signal': 4056, 'desperate': 1212, 'bush': 639, 'toss': 4539, 'canal': 666, 'smile': 4120, 'average': 344, 'murican': 2958, 'official': 3171, 'constitutional': 946, 'shawn': 4008, 'majano': 2701, 'imma': 2223, 'perry': 3338, 'joint': 2434, 'taco': 4375, 'gaming': 1820, 'eh': 1423, 'misleading': 2879, 'werenat': 4829, 'heartless': 2038, 'oppressed': 3200, 'goldie': 1895, 'silver': 4063, 'best': 460, 'han': 1986, 'misunderstand': 2889, 'pig': 3374, 'blanket': 506, 'fry': 1790, 'bacon': 369, 'polite': 3423, 'incompetent': 2254, 'competent': 888, 'pet': 3348, 'quiet': 3601, 'partner': 3275, 'marko': 2734, 'vujovic': 4771, 'straw': 4273, 'size': 4088, 'outfit': 3225, 'ia': 2178, 'orleans': 3219, 'obsessed': 3152, 'paver': 3297, 'maintain': 2700, 'review': 3758, 'schmidt': 3904, 'arizona': 260, 'chris': 779, 'joey': 2427, 'lion': 2618, 'un': 4644, 'literal': 2622, 'inman': 2293, 'depression': 1199, 'ptsd': 3566, 'uni': 4666, 'atheyare': 315, 'votesa': 4769, 'observation': 3150, 'hiraeth': 2085, 'ink': 2292, 'blottedsoul': 523, 'victoria': 4742, 'louis': 2669, 'terrify': 4421, 'traffic': 4558, 'thoughtful': 4478, 'nstop': 3120, 'spatial': 4175, 'graduation': 1916, 'athe': 311, 'upa': 4689, 'ali': 132, 'knight': 2502, 'nno': 3073, 'reminder': 3709, 'pat': 3284, 'fucktard': 1797, 'defund': 1162, 'metaphor': 2828, 'fucker': 1794, 'pistol': 3383, 'correctly': 995, 'ireland': 2361, 'gunpoint': 1965, 'martyr': 2742, 'grill': 1945, 'wildfire': 4869, 'portion': 3438, 'multicultural': 2952, 'communism': 879, 'discover': 1271, 'millennial': 2850, 'thorpe': 4475, 'punchable': 3573, 'broken': 605, 'sham': 3999, 'weave': 4815, 'deliver': 1169, 'idolize': 2199, 'weekend': 4821, 'bash': 400, 'civilian': 800, 'significant': 4058, 'briton': 603, 'kingdom': 2494, 'nationwide': 2990, 'statute': 4237, 'contribute': 962, 'atlantic': 318, 'kabbalah': 2465, 'freemason': 1779, 'account': 37, 'bank': 389, 'balance': 378, 'shock': 4031, 'series': 3972, 'payer': 3300, 'nnso': 3077, 'rhetoric': 3766, 'generalization': 1845, 'wheel': 4838, 'masseuse': 2754, 'cis': 793, 'empathy': 1460, 'plague': 3389, 'amendment': 168, 'conduct': 916, 'cuase': 1063, 'envy': 1504, 'fran': 1766, 'blake': 502, 'eloise': 1445, 'garden': 1827, 'particularly': 3273, 'rent': 3714, 'loan': 2634, 'profile': 3528, 'pantry': 3256, 'apartheid': 229, 'warning': 4790, 'table': 4374, 'nwhy': 3139, 'shove': 4043, 'firsthand': 1704, 'perpetuate': 3337, 'pussy': 3586, 'burst': 636, 'profitable': 3531, 'dna': 1318, 'stratford': 4272, 'antique': 216, 'anytime': 222, 'noah': 3083, 'athatas': 310, 'closed': 825, 'narrow': 2982, 'pointed': 3413, 'digital': 1251, 'designer': 1210, 'bigote': 473, 'stock': 4258, 'embrace': 1452, 'proceed': 3520, 'animal': 201, 'imagination': 2220, 'environment': 1502, 'mason': 2749, 'crowd': 1054, 'jonathan': 2436, 'ross': 3825, 'warn': 4789, 'merchant': 2821, 'latin': 2534, 'nnot': 3075, 'poland': 3417, 'defensive': 1156, 'cult': 1066, 'leg': 2563, 'priest': 3497, 'poster': 3448, 'separate': 3968, 'secondly': 3933, 'silicon': 4061, 'kelly': 2477, 'lopez': 2658, 'establish': 1525, 'nnwhat': 3081, 'morning': 2921, 'bigotry': 474, 'surely': 4341, 'foreign': 1740, 'worker': 4913, 'inclusion': 2250, 'forgiveness': 1746, 'priceless': 3494, 'exchange': 1572, 'nwhat': 3137, 'rioting': 3788, 'bastard': 405, 'sober': 4128, 'hip': 2083, 'andrew': 193, 'fu': 1791, 'bloke': 519, 'alternative': 156, 'dig': 1250, 'pipe': 3381, 'patriarchy': 3290, 'celebration': 718, 'rehabilitation': 3691, 'hardcore': 2003, 'ferguson': 1676, 'necessarily': 3008, 'ashxr': 288, 'benchekroun': 450, 'appeal': 236, 'observe': 3151, 'utube': 4712, 'pete': 3349, 'revisionism': 3759, 'sicken': 4051, 'ungrateful': 4665, 'footage': 1735, 'untrue': 4688, 'fabricate': 1608, 'presidential': 3483, 'sweep': 4362, 'billboard': 477, 'fresh': 1781, 'preach': 3466, 'cater': 707, 'safety': 3852, 'hunt': 2169, 'patriotic': 3293, 'educational': 1412, 'roblox': 3808, 'wheeler': 4840, 'pepsi': 3320, 'ship': 4026, 'israelite': 2378, 'africans': 97, 'mee': 2803, 'occur': 3156, 'employment': 1467, 'contraversial': 961, 'sellout': 3955, 'occasion': 3155, 'racially': 3613, 'yip': 4968, 'peer': 3311, 'meaningless': 2794, 'dosent': 1347, 'asshole': 298, 'elm': 1444, 'discriminatory': 1274, 'chop': 778, 'disable': 1260, 'despite': 1216, 'cobb': 841, 'bachelor': 364, 'improve': 2244, 'hahaha': 1970, 'escape': 1521, 'singe': 4075, 'minimum': 2864, 'melanin': 2808, 'xbrownskinangelx': 4942, 'update': 4691, 'active': 54, 'harrison': 2010, 'carl': 690, 'kahlo': 2467, 'tattoo': 4394, 'noble': 3085, 'copper': 981, 'ccp': 714, 'unarmed': 4648, 'ounce': 3223, 'fill': 1687, 'ratio': 3641, 'festival': 1679, 'kris': 2513, 'memory': 2814, 'freak': 1774, 'anthony': 213, 'savvy': 3890, 'horizon': 2134, 'beach': 415, 'girla': 1871, 'gonzalez': 1898, 'atherapya': 314, 'taxis': 4397, 'summer': 4321, 'grace': 1912, 'permanently': 3334, 'guinness': 1962, 'brand': 578, 'sudden': 4309, 'silent': 4060, 'generally': 1847, 'ethiopia': 1531, 'nwo': 3140, 'band': 385, 'wagon': 4776, 'nicholas': 3049, 'glasgow': 1879, 'william': 4871, 'bo': 527, 'duh': 1376, 'purely': 3578, 'emily': 1454, 'foster': 1758, 'favour': 1658, 'cackle': 654, 'discourage': 1270, 'jacket': 2391, 'closer': 827, 'ashton': 287, 'levry': 2588, 'poverty': 3452, 'theyall': 4459, 'trading': 4556, 'enthusiastic': 1495, 'laurencya': 2541, 'nhe': 3039, 'sand': 3865, 'brutalize': 615, 'identity': 2191, 'san': 3863, 'hail': 1973, 'gangster': 1823, 'wether': 4832, 'heather': 2041, 'removal': 3712, 'corgi': 985, 'resign': 3737, 'yah': 4950, 'istanbul': 2381, 'contradictory': 959, 'commie': 875, 'wherever': 4844, 'spring': 4207, 'nom': 3089, 'nshe': 3118, 'bbm': 411, 'beckett': 425, 'ngongo': 3038, 'qualification': 3590, 'communicate': 878, 'bodily': 533, 'cousin': 1020, 'internalize': 2332, 'polar': 3418, 'cheer': 755, 'deg': 1163, 'tyrone': 4629, 'split': 4198, 'fav': 1655, 'darci': 1105, 'note': 3104, 'willing': 4873, 'nkeep': 3057, 'priority': 3505, 'flame': 1712, 'samurai': 3862, 'vegan': 4729, 'cruelty': 1058, 'australian': 338, 'wth': 4938, 'shed': 4013, 'county': 1014, 'pre': 3465, 'meme': 2811, 'harder': 2004, 'elementary': 1436, 'lolol': 2646, 'kabal': 2464, 'sexualise': 3989, 'subvert': 4303, 'bond': 541, 'atheistic': 313, 'abhorr': 8, 'nbowie': 3002, 'material': 2761, 'angulo': 200, 'buck': 621, 'crack': 1027, 'incoming': 2253, 'dd': 1122, 'spare': 4174, 'rod': 3814, 'slight': 4106, 'calendar': 657, 'dang': 1096, 'grandmother': 1921, 'abolish': 15, 'sweden': 4360, 'fade': 1616, 'talkin': 4386, 'tyranny': 4627, 'howard': 2151, 'trigg': 4587, 'september': 3971, 'hostile': 2144, 'bang': 388, 'democrats': 1179, 'donna': 1340, 'damaging': 1091, 'distract': 1303, 'proportion': 3547, 'criticism': 1049, 'thankfully': 4435, 'healthcare': 2032, 'housing': 2150, 'lame': 2524, 'bandwagon': 387, 'technology': 4409, 'boundary': 564, 'adopt': 78, 'er': 1514, 'medical': 2801, 'reject': 3694, 'fentanyl': 1675, 'jan': 2397, 'barely': 395, 'throughout': 4486, 'simpleton': 4067, 'smollett': 4123, 'drone': 1369, 'van': 4721, 'almen': 145, 'goofy': 1901, 'sew': 3984, 'mattersa': 2772, 'pixie': 3387, 'film': 1689, 'israeli': 2377, 'atkinson': 316, 'reform': 3679, 'imaginary': 2219, 'pleasure': 3402, 'sean': 3926, 'andy': 195, 'men': 2815, 'vos': 4766, 'ghana': 1865, 'tucker': 4609, 'glass': 1880, 'nwho': 3138, 'republicans': 3729, 'stfu': 4254, 'thrive': 4483, 'asurvivora': 307, 'weapon': 4811, 'maui': 2775, 'representation': 3724, 'alahna': 127, 'investigate': 2353, 'atm': 322, 'visible': 4756, 'politically': 3426, 'respectable': 3741, 'cmon': 836, 'faux': 1654, 'chaplin': 743, 'greatness': 1932, 'alien': 134, 'becuase': 428, 'mc': 2781, 'fortnut': 1753, 'do': 1320, 'petty': 3354, 'dank': 1101, 'hurtful': 2171, 'congress': 930, 'happily': 1997, 'jessup': 2416, 'specify': 4184, 'distance': 1300, 'inevitable': 2276, 'village': 4750, 'parliament': 3265, 'info': 2281, 'traditional': 4557, 'wholesome': 4857, 'emotion': 1457, 'sport': 4200, 'sweat': 4358, 'painful': 3245, 'hat': 2020, 'fernandez': 1678, 'courage': 1016, 'pronounce': 3538, 'crash': 1029, 'saturday': 3881, 'sunday': 4323, 'endless': 1475, 'correction': 994, 'furry': 1811, 'nplease': 3115, 'guideline': 1958, 'enable': 1470, 'untill': 4687, 'jay': 2404, 'nina': 3054, 'confederate': 918, 'youall': 4977, 'turner': 4614, 'fairly': 1620, 'instance': 2309, 'restore': 3749, 'noh': 3088, 'amazingly': 164, 'spine': 4194, 'bray': 582, 'assign': 299, 'atooa': 323, 'hiho': 2072, 'sebastian': 3930, 'awakening': 348, 'someday': 4147, 'legally': 2566, 'boi': 537, 'bobster': 532, 'comfort': 866, 'bf': 465, 'psst': 3561, 'textbook': 4430, 'production': 3523, 'outrage': 3227, 'surprised': 4345, 'asexual': 285, 'pause': 3296, 'dheas': 1231, 'exercise': 1578, 'thinker': 4469, 'yusuf': 4988, 'track': 4553, 'analyst': 182, 'strip': 4280, 'monster': 2910, 'misunderstanding': 2890, 'unemployed': 4661, 'fruit': 1787, 'duck': 1373, 'gate': 1832, 'tamir': 4388, 'rice': 3771, 'upload': 4692, 'foot': 1734, 'awake': 347, 'indiana': 2265, 'unjust': 4679, 'quickly': 3600, 'initial': 2289, 'whine': 4847, 'firm': 1702, 'lawyer': 2545, 'jenny': 2411, 'susan': 4350, 'spectrum': 4185, 'aro': 266, 'disadvantage': 1262, 'ex': 1561, 'derp': 1204, 'judicial': 2451, 'killing': 2487, 'shenanigan': 4017, 'island': 2372, 'devisive': 1228, 'penalty': 3314, 'harris': 2009, 'closely': 826, 'direct': 1255, 'whiny': 4848, 'unsubscribed': 4685, 'vandal': 4722, 'neven': 3029, 'round': 3827, 'marty': 2741, 'mic': 2835, 'np': 3114, 'declare': 1143, 'cee': 716, 'admiration': 73, 'barker': 397, 'logically': 2642, 'wild': 4868, 'pack': 3241, 'ottoman': 3221, 'lime': 2612, 'informative': 2284, 'shane': 4002, 'derpvaxxer': 1205, 'jog': 2428, 'lockhart': 2639, 'eliminate': 1440, 'knutson': 2507, 'misconception': 2873, 'uniral': 4671, 'carol': 692, 'danvers': 1103, 'electrical': 1433, 'ricardo': 3770, 'glory': 1886, 'darwin': 1109, 'republic': 3727, 'robbery': 3805, 'anna': 203, 'dehumanize': 1166, 'harbour': 2001, 'tonight': 4526, 'undervalue': 4658, 'maddie': 2691, 'slack': 4095, 'stomp': 4261, 'indigenous': 2267, 'humor': 2164, 'tend': 4417, 'absurd': 24, 'creep': 1038, 'selassie': 3948, 'eachother': 1390, 'slap': 4098, 'citation': 794, 'institutional': 2315, 'cummings': 1069, 'crisis': 1045, 'predator': 3469, 'intersex': 2338, 'facist': 1612, 'soviet': 4170, 'union': 4669, 'arnold': 264, 'dummy': 1380, 'attractive': 332, 'rig': 3781, 'nedit': 3011, 'beast': 418, 'sinister': 4078, 'historically': 2090, 'tommy': 4521, 'legitimate': 2569, 'hungry': 2168, 'sirrus': 4082, 'noone': 3094, 'depreciate': 1197, 'trick': 4586, 'snowflake': 4125, 'aisle': 121, 'mini': 2863, 'suspicious': 4354, 'purity': 3580, 'lgbtqia': 2592, 'eu': 1536, 'fourth': 1762, 'inferior': 2278, 'iran': 2359, 'mp': 2940, 'blindly': 515, 'selena': 3950, 'briefly': 594, 'zack': 4990, 'thayer': 4441, 'believer': 443, 'aps': 248, 'walmart': 4782, 'mole': 2904, 'upper': 4694, 'narcissist': 2979, 'allah': 139, 'fraud': 1772, 'categorize': 706, 'forest': 1742, 'tout': 4546, 'freek': 1777, 'eternity': 1529, 'torment': 4534, 'olive': 3181, 'multi': 2951, 'homeless': 2110, 'disprove': 1296, 'lunch': 2680, 'maas': 2686, 'differ': 1244, 'divorce': 1317, 'lorenna': 2660, 'slaughter': 4099, 'nationalism': 2987, 'dpsdps': 1357, 'cap': 675, 'tactic': 4376, 'elijah': 1439, 'success': 4305, 'reid': 3692, 'bread': 584, 'basket': 404, 'ish': 2367, 'statistically': 4233, 'print': 3502, 'yank': 4953, 'electronic': 1434, 'approach': 244, 'enlighten': 1488, 'usual': 4707, 'august': 335, 'york': 4974, 'whoa': 4853, 'helicopter': 2048, 'district': 1306, 'grass': 1925, 'intend': 2323, 'statment': 4234, 'periodt': 3333, 'gat': 1831, 'suppress': 4336, 'freshman': 1782, 'senior': 3961, 'sabbath': 3843, 'wouldave': 4928, 'denmark': 1190, 'titus': 4510, 'egg': 1419, 'immunity': 2228, 'conform': 923, 'gather': 1833, 'problematic': 3519, 'pr': 3459, 'nlike': 3059, 'centre': 726, 'popular': 3435, 'penis': 3315, 'cetinkaya': 731, 'disproportionately': 1295, 'italy': 2384, 'invade': 2347, 'andres': 192, 'achievement': 45, 'trendy': 4581, 'bright': 595, 'unrest': 4684, 'contention': 953, 'civilization': 802, 'henderson': 2055, 'contact': 950, 'tron': 4592, 'blazy': 508, 'beneficial': 452, 'sooner': 4159, 'condition': 914, 'respectfully': 3743, 'tryin': 4606, 'deceit': 1136, 'pearn': 3308, 'harper': 2008, 'colored': 857, 'comme': 870, 'utterly': 4711, 'assistance': 301, 'amazon': 165, 'klan': 2499, 'muscle': 2959, 'concentrate': 904, 'paradigm': 3261, 'thedargon': 4443, 'sight': 4054, 'disappear': 1264, 'tribal': 4584, 'gang': 1822, 'savvakhs': 3889, 'cherokee': 760, 'scam': 3894, 'affiliate': 90, 'troop': 4593, 'horrendous': 2135, 'cage': 655, 'arrive': 271, 'maria': 2727, 'botina': 560, 'nra': 3116, 'launder': 2539, 'prisonnso': 3508, 'giuliani': 1874, 'lev': 2584, 'parnas': 3266, 'igore': 2205, 'fruman': 1788, 'stack': 4213, 'ron': 3821, 'manna': 2722, 'maker': 2705, 'scum': 3922, 'instruction': 2316, 'tory': 4537, 'makeup': 2706, 'contrary': 960, 'edgy': 1406, 'waterloo': 4801, 'enoch': 1489, 'powell': 3453, 'gentleman': 1854, 'ye': 4955, 'trophy': 4594, 'jun': 2456, 'sandwich': 3869, 'hussein': 2173, 'oppressive': 3202, 'curly': 1073, 'condone': 915, 'trial': 4582, 'eagle': 1391, 'heavily': 2043, 'variety': 4725, 'data': 1112, 'frankly': 1771, 'toilet': 4514, 'insight': 2300, 'apologize': 232, 'tension': 4418, 'brainwashed': 577, 'definite': 1158, 'foolish': 1733, 'workforce': 4914, 'appearance': 238, 'sympathy': 4368, 'troy': 4596, 'diamond': 1233, 'nyc': 3141, 'prisoner': 3507, 'fashion': 1646, 'counterpart': 1010, 'scotland': 3913, 'lilyx': 2611, 'nosferatu': 3102, 'distroy': 1307, 'micheal': 2837, 'poc': 3409, 'christmas': 783, 'thanks': 4436, 'deport': 1196, 'guard': 1954, 'purchase': 3576, 'fck': 1662, 'boet': 535, 'gg': 1864, 'accusation': 41, 'reservation': 3735, 'item': 2386, 'proper': 3543, 'prophet': 3546, 'challenge': 734, 'lauper': 2540, 'creepy': 1039, 'oml': 3186, 'punch': 3572, 'gem': 1841, 'lbj': 2549, 'disobey': 1289, 'baphomet': 391, 'sophomore': 4161, 'womena': 4905, 'talent': 4384, 'bridgesa': 593, 'nnoh': 3074, 'regulator': 3690, 'becouse': 427, 'elevator': 1438, 'flaw': 1714, 'societal': 4132, 'lalala': 2523, 'feminine': 1672, 'via': 4736, 'academic': 29, 'conclude': 910, 'heal': 2029, 'heck': 2045, 'gon': 1897, 'frickin': 1783, 'toxic': 4551, 'ball': 379, 'coen': 845, 'radio': 3620, 'announce': 206, 'derogatory': 1203, 'pimp': 3378, 'nnthis': 3079, 'blunt': 526, 'nhs': 3043, 'revolt': 3760, 'ultimate': 4639, 'nlol': 3060, 'microaggression': 2839, 'retweet': 3755, 'salty': 3857, 'rebel': 3660, 'boyfriend': 572, 'niam': 3045, 'catalyst': 704, 'religiously': 3704, 'gta': 1951, 'manage': 2714, 'tweet': 4618, 'earlier': 1393, 'presumably': 3486, 'aplantation': 230, 'politicsa': 3429, 'heat': 2040, 'furth': 1812, 'mid': 2840, 'sink': 4079, 'par': 3259, 'plead': 3400, 'suspect': 4351, 'doty': 1350, 'whitaker': 4850, 'labor': 2516, 'fighter': 1685, 'outcome': 3224, 'underclass': 4653, 'corporeal': 992, 'experiment': 1588, 'capitol': 681, 'criticise': 1048, 'hooligan': 2131, 'forth': 1751, 'fr': 1764, 'relatable': 3695, 'discount': 1269, 'civilized': 803, 'spray': 4205, 'yoo': 4973, 'androgynous': 194, 'hence': 2054, 'aita': 122, 'maggie': 2696, 'sayin': 3892, 'handful': 1988, 'compete': 887, 'ofabooste': 3161, 'samuel': 3861, 'arse': 273, 'homie': 2113, 'gandhi': 1821, 'mohamed': 2902, 'eminem': 1455, 'deadly': 1125, 'testimony': 4427, 'scenario': 3901, 'bait': 377, 'theyave': 4461, 'reynolds': 3765, 'harmful': 2007, 'sexy': 3992, 'willnif': 4874, 'willnit': 4875, 'excel': 1568, 'applaud': 239, 'atlantismystic': 319, 'dorn': 1345, 'captain': 682, 'blatant': 507, 'subscriber': 4300, 'vomit': 4765, 'cancel': 668, 'girly': 1873, 'woe': 4900, 'starseed': 4225, 'bud': 622, 'disproportionate': 1294, 'grandparent': 1922, 'vanesa': 4724, 'yeet': 4961, 'cringe': 1044, 'user': 4705, 'mk': 2894, 'ultra': 4641, 'contract': 957, 'repress': 3726, 'nnmy': 3072, 'strive': 4282, 'diversity': 1312, 'exam': 1566, 'disgusting': 1282, 'edit': 1407, 'guo': 1966, 'retarded': 3752, 'alongside': 150, 'champ': 735, 'burden': 632, 'minded': 2857, 'molyneux': 2906, 'duty': 1387, 'mythological': 2967, 'disorder': 1290, 'launch': 2538, 'iconic': 2185, 'affair': 88, 'cretin': 1040, 'arsehole': 274, 'riddance': 3777, 'implement': 2232, 'duncan': 1383, 'dealer': 1128, 'gorge': 1903, 'wee': 4818, 'grave': 1927, 'tan': 4389, 'nblm': 3001, 'phil': 3358, 'mckracken': 2786, 'nazis': 2998, 'campbell': 663, 'joseph': 2439, 'divine': 1314, 'default': 1152, 'foreigner': 1741, 'misogynist': 2881, 'nancy': 2976, 'pelosi': 3312, 'slang': 4097, 'uae': 4630, 'libtard': 2599, 'fly': 1726, 'childish': 768, 'superficial': 4326, 'frustrate': 1789, 'coworker': 1025, 'employee': 1465, 'repulsive': 3730, 'congressional': 931, 'progressive': 3534, 'effectively': 1417, 'emilee': 1453, 'sola': 4139, 'colubrum': 861, 'float': 1717, 'traitor': 4564, 'hound': 2146, 'mattern': 2768, 'harry': 2011, 'handler': 1990, 'debt': 1133, 'app': 234, 'pork': 3437, 'secretly': 3936, 'psychopath': 3565, 'fa': 1606, 'seperate': 3970, 'rival': 3794, 'brush': 612, 'meal': 2790, 'catholicism': 710, 'instigate': 2312, 'admirable': 71, 'novel': 3110, 'firefighter': 1701, 'wrinkle': 4932, 'conceal': 902, 'victory': 4743, 'haile': 1974, 'transsexual': 4571, 'indirectly': 2269, 'aunt': 336, 'uncle': 4651, 'littler': 2626, 'stretch': 4278, 'semitic': 3958, 'misspell': 2885, 'tian': 4496, 'dey': 1230, 'dc': 1121, 'blade': 500, 'dodge': 1324, 'hairy': 1979, 'neo': 3022, 'flower': 1720, 'weirdo': 4824, 'chemistry': 758, 'bravo': 581, 'regime': 3686, 'faster': 1649, 'loll': 2645, 'sock': 4135, 'solely': 4141, 'jo': 2423, 'rescue': 3733, 'lobby': 2635, 'sleeve': 4105, 'ck': 804, 'evening': 1544, 'strategy': 4271, 'theherpe': 4444, 'mulenga': 2950, 'deception': 1139, 'indoctrination': 2272, 'ditch': 1309, 'minalinsky': 2855, 'sway': 4356, 'ultimately': 4640, 'zach': 4989, 'sterilization': 4248, 'joe': 2426, 'royalty': 3829, 'niece': 3050, 'selective': 3949, 'downvote': 1354, 'sweetheart': 4364, 'prevalent': 3490, 'gamer': 1819, 'wisdom': 4888, 'jealousy': 2406, 'kenny': 2479, 'yay': 4954, 'inherit': 2288, 'mcleod': 2787, 'vagina': 4715, 'productive': 3524, 'artwork': 281, 'chuckle': 784, 'establishment': 1526, 'netherlands': 3026, 'narcissistic': 2980, 'grey': 1940, 'awe': 353, 'speach': 4176, 'somewhat': 4153, 'incite': 2248, 'fk': 1710, 'bxndit': 651, 'revelation': 3756, 'rocco': 3811, 'cocoa': 842, 'butter': 646, 'jussie': 2459, 'racista': 3616, 'cherry': 761, 'spin': 4193, 'ffs': 1682, 'dept': 1200, 'meeting': 2805, 'castellanos': 701, 'journalist': 2442, 'permission': 3335, 'meat': 2797, 'utopia': 4709, 'geek': 1839, 'zackary': 4991, 'atlanta': 317, 'recall': 3662, 'cartel': 696, 'clip': 823, 'wit': 4891, 'detention': 1222, 'shooting': 4034, 'tight': 4499, 'miserably': 2876, 'dpsdpsdps': 1358, 'regular': 3688, 'nget': 3035, 'malaysia': 2708, 'selve': 3956, 'alt': 155, 'robert': 3806, 'holler': 2103, 'reward': 3763, 'chart': 750, 'technically': 4408, 'handout': 1991, 'psychic': 3562, 'editor': 1408, 'invest': 2352, 'profession': 3525, 'spoil': 4199, 'rank': 3631, 'colosseum': 858, 'hol': 2098, 'performer': 3330, 'beware': 462, 'census': 723, 'vital': 4759, 'error': 1520, 'nerd': 3023, 'trait': 4563, 'islamic': 2371, 'dedicated': 1146, 'pin': 3379, 'urself': 4700, 'gr': 1910, 'worshipper': 4923, 'anot': 209, 'decrease': 1145, 'stoke': 4259, 'disturb': 1308, 'organ': 3207, 'heroas': 2062, 'sharp': 4005, 'karma': 2470, 'convey': 972, 'lgbttq': 2593, 'brutally': 616, 'amongst': 175, 'expendable': 1586, 'introduce': 2345, 'democratically': 1178, 'gathering': 1834, 'vigorito': 4748, 'dot': 1349, 'dose': 1346, 'hamster': 1985, 'thier': 4464, 'hern': 2059, 'happend': 1996, 'autistic': 340, 'exhibit': 1580, 'med': 2800, 'settle': 3981, 'rick': 3774, 'connie': 934, 'schuiling': 3908, 'prob': 3516, 'blackmail': 499, 'popcorn': 3434, 'fixate': 1709, 'controln': 964, 'desperately': 1213, 'impartial': 2231, 'coincidence': 848, 'gump': 1963, 'fairness': 1621, 'satanist': 3879, 'savile': 3886, 'asain': 283, 'barbara': 393, 'jeffrey': 2409, 'beaver': 423, 'redefine': 3674, 'opposition': 3198, 'surgeon': 4342, 'geez': 1840, 'stefan': 4241, 'daniel': 1099, 'shaver': 4007, 'shead': 4010, 'pedophile': 3309, 'positivity': 3444, 'score': 3912, 'witty': 4897, 'yrs': 4985, 'misnomer': 2880, 'nic': 3047, 'dope': 1344, 'effective': 1416, 'disrupt': 1299, 'cup': 1070, 'host': 2143, 'wym': 4941, 'unfairly': 4663, 'stargate': 4223, 'pattyy': 3294, 'distressed': 1305, 'polish': 3422, 'upside': 4697, 'hijab': 2073, 'exhaust': 1579, 'parenthood': 3263, 'braid': 573, 'hamilton': 1983, 'sleepy': 4104, 'riight': 3785, 'jenner': 2410, 'forum': 1756, 'rodney': 3815, 'concentration': 905, 'atrocity': 324, 'pigment': 3375, 'absent': 21, 'jule': 2452, 'reflect': 3677, 'awhat': 356, 'closeta': 829, 'yearly': 4959, 'acome': 49, 'yknow': 4971, 'biased': 468, 'documentary': 1323, 'madame': 2690, 'booing': 545, 'surrender': 4346, 'sandberg': 3866, 'prick': 3495, 'fairy': 1622, 'adonat': 77, 'peacefull': 3306, 'bold': 538, 'highlight': 2070, 'valley': 4717, 'dickhead': 1236, 'earthling': 1397, 'oxymoron': 3240, 'insist': 2302, 'pen': 3313, 'ghandi': 1866, 'morningstar': 2922, 'uprise': 4695, 'directive': 1257, 'security': 3938, 'guardafui': 1955, 'holding': 2100, 'entirety': 1498, 'ik': 2207, 'amadeus': 160, 'nshare': 3117, 'pour': 3451, 'choicea': 775, 'nubian': 3130, 'libya': 2600, 'stripe': 4281, 'lexus': 2589, 'commemorate': 871, 'tht': 4489, 'recommend': 3670, 'angle': 198, 'emotionally': 1459, 'bk': 494, 'therapeutic': 4454, 'emphasize': 1462, 'quarantine': 3595, 'minneapolis': 2866, 'dosnt': 1348, 'howas': 2152, 'hominem': 2114, 'blah': 501, 'jut': 2462, 'marriage': 2736, 'guillam': 1959, 'recognition': 3668, 'carolyne': 693, 'geng': 1851, 'cu': 1062, 'mathematic': 2763, 'woo': 4909, 'hoo': 2128, 'disingenuous': 1284, 'stewart': 4253, 'bat': 406, 'initially': 2290, 'funnel': 1809, 'manic': 2717, 'chase': 751, 'ablma': 14, 'casey': 698, 'arrogance': 272, 'sphere': 4190, 'dadada': 1085, 'difficulty': 1249, 'spider': 4191, 'complexity': 896, 'demo': 1174, 'falcon': 1625, 'moustache': 2935, 'legitimately': 2570, 'pot': 3449, 'counselor': 1007, 'shield': 4023, 'rhodesia': 3769, 'saudi': 3883, 'substance': 4301, 'tristan': 4589, 'corvus': 999, 'corax': 983, 'petra': 3352, 'ballet': 380, 'tad': 4377, 'fundamental': 1805, 'arabia': 250, 'naacp': 2970, 'aftermath': 99, 'dawson': 1119, 'comprehension': 900, 'twin': 4620, 'pronunciation': 3539, 'lover': 2674, 'lothbrok': 2665, 'ocean': 3157, 'coast': 839, 'urban': 4699, 'aj': 123, 'righteous': 3784, 'ist': 2380, 'tale': 4383, 'addition': 66, 'april': 247, 'kabbalist': 2466, 'connect': 932, 'station': 4231, 'leadership': 2553, 'ciccone': 788, 'cease': 715, 'element': 1435, 'depth': 1201, 'bla': 496, 'castle': 702, 'arguement': 257, 'di': 1232, 'contemplate': 951, 'acknowledgement': 48, 'hunger': 2167, 'dictator': 1238, 'accountability': 38, 'overrun': 3235, 'morrison': 2925, 'introvert': 2346, 'mather': 2765, 'crude': 1056, 'muhammad': 2949, 'allegation': 140, 'winner': 4884, 'quantum': 3594, 'mechanic': 2798, 'club': 833, 'thecounterpointer': 4442, 'pantsa': 3257, 'ascribe': 284, 'forefather': 1739, 'marketing': 2733, 'bl': 495, 'manipulation': 2720, 'found': 1759, 'gayness': 1837, 'practically': 3460, 'plz': 3407, 'marijuana': 2729, 'isolate': 2375, 'skate': 4090, 'prostitute': 3550, 'bengal': 454, 'analyze': 183, 'trivial': 4590, 'martial': 2739, 'abesh': 7, 'vampire': 4720, 'mcmahon': 2788, 'americaas': 170, 'chunk': 785, 'se': 3924, 'lifetime': 2605, 'cannon': 673, 'savage': 3884, 'underlie': 4654, 'settlement': 3982, 'boaa': 528, 'preference': 3473, 'converse': 969, 'rhino': 3768, 'assist': 300, 'artery': 276, 'capital': 678, 'lbgtq': 2548, 'massa': 2751, 'miracle': 2871, 'minus': 2869, 'oppressor': 3203, 'huffpost': 2156, 'whale': 4833}\n"
          ],
          "name": "stdout"
        }
      ]
    },
    {
      "cell_type": "code",
      "metadata": {
        "colab": {
          "base_uri": "https://localhost:8080/"
        },
        "id": "olF1p3vgC10w",
        "outputId": "84d78418-b806-40d1-9e70-836adaf0b0b2"
      },
      "source": [
        "print(Train_X_Tfidf)"
      ],
      "execution_count": null,
      "outputs": [
        {
          "output_type": "stream",
          "text": [
            "  (0, 4532)\t0.3898600572662303\n",
            "  (0, 2161)\t0.29575697178000493\n",
            "  (0, 1987)\t0.3664409073271041\n",
            "  (0, 1302)\t0.4887554299339212\n",
            "  (0, 1082)\t0.3740785935503778\n",
            "  (0, 965)\t0.35443627753749624\n",
            "  (0, 893)\t0.3490218783285998\n",
            "  (1, 4958)\t0.23724027236950224\n",
            "  (1, 4334)\t0.35754857890918157\n",
            "  (1, 2608)\t0.1883042146400151\n",
            "  (1, 1703)\t0.28699094937179914\n",
            "  (1, 1566)\t0.49832283412282224\n",
            "  (1, 1562)\t0.4057457577263028\n",
            "  (1, 1352)\t0.38066041846919013\n",
            "  (1, 956)\t0.37442778142562744\n",
            "  (2, 4980)\t0.445376888452522\n",
            "  (2, 4784)\t0.31124070317396046\n",
            "  (2, 3467)\t0.5535151388506615\n",
            "  (2, 2704)\t0.30119995704061675\n",
            "  (2, 2482)\t0.3492147068597451\n",
            "  (2, 1060)\t0.4309493211212361\n",
            "  (3, 4927)\t0.10809612098711059\n",
            "  (3, 4903)\t0.12557623564833348\n",
            "  (3, 4886)\t0.20853850913510927\n",
            "  (3, 4745)\t0.12819885806167414\n",
            "  :\t:\n",
            "  (15897, 1154)\t0.593575841022778\n",
            "  (15897, 880)\t0.5723648021882091\n",
            "  (15897, 442)\t0.40823412208859516\n",
            "  (15898, 4903)\t0.39888193267831235\n",
            "  (15898, 4836)\t0.5384118639498073\n",
            "  (15898, 4784)\t0.356871925141921\n",
            "  (15898, 1331)\t0.6508827064736069\n",
            "  (15899, 4402)\t0.6733378213829676\n",
            "  (15899, 2482)\t0.48812054776421415\n",
            "  (15899, 2119)\t0.5552967757385254\n",
            "  (15900, 4851)\t0.2759260969437286\n",
            "  (15900, 2891)\t0.5537452452455093\n",
            "  (15900, 2766)\t0.21612069334640482\n",
            "  (15900, 497)\t0.22985451524448428\n",
            "  (15900, 402)\t0.500700605449091\n",
            "  (15900, 148)\t0.5167094384908185\n",
            "  (15901, 4903)\t0.2478045996234522\n",
            "  (15901, 3178)\t0.3043842824178557\n",
            "  (15901, 2712)\t0.2313716303745228\n",
            "  (15901, 2644)\t0.2667188428400145\n",
            "  (15901, 2119)\t0.28299032039530675\n",
            "  (15901, 1365)\t0.38285710760147457\n",
            "  (15901, 846)\t0.4939433948303624\n",
            "  (15901, 830)\t0.4421350927046123\n",
            "  (15901, 109)\t0.23482911399245557\n"
          ],
          "name": "stdout"
        }
      ]
    },
    {
      "cell_type": "code",
      "metadata": {
        "id": "3_KoaBF_Dc3O"
      },
      "source": [
        "# fit the training dataset on the NB classifier\n",
        "Naive = naive_bayes.MultinomialNB()\n",
        "Naive.fit(Train_X_Tfidf,Train_Y)\n",
        "# predict the labels on validation dataset\n",
        "predictions_NB = Naive.predict(Test_X_Tfidf)\n",
        "# Use accuracy_score function to get the accuracy\n",
        "print(\"Naive Bayes Accuracy Score on valid set-> \",accuracy_score(predictions_NB, Test_Y)*100)"
      ],
      "execution_count": null,
      "outputs": []
    },
    {
      "cell_type": "code",
      "metadata": {
        "colab": {
          "base_uri": "https://localhost:8080/"
        },
        "id": "U_Ccog6jGziS",
        "outputId": "d18e54ec-7aba-46d3-a676-616e3baad099"
      },
      "source": [
        "# accuracy on test set\n",
        "predictions_NB_T = Naive.predict(Valid_X_Tfidf)\n",
        "print(\"Naive Bayes Accuracy Score on test set-> \",accuracy_score(predictions_NB_T, Valid_Y)*100)"
      ],
      "execution_count": null,
      "outputs": [
        {
          "output_type": "stream",
          "text": [
            "Naive Bayes Accuracy Score ->  90.45438534695315\n"
          ],
          "name": "stdout"
        }
      ]
    },
    {
      "cell_type": "code",
      "metadata": {
        "colab": {
          "base_uri": "https://localhost:8080/"
        },
        "id": "vMmosFpoDksJ",
        "outputId": "d033291f-e0cc-4305-a5c9-47769200d1ea"
      },
      "source": [
        "# Classifier - Algorithm - SVM\n",
        "# fit the training dataset on the classifier\n",
        "SVM = svm.SVC(C=1.0, kernel='linear', degree=3, gamma='auto')\n",
        "SVM.fit(Train_X_Tfidf,Train_Y)\n",
        "# predict the labels on validation dataset\n",
        "predictions_SVM = SVM.predict(Test_X_Tfidf)\n",
        "# Use accuracy_score function to get the accuracy\n",
        "print(\"SVM Accuracy Score on valid set-> \",accuracy_score(predictions_SVM, Test_Y)*100)"
      ],
      "execution_count": null,
      "outputs": [
        {
          "output_type": "stream",
          "text": [
            "SVM Accuracy Score ->  91.27053990610328\n"
          ],
          "name": "stdout"
        }
      ]
    },
    {
      "cell_type": "code",
      "metadata": {
        "id": "Oe2kuYVHHIT5"
      },
      "source": [
        "#accuracy on test set\n",
        "predictions_SVM_T = SVM.predict(Valid_X_Tfidf)\n",
        "print(\"SVM Accuracy Score test set -> \",accuracy_score(predictions_SVM_T, Valid_Y)*100)"
      ],
      "execution_count": null,
      "outputs": []
    },
    {
      "cell_type": "code",
      "metadata": {
        "colab": {
          "base_uri": "https://localhost:8080/"
        },
        "id": "0lfHrxg42CeS",
        "outputId": "79d89fc3-f0e6-42f9-dd7b-3ce8f620cfaa"
      },
      "source": [
        "print ('\\n*Classification Report: Naive bayes\\n', classification_report(Valid_Y, predictions_NB_T))\n",
        "confusion_matrix(Valid_Y, predictions_NB_T)"
      ],
      "execution_count": null,
      "outputs": [
        {
          "output_type": "stream",
          "text": [
            "\n",
            "*Classification Report: Naive bayes\n",
            "               precision    recall  f1-score   support\n",
            "\n",
            "           0       0.90      1.00      0.95      2568\n",
            "           1       0.00      0.00      0.00       271\n",
            "\n",
            "    accuracy                           0.90      2839\n",
            "   macro avg       0.45      0.50      0.47      2839\n",
            "weighted avg       0.82      0.90      0.86      2839\n",
            "\n"
          ],
          "name": "stdout"
        },
        {
          "output_type": "stream",
          "text": [
            "/usr/local/lib/python3.7/dist-packages/sklearn/metrics/_classification.py:1272: UndefinedMetricWarning: Precision and F-score are ill-defined and being set to 0.0 in labels with no predicted samples. Use `zero_division` parameter to control this behavior.\n",
            "  _warn_prf(average, modifier, msg_start, len(result))\n"
          ],
          "name": "stderr"
        },
        {
          "output_type": "execute_result",
          "data": {
            "text/plain": [
              "array([[2568,    0],\n",
              "       [ 271,    0]])"
            ]
          },
          "metadata": {
            "tags": []
          },
          "execution_count": 61
        }
      ]
    },
    {
      "cell_type": "code",
      "metadata": {
        "colab": {
          "base_uri": "https://localhost:8080/"
        },
        "id": "OLUerMfx3iZM",
        "outputId": "8152c2fc-a592-4e71-fd99-636c43f8b8c3"
      },
      "source": [
        "# For Naive bayes\n",
        "tn, fp, fn, tp = confusion_matrix(Valid_Y, predictions_NB_T).ravel()\n",
        "print(tn,fp,fn,tp)"
      ],
      "execution_count": null,
      "outputs": [
        {
          "output_type": "stream",
          "text": [
            "2568 0 271 0\n"
          ],
          "name": "stdout"
        }
      ]
    },
    {
      "cell_type": "code",
      "metadata": {
        "colab": {
          "base_uri": "https://localhost:8080/"
        },
        "id": "D0J3tHJEHgr5",
        "outputId": "f7ab9b8f-f668-4d61-8846-b83a2101392f"
      },
      "source": [
        "# Training set accuracy SVM\n",
        "predictions_SVM_Tr = SVM.predict(Train_X_Tfidf)\n",
        "print(\"SVM Accuracy Score -> \",accuracy_score(predictions_SVM_Tr, Train_Y)*100)"
      ],
      "execution_count": null,
      "outputs": [
        {
          "output_type": "stream",
          "text": [
            "SVM Accuracy Score ->  91.4161740661552\n"
          ],
          "name": "stdout"
        }
      ]
    },
    {
      "cell_type": "code",
      "metadata": {
        "colab": {
          "base_uri": "https://localhost:8080/"
        },
        "id": "NVV_DIJqH0ib",
        "outputId": "be2674ff-0612-4c1c-961d-a46e5cec7c9c"
      },
      "source": [
        "#Training set accuracy Naive bayes\n",
        "predictions_NB_Tr = Naive.predict(Train_X_Tfidf)\n",
        "print(\"Naive Bayes Accuracy Score -> \",accuracy_score(predictions_NB_Tr, Train_Y)*100)"
      ],
      "execution_count": null,
      "outputs": [
        {
          "output_type": "stream",
          "text": [
            "Naive Bayes Accuracy Score ->  91.42246258332285\n"
          ],
          "name": "stdout"
        }
      ]
    },
    {
      "cell_type": "code",
      "metadata": {
        "colab": {
          "base_uri": "https://localhost:8080/"
        },
        "id": "f5V0H6TA37pg",
        "outputId": "1542a37d-8c1c-4db8-d892-622801ae982f"
      },
      "source": [
        "print ('\\n*Classification Report: Naive bayes\\n', classification_report(Valid_Y, predictions_SVM_T))\n",
        "confusion_matrix(Valid_Y, predictions_SVM_T)"
      ],
      "execution_count": null,
      "outputs": [
        {
          "output_type": "stream",
          "text": [
            "\n",
            "*Classification Report: Naive bayes\n",
            "               precision    recall  f1-score   support\n",
            "\n",
            "           0       0.90      1.00      0.95      2568\n",
            "           1       0.00      0.00      0.00       271\n",
            "\n",
            "    accuracy                           0.90      2839\n",
            "   macro avg       0.45      0.50      0.47      2839\n",
            "weighted avg       0.82      0.90      0.86      2839\n",
            "\n"
          ],
          "name": "stdout"
        },
        {
          "output_type": "stream",
          "text": [
            "/usr/local/lib/python3.7/dist-packages/sklearn/metrics/_classification.py:1272: UndefinedMetricWarning: Precision and F-score are ill-defined and being set to 0.0 in labels with no predicted samples. Use `zero_division` parameter to control this behavior.\n",
            "  _warn_prf(average, modifier, msg_start, len(result))\n"
          ],
          "name": "stderr"
        },
        {
          "output_type": "execute_result",
          "data": {
            "text/plain": [
              "array([[2568,    0],\n",
              "       [ 271,    0]])"
            ]
          },
          "metadata": {
            "tags": []
          },
          "execution_count": 65
        }
      ]
    },
    {
      "cell_type": "code",
      "metadata": {
        "id": "Bj6PDiqi4DDi",
        "colab": {
          "base_uri": "https://localhost:8080/"
        },
        "outputId": "990fe1fa-3513-46c1-ffcc-8eb48866178a"
      },
      "source": [
        "#For SVM\n",
        "tn, fp, fn, tp = confusion_matrix(Valid_Y, predictions_SVM_T).ravel()\n",
        "print(tn,fp,fn,tp)"
      ],
      "execution_count": null,
      "outputs": [
        {
          "output_type": "stream",
          "text": [
            "2568 0 271 0\n"
          ],
          "name": "stdout"
        }
      ]
    }
  ]
}